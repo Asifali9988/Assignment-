{
  "nbformat": 4,
  "nbformat_minor": 0,
  "metadata": {
    "colab": {
      "provenance": []
    },
    "kernelspec": {
      "name": "python3",
      "display_name": "Python 3"
    },
    "language_info": {
      "name": "python"
    }
  },
  "cells": [
    {
      "cell_type": "markdown",
      "source": [
        "Q1. What are data structures, and why are they important?\n",
        "\n",
        "Ans. What Are Data Structures?\n",
        "\n",
        "Data structures are specialized formats for organizing, storing, and managing data efficiently. They define how data is arranged in memory, how it can be accessed, and how operations like insertion, deletion, and searching are performed.\n",
        "\n",
        "Why Are Data Structures Important?\n",
        "\n",
        "1. Efficient Data Management – They enable efficient data storage and retrieval, optimizing performance.\n",
        "2. Improved Algorithm Efficiency – The choice of data structure affects the speed and efficiency of algorithms.\n",
        "3. Memory Optimization – They help in using memory effectively by reducing redundancy and overhead.\n",
        "4. Problem Solving – Many real-world problems, like network routing, database indexing, and AI modeling, rely on data structures.\n",
        "5. Scalability – Proper data structures allow applications to handle large volumes of data smoothly."
      ],
      "metadata": {
        "id": "VShBesnkSDhp"
      }
    },
    {
      "cell_type": "markdown",
      "source": [
        "Q2.  Explain the difference between mutable and immutable data types with examples?\n",
        "\n",
        "Ans.  In programming, mutability refers to whether an object's value can be changed after it is created.\n",
        "\n",
        "1. Mutable Data Types\n",
        "\n",
        "    Mutable objects can be modified after their creation without changing their identity (memory address).\n",
        "\n",
        "    These objects allow in-place modification.\n",
        "Examples in Python\n",
        "Lists (Mutable)"
      ],
      "metadata": {
        "id": "W64452gkSuNe"
      }
    },
    {
      "cell_type": "code",
      "source": [
        "my_list = [1, 2, 3]\n",
        "my_list[0] = 10  # Modifying the first element\n",
        "print(my_list)  # Output: [10, 2, 3]\n"
      ],
      "metadata": {
        "colab": {
          "base_uri": "https://localhost:8080/"
        },
        "id": "8MkZguODTGQk",
        "outputId": "9da679ed-32d3-4f5d-ac09-c352d0c5af5b"
      },
      "execution_count": null,
      "outputs": [
        {
          "output_type": "stream",
          "name": "stdout",
          "text": [
            "[10, 2, 3]\n"
          ]
        }
      ]
    },
    {
      "cell_type": "markdown",
      "source": [
        "Dictionaries (Mutable)"
      ],
      "metadata": {
        "id": "BNZwAZciTOmN"
      }
    },
    {
      "cell_type": "code",
      "source": [
        "my_dict = {\"name\": \"Alice\", \"age\": 25}\n",
        "my_dict[\"age\"] = 26  # Modifying the value\n",
        "print(my_dict)  # Output: {'name': 'Alice', 'age': 26}\n"
      ],
      "metadata": {
        "colab": {
          "base_uri": "https://localhost:8080/"
        },
        "id": "jzbGIHOwTPxo",
        "outputId": "7235a369-c6ef-45f9-fe9f-0d495a3c3602"
      },
      "execution_count": null,
      "outputs": [
        {
          "output_type": "stream",
          "name": "stdout",
          "text": [
            "{'name': 'Alice', 'age': 26}\n"
          ]
        }
      ]
    },
    {
      "cell_type": "markdown",
      "source": [
        "Sets (Mutable)"
      ],
      "metadata": {
        "id": "L5PVCwLeTSs7"
      }
    },
    {
      "cell_type": "code",
      "source": [
        "my_set = {1, 2, 3}\n",
        "my_set.add(4)  # Adding an element\n",
        "print(my_set)  # Output: {1, 2, 3, 4}\n"
      ],
      "metadata": {
        "colab": {
          "base_uri": "https://localhost:8080/"
        },
        "id": "cpt3IfdHTWBP",
        "outputId": "459a8613-fab0-46bc-8499-7277bb6a26dd"
      },
      "execution_count": null,
      "outputs": [
        {
          "output_type": "stream",
          "name": "stdout",
          "text": [
            "{1, 2, 3, 4}\n"
          ]
        }
      ]
    },
    {
      "cell_type": "markdown",
      "source": [
        "2. Immutable Data Types\n",
        "\n",
        "  Immutable objects cannot be changed after they are created.\n",
        "\n",
        "  Any modification results in the creation of a new object.\n",
        "\n",
        "Examples in Python\n",
        "\n",
        "Strings (Immutable)"
      ],
      "metadata": {
        "id": "YvsVGcz1TXd7"
      }
    },
    {
      "cell_type": "code",
      "source": [
        "my_str = \"hello\"\n",
        "my_str = my_str + \" world\"  # Creates a new string\n",
        "print(my_str)  # Output: 'hello world'\n"
      ],
      "metadata": {
        "colab": {
          "base_uri": "https://localhost:8080/"
        },
        "id": "j9T0XlSRTi6O",
        "outputId": "9094bb1f-0a09-441d-b351-03f53717a4ad"
      },
      "execution_count": null,
      "outputs": [
        {
          "output_type": "stream",
          "name": "stdout",
          "text": [
            "hello world\n"
          ]
        }
      ]
    },
    {
      "cell_type": "markdown",
      "source": [
        "Tuples (Immutable)"
      ],
      "metadata": {
        "id": "EEA-fJlsTqFg"
      }
    },
    {
      "cell_type": "code",
      "source": [
        "my_tuple = (1, 2, 3)\n",
        "# my_tuple[0] = 10  # This would raise a TypeError\n"
      ],
      "metadata": {
        "id": "yXAPsbBYTt_G"
      },
      "execution_count": null,
      "outputs": []
    },
    {
      "cell_type": "markdown",
      "source": [
        "Integers, Floats, Booleans (Immutable)"
      ],
      "metadata": {
        "id": "S9CIBrHATwsy"
      }
    },
    {
      "cell_type": "code",
      "source": [
        "a = 5\n",
        "a = a + 1  # Creates a new integer object\n",
        "print(a)  # Output: 6\n"
      ],
      "metadata": {
        "colab": {
          "base_uri": "https://localhost:8080/"
        },
        "id": "n3yu0W4nT0SA",
        "outputId": "56b3d61d-1482-4f04-e01c-52abdaf209ba"
      },
      "execution_count": null,
      "outputs": [
        {
          "output_type": "stream",
          "name": "stdout",
          "text": [
            "6\n"
          ]
        }
      ]
    },
    {
      "cell_type": "markdown",
      "source": [
        "Q3. What are the main differences between lists and tuples in Python?\n",
        "\n",
        "Ans. In Python, lists and tuples are both used to store collections of items, but they have some key differences:\n",
        "\n",
        "1. Mutability:\n",
        "\n",
        "    Lists are mutable, meaning their elements can be changed, added, or removed after creation.\n",
        "\n",
        "    Tuples are immutable, meaning they cannot be modified after creation.\n",
        "\n",
        "2. Syntax:\n",
        "\n",
        "    Lists are created using square brackets: my_list = [1, 2, 3]\n",
        "\n",
        "    Tuples are created using parentheses: my_tuple = (1, 2, 3)\n",
        "\n",
        "3. Performance:\n",
        "\n",
        "    Tuples are generally faster than lists because they are immutable, making them more efficient in terms of memory and processing speed.\n",
        "\n",
        "    Lists are slower because they require extra memory for dynamic resizing.\n",
        "\n",
        "4. Usage Scenarios:\n",
        "\n",
        "    Lists are used when you need a dynamic collection where elements might be added, removed, or modified.\n",
        "\n",
        "    Tuples are used when you want to ensure the data remains constant, such as coordinates, database records, or function return values.\n",
        "\n",
        "5. Memory Consumption:\n",
        "\n",
        "    Tuples consume less memory than lists because they have a smaller overhead due to their immutability.\n",
        "\n",
        "6. Methods:\n",
        "\n",
        "    Lists have more built-in methods like .append(), .remove(), and .sort() because they are mutable.\n",
        "\n",
        "    Tuples have only two main methods: .count() (to count occurrences of a value) and .index() (to find the index of a value).\n",
        "\n",
        "7. Safety:\n",
        "\n",
        "    Since tuples are immutable, they help prevent accidental modifications, making them useful for read-only data."
      ],
      "metadata": {
        "id": "8r3Th2iJT8bI"
      }
    },
    {
      "cell_type": "markdown",
      "source": [
        "Q4. Describe how dictionaries store data?\n",
        "\n",
        "Ans. Dictionaries in Python store data using a hash table structure, which allows for fast lookups, insertions, and deletions. Here’s how they work internally:\n",
        "\n",
        "1. Key-Value Pairs\n",
        "\n",
        "    A dictionary consists of keys and their associated values, stored in an unordered manner. Each key must be unique and immutable (e.g., strings, numbers, or tuples), while values can be of any data type.\n"
      ],
      "metadata": {
        "id": "_bpKPPGAUu31"
      }
    },
    {
      "cell_type": "code",
      "source": [
        "my_dict = {\"name\": \"Alice\", \"age\": 25, \"city\": \"New York\"}"
      ],
      "metadata": {
        "id": "AM9eujTzWWug"
      },
      "execution_count": null,
      "outputs": []
    },
    {
      "cell_type": "markdown",
      "source": [
        "2. Hashing and Storage\n",
        "\n",
        "    When a key-value pair is added, Python computes a hash value for the key using a hashing algorithm (hash() function).\n",
        "\n",
        "    This hash value determines the index where the key-value pair will be stored in the underlying array.\n",
        "\n",
        "    If two different keys produce the same hash (a rare case called a hash collision), Python uses techniques like open addressing or chaining to resolve it.\n",
        "3. Fast Lookup\n",
        "\n",
        "    Dictionaries provide O(1) average-time complexity for accessing values using keys because they don’t require searching sequentially (as in lists).\n",
        "\n",
        "    Instead, Python computes the hash of the key and directly jumps to the memory location where the value is stored."
      ],
      "metadata": {
        "id": "ieJQhEULWZWF"
      }
    },
    {
      "cell_type": "code",
      "source": [
        "print(my_dict[\"age\"])  # Directly retrieves value in constant time"
      ],
      "metadata": {
        "colab": {
          "base_uri": "https://localhost:8080/"
        },
        "id": "jp7zvnqbWmN_",
        "outputId": "0671769e-be42-4797-9519-87c2a8bc17d3"
      },
      "execution_count": null,
      "outputs": [
        {
          "output_type": "stream",
          "name": "stdout",
          "text": [
            "25\n"
          ]
        }
      ]
    },
    {
      "cell_type": "markdown",
      "source": [
        "4. Dynamic Resizing\n",
        "\n",
        "    As more key-value pairs are added, Python dynamically resizes the underlying storage to maintain efficiency.\n",
        "\n",
        "    This involves creating a larger hash table and rehashing existing entries.\n",
        "5. Handling Collisions\n",
        "\n",
        "    Python’s dictionary implementation (as of Python 3.6+) ensures that keys retain their insertion order while maintaining efficiency.\n",
        "\n",
        "    If two keys end up with the same hash value, Python handles this via probing (finding an alternative empty slot) or chaining (storing multiple values in a linked list at the same index).\n",
        "\n",
        "Example of Dictionary Operations:"
      ],
      "metadata": {
        "id": "L61J6OJbWphA"
      }
    },
    {
      "cell_type": "code",
      "source": [
        "# Creating a dictionary\n",
        "student = {\"name\": \"John\", \"age\": 21, \"course\": \"Computer Science\"}\n",
        "\n",
        "# Adding a new key-value pair\n",
        "student[\"grade\"] = \"A\"\n",
        "\n",
        "# Accessing a value\n",
        "print(student[\"name\"])  # Output: John\n",
        "\n",
        "# Removing a key\n",
        "del student[\"age\"]\n",
        "\n",
        "# Checking existence\n",
        "print(\"age\" in student)  # Output: False\n"
      ],
      "metadata": {
        "colab": {
          "base_uri": "https://localhost:8080/"
        },
        "id": "xhQxTzfjWzSu",
        "outputId": "43e89a81-b811-481b-d7d9-a95500469d13"
      },
      "execution_count": null,
      "outputs": [
        {
          "output_type": "stream",
          "name": "stdout",
          "text": [
            "John\n",
            "False\n"
          ]
        }
      ]
    },
    {
      "cell_type": "markdown",
      "source": [
        "Q5. Why might you use a set instead of a list in Python?\n",
        "\n",
        "Ans. You might use a set instead of a list in Python when you need fast membership checks and unique elements. Here are some key reasons why a set might be a better choice than a list:\n",
        "\n",
        "1. Ensuring Uniqueness\n",
        "\n",
        "    A set automatically removes duplicate values, whereas a list allows duplicates.\n",
        "\n",
        "Example:"
      ],
      "metadata": {
        "id": "jgs5iAhkW3fV"
      }
    },
    {
      "cell_type": "code",
      "source": [
        "my_list = [1, 2, 2, 3, 4, 4, 5]\n",
        "my_set = set(my_list)  # {1, 2, 3, 4, 5}"
      ],
      "metadata": {
        "id": "yiNOEyhTXMmK"
      },
      "execution_count": null,
      "outputs": []
    },
    {
      "cell_type": "markdown",
      "source": [
        "2. Faster Membership Checks (O(1) vs. O(n))\n",
        "\n",
        "    Checking if an item exists in a set is much faster (O(1)) compared to a list (O(n)).\n",
        "Example:"
      ],
      "metadata": {
        "id": "BdBVzJbDXSXg"
      }
    },
    {
      "cell_type": "code",
      "source": [
        "my_list = [i for i in range(1000000)]\n",
        "my_set = set(my_list)\n",
        "\n",
        "print(999999 in my_list)  # Slow (O(n))\n",
        "print(999999 in my_set)   # Fast (O(1))\n"
      ],
      "metadata": {
        "colab": {
          "base_uri": "https://localhost:8080/"
        },
        "id": "cTdCuLmNXW-q",
        "outputId": "4695132a-c52f-4d31-e6cf-69a6448a9ee0"
      },
      "execution_count": null,
      "outputs": [
        {
          "output_type": "stream",
          "name": "stdout",
          "text": [
            "True\n",
            "True\n"
          ]
        }
      ]
    },
    {
      "cell_type": "markdown",
      "source": [
        "3. Faster Set Operations\n",
        "\n",
        "    Union (|), intersection (&), and difference (-) are much faster in sets compared to lists.\n",
        "\n",
        "Example:"
      ],
      "metadata": {
        "id": "t7zk5QVPXdq9"
      }
    },
    {
      "cell_type": "code",
      "source": [
        "set1 = {1, 2, 3, 4}\n",
        "set2 = {3, 4, 5, 6}\n",
        "\n",
        "print(set1 & set2)  # Intersection -> {3, 4}\n",
        "print(set1 | set2)  # Union -> {1, 2, 3, 4, 5, 6}\n",
        "print(set1 - set2)  # Difference -> {1, 2}\n"
      ],
      "metadata": {
        "colab": {
          "base_uri": "https://localhost:8080/"
        },
        "id": "6Z_ve06EXhqB",
        "outputId": "1a13c5e3-8f4d-4e48-c865-843c8c23a228"
      },
      "execution_count": null,
      "outputs": [
        {
          "output_type": "stream",
          "name": "stdout",
          "text": [
            "{3, 4}\n",
            "{1, 2, 3, 4, 5, 6}\n",
            "{1, 2}\n"
          ]
        }
      ]
    },
    {
      "cell_type": "markdown",
      "source": [
        "4. Eliminating Duplicates Efficiently\n",
        "\n",
        "    Converting a list to a set is an easy way to remove duplicates:"
      ],
      "metadata": {
        "id": "RzUzf481Xkhh"
      }
    },
    {
      "cell_type": "code",
      "source": [
        "numbers = [1, 2, 3, 1, 2, 4]\n",
        "unique_numbers = list(set(numbers))  # [1, 2, 3, 4]"
      ],
      "metadata": {
        "id": "t_UdpNzBXusm"
      },
      "execution_count": null,
      "outputs": []
    },
    {
      "cell_type": "markdown",
      "source": [
        "Q6. What is a string in Python, and how is it different from a list?\n",
        "\n",
        "Ans. What is a String in Python?\n",
        "\n",
        "A string in Python is a sequence of characters enclosed in single ('), double (\"), or triple quotes (''' or \"\"\"). It is used to represent textual data."
      ],
      "metadata": {
        "id": "JJV6P0_KXxV8"
      }
    },
    {
      "cell_type": "code",
      "source": [
        "my_string = \"Hello, World!\""
      ],
      "metadata": {
        "id": "cJRB61Bvessc"
      },
      "execution_count": null,
      "outputs": []
    },
    {
      "cell_type": "markdown",
      "source": [
        "How is a String Different from a List?\n",
        "\n",
        "Feature\t                    String (str)\t                    List (list)\n",
        "\n",
        "1. Data Type\n",
        "      a. String (str) :   Sequence of characters\t      \n",
        "      b. List (list):   Sequence of any data type(numbers, strings, objects, etc.)\n",
        "2. Mutability\t       \n",
        "      a. String (str): Immutable (cannot be changed, modified after creation) \t   \n",
        "      b. List (list):  Mutable (elements can be added, or removed)\n",
        "\n",
        "3. Indexing\t      \n",
        "      a. String (str): Supports indexing (s[0] for first character)\n",
        "      \n",
        "      b. List (list): Supports indexing (lst[0] for first element)\n",
        "\n",
        "4. Iteration\t      \n",
        "      a. String (str): Can be iterated characterby character \t  \n",
        "      b. List (list): Can be iterated element by element\n",
        "                \n",
        "\n",
        "5. Operations\t    \n",
        "      a. String (str): Supports concatenation (+), repetition (*), and slicing ([:])\n",
        "     \n",
        "      b. List (list): Supports similar operations, but with different behaviors\n",
        "\n",
        "6. Methods\n",
        "      a. String (str): Has many string-specific methods (.upper(), .lower(), .replace())\n",
        "      b. List (list): Has list-specific methods (.append(), .remove(), .sort())\n",
        "7. Memory Usage\n",
        "      a. String (str): More memory-efficient for storing text\n",
        "      b. List (list): Can be larger if storing multiple data types"
      ],
      "metadata": {
        "id": "M7CjSHVKewXE"
      }
    },
    {
      "cell_type": "markdown",
      "source": [
        "Q7. How do tuples ensure data integrity in Python?\n",
        "\n",
        "Ans. Tuples ensure data integrity primarily through immutability and hashability. Here’s how:\n",
        "\n",
        "1. Immutability (Prevents Accidental Changes)\n",
        "    \n",
        "    Tuples are immutable, meaning their elements cannot be modified, added, or removed after creation.\n",
        "\n",
        "    This ensures that data remains unchanged throughout the program, preventing accidental modifications.\n",
        "2. Hashability (Supports Data Integrity in Sets & Dict Keys)\n",
        "\n",
        "    Since tuples are hashable (if they contain only hashable elements), they can be used as dictionary keys or stored in sets.\n",
        "\n",
        "    Lists, being mutable, cannot be hashed and would cause integrity issues if changed while being used as a key.\n",
        "3. Predictable & Safe Data Passing\n",
        "\n",
        "    Since tuples cannot be modified, they are safer to use when passing data between functions or threads.\n",
        "\n",
        "    This prevents side effects, ensuring that a function doesn’t accidentally alter the original data.\n",
        "4. Ordered & Reliable Structure\n",
        "\n",
        "    Tuples maintain their insertion order, unlike sets.\n",
        "\n",
        "    This guarantees that the sequence of data remains the same, which is crucial for consistent results."
      ],
      "metadata": {
        "id": "1vQlD76gimbi"
      }
    },
    {
      "cell_type": "markdown",
      "source": [
        "Q8. What is a hash table, and how does it relate to dictionaries in Python?\n",
        "\n",
        "Ans. A hash table (or hash map) is a data structure that stores key-value pairs using a hashing function to quickly locate values. It provides fast lookups, insertions, and deletions in O(1) average time complexity.\n",
        "\n",
        "In Python, dictionaries (dict) are implemented using hash tables, making them incredibly efficient for key-based lookups.\n",
        "\n",
        "Key Properties of Python Dictionaries:\n",
        "\n",
        "    1. Fast Lookups (O(1)) → Retrieving dict[\"key\"] is much faster than searching in a list (O(n)).\n",
        "\n",
        "    2. Uniqueness of Keys → Each key must be unique; duplicate keys overwrite previous values.\n",
        "\n",
        "    3. Order Retention (since Python 3.7) → Keys retain their insertion order.\n",
        "\n",
        "    4. Immutable Keys Only → Keys must be hashable (e.g., strings, numbers, tuples), but lists and dictionaries cannot be used as keys.\n",
        "Example of a Python Dictionary Using a Hash Table"
      ],
      "metadata": {
        "id": "M17hbBN5jX0R"
      }
    },
    {
      "cell_type": "code",
      "source": [
        "# Creating a dictionary\n",
        "my_dict = {\"name\": \"Alice\", \"age\": 30, \"city\": \"New York\"}\n",
        "\n",
        "# Retrieving a value (O(1) time complexity)\n",
        "print(my_dict[\"name\"])  # Output: Alice\n",
        "\n",
        "# Adding a new key-value pair (O(1))\n",
        "my_dict[\"job\"] = \"Engineer\"\n",
        "\n",
        "# Deleting a key (O(1))\n",
        "del my_dict[\"age\"]\n"
      ],
      "metadata": {
        "colab": {
          "base_uri": "https://localhost:8080/"
        },
        "id": "5JwEk4ttkGwS",
        "outputId": "9b669c8c-a900-4b40-d6d6-3c133051d2aa"
      },
      "execution_count": null,
      "outputs": [
        {
          "output_type": "stream",
          "name": "stdout",
          "text": [
            "Alice\n"
          ]
        }
      ]
    },
    {
      "cell_type": "markdown",
      "source": [
        "Q9. Can lists contain different data types in Python?\n",
        "\n",
        "Ans.  Yes! Lists in Python can contain different data types because Python is dynamically typed. This means you can mix and match integers, strings, floats, booleans, other lists, dictionaries, tuples, objects, and more within the same list.\n",
        "\n",
        "Example: Mixed Data Types in a List"
      ],
      "metadata": {
        "id": "JSY4O21CkLwE"
      }
    },
    {
      "cell_type": "code",
      "source": [
        "my_list = [42, \"hello\", 3.14, True, [1, 2, 3], {\"key\": \"value\"}, (5, 6)]\n",
        "print(my_list)"
      ],
      "metadata": {
        "colab": {
          "base_uri": "https://localhost:8080/"
        },
        "id": "0m2t_VOakZds",
        "outputId": "e8703909-7639-48a3-dfca-fdffe9bab837"
      },
      "execution_count": null,
      "outputs": [
        {
          "output_type": "stream",
          "name": "stdout",
          "text": [
            "[42, 'hello', 3.14, True, [1, 2, 3], {'key': 'value'}, (5, 6)]\n"
          ]
        }
      ]
    },
    {
      "cell_type": "markdown",
      "source": [
        "Q10. Explain why strings are immutable in Python?\n",
        "\n",
        "Ans. Strings in Python are immutable, meaning they cannot be changed after creation. Any operation that appears to modify a string actually creates a new string instead of modifying the original one.\n",
        "\n",
        "Reasons for String Immutability\n",
        "1. Memory Efficiency (String Interning)\n",
        "    Python interns some strings (especially short and commonly used ones) to save memory and improve performance.\n",
        "\n",
        "    If strings were mutable, modifying one reference would affect all others pointing to the same string.\n",
        "Example: String Interning"
      ],
      "metadata": {
        "id": "HuPdOMb4kcQo"
      }
    },
    {
      "cell_type": "code",
      "source": [
        "a = \"hello\"\n",
        "b = \"hello\"\n",
        "print(a is b)  # True (both refer to the same memory location)"
      ],
      "metadata": {
        "colab": {
          "base_uri": "https://localhost:8080/"
        },
        "id": "kCGyvHApk1J7",
        "outputId": "6a95570c-68bc-48be-f5c9-d8fe67f2d6db"
      },
      "execution_count": null,
      "outputs": [
        {
          "output_type": "stream",
          "name": "stdout",
          "text": [
            "True\n"
          ]
        }
      ]
    },
    {
      "cell_type": "markdown",
      "source": [
        "2. Hashability (Used as Dictionary Keys & Set Elements)\n",
        "    \n",
        "    Strings must be immutable to be hashable, allowing them to be used as keys in dictionaries and elements in sets.\n",
        "\n",
        "Example: Strings as Dictionary Keys"
      ],
      "metadata": {
        "id": "rN1jIZUJk4td"
      }
    },
    {
      "cell_type": "code",
      "source": [
        "my_dict = {\"name\": \"Alice\", \"age\": 30}\n",
        "print(my_dict[\"name\"])  # \"Alice\""
      ],
      "metadata": {
        "colab": {
          "base_uri": "https://localhost:8080/"
        },
        "id": "BY-zxaJ9k-Op",
        "outputId": "bacce8d0-3eb0-4841-de52-46c9e43ce430"
      },
      "execution_count": null,
      "outputs": [
        {
          "output_type": "stream",
          "name": "stdout",
          "text": [
            "Alice\n"
          ]
        }
      ]
    },
    {
      "cell_type": "markdown",
      "source": [
        "3. Thread Safety\n",
        "\n",
        "    Since strings cannot be changed, they are safe to use in multi-threaded programs without worrying about race conditions.\n",
        "\n",
        "Example: Immutable Objects Prevent Side Effects"
      ],
      "metadata": {
        "id": "6eVg4QIYlA7g"
      }
    },
    {
      "cell_type": "code",
      "source": [
        "def update_string(s):\n",
        "    s += \" world\"  # Creates a new string instead of modifying the original\n",
        "\n",
        "msg = \"hello\"\n",
        "update_string(msg)\n",
        "print(msg)  # \"hello\" (unchanged)"
      ],
      "metadata": {
        "colab": {
          "base_uri": "https://localhost:8080/"
        },
        "id": "sfrWRjx3lH8Z",
        "outputId": "52110731-a3f6-4032-d416-a9b0970f09a2"
      },
      "execution_count": null,
      "outputs": [
        {
          "output_type": "stream",
          "name": "stdout",
          "text": [
            "hello\n"
          ]
        }
      ]
    },
    {
      "cell_type": "markdown",
      "source": [
        "4. Security & Predictability\n",
        "\n",
        "    String immutability prevents accidental modifications, making programs more predictable and secure.\n",
        "\n",
        "    For example, imagine using a string for passwords—immutability prevents unexpected changes.\n",
        "\n",
        "Example: Strings Remain Unchanged"
      ],
      "metadata": {
        "id": "jT-0FP8DlKpA"
      }
    },
    {
      "cell_type": "code",
      "source": [
        "password = \"secure123\"\n",
        "# password[0] = \"S\"  # ❌ TypeError: 'str' object does not support item assignment"
      ],
      "metadata": {
        "id": "dbqtM3ZulRaV"
      },
      "execution_count": null,
      "outputs": []
    },
    {
      "cell_type": "markdown",
      "source": [
        "Q11. What advantages do dictionaries offer over lists for certain tasks?\n",
        "\n",
        "Ans. Advantages of Dictionaries Over Lists in Python\n",
        "\n",
        "Dictionaries (dict) are optimized for fast key-value lookups, while lists (list) are best for ordered collections of items. Here’s why dictionaries can be superior for certain tasks:\n",
        "\n",
        "1. Fast Lookups (O(1) vs. O(n))\n",
        "\n",
        "    Dictionaries use a hash table, making key-based lookups O(1) on average.\n",
        "\n",
        "    Lists require a linear search (O(n)) when looking for a specific value.\n",
        "\n",
        " Example: Fast Dictionary Lookup vs. Slow List Search"
      ],
      "metadata": {
        "id": "IvHJkcB8lYza"
      }
    },
    {
      "cell_type": "code",
      "source": [
        "my_dict = {\"apple\": 100, \"banana\": 50, \"orange\": 75}\n",
        "print(my_dict[\"banana\"])  # ✅ O(1) → 50\n",
        "\n",
        "my_list = [(\"apple\", 100), (\"banana\", 50), (\"orange\", 75)]\n",
        "for item in my_list:\n",
        "    if item[0] == \"banana\":\n",
        "        print(item[1])  # ❌ O(n) → 50"
      ],
      "metadata": {
        "colab": {
          "base_uri": "https://localhost:8080/"
        },
        "id": "aV2dtogcl28X",
        "outputId": "7182f347-3f8e-403a-9bb4-98ece0f61266"
      },
      "execution_count": null,
      "outputs": [
        {
          "output_type": "stream",
          "name": "stdout",
          "text": [
            "50\n",
            "50\n"
          ]
        }
      ]
    },
    {
      "cell_type": "markdown",
      "source": [
        "2. Meaningful Key-Value Pairing\n",
        "\n",
        "    Dictionaries associate meaningful keys with values, making data more readable.\n",
        "\n",
        "    Lists rely on positional indexing, which can be harder to interpret.\n",
        "\n",
        "Example: Dictionary vs. List Storage"
      ],
      "metadata": {
        "id": "CtWFt7_Vl58I"
      }
    },
    {
      "cell_type": "code",
      "source": [
        "# Dictionary (Easy to understand)\n",
        "person = {\"name\": \"Alice\", \"age\": 30, \"job\": \"Engineer\"}\n",
        "\n",
        "# List (Less readable)\n",
        "person_list = [\"Alice\", 30, \"Engineer\"]\n",
        "\n",
        "print(person[\"age\"])  # ✅ More intuitive\n",
        "# print(person_list[1])  # ❌ Requires knowing index positions"
      ],
      "metadata": {
        "colab": {
          "base_uri": "https://localhost:8080/"
        },
        "id": "Mm0qRRs9mHer",
        "outputId": "203af401-df3d-4531-fb14-fd0940208b01"
      },
      "execution_count": null,
      "outputs": [
        {
          "output_type": "stream",
          "name": "stdout",
          "text": [
            "30\n"
          ]
        }
      ]
    },
    {
      "cell_type": "markdown",
      "source": [
        "3. No Need for Manual Index Tracking\n",
        "\n",
        "    Lists require you to remember index positions, while dictionaries allow access using descriptive keys.\n",
        "  \n",
        "4. Efficient Data Modification & Deletion\n",
        "\n",
        "    Dictionaries allow direct modification & deletion by key (O(1)), while lists require searching (O(n)).\n",
        "\n",
        "5. Prevents Duplicate Keys\n",
        "\n",
        "    Lists allow duplicate values, but dictionaries enforce unique keys, preventing accidental overwrites."
      ],
      "metadata": {
        "id": "ysDpAepfmNFd"
      }
    },
    {
      "cell_type": "markdown",
      "source": [
        "Q12. Describe a scenario where using a tuple would be preferable over a list.\n",
        "\n",
        "Ans.  Scenario Where a Tuple is Preferable Over a List\n",
        "\n",
        "Scenario: Storing GPS Coordinates (Latitude & Longitude)\n",
        "\n",
        "Imagine you’re developing a mapping application that needs to store fixed GPS coordinates for multiple cities. Since coordinates do not change, a tuple is the best choice.\n",
        "\n",
        "Why Use a Tuple for GPS Coordinates?\n",
        "\n",
        "1. Immutability Ensures Data Integrity\n",
        "\n",
        "    A tuple prevents accidental modifications, ensuring that coordinates remain unchanged.\n",
        "\n",
        "    Example: You wouldn't want the latitude of New York to be modified accidentally.\n",
        "2. Faster Performance\n",
        "\n",
        "    Tuples are faster than lists due to their fixed size.\n",
        "\n",
        "    In large datasets, using tuples for immutable data saves memory and improves performance.\n",
        "\n",
        "3. Hashability (Can Be Used as Dictionary Keys)\n",
        "\n",
        "    Since tuples are hashable, they can be used as keys in dictionaries, allowing for quick lookups.\n",
        "\n",
        "Example: Using Tuples for GPS Coordinates"
      ],
      "metadata": {
        "id": "jpzDkr1amcCq"
      }
    },
    {
      "cell_type": "code",
      "source": [
        "# Storing immutable GPS coordinates as tuples\n",
        "new_york = (40.7128, -74.0060)\n",
        "los_angeles = (34.0522, -118.2437)\n",
        "\n",
        "# Dictionary mapping cities to their coordinates\n",
        "city_coordinates = {\n",
        "    \"New York\": (40.7128, -74.0060),\n",
        "    \"Los Angeles\": (34.0522, -118.2437),\n",
        "    \"Chicago\": (41.8781, -87.6298),\n",
        "}\n",
        "\n",
        "# Retrieving coordinates in O(1) time\n",
        "print(city_coordinates[\"New York\"])  # ✅ Output: (40.7128, -74.0060)"
      ],
      "metadata": {
        "colab": {
          "base_uri": "https://localhost:8080/"
        },
        "id": "LlYIXt2PnHAq",
        "outputId": "c0161f30-9a21-4b73-8110-7535553fe227"
      },
      "execution_count": null,
      "outputs": [
        {
          "output_type": "stream",
          "name": "stdout",
          "text": [
            "(40.7128, -74.006)\n"
          ]
        }
      ]
    },
    {
      "cell_type": "markdown",
      "source": [
        "Q13. How do sets handle duplicate values in Python?\n",
        "\n",
        "Ans. In Python, sets automatically remove duplicate values because they are unordered collections of unique elements. When you add duplicate values to a set, Python ignores the duplicates and only stores each unique value once.\n",
        "\n",
        "Example: Removing Duplicates with a Set"
      ],
      "metadata": {
        "id": "oxhqc3u9nVcX"
      }
    },
    {
      "cell_type": "code",
      "source": [
        "my_set = {1, 2, 3, 3, 4, 4, 5}\n",
        "print(my_set)"
      ],
      "metadata": {
        "colab": {
          "base_uri": "https://localhost:8080/"
        },
        "id": "ceGIt5zCnjMh",
        "outputId": "c3d748d9-83b3-4ce4-a721-9e72f6e7e2b4"
      },
      "execution_count": null,
      "outputs": [
        {
          "output_type": "stream",
          "name": "stdout",
          "text": [
            "{1, 2, 3, 4, 5}\n"
          ]
        }
      ]
    },
    {
      "cell_type": "markdown",
      "source": [
        "How Does Python Prevent Duplicates?\n",
        "\n",
        "    Sets use a hash table, which only stores unique elements.\n",
        "\n",
        "    When you add an item, Python checks if it already exists using its hash value.\n",
        "\n",
        "    If the item is already present, it is ignored instead of being added again."
      ],
      "metadata": {
        "id": "U7Y5HqJanxK5"
      }
    },
    {
      "cell_type": "markdown",
      "source": [
        "Q14. How does the “in” keyword work differently for lists and dictionaries?\n",
        "\n",
        "Ans. The in keyword is used to check for membership in both lists and dictionaries, but it behaves differently:\n",
        "\n",
        "1. in with Lists (Checks for Values, O(n))\n",
        "\n",
        "    When used with a list, in checks if a given value exists anywhere in the list.\n",
        "\n",
        "    Time Complexity: O(n) (linear search), since Python scans each element one by one.\n",
        "\n",
        "Example: Checking Membership in a List"
      ],
      "metadata": {
        "id": "2YErblUnn2hI"
      }
    },
    {
      "cell_type": "code",
      "source": [
        "fruits = [\"apple\", \"banana\", \"cherry\"]\n",
        "print(\"banana\" in fruits)  # ✅ True\n",
        "print(\"grape\" in fruits)   # ❌ False"
      ],
      "metadata": {
        "colab": {
          "base_uri": "https://localhost:8080/"
        },
        "id": "tBBIq67WoOsO",
        "outputId": "e4137b19-7cc6-442d-8986-bd1ed39495bb"
      },
      "execution_count": null,
      "outputs": [
        {
          "output_type": "stream",
          "name": "stdout",
          "text": [
            "True\n",
            "False\n"
          ]
        }
      ]
    },
    {
      "cell_type": "markdown",
      "source": [
        "2. in with Dictionaries (Checks for Keys, O(1))\n",
        "\n",
        "    When used with a dictionary, in checks only for keys, not values.\n",
        "\n",
        "    Time Complexity: O(1) (constant time) due to the hash table implementation.\n",
        "\n",
        "Example: Checking Membership in a Dictionary"
      ],
      "metadata": {
        "id": "2fS3skN_oSgI"
      }
    },
    {
      "cell_type": "code",
      "source": [
        "prices = {\"apple\": 100, \"banana\": 50, \"cherry\": 75}\n",
        "print(\"banana\" in prices)  # ✅ True (checks keys)\n",
        "print(50 in prices)        # ❌ False (does NOT check values)"
      ],
      "metadata": {
        "colab": {
          "base_uri": "https://localhost:8080/"
        },
        "id": "dV8LCUwmoa8d",
        "outputId": "d3416ae0-e546-4642-8f2b-b81eafe58293"
      },
      "execution_count": null,
      "outputs": [
        {
          "output_type": "stream",
          "name": "stdout",
          "text": [
            "True\n",
            "False\n"
          ]
        }
      ]
    },
    {
      "cell_type": "markdown",
      "source": [
        "Q15. Can you modify the elements of a tuple? Explain why or why not.\n",
        "\n",
        "Ans. No, we cannot modify the elements of a tuple because tuples in Python are immutable. Once a tuple is created, its elements cannot be changed, added, or removed.\n",
        "\n",
        "Why Are Tuples Immutable?\n",
        "\n",
        "1. Memory Efficiency & Performance\n",
        "\n",
        "    Tuples are stored in a fixed memory location, making them faster than lists.\n",
        "\n",
        "    Since they don’t change, Python optimizes their storage, improving performance.\n",
        "\n",
        "2. Hashability (Can Be Used as Dictionary Keys)\n",
        "\n",
        "    Tuples are hashable, meaning they can be used as keys in dictionaries or elements in sets.\n",
        "\n",
        "    If they were mutable, their hash value could change, breaking dictionary lookups.\n",
        "\n",
        "3. Data Integrity & Safety\n",
        "\n",
        "    Immutability prevents accidental modifications, making them ideal for constant data like GPS coordinates or database records.\n",
        "\n",
        "Example: Trying to Modify a Tuple (Throws an Error)"
      ],
      "metadata": {
        "id": "xBrpeQMgopAm"
      }
    },
    {
      "cell_type": "code",
      "source": [
        "my_tuple = (10, 20, 30)\n",
        "my_tuple[1] = 50  # ❌ TypeError: 'tuple' object does not support item assignment"
      ],
      "metadata": {
        "colab": {
          "base_uri": "https://localhost:8080/",
          "height": 158
        },
        "id": "YAToU2cipLHQ",
        "outputId": "6b21d887-7911-42fa-a6f2-14e23212e0ca"
      },
      "execution_count": null,
      "outputs": [
        {
          "output_type": "error",
          "ename": "TypeError",
          "evalue": "'tuple' object does not support item assignment",
          "traceback": [
            "\u001b[0;31m---------------------------------------------------------------------------\u001b[0m",
            "\u001b[0;31mTypeError\u001b[0m                                 Traceback (most recent call last)",
            "\u001b[0;32m<ipython-input-27-76d550eea7f8>\u001b[0m in \u001b[0;36m<cell line: 0>\u001b[0;34m()\u001b[0m\n\u001b[1;32m      1\u001b[0m \u001b[0mmy_tuple\u001b[0m \u001b[0;34m=\u001b[0m \u001b[0;34m(\u001b[0m\u001b[0;36m10\u001b[0m\u001b[0;34m,\u001b[0m \u001b[0;36m20\u001b[0m\u001b[0;34m,\u001b[0m \u001b[0;36m30\u001b[0m\u001b[0;34m)\u001b[0m\u001b[0;34m\u001b[0m\u001b[0;34m\u001b[0m\u001b[0m\n\u001b[0;32m----> 2\u001b[0;31m \u001b[0mmy_tuple\u001b[0m\u001b[0;34m[\u001b[0m\u001b[0;36m1\u001b[0m\u001b[0;34m]\u001b[0m \u001b[0;34m=\u001b[0m \u001b[0;36m50\u001b[0m  \u001b[0;31m# ❌ TypeError: 'tuple' object does not support item assignment\u001b[0m\u001b[0;34m\u001b[0m\u001b[0;34m\u001b[0m\u001b[0m\n\u001b[0m",
            "\u001b[0;31mTypeError\u001b[0m: 'tuple' object does not support item assignment"
          ]
        }
      ]
    },
    {
      "cell_type": "markdown",
      "source": [
        "Q16. What is a nested dictionary, and give an example of its use case?\n",
        "\n",
        "Ans. A nested dictionary is a dictionary where one or more values are dictionaries themselves. This allows for hierarchical or structured data storage, similar to JSON.\n",
        "\n",
        "Example Use Case: Storing Student Records\n",
        "\n",
        "Imagine you're managing student data where each student has a name, age, and subjects with grades. Instead of using separate dictionaries, a nested dictionary organizes everything efficiently.\n",
        "\n",
        "Example: Storing Student Records in a Nested Dictionary"
      ],
      "metadata": {
        "id": "DfebAYM-pQ3q"
      }
    },
    {
      "cell_type": "code",
      "source": [
        "students = {\n",
        "    \"Alice\": {\n",
        "        \"age\": 20,\n",
        "        \"major\": \"Computer Science\",\n",
        "        \"grades\": {\"Math\": 90, \"English\": 85}\n",
        "    },\n",
        "    \"Bob\": {\n",
        "        \"age\": 22,\n",
        "        \"major\": \"Physics\",\n",
        "        \"grades\": {\"Math\": 78, \"Physics\": 88}\n",
        "    }\n",
        "}\n",
        "\n",
        "# Accessing Alice's major\n",
        "print(students[\"Alice\"][\"major\"])  # ✅ \"Computer Science\"\n",
        "\n",
        "# Accessing Bob's Physics grade\n",
        "print(students[\"Bob\"][\"grades\"][\"Physics\"])  # ✅ 88"
      ],
      "metadata": {
        "colab": {
          "base_uri": "https://localhost:8080/"
        },
        "id": "oAynoEHHpigU",
        "outputId": "40dc49e4-5218-47b4-b3d0-4319e9eba560"
      },
      "execution_count": null,
      "outputs": [
        {
          "output_type": "stream",
          "name": "stdout",
          "text": [
            "Computer Science\n",
            "88\n"
          ]
        }
      ]
    },
    {
      "cell_type": "markdown",
      "source": [
        "Q17. Describe the time complexity of accessing elements in a dictionary?\n",
        "\n",
        "Ans.  Time Complexity of Accessing Elements in a Dictionary (dict) in Python\n",
        "\n",
        "Average Case: O(1) (Constant Time)\n",
        "\n",
        "    Python dictionaries use a hash table, allowing for fast key-based lookups.\n",
        "\n",
        "    When you access an element using dict[key], Python hashes the key and directly retrieves the value.\n",
        "\n",
        "    This makes lookups extremely fast, even for large dictionaries."
      ],
      "metadata": {
        "id": "AdynakUhpnZr"
      }
    },
    {
      "cell_type": "code",
      "source": [
        "my_dict = {\"apple\": 100, \"banana\": 50, \"cherry\": 75}\n",
        "print(my_dict[\"banana\"])  # ✅ O(1) lookup"
      ],
      "metadata": {
        "colab": {
          "base_uri": "https://localhost:8080/"
        },
        "id": "3WJg9-AYqLk8",
        "outputId": "3fc0f999-cadf-44a4-b276-ed9915361fef"
      },
      "execution_count": null,
      "outputs": [
        {
          "output_type": "stream",
          "name": "stdout",
          "text": [
            "50\n"
          ]
        }
      ]
    },
    {
      "cell_type": "markdown",
      "source": [
        "Worst Case: O(n) (Linear Time, Rare Case)\n",
        "\n",
        "    In rare cases, if there are too many hash collisions, Python may need to search multiple entries, making lookups degrade to O(n).\n",
        "\n",
        "    However, Python dynamically resizes and optimizes hash tables, so this happens very rarely."
      ],
      "metadata": {
        "id": "n45TcCw-qPvu"
      }
    },
    {
      "cell_type": "code",
      "source": [
        "# If all keys hash to the same value (unlikely), search could be O(n)"
      ],
      "metadata": {
        "id": "n0b0poNVqVpK"
      },
      "execution_count": null,
      "outputs": []
    },
    {
      "cell_type": "markdown",
      "source": [
        "Q18. In what situations are lists preferred over dictionaries?\n",
        "\n",
        "Ans.  When Are Lists Preferred Over Dictionaries in Python?\n",
        "\n",
        "While dictionaries (dict) offer fast lookups (O(1)), lists (list) are better in certain situations where ordering, simplicity, or memory efficiency matter.\n",
        "\n",
        "1. When Order Matters (Lists Maintain Order, Dicts Before Python 3.7 Didn't)\n",
        "\n",
        "    Lists maintain the order of elements by default.\n",
        "\n",
        "    While Python 3.7+ dictionaries also preserve insertion order, lists are still better for ordered sequences.\n",
        "\n",
        "Example: Keeping Track of Recent Transactions"
      ],
      "metadata": {
        "id": "lH98loghqZyN"
      }
    },
    {
      "cell_type": "code",
      "source": [
        "transactions = [\"Buy Apple\", \"Sell Tesla\", \"Buy Bitcoin\"]\n",
        "print(transactions[0])  # ✅ First transaction: \"Buy Apple\""
      ],
      "metadata": {
        "colab": {
          "base_uri": "https://localhost:8080/"
        },
        "id": "VP2SPK63q__k",
        "outputId": "4ada3e6b-d8e9-4ea4-e95d-9b171ba16f6d"
      },
      "execution_count": null,
      "outputs": [
        {
          "output_type": "stream",
          "name": "stdout",
          "text": [
            "Buy Apple\n"
          ]
        }
      ]
    },
    {
      "cell_type": "markdown",
      "source": [
        "2.  When You Need Index-Based Access (O(1))\n",
        "\n",
        "    Lists allow direct access by index (list[index]), while dictionaries require key-based access (dict[key]).\n",
        "\n",
        "    If sequential numeric indexing is needed, a list is better.\n",
        "\n",
        "Example: Managing a Queue of Tasks"
      ],
      "metadata": {
        "id": "RpeEhg-irGWP"
      }
    },
    {
      "cell_type": "code",
      "source": [
        "tasks = [\"email\", \"meeting\", \"lunch\"]\n",
        "print(tasks[1])  # ✅ \"meeting\" (index lookup is O(1))"
      ],
      "metadata": {
        "colab": {
          "base_uri": "https://localhost:8080/"
        },
        "id": "6jz-yAZhrMvf",
        "outputId": "adaf9fa3-f725-4390-b7b9-a5a953880ce2"
      },
      "execution_count": null,
      "outputs": [
        {
          "output_type": "stream",
          "name": "stdout",
          "text": [
            "meeting\n"
          ]
        }
      ]
    },
    {
      "cell_type": "markdown",
      "source": [
        "3. When You Need Less Memory\n",
        "\n",
        "    Dictionaries store extra metadata (hash tables, key-value pairs), consuming more memory than lists.\n",
        "\n",
        "    If memory usage is a concern, lists are more efficient.\n",
        "\n",
        "Example: Storing a Million Numbers Efficiently"
      ],
      "metadata": {
        "id": "5qNZsuVLrTE8"
      }
    },
    {
      "cell_type": "code",
      "source": [
        "numbers = list(range(1_000_000))  # ✅ Uses less memory than a dictionary"
      ],
      "metadata": {
        "id": "TXqowCKorbE8"
      },
      "execution_count": null,
      "outputs": []
    },
    {
      "cell_type": "markdown",
      "source": [
        "4. When Elements Don’t Need Unique Keys\n",
        "\n",
        "    Lists are useful when data doesn't require unique identifiers.\n",
        "\n",
        "    If uniqueness isn't important, using a dictionary would be unnecessary overhead.\n",
        "\n",
        "Example: Storing Student Names"
      ],
      "metadata": {
        "id": "HQCmSWRSreby"
      }
    },
    {
      "cell_type": "code",
      "source": [
        "students = [\"Alice\", \"Bob\", \"Charlie\"]  # ✅ Simple list without key-value pairs"
      ],
      "metadata": {
        "id": "FYmInRqXrpoG"
      },
      "execution_count": null,
      "outputs": []
    },
    {
      "cell_type": "markdown",
      "source": [
        "5. When Iteration Speed Matters (O(n), But Less Overhead Than Dicts)\n",
        "\n",
        "    Iterating through a list of values is faster than iterating through a dictionary because there's less overhead.\n",
        "\n",
        "Example: Processing a List of Scores"
      ],
      "metadata": {
        "id": "oPpiuVylrvMV"
      }
    },
    {
      "cell_type": "code",
      "source": [
        "scores = [85, 90, 78, 92]\n",
        "for score in scores:\n",
        "    print(score)  # ✅ Faster than iterating over dict.items()"
      ],
      "metadata": {
        "colab": {
          "base_uri": "https://localhost:8080/"
        },
        "id": "AwXF9lbSr21O",
        "outputId": "09d0eaef-c254-4032-e7e4-22e4c798a727"
      },
      "execution_count": null,
      "outputs": [
        {
          "output_type": "stream",
          "name": "stdout",
          "text": [
            "85\n",
            "90\n",
            "78\n",
            "92\n"
          ]
        }
      ]
    },
    {
      "cell_type": "markdown",
      "source": [
        "Q19. Why are dictionaries considered unordered, and how does that affect data retrieval?\n",
        "\n",
        "Ans. Why Are Dictionaries Considered Unordered in Python?\n",
        "\n",
        "🔹 Before Python 3.7, dictionaries were unordered because they used a hash table to store key-value pairs, meaning the order of elements was not guaranteed.\n",
        "\n",
        "🔹 Starting from Python 3.7+, dictionaries preserve insertion order, but they are still not truly \"ordered\" like lists because they use hashing instead of sequential storage.\n",
        "\n",
        "How Does This Affect Data Retrieval?\n",
        "\n",
        "1. Keys Are Not Stored Sequentially (Before Python 3.7)\n",
        "\n",
        "    If you insert items in a dictionary, they won’t necessarily be retrieved in the same order.\n",
        "\n",
        "Example (Before Python 3.7, output order was unpredictable):\n"
      ],
      "metadata": {
        "id": "TmQF3C0zr6AK"
      }
    },
    {
      "cell_type": "code",
      "source": [
        "my_dict = {\"banana\": 1, \"apple\": 2, \"cherry\": 3}\n",
        "print(my_dict)\n",
        "# Output order may not be the same as insertion"
      ],
      "metadata": {
        "colab": {
          "base_uri": "https://localhost:8080/"
        },
        "id": "ayvYsUbSsRDc",
        "outputId": "8dd0b3bb-4bce-4ba2-9472-617007fe4467"
      },
      "execution_count": null,
      "outputs": [
        {
          "output_type": "stream",
          "name": "stdout",
          "text": [
            "{'banana': 1, 'apple': 2, 'cherry': 3}\n"
          ]
        }
      ]
    },
    {
      "cell_type": "markdown",
      "source": [
        "2. Fast Lookups (O(1)) but No Indexing\n",
        "\n",
        "Unlike lists, dictionaries do not support index-based access.\n",
        "\n",
        "Example:\n"
      ],
      "metadata": {
        "id": "8zP2Zi97sTk_"
      }
    },
    {
      "cell_type": "code",
      "source": [
        "my_dict = {\"a\": 10, \"b\": 20, \"c\": 30}\n",
        "print(my_dict[1])  # ❌ TypeError: 'dict' object is not subscriptable"
      ],
      "metadata": {
        "colab": {
          "base_uri": "https://localhost:8080/",
          "height": 158
        },
        "id": "NCNqTJgJsau2",
        "outputId": "163cf8d9-4632-4ae7-ac0c-58b22cf93de6"
      },
      "execution_count": null,
      "outputs": [
        {
          "output_type": "error",
          "ename": "KeyError",
          "evalue": "1",
          "traceback": [
            "\u001b[0;31m---------------------------------------------------------------------------\u001b[0m",
            "\u001b[0;31mKeyError\u001b[0m                                  Traceback (most recent call last)",
            "\u001b[0;32m<ipython-input-37-72622ddfab64>\u001b[0m in \u001b[0;36m<cell line: 0>\u001b[0;34m()\u001b[0m\n\u001b[1;32m      1\u001b[0m \u001b[0mmy_dict\u001b[0m \u001b[0;34m=\u001b[0m \u001b[0;34m{\u001b[0m\u001b[0;34m\"a\"\u001b[0m\u001b[0;34m:\u001b[0m \u001b[0;36m10\u001b[0m\u001b[0;34m,\u001b[0m \u001b[0;34m\"b\"\u001b[0m\u001b[0;34m:\u001b[0m \u001b[0;36m20\u001b[0m\u001b[0;34m,\u001b[0m \u001b[0;34m\"c\"\u001b[0m\u001b[0;34m:\u001b[0m \u001b[0;36m30\u001b[0m\u001b[0;34m}\u001b[0m\u001b[0;34m\u001b[0m\u001b[0;34m\u001b[0m\u001b[0m\n\u001b[0;32m----> 2\u001b[0;31m \u001b[0mprint\u001b[0m\u001b[0;34m(\u001b[0m\u001b[0mmy_dict\u001b[0m\u001b[0;34m[\u001b[0m\u001b[0;36m1\u001b[0m\u001b[0;34m]\u001b[0m\u001b[0;34m)\u001b[0m  \u001b[0;31m# ❌ TypeError: 'dict' object is not subscriptable\u001b[0m\u001b[0;34m\u001b[0m\u001b[0;34m\u001b[0m\u001b[0m\n\u001b[0m",
            "\u001b[0;31mKeyError\u001b[0m: 1"
          ]
        }
      ]
    },
    {
      "cell_type": "markdown",
      "source": [
        "Instead, you must retrieve values using keys:"
      ],
      "metadata": {
        "id": "rEoiLnGksd9y"
      }
    },
    {
      "cell_type": "code",
      "source": [
        "print(my_dict[\"a\"])  # ✅ 10"
      ],
      "metadata": {
        "colab": {
          "base_uri": "https://localhost:8080/"
        },
        "id": "sVDJyCdHslsO",
        "outputId": "29ef99c7-427d-4213-f638-ebf184bf2417"
      },
      "execution_count": null,
      "outputs": [
        {
          "output_type": "stream",
          "name": "stdout",
          "text": [
            "10\n"
          ]
        }
      ]
    },
    {
      "cell_type": "markdown",
      "source": [
        "3.  Efficient Key-Based Retrieval\n",
        "\n",
        "Since dictionaries rely on hash tables, retrieving a value using a key is fast (O(1)), regardless of the dictionary's size."
      ],
      "metadata": {
        "id": "xcfk9e6zspJf"
      }
    },
    {
      "cell_type": "markdown",
      "source": [
        "Q20P Explain the difference between a list and a dictionary in terms of data retrieval.\n",
        "\n",
        "Ans. Difference Between Lists and Dictionaries in Terms of Data Retrieval![Screenshot 2025-02-26 105144.png](data:image/png;base64,iVBORw0KGgoAAAANSUhEUgAAA6IAAAGDCAYAAAAxl609AAAAAXNSR0IArs4c6QAAAARnQU1BAACxjwv8YQUAAAAJcEhZcwAADsMAAA7DAcdvqGQAALtHSURBVHhe7N19XFRl/j/+1wDDnYOKKKIGBKbmDYHKVGpKsVk2uuJNiku7UWaLorWbrrnfDVOL2txKd61QNrSlVnNM8xbSvCk0RJnR1dCsUAxIJIgbYeRuQH5/fDjnN+cwMwwII+jr+XjwKM91zbmbc97nvM+5rmsUAQEBjSAiIiIiIiKyEwf5BCIiIiIiIqKOxESUiIiIiIiI7IqJKBEREREREdkVE1EiIiIiIiKyKyaiREREREREZFdMRImIiIiIiMiumIgSERERERGRXTERJSIiIiIiIrtiIkpERERERER2pQgICGiUTzTVu3dveHp6QqVSwdHRUV5MREREREREd7CGhgYYDAaUlZXh119/lRebZTERdXd3h7+/PxwdHWEwGFBbW4sbN27IqxHZha+vL/Lz8+WTiYioC2AMJyK6fQkvK11dXdGjRw/U1NQgNzcXVVVV8qoSZpvmuru7Y8iQIairq0NxcTGqq6uZhBIREREREZFEQ0MDGhoacP36dfzyyy+or6/HkCFD4O7uLq8qYTYR9ff3R0VFBQwGg7yIiIiIiIiIqJmGhgYxj/T395cXSzRLRHv37i02xyUiIiIiIiJqjevXr8PJyQm9e/eWF4maJaKenp5MQomIiIiIiKhNGhoacO3aNXh6esqLRM0SUZVKhdraWvlkIiIiIiIiIpvU19dDpVLJJ4uaJaKOjo4cmIiIiIiIiIhuirWf/2yWiBIRERERERHdjIaGBvkkCSaiREREREREZFdMRImIiIiIiMiuFAEBAY2mE0JDQ5Gfn286ieiW8/X1va2PS0dHRzg5OVltR38rNTQ0oL6+vsUmFkRE5tzuMfx21pmvT7w2EXV+vr6+0Ov18skA34gS3XpKpRIuLi6d8iIvcHR0hIuLC5RKpbyIiIhuU539+sRrE1HXxkSU6BZydHTsUhdQpVLZaW9IiIio/XSl6xOvTURdExNRIhMjR47E008/DS8vL3lRh3BycpJP6vS64joT0Z3Hzc0Ns2bNQnh4uLyoTcLDwzFr1iy4ubnJi25LXS3Wd7X1JaIO6iP6xhtvIDg4WD4ZAHDgwAG899578slEVrVH/6Lw8HAsWLAASqUSn332GTZv3iwpHzRoEP7f//t/8Pb2xunTp/Hqq69KytuLRqNBdHQ0DAYDXnzxRTQ2Sk7BTs/NzQ1xcXHw9/fHrl278PHHH8urEBFJtEcMN3dvcePGDRgMBly8eBFffPEFMjIyxLL58+dDo9GgpqYGH3zwAdLS0iSfbY2HHnoICxcuhEqlwoEDB/D+++/Lq9wWFi9ejLCwMJw6dQrvvPOOvLjTGz16NGJjY1FbW4v33nsPp06dklchIju7ZX1EGxoaUF1dLfkzGo3yajelf//++Mtf/oL//ve/eOGFF+TFRDa7fv06DAYDGhoaUFxcLC8264EHHsA//vEPfPzxxzY9de/fvz8mTZoEpVKJ/fv3d7kkFACqq6vx+eefo7a2Fo8++ihGjx4tr0JE1GFM7y2MRiM8PDwwatQo/PWvf8WSJUvEN5bXrl1DfX09DAYDysrK5LMxy9I9RUVFhbi8kpISyWduFxMnTsT999+PX3/9FVqtVl7cJRw7dgxpaWno1asXZs6cece8vSbqqjo0Eb1y5QpmzZol+duwYYO82k3p3bs3goKC0LNnT3kRUasUFBTgxRdfREREhM1v7e+55x4MHjzY5ovdY489Bn9/f+Tm5mLfvn3y4i7j2LFjOH36NHr27GlTAk5E1F5M7y1mzpyJN998Ezk5OXBwcMD48eMxa9YsAMCnn36KGTNmYO7cufj222/lszHL0j3Ft99+i7lz52LGjBn49NNPJWW3i0cffRTu7u7Q6XT44Ycf5MVdxp49e1BQUIBBgwbhkUcekRcTUSfSoYkoEUmNHDkSjY2N0Ov1qK6ulhdLLF++HNu2bcO2bduQnJyMCRMmyKsAACIjI7FlyxYsX75cXtShMjMzUVVVhaFDh2LIkCHyYiIiu8jIyMA777yDvLw8ODk5YezYsejfv7+8Glnx0EMPwc/PD2VlZTh+/Li8uEXLly/Hhg0bMGLECMn0+fPnY9u2bZg/f75kekcqKCjAt99+CxcXF6jVankxEXUitzQRffbZZ/HJJ59g79692Lt3LzZv3oyYmBjx7dLEiROxbt067NixA/v27cPevXvx8ccfY9q0aQCAF154AW+++aY4sMzjjz+Offv24Y033sALL7yAffv2ITk5Gffdd5+4TGF6QkICAOC+++5DcnIydu3aheeffx7vv/8+9u7dKzbJmTZtGjZt2oQ9e/Zg79692LZtG5YuXWq3wWzIvhISErBv3z7x+/fy8sKSJUuwdetWyXH629/+FgkJCfjd734HJycnuLm5YfHixdi1axeeeuop+WwBAPfffz+8vLxw7do1ZGVlyYubef311zF79mwcOXJEXtSuIiMjkZycjMjISHmRVWlpafjll1/Qs2fPZjcfRET2lJeXh1OnTqGhoQFeXl4YPnw4nnrqKezatavZfcDEiRPx/vvvY+fOndi3bx/27NmDhIQELF++3OI9hem9gmmMDwoKwptvvim5T5Hfy5h+9tlnn8Xbb7+N3bt3Y+/evUhOTsbEiRMl62btvgcm16nFixfjzTffxJ49e/DGG29g6dKl4jxNt7d///7YsGED9uzZg9jYWHG6qcGDB8Pd3R0///yzzW+P7cFSgtuSb7/9FtevX4e/vz8GDRokLyaiTuKWJaKLFy/G9OnT4erqiry8POTn58PNzQ2TJ09GdHQ0AODhhx+Gn58ffv31V1y+fBllZWXw9PREZGQkxo8fj5KSEuTm5qKurg4AUFxcjMuXL+Pq1auypdnmgQcewN133w2FQgEAePrpp/H000+jZ8+e+Pnnn5GXlweFQoEJEyZg4cKF8o/TbWjhwoV4+OGH4ezsjPz8fOTn58PR0RHdu3fHzz//jKtXr+LGjRtoaGjAzz//jJ9++gmlpaXy2QAABg4ciG7duqGysrJdL/RarRZRUVF4/fXX5UUd7sqVK3B2doafn5+8iIjIrvLz81FXVwelUglvb295MQDg97//PRYsWIC7774bN27cQF5eHoqKiuDs7AyDwdCqe4rRo0djyZIlYtKXl5eH0tJSdO/eHVOmTMHixYsl9RUKBR5//HHcdddduHLlCoxGI7y8vDBnzhyxVUlL9z2mBg8ejBEjRsDB4f9u5c6fP4+amhr06NEDQUFBYr1Ro0ahd+/eqKqqwvnz503m8P+7++674eDgYHFb22rDhg2YPXt2u3fLaklOTg4qKyvh4eGBu+++W15MRJ1Ehyaifn5+2Ldvn/j32WefITw8HI8//jgeeOABlJeX46233sLChQsRGxuLQ4cOAU1Bs3///jhz5gxWrVqFmJgYvPDCC1i7di3KysrQrVs3DB8+HFu2bEFiYiIqKysBAKdPn8YLL7zQptHsHB0d4eHhgU8++QRTpkxBWloafvOb36C+vh4ffvghYmNjsXDhQmzbtg1GoxGDBw/G/fffL58N3WZ8fHygUChw7NgxxMbGIjY2Fq+99hq+/fZbvPnmm/j6669x48YN1NXVYdu2bfjzn/+ML774Qj4boOntqpOTE65duyYvapMJEyYgOTlZbL5rqWnumjVrxDqm9YQmvcKADjNnzmxWpyUVFRW4ceMGevfuLS8iIrKrhoYG+SSJIUOG4JFHHoGzszOys7Px0ksvITY2FvPmzcO8efOwdu3aVt1TzJ49G71798avv/6KN998E7GxsYiOjsZXX32FxsZGBAUFISwsTKzv6OiIkpISLFu2DLGxsfj0009RV1cHT09P8Y1fS/c9pvr06YMvvvgCs2bNwiuvvIKvvvoKV69ehZOTE4YNGybWGzZsGFxdXZGbm2tx5OBevXqhoaHB5kGdRowYgQ0bNojXDNPEFybXF6HcUtNcS9cnoWtKUFAQevXqhVdffRXbtm3Dli1bbGq9U1BQgOrqaqsPJYjo1uvQRNTSqLmDBg2Cu7s7evXqhVWrVomJqkajgYODA1xcXNC7d28cOXIEDzzwANatW4fNmzfj1VdfRa9eveDg4NDuP7KsUCjw3XffiSPFDR8+HN27d4e7uzsWLlwormN0dDScnZ3h4uIClUolnw3dZoQbkrFjx+Jvf/sbgoKC8N1339nUtFZOoVBAoVDg119/lRe1ydGjRxEdHY3XXnvN4lvY5cuXw93dHa+99hpmz56N2bNni29OhTepO3bsQHV1NXbs2NGsTksqKytx48YN+WQiIrtzd3eHQqHAjRs3UFNTIy/GiBEj4OnpCYPBgF27diEvL09exWbDhg1D3759cePGDZw4cULyMyFfffUVysvL4e7ujqFDh4rTGxoacOrUKXG5Fy9ehMFggIODA1xdXQGgVfc9V65cwX/+8x9xvIHq6mqcPn0aDQ0N6NevH4YMGYJBgwbh3nvvRV1dncWfTwAABwcHGI1GFBUVyYuaGTFiBBYtWoSqqirxmiG/JgrXl/fff9/ieAhr1qyxeH0SuqZkZWWhtLRUrBMVFWXziL4Gg0E+iYg6mQ5NROWj5j799NM4duyYeENeWlqKI0eONPtLT0+HUqnEypUrMWXKFPTr1w/l5eU4c+ZMhwWW+vp65OTkiP92cHCAQqGAwWDAsWPHmq1jWloarly5IpkH3X7++9//Ijs7Gy4uLhg7dizeeOMNvPPOO11qcJ7u3bs3e5JORHS7CQwMhIuLC6qqqsz+ZqmrqyscHBxQW1tr85s/S5ycnMSkV3hgKfjf//4nJpimyWNjYyNqa2vFfzc0NEh+wsvPz69V9z2XL19uluRlZGSgpKQEPXv2xH333Yf77rsPPXv2RHl5ebt1CRk+fDiUSiV27dolL7JZZGQkvLy88NVXX+HcuXPyYiK6Q3RoItqS+vp6pKSkYM2aNZK/f//73wgODoafnx+uXbuGtWvXYuHChdi5c6ckiLeFtZ/ZsPRm58SJE83W8f333+/Sw5uTbbKysvDSSy/hlVdeQVpaGmpra3Hvvffi6aeflldtUWNjIxobG+3ajPX111/HhQsXxGa31kbfbQsXFxexTzUR0a0yevRohIaGQqFQIDc3F5mZmfIqImdnZ3Tv3l0+uU0cHBzg4eEhmTZy5EioVCo0NDTg+vXrkjJrHn300Vbd99TX18sn4YcffsCFCxegVCoxbNgwDBs2DEqlEhcuXLB6z3Ljxg2bm7F6enrCyclJPrlVPD09AaDd+6SacnZ2lk8iok7mliSiBQUFqKurQ+/evTF58mRxupubG/74xz9i2rRp6NatGxwdHcXmvQAQEhLSLOCbMg2M5eXlqK+vR7du3cSO6qNHj5b0m7AmNzcX1dXV6NatGyZOnChJYP/whz9YHBmVbh+DBg1CREQE3NzckJWVhbfffhsnTpwATC6iphwdHeWTJEpKSlBfX2/3Jt1CE6fZs2ejpKQEUVFRrR6B0JLevXvD0dGx3ZobExG1lkajwQsvvIBevXrh119/xeeffy6vAgD4/vvvYTAYoFKpoNFoWhz93lqy9e2336KwsBAODg548MEHMXr0aLHskUceQc+ePVFVVYXs7GzJ56xpy32POcKgRYGBgbjnnntw/fp1q4k5AJSWlppNqjuK8Ea6X79+8qJ20b9/f/To0cPm5sZEdGvckkQ0NTUV3333HRQKBR555BEkJyfjvffeQ1JSEp544gl069YNP//8M2pra+Hp6YmXXnoJCQkJmDp1arOb/ezsbLHZyvjx45GYmIi4uDh89913MBgMcHV1RXR0NDZs2ICXX365WR8LS7755hvodDo0NjYiODgYSUlJeO+995CcnIzZs2ejV69e8o9QF+Ho6IgZM2bgs88+E/8+/vjjZiMSurm5YcaMGeJ3n5CQgHHjxqGxsRG5ubkAgMLCQtTV1cHNzQ1z587Fhg0b8Lvf/U4yH0F+fj5qamrEJlO3grnmaMIT6cGDB8uLWjRgwADU19fzQk9EdjNgwAAxdn/++eeIjY0VBw1KTk6W9Nc0derUKZw6dQo3btzAfffdhw0bNiAhIQFJSUlISkrCfffdZ/GewpxDhw6hoqICvXv3xt/+9jckJCQgOTkZjzzyCBobG5GZmYljx47JP2aRrfc9LREGLfLy8oKXlxeKiopaTEQLCgoAAL6+vvKiZr777jugqZ8smsYikA9W1JLz58+juroajzzyiNUHo8XFxW3qXhIYGAgPDw9UVVXhl19+kRcTUSdxSxLR6upqrF27FkePHkV1dTV69eqFu+++G0qlEmfPnoVer8fOnTvx1VdfoaamBr169UKvXr1w9OhRlJeXN5vXrl27UFpaCqVSiX79+sHBwQGnTp3C9u3bUVZWBmdnZ/Tr10/8nTFbrV+/HikpKaioqED37t0REBAAlUqFH374Ad988428OnURCoUCLi4ucHNzk/zJH1L8+uuvuHLlClxdXREQEABfX1/U1tbiq6++wrp16wAAhw8fxtGjR1FbWwsPDw94eXmZbS6Fppug4uJieHh4tNjH1HREwvDwcLi5uWHRokWSEQOFHwoXBrMICgrCtm3bsGbNGnE+8hEJ77nnHmzZskXSJ+fo0aPIyMgQP286cqE1YWFh6Nu3LwwGA77//nt5MRFRh3B0dBTjtkKhQFFREfbu3YslS5bgq6++kleXWLt2LT755BOUlpbCxcUFfn5+4u87C4MqmrunMOfgwYN4++238f3330OhUMDPzw+enp4oLi7GJ598grVr18o/YpWt9z0tMR20qKGhAadPn27Wl1TuwoULqKqqEgc5ska4ZoSHh2Pbtm0YMGAA0tPTJXWEUW8XLVoENzc3sa5wbTl37pw4GrEwIq65a8+GDRtQWFgodi+xddTc++67D926dUNhYWG79Y0lovanCAgI+P97ygMIDQ0128mf6Fby9fW9LY7LZ555BtOnT8cPP/yAFStWdNn+lVVVVVi6dCnGjx8PvV6P1157TV6FiEh0u8TwruK5557D1KlTUVJSgtWrV1vtHypYvXo17r33XuzZswcbN26Eu7u7vEqnV1VVhf79++PVV1+Ft7c3Pv30U3z22WfyakRkR76+vhZH7Tb/mI+IOsSXX36J/Px83HPPPZgyZYq8uMsYM2YMgoODUVFRgYMHD8qLiYjoFvHz88P9998PBwcHXLx40aYkFE0/HVNTU4OxY8e2+Fa0M3viiSfQr18/XLx4Efv27ZMXE1EnwkSUyI4KCgqQmpoKo9GISZMmdck3om5ubpg9ezbc3d3x5ZdfIiMjQ16FiIjs7He/+x02bNiAd955BwMGDMCvv/7aqkTswIEDOHnyJHr37m1T89fOaPz48Xj00UdRVlYGrVbbYpNkIrq12DSXuoTbtVmXi4tLqweiuNUaGhos/pwAEZE5t2sM70yeeuopzJo1CwqFAjk5Odi0aROysrLk1WzW1a5PvDYRdU7WmuYyEaUu4Xa9iXF0dISLi4t8cqdWW1uLhoYG+WQiIotu1xh+O+tq1ydem4g6J2uJKJvmEt1CDQ0NMBqN8smdltFo5IWeiOgO0JWuT7w2EXVNTESJbjGj0djpn+QKTZ66yk0JERHdvM5+feK1iahrY9Nc6hLYrIuIqOtiDCciujOxaS4RERERERF1GkxEiYiIiIiIyK6YiBIREREREZFdMRElIiIiIiIiu2IiSkRERERERHZldtRcIiIiIiIioptladTcZoloQEAALl++bDqJ6JbjcUlE1HUxhhMR3ZmsxX82zSUiIiIiIiK7YiJKREREREREdsVElIiIiIiIiOyKiSgRERERERHZFRNRIiIiIiIisismokRERERERGRXTESJiIiIiIjIrpiIEhERERERkV0xESUiIiIiIiK7UgQEBDSaTggICMDly5dNJxHdcjwuieyrW7du6N69O1xcXKBQKOTFZCeNjY2ora1FRUUFrl+/Li/uMhjDiVqHMfjm3C6x83ZgLf7zjSgREUn06tUL3t7ecHV15Q3QLaZQKODq6gpvb2/06tVLXkxEtyHG4JvH2Nk1MBElIiJRt27d0KNHD/lk6gR69OiBbt26yScT0W2EMbj9MXZ2XrdlIuru7o5nn30WGo1GXmQXWq0WOp0OcXFx8iIiq7y9vREbG4sxY8bIi9osISEBOp0OCQkJ8qIOExoaipSUFBw/fhwxMTHy4k7lVuyfzqx79+7ySdSJ8PvpvDpT3Osq9yExMTE4fvw4UlJSEBoaKi++I/Ec7xjcr51ThySiwo2d6d+JEyewe/duREdHy6u3u0WLFmH+/PlYunQpHn/8cXkx3aE0Gg3S0tIsJhxC+a28cC9btgzPPvss4uLiEBISIi8m6jDCDSGfGnduLi4u0Gq1SEtLu2UPW2+VhIQEq9udkJDAhIa6JOH+Q6vVwsXFRV5M7cDFxUW8zlm6DyT765BEVFBfX4+qqipUVVWhoaEB/fv3x/PPP4/Y2Fh5VaumT5+OzZs3Y+fOnTZdYMrKymA0GlFRUYGSkhJ5MVGnVVZWhvr6epSVlaG0tFReTNQhQkNDMXXqVJw5cwYNDQ3yYupEFAoFIiMjUVhYaJcHu0TU8aKjo1FYWIjIyEj2Ce0gCoUCiYmJSE5OxvDhw295qwX6Px2aiObl5SEsLAxhYWF4+eWXUVRUBBcXF4SFhcHd3V1e3aLhw4dj8ODBcHZ2lheZ9eGHH+Khhx5CREQE9Hq9vJio04qPj8eYMWPw+9//Hnl5efJiog4xadIkqFQq7Nu3T17UaS1fvhzbtm3Dtm3bsGXLFkRGRsqrdAnz588Xt2Pbtm2YP3++vIpZR44cgY+PD2+miLq4mJgY+Pj44MiRI/KiTisyMhJbtmwR49by5cvlVTrciBEjsGHDBnEdNmzYgBEjRsirNZOYmIjCwkKEh4fLi+gW6NBE1FR6ejrOnDkDAFCpVBg2bJi8ChER3QJBQUEoLCxEamqqvEhiwoQJSE5ObvHmQ7hBsPXGoK1KS0vx2muvISoqClqtVl4s3ixZWs/WELbd1kTRVhs2bMDs2bPx/vvvo7q6Wl5s0alTp2AwGBAcHCwvIqIuJDg4GAaDAadOnZIXtWj58uVm4+yaNWuQnJyMCRMmSKa3J6PRiB07dmD27Nl4/fXXxelC/G+PuGvNuXPnMH/+fMyePRtZWVnyYquysrLg4+NjsZk/2Y/dElEAcHV1BQDU1dWhqKgIABAYGIi1a9fi6NGj0Ol0yMjIwPbt2xERESF2/I+IiACaBnJZv3692EdE6Iy/cuVKbNiwASdOnEBCQoLFzu9RUVHYvXs3Tpw4gczMTHz99dd444034O3tjZdffhknT57EoUOH8Oijj4qf8fPzw86dO5GZmYn4+HhERETgv//9L44dOwadTofMzEykpqYiKipK/AzdPuLi4iR9neX9k4R+HZbKhWPYdB7W+iYIyxNuqk0Hv/jTn/6EjRs3IiMjA5mZmUhJScHUqVPFz7q7u+Mvf/kLDh06hMzMTGRkZCApKQmOjo4mS/g/1s47AHj99ddx8uRJHD58WOxn7efnh08//VTcBltbNSiVSrz33ns4fvw4MjMzcejQIbz00ktiuS3nVFBQEP75z3+K65uZmYk9e/Zg3LhxYp0//elP2L9/PzIzM5GZmYkvv/wSf/nLX8T1bM3+kfP29sbKlStx4MABnDhxAjqdDt988w3ee+89BAYGSuq99tpr4jJ0Oh2OHTuGP//5z2Kd6Oho7Nq1CxkZGeK+T0pKEsutxSnYsC+io6PFzwvraXqTIKfRaODj42PThfzo0aOIjo7Ga6+91uFNx9esWYM1a9bIJ1MTvV6P3Nxc+Pv729Rl5U5kS/yVj2khL2/pGtCScePGISUlBZmZmdi8ebMYLyzFqyFDhmD79u1m1+XJJ5/E0aNHJXG5JQqFAq+//roYX48ePYrXX39djItBQUFYu3atJGbJ6whx7fDhw+L6Hjx4UNIKoaW4haZYv2PHDrFOSkoK+vbtK5ZbYmv8hQ3xNSIiAp9++inS09Ohaxq/RKvVii9HRo8ejU2bNuGbb76BTqdDeno6Pv74Y3EAwZb2hTB/0+XLv0dToaGh8Pf3R25ubqdqwWcpwb1dnD59GgAwatQoeRHZmd0S0YkTJyIoKAiNjY04f/488vLyEBgYiPj4eIwbNw7Xr19HdnY2fvnlF/j5+eGFF15AUFAQfvrpJ/zyyy8AgNraWuTk5ODSpUu4du2aOO8RI0Zg5MiRVm8oY2NjERsbCy8vL+Tm5iInJwcKhQITJ07EX//6V6Snp6O8vBweHh6SA/PBBx+El5cXKisrcezYMTz++OMIDAxEUVERsrOzUVJSgt69e2Pu3Ll47LHHJMukri0uLg4ajQZJSUlQq9VQq9XIzs4Wy2NiYhAXF4fz58+L5YWFhVi2bBk0Gg1CQ0OxatUqGAwGsTwpKQk1NTWS5dhCoVBg6tSp8Pf3R15eHurq6uDt7Y25c+ciKCgIALBkyRI8+eST6N69O8rLy5GXl4chQ4Zg+PDhknm1dN499thj+Oijj3DlyhV0795dTE5nzJiBu+++G8XFxdi8eTOqqqok87XkiSeeQEhICK5cuYLr16+jR48emDlzpthXvKVzyt3dHUuXLsW4cePQ2NiIS5cuIT8/H25ubuIQ9ytXrsTvfvc7uLm5IScnB5cvX4a7uzuefPJJLFq0CGjF/jEnNDQUDz/8MBQKBXJycpCTkwMAeOCBB8T5C8n9pEmT0L17dxQXF+PSpUuora0Vb+hWrFiB+fPnY8CAAaipqcGlS5dQWloKNzc3wIY41dK+iI6OxvPPP49+/fqhsLAQ2dnZqKqqsvobar6+vqitrRUvzO1BeFI9f/58nDt3Tl5sN1qtFlFRUVYT8a6soKAAKpVKcrNP/8eW+KvVajF8+HCsWLFCLA8JCRETh5auAS0JDAzEwoUL4e3tjYsXL2L58uXIycmxGq8iIiLw/fffo7GxsdlDhpEjR8LNzQ1Xr17FsWPHJMuyZPTo0QgPD0dRURHKysrg6uqKiRMn4uWXXwYAjB07Fmq1GrW1tbh48SLy8/OhVCoxceJEMbb99a9/xaRJk+Di4oLLly/j8uXLcHBwQM+ePQEb4hYATJ06FS+++CL8/PxgNBpx+fJlKJVKPPbYY1bv3WBj/IUN8VUYxPKee+7BjRs3kJOTg6tXr8LZ2Rnu7u4YN24cXnvtNYwYMQK//vorsrOzUVFRgXvvvRfLli1DUFCQ1X3x2GOP4YUXXsDAgQNRXl6O7OxslJaWwsvLS1xHOW9vbyiVSpw9e1ZedFMWL16M6OhoHD16VF5EAIqKimAwGNC/f395EdlZhyaifn5+SEtLQ1paGl577TX07NkT586dw6ZNmwAAf/jDHzBw4EDo9XrMnDkTUVFRiIqKwo8//ogePXrgnnvuwcKFC3HixAkAwLVr1/D2229j7ty5SE9PF5fTt29f7Ny5E2FhYWYHQgoNDcXkyZNhNBqxdu1aREZGYs6cOfjoo49QV1eHESNGwMHBAbm5uXBwcMDgwYPFzwYHB8PNzQ0FBQU4cOAAdDodlixZIq7vypUrUVJSAg8PD45yepvp378/ysrKJM1l5s2bJzZfDA8PR1lZmXg8A0BycjIAYMqUKfD29oZKpZK8aUpMTMTixYvFf9vKyckJv/76K/74xz8iMjISSUlJqK2tRe/evTFy5EiMGzcODz30EBwcHJCeno5p06YhMjIScXFxqKyslMyrpfMuLCwMOTk52LZtG6qrqzFixAhER0fj4YcfRmNjI1JSUiTnnzVKpRJ1dXWIjY3FrFmz8NxzzyE7O1vSV7ylc2rYsGHw8vKC0WjE1q1bMWfOHMycORMrV67E999/j2nTpmHChAkoLS3F3/72N8yZMweRkZHYt28fFAoFxowZg2nTptm8f8wpKirCJ598gmnTpiEqKgqRkZE4ePAgFAoFBg4ciGHDhuHJJ5/EwIEDUVNTg6SkJEyePBlz5szBo48+ijfffBOPPfYYxo8fL66DUD558mQ89dRTNsWpOXPmWN0Xvr6+cHFxQW5urvi9/v73v8dnn30m3yRRnz592nWUxjVr1rTYZ0feL9K0nvD5u+66C3fddZdYpzXNzFpqQiw0HfvTn/4k6WMkb3Zrup6LFi0Sb2gF1vooCWWm693eTZaLi4uBpocJJNVS/I2JiYGvry8OHjwoxvTExEScOXMGw4cPh0ajafEaYI1CocCSJUtwzz33oKioCB988AFycnJsilcXLlxAZWUlPD09MXr0aKDpfmrYsGGor6/HiRMnbH4Q6O7ujpUrV2LmzJmYNm0adDodHBwcoFarERoaivz8fKxbtw6TJ09GVFQUZsyYgTNnzsDR0VF8yDlgwAAoFArxzV9kZCQWL14MvV5vU9waP348pkyZgu7du+PKlSv485//jMjISPz+97/H+fPn4eBg/VbUlvjbUnwNCgoSE8gLFy4gOjoakZGRmD59OqZPnw69Xo+nnnoKvXv3xoEDB8RlvfzyyygsLETfvn0RHh5udV8EBATA3d0dJSUlWLlyJaKiojBr1ix8+OGH8k0SCTHbVvKYI3xHAtO+89ZipmmcNo2RwueDgoLQq1cvvPrqq9h2k/3whXWWz0N+HRDir1Bf3iJm/vz5VrepNfR6PQwGg9WHBGQf1s/+m+Tk5AR3d3fxbcDBgwcxd+5c8WnWvffeKwZEoXljWloahgwZAgDw9PSUzM+S3NxcrFu3zmJgHjlyJHr27AmVSoW//vWvYhObhQsXwsXFBS4uLvDw8MDx48dRW1sLPz8/jB8/XhL4T548CQBISUnB+PHj8d///hdffvkl1qxZg969e8PBwcHmwZSoaygoKIC3tzeWLl0qLxKbM2ZkZEia0whP2by8vMT/12g0Nz2gSH19PY4fPy6eO8KNioODA9zc3DBs2DCoVCpUVFQgJSVFPBfS0tJw+fJlybxsPe+2bt0KvV4PV1dX/P73v0e/fv1w5swZfPTRR4CZZsk6na5Zc/gbN24gIyNDvBnMycnByZMnUV9fL/YVb+mcKioqQnV1NZRKJaZPn464uDgEBgYiPT0dOTk54rb36dMH//znP8V1mTlzpjiP++67z+b9Y45er8fVq1exevVq7Ny5E0ePHsXkyZMBkzgXFBQER0dHnDp1Cv/+97/ls0BISAg8PDzwyy+/YOPGjc3ilS1xymg0Wt0X5eXlqK+vx1133YX169dj2rRpKCoqwtdffy1ZlpzBYBC7S9ysxYsXW+2zExkZiTFjxoh9i2bPni15cyp8/ueff8bPP/8s1mnN031bmxCPGzcOZ86cEdd3zJgx4k3O/PnzMWHCBHE95X04R4wYgUWLFqGqqkpcx6qqKixatAgjRozAuXPnxM9MmzYNADB37lwAwPvvv98ub4rz8/NRW1srn0wmsdhS/A0ODkZZWRn2798vmV5QUAClUglfX1+r14CWhIaGYvTo0TAYDNi0aZP48M6WePXDDz/g0qVLUCqVuPfeewEADz/8MPr06YPi4mKkpaWZbXZsrtlwVlYWDh48CACoqqpCWloaampqxDfpqampcHBwwIcffoiUlBQcO3ZMTH6FexqhBVp4eDhWr16N0aNH4+zZszh16pRNcWvEiBEYMGAAbty4gePHj4uJfVFREU6fPg2j0Siurzm2xF9b4mvv3r1RUVGBzZs3i9dSQUhICPz9/eHg4IBJkyaJ27Fp0yb069cPTk5O8PDwsLovSkpKUF9fDy8vLyxZskQc1frQoUOSZcnV1tYiPz9fPrkZczFHHmdff/11zJ492+rAR2vWrIG7uztee+01cT5CqxHh81lZWWIf/NmzZyPKQj/8lpius+k85PF1x44dmDBhgngtOHPmDLy8vCQP8UJCQnDx4kWbrwMt4a9qdA4dmojm5OQgLCwM//73v1FTU4Pf/OY3WLlypVguPAXLyspCampqsz/hTWhLhOZnljg4OEChUKCiokJ8+mn6d+DAAeTn5+PUqVMoLS0Vm+cKzXKFwB8YGIh//vOfmDVrFvz8/FBaWorMzExUVFTIF0m3gfj4eCQlJcHX17fZRd7X1xdKpRIRERGSG4H169eLzeT0ej0mT56M/Px8zJs3DzozfX5s1djYKGlS1tDQgBs3boj/Fo7x2tpalJeXi9PNac15t2fPHpSXl6Nnz56oqqrCF198IZ5r165dw6VLl5CdnS3+/fTTT5JzsaGhQdKMHgBqamrQ2NgIAOjXr1+L51ReXh42btyI/Px89OzZU+xTunbtWnh7e4vbXlxc3GxbUlNTcfjwYdTU1Ni8f8yJjY3F3/72N6jVavFGUZ5ICDdtli5uzs7OcHBwQHV1dbObB9gYp86cOWN1X2zatAmHDh1CfX09hg0bhr/97W9ITU3FzJkz5Yu7pZRKpaTlya2SlZWFDRs2AAB+/PFHoOmYBIDBgwfjwoULFm++hg8fDqVSiV27donTTp48CTc3N7G597lz57BlyxZ4eXlhzZo18PLywpYtW5odO9T+Woq/Xl5e8G4ad8I0hgtdEdDCNcAaBwcH3HvvvXB0dER2dja++OILSVlL8aqoqEh8MD5w4EAEBQUhODgYLi4uuHTpErKyslBVVYWffvpJEn/l3ZbQ9JNgpgwGgxh/0dSt4c9//jNGjBiBuro6fPvtt8jNzZV8JjExERcuXICLiwvCw8PxwQcfYNOmTQgKCrIpbgkx0dz1wBa2xl9r8dXNzQ0ODg6oqakxG6OdnJyApoe+Op2u2Xakpqbi7NmzVvfF9u3bsXPnTlRWViIgIACLFi3C3r17sWDBAvni2sRczGmtyMhIeHl54auvvmq2D9ubSqXC0qVLUVVV1awlmDy+arVaFBYWiteF7777Dmh6cIOmbXdzcxPjNN0+OjQRRdMTuA8//FAMxGFhYc1uiq5du4YVK1Y0+/v4448l9Sxpze/epaWlNVvOm2++iaysLPHPyckJw4cPF5vlCoH/t7/9LQICAlBeXo6VK1dizpw52Lx5c5v6/JH9mb6tNEdo3iY0d0PTBXjs2LFYsGABDAYD4uLiEBMTg/z8fBiNRuzevVvsO2T6Z9r8JDIyEmq1Wqxr6ca2PSiVymbNBy29qbflvHvsscfQs2dP1NbWolu3bpg0aZLYwiE9PR1z584Vm4BGRUVh4cKF4gUETc3ThEHKBN7e3uJF/8EHH7TpnPriiy8wY8YMvPzyy/jmm2+Apr5Nphf4+vp6bN++vdn2rFmzRrz5ac3+Efj5+WHixIlwcXFBWloaJk+ejOeff77ZE3VBSy05XF1dWxw13FqcsrYvqqqqsHz5csycORP/+c9/cPXqVfTp0wdz5861OqCNPfsZarVa7N69G0OHDm3WJKuzGDFihHicW+Lp6QkPDw8sWrRI3I6ZM2dCqVRK6h09ehQZGRm46667kJGR0W5P89GGZn1dnenbSnO8vLxgMBgkrVQsxd+SkhIUFRVhwYIFzeL32LFjkZiYCFi5Blhz48YNnDx5ErW1tQgODhb7Y5qyFq/y8vJw5MgRFBYWolevXhg3bhzuueceVFdXi29Wv/vuOyxcuFASf+XdltCUgJkSHqLeuHEDgwYNwtixY9HY2Ijt27dj+vTpWLhwoeQaiKYRmp9++mksXLgQBw4cQG1tLYKCgpolWJbilhArzV0PXF1dobDyu5mtjb8txVcXFxexb6s5Dg4OyMvLa7YdK1aswN69e1vcF2vXrsVvf/tbrF27Fjk5OfDw8MCsWbPEVhHmuLi4WDymTXl6eorXzrYSrk9Xr16VF7W7gIAAKJVKsUWhQIivQUFBkqa5d911l1jn6NGjuHjxopiYDh48GCUlJe16/2TpXpDsq8MTUcHWrVtx6dIlqFQqzJ49G4GBgfj555+BpiYypslpUFAQXnvttWZ9Lh0cHFrs1G7OpUuXUFVVBQ8PD0ydOlVyg7FgwQLJReV///sfqqur4efnh+DgYEng9/DwgJOTE+rr63H9+nUAwP333y8OmEKdmzDKpKUhu60Noa7X6/HBBx/AaDSiT58+YlIr759hTXx8PHQ6HVQqldWkoC0KCgpQV1eHHj16SAbNmjlzZrNRBW0976KjozFhwgRUVFQgKSkJFRUVCA4OxjPPPCN+piVOTk544IEHxHUYN24cHnzwQSgUCly5cgXV1dUtnlOhoaF48sknAQBff/01XnrpJZw7dw4ODg7o27cv8vLyUFtbC29vb8n2uLu7Y8mSJYiKimrV/pHz9vYWk1XhbW9gYGCzm53s7Gw0NjZi5MiRmDNnjqQMAL7//ntUV1ejb9+++N3vftcs0bElTrW0L6KiohAUFCT2SfvPf/6D6upqq4lmcXGx3Zt3CoMICU3IJkyY0Ob+R7dKWVkZKisr8f7774vN28w1YROaIp86dQpjxoxp9+20tVnf7UBoxmnuJ2taGv1ZHn8LCgokfTBbIr8GtOTHH38Um2Q++uij4vgVtsQrod73338PZ2dnPPTQQ/Dy8kJeXh5SbeifaiokJEQcUTswMBBhYWFQKpUoKSlBaWkpXFxc0NjYKMa2cePGwd/fX/z8sGHDxHh16tQpxMXFIS0tDWi6kbclbn333XcwGAxwcnLC2LFjxZgbGBiIBx54wGpyZWv8bSm+njt3DpWVlejevTtmzJjRLB7q9XqUlpbCwcEB48ePl4zIHhYWhvj4+Bb3xdSpUxEWFoaqqips2bIF69atQ2lpKVxdXS2ODmzv5vXCG3Kh5UdHysrKwtGjRxERESGJe+fOnUNVVRWysrIksXP27NmSN6fCuBWTJ0+Gt7d3s4S2PZh7O072ZbdENC8vD3v37kV1dTXuvvtuPPvss/j8889RVFQEDw8PLFmyBDt27IBWq0VCQgJGjx4tBqfi4mIYjUZ4eXlh5cqV+Oyzz2weuhxN7fO/+eYb3LhxA2q1Grt27cKWLVuQkpKCZ599VnJRyczMRFFRETw9PZsF/suXL6OmpkZcD61Wizlz5rQpOaZbY9++fQCAhQsXSpLBuLg4qNVqSZ/PNWvWSB5SjBo1CkqlEsXFxdDr9cjIyEBgYGCz5rZJSUnQaDTiaIuC0KZh2uVP7NvD3r17kZWVBYVCgccffxwpKSnYsWMHXnrppWYtBmw574KCgjB9+nQ4OzsjMzMT//nPf5CZmQlnZ2dxRGBb1NfXw9fXFxs3bsRnn32Gt956C97e3qioqMC+fftsOqe8vb2xcOFCpKSkYMuWLfj8888RFBSE+vp6/Pjjj9i+fTvOnj0LBwcHaDQasd6uXbswY8YMeHh4tGr/yOn1evz6669A0+jfWq0WH3zwQbMn2F988QUKCwvh4eGBP//5z0hJScHWrVtx6NAhsYmssJ6PP/449u7di61btyIlJQWbN2+2KU61tC8eeughJCQkQKvVYsuWLVi4cCHc3NxQUlKC77//XrK+gvz8fLi4uNyyYezLysrM9hErKyuT9BGyp3PnzuHKlSsYMGAARowYgQkTJuC5556TvF06f/48jEaj1TcdEyZMgEajwcWLF7F69WpcvHgRGo2m3bYpODgYRqOx3fr3dnapqaniKOVxcXHi9NDQUCxcuBAGg0Hs89lS/N2/fz/KysoQFRUleTAZExMjDpJi7Rpgi3/84x84deoUnJ2d8eSTT2LmzJk2xSvBsWPHUFlZiSFDhkCpVIo38K3h7u6Ot956C5999hk2btyIQYMGoba2FgcOHBC7IymVSsyZMwdbt27FypUrJQ8C3d3d8fvf/16MR1qtFuHh4eKo3bbEraqqKhw6dAi1tbUIDAzExo0bodVqsXHjRvTt2xf19fWSdTZla/xtKb6mp6fj+PHjaGhogFqtxvbt26HVarFz507s3LkToaGh2LVrFyorK+Ht7Y233noLWq0WO3bswN///ncMGjSoxX1x33334e9//zt27NiBLVu2IC4uDr169YLBYMAPP/wgWV9BUVGRxYcrcvLmqsuXL2/Vw3A0xa3q6mo88sgjVgdMKy4uRvfu3W0aVd6aDRs24MKFC82S0R9//BFDhw61+mBOq9Xi2rVrmDFjBoxGY7u+DRUeXBUUFMiLyM7slojCZPAThUKBsWPHwsvLC/Hx8bhw4QIaGxvh5+cnXigOHToknnSffPIJTpw4gfr6evTu3Rs9evSQ9HGwxT/+8Q9s375d7O82aNAgdO/eHefOncPhw4fFenl5eWKS4ODgIAn8mzdvxhdffIGamhr07t1bHF3N2mAY1LmkpqZiyZIlACDpGzRx4kSsWLEC8fHxYl1XV1exb5FOp4NGo0FycrLYZEvoPxQSEiLpY1RXVyc+vBg0aJA4ff369TAYDFYD781Yu3YtTp48Kf60S58+ffDVV181+7mB9PT0Fs+7P/7xj+jfvz+Ki4vx+eefA00JbHFxMby9vcVBGFrS2Ngo3vD5+/tDqVQiLy8P69atw549e2w6p4qKinDlyhXxvO3fvz/Ky8uxdetW/POf/0RVVRVWrVqFgwcPoqqqCn369ME999wDZ2dn6HQ6HD9+HGjF/jHn3//+Ny5fvgwnJyf4+/ujuLi4WRPL9PR0vPLKK8jMzITRaIS3t7f45L+kpARVVVVYtmwZtm3bJv5U1MCBA9G9e3fxqWxLcaqlfZGTk4Pa2loEBARg0KBBcHFxQVZWFt544w2LTdlSU1NRWFho0w2NMMrhq6++il69eolNq4Qbd9PRaoNMRl1MNhnpUD5S4syZM5GRkdHsJmPnzp2orq4Wm76azqMlLa2nLXbu3AkAePXVV7Fo0SKcPn1aclyeaxqMyN3dXbI9woi4QvJaXV0tzkvYpueee87mbbFESKw62+8PdrTY2Fjs3r1b0j9//fr1yM3NxeTJkyX7wlr8FfqQFhYWYtWqVWK9qKgo8U1mS9eAllRVVeHdd9/FxYsX4eHhgblz52LkyJE2xSsAOHDgAC5dugQAKC8vt/knW0wdP34cly9fhq+vL7p164bi4mJ8+OGH+PDDD/Hdd9/ho48+QlFREdzc3ODn54fvv/8e58+fFz9fVFQk/kTUoEGDEBAQgJqaGqSmporXy5biFgB8+OGH2LFjB65du4Zu3brBz88P+fn52LdvX4v3c7bEX1vi66pVq7BhwwYUFxfD2dkZgYGB8Pb2Rnl5OaqqqrBjxw7861//Qm5uLpycnBAYGIj+/fujqKgIqampLe6LvLw8XLt2DQMGDBD3waVLl7B27VqLA8YJLbXkP9VjjtDMPzw8HNu2bcOAAQMkTbFNR9QNDw+Hm5sbFi1aJBmtVohbaIptQtySjyy+YcMGFBYWYubMmdh2k6Pmvv766+K8hOVs2LABR48eFecv/Mm7afz444/w8PBo976hwoPX9vzZMmobRUBAgCQCBAQE2DSKJJE98bgk6jhxcXGYOHEiVq9ejQsXLsiLO6Xly5djwIAB7TYC7a0mJK4ZGRniAEqWXL58GTExMYiKisKWLVtsToxuJcbw1nN3d8e6desQHByMb775Bi+99JK8Ct0G5OdyQECAvEqnExkZCY1Gg9TU1GYPEdvT/PnzMWbMGGzcuLHZwwdTtl4PhBgkrHNbk2tqHWvx365vRImIqPPZv38/DAYDpkyZIi+iTio8PByFhYVdIgmltpk6dSoGDx6MmpqaO+qt950mMTERhYWFCA8Plxfd0SZMmIAxY8a0+yBvMTEx8PHxsfoTN2Q/TESJiO5wer0ee/bsQUhISJfq8y40/b2ZZmO3mtCMeNGiRc1GODWnsbERWq0WPj4+SE5OlhfTbeCdd97Bzp078eKLL8LV1RVnzpzB5s2b5dXoNpKcnAwfHx9otdoWmyp3FkqlUmxaK2/aezMiIyOxZcsWLFq0CBcvXrTYQsS0KbItXUsaGxsRExOD6OhonD9/ng/xOgk2zaUugcclkX3069ev2U8sUOdRU1Njl59eaG+M4bZLSEiAWq1GdXU10tLS8Pe//73VgxRR18UY3DG6auy8HViL/3wjSkREooqKCvkk6kT4/dz+YmNjoVarMWHCBCxfvpxJ6B2G53jH4H7tnJiIEhGR6Pr167h27Zp8MnUC165dE39vl4huT4zB7Y+xs/NiIkpERBKlpaUoKipCTU1Nl+mvdLtqbGxETU0NioqK+FNhRHcIxuCbx9jZNbCPKHUJPC6JiLouxnAiojuTtfjPN6JERERERERkV0xEiYiIiIiIyK6YiBIREREREZFdMRElIiIiIiIiu2IiSkRERERERHbFRJSIiIiIiIjsiokoERERERER2RUTUSIiIiIiIrKr2y4RDQ0NRUpKCo4fP46YmBh5cbvSaDRIS0tDWloaNBqNvJiIiIiIiIjM6JBENCEhATqdDjqdDikpKQgNDZVXAQA8/vjjOHz4MHQ6HZM5IiIiIiKiO0SHJKKmevXqhQcffFA+GQAwfvx4eHh4yCfbbNmyZdi7dy/+9a9/yYuIiIiIiIiok+rQRPT69etwdHRESEiIvAh+fn6499570dDQgNraWnmxTUaNGgUfHx8olUp5EREREREREXVSHZqI1tXVoaamBgEBAXj88cclZeHh4fDx8UFpaSlu3LghKSMiIiIiIqLbV4cmouXl5cjLy4OHhwfuv/9+Sdn9998PpVKJ8+fPo7GxUVIGAKNHj8amTZvwzTffQKfTIT09HR9//DHGjBmDmJgYHD9+HIGBgQAAtVoNnU4HrVYrmYerqys2btyIjIwMZGZmYv/+/YiKipLUiYyMxOeff46MjAzodDpkZGRg+/btiIiIkNQbM2YMPv74Y3Fehw4dwsiRIyV1iIiIiIiIqGUdmog2Njbi3LlzaGxsRHBwMPz8/AAA48aNw8CBA3Ht2jWcP39e/jGMGzcOr732GkaMGIFff/0V2dnZqKiowL333otly5bBxcUFFy9exPXr14GmhDc7Oxu5ubniPBQKBaZOnYrAwED8/PPPqKurg5eXF5566ilx8KTY2Fi88MILuOuuu1BZWYlLly6hpqYG/v7+WLJkCZ5++mmgaSTeV155BUOHDkVjYyPy8/NRW1uLJ554Ai4uLuIyiYiIiIiIqGUdmogCwLFjx1BeXg5vb29x0KJx48ahZ8+e+Omnn1BcXCz/CJ566in07t0bBw4cwLRp0xAVFYWXX34ZhYWF6Nu3LxQKBZ5++mn88ssvAIDs7GyxjsDJyQnXrl3Dc889h1mzZuHTTz+F0WhEz549MXLkSIwbNw4RERFwdnaGTqfDtGnTMGfOHDz33HPIzs6Gm5sbHnvsMbi7u2PatGnw9vZGWVkZ3nrrLcycOROzZs1CWloaFAqFyZoTERERERFRSzo8EU1PT8elS5fg5uaGMWPGwN3dHffddx+MRiOOHz8ur46QkBD4+/vDwcEBkyZNEn8GZtOmTejXrx+cnJxsGmm3sbERer0eOTk5AIBvv/0WBoMBCoUCDg4OGDZsGFQqFSoqKrBz505UVVUBAHJycnDs2DEYjUb4+Phg7NixGDhwIBQKBbKysrBnzx4AQFVVFdLT01FTUyNZLhEREREREVnX4YkoAGRmZqK2thaDBw/G7373O/j5+aGkpASZmZnyqnBycgIA1NfXQ6fTITU1tdnf2bNn5R9rpr6+HiUlJeK/q6urYTQaxX87ODhAoVCgtrYW5eXl4nQAyM3NhdFohFKphLOzMxwc/m83lZWVSeoRERERERFR69klET1y5AgKCwvh6emJRx55BK6ursjKysJ3330nrypycHBAXl4eVqxY0exv79698upt5uLigp49e0qm+fv7Q6lUora2FpWVleJ0Nzc3ST2VSsWmuURERERERK1kl0Q0Ly8PZ8+ehZOTEwYNGoSqqiqcPHlSXg0AoNfrUVpaCgcHB4wfPx7jxo0Ty8LCwhAfHy+pj6aBiVrr3LlzqKysRPfu3TF9+nS4u7sDAAIDAzF+/HgolUoUFhbi1KlT4ptVoW8pALi7uyMsLAyurq6S+RIREREREZF1dklE0dQ8t7KyEg4ODvj5559x+PBheRXRrl27UFlZCW9vb7z11lvQarXYsWMH/v73v2PQoEFiPSFBDAkJwc6dO5GUlGQyF+vS09Nx7NgxNDQ0QK1WY9euXdi6dSs2btyIQYMG4dq1a9i9ezeqqqqwf/9+VFRUoE+fPuL67Nq1C0OHDkV9fb181kRERERERGSF3RLRAwcO4NKlS2LfT2FwIHN27NiBf/3rX8jNzYWTkxMCAwPRv39/FBUVITU1Vay3efNm/PTTT3B0dMSAAQPg7OwsmU9L4uPjsWHDBly9ehXdu3fHwIEDoVQqkZWVheXLl2PHjh0AgD179mDjxo0oLi6Gi4sL/P39UVlZia1bt0r6nRIREREREVHLFAEBAY2mEwICAnD58mXTSUS3HI9LIqKuizGciOjOZC3+2+2NKBERERERERGYiBIREREREZG9MRElIiIiIiIiu2IiSkRERERERHbFRJSIiIiIiIjsiokoERERERER2RUTUSIiIiIiIrIrJqJERERERERkV0xEiYiIiIiIyK6YiBIREREREZFdMRElIiIiIiIiu2IiSkRERERERHalCAgIaDSdEBAQYPpPIiIiIiIioja5fPmyfBJgKRG1VJnoVuFxSUTUdTGGExHdmazFfzbNJSIiIiIiIrtiIkpERERERER2xUSUiIiIiIiI7IqJKBEREREREdkVE1EiIiIiIiKyKyaiREREREREZFdMRImIiIiIiMiumIgSERERERGRXTERJSIiIiIiIrtiIkpERERERER2xUSUiIiIiIiI7IqJKBEREREREdnVLU1ENRoNnn32Wbi7u8uLyEZxcXHQ6XTQarXyopvG78d+hO9Rp9MhLi5OXtyhEhISkJaWBo1GIy+6rYWGhiIlJaVDzh3qvG7luUa3JyGW6HQ6pKSkIDQ0VF7lpsXExCAtLQ0xMTHyog6n0WiQlpaGhIQEeVG7uZXbdzOEfWOPWKLVau1+vbL1e7HHMUK3p3ZPRLVarXiRt/Sn1Wrx6KOPYvHixViwYAH+/Oc/y2dzS4wZMwYffPABvv76a2RmZkKn0yE9PR07d+68427SO+P30168vb2xcuVKHDhwACdOnIBOp0NGRga2b9+O6OhoeXUAgLu7Oz744ANkZGTg5ZdfFqcHBQXh3//+N7766itoNBo89thjOHToEFJSUjBu3DjJPCyJi4uDRqNBUlIS1Go14uPj5VXsqrMmpjExMTh+/LhdLvjUdu15flnj7u6Ojz/+GN988w1iY2PlxWZ1tnON2iYiIgL//e9/cezYMeh0OmRmZuLw4cNYu3YtgoKC5NUBADNnzsSRI0ewa9cuSZ3nnnsOhw8fFm+g16xZg4yMDKxcudLk05aFhoZi1apVMBgMUKvVmDx5MvR6vbwa3UaEaxGTrpuj1Wo75b0G2Ve7J6I1NTWoqqpCVVUVqqur0djYiMbGRlRXV4vTa2pqUF5ejuvXr6Ourg7FxcXy2djdggUL8NZbb+H+++9Ht27dYDQaUV1dDaVSib59+8LX11f+kduape9n2bJl2Lt3L/71r39J6ncV48aNw4YNGzB58mT06tVLPDYdHR3h7++PBQsWYPXq1c3eAj/11FMIDg5GdnY23n//fbi7u2PhwoV49913MXLkSDg4/N+p9OWXX+LLL7+El5cXnnrqqWbzMScoKAhlZWU4deqUvOiOkJCQ0GFvEci+2uv8skVVVRX++9//oqamBlOmTLHpwc+dfq7dDl555RUsW7YMQ4YMgYuLC2pqamA0GtG9e3c89NBDWL16NZ544gnJZ/z8/DBjxgw4Oztj586dyMrKwpgxY/Dvf/8b8+bNQ/fu3cW6H330EX755ReEhYVh5syZkvmYM3r0aHh6eiIrK0teRLeh0NBQTJ06FWfOnLH5AVhn0Bmvs5GRkSgsLLT4gJLuDO2eiEZHRyMsLAxhYWF46623UF1djerqarz11lvi9OjoaOj1ekREROChhx7Chx9+KJ+NXT3//PN46qmn4Obmhp9//hmrV6/GuHHjMGHCBDz33HM4ceIEampq5B+7rVn6fkaNGgUfHx8olUpJ/a7Az88PsbGx8PX1RVVVFbRaLX7zm9+I37NOpwMAjB8/Hs8++6zkc48//jgA4PDhwxg8eDA2b96MZ555Bj169EBjY6NYFwC2bt2Kn3/+GSNGjOiST/piY2MRFhaG1NRUedEtlZiYiLFjx/ItVifVXudXVVWVWNaSL7/8EidOnICXl1ez5INuP88//zyeeOIJODk54YcffsCf/vQnjB8/HuPGjcP777+PsrIy9OnTB8888wwCAwPFz02dOhWBgYHIycnBZ599hmXLlmHt2rUICQkRHyIKsrKycOjQIbi6uorHJZFg0qRJUKlU2Ldvn7yI2uDIkSPw8fFpsekv3b7aPRHtaoSbIBcXF1y8eBFLlizB9u3bxfKsrCwsXrwYycnJks9R1yPcjNTW1kKr1eKdd94Rb3qzsrLwl7/8BefOnYNSqcQjjzwCPz8/AMDDDz8MHx8fXLlyBZ999hmcnJzEz3z22Weor6+XLCcvLw96vR4uLi42vaUhuh201/nVWseOHYPBYMB9991nsVkmdX3ya/Wrr76KjIwMsTw5ORmbNm1CdXU1/Pz8JA8BH3jgATQ2NiI9PR1VVVVwdHREeXk5Pv30U+Tm5or1BGlpaSguLsbAgQOZjJJEUFAQCgsLO92D2q7q1KlTMBgMCA4OlhfRHeKWJaJC5/7jx4+LT0JMB9556aWXcPjwYeh0Ohw+fBgvvfQSAgMD8e9//xvHjx9HZmYm9u/fj6ioKMl8//SnP2H//v3IzMxEZmYmvvzyS/zlL39p1hRMINwEVVdX4/PPP0dOTo68SjPz589Hamqq2P8pPT0dH3/8McaMGSPWuZltMd03ixYtwnvvvSfWO3ToEF566SWTtTHP2n54/fXXcfLkSRw+fFi8yPr5+eHTTz+FTqdDQkICHnroIcn3I/SJEJ4yq9Vq6HQ67N27FwcOHEBmZiaWL18uWYdFixYhIyMDe/bs6RQ3iMOGDYOTkxN++ukn/Oc//5EXo6qqCkePHkVtbS28vb3x4IMPAgCGDBkCZ2dnnDt3DlVVVdDr9Zg+fTrmzp2LyspK+WyApjfKlZWVCAwMxLBhw+TFgEk/k8DAQHh7e2P9+vWSpjOmg6rodDrJuSIQBi8Q6rbU30JYpjDPlJQUODs7S+rI+4gKgxUsXrxYHJDDtG+MvF+4uT6c5rZFOP7VarW4/ea2USDvI2o6SERCQoLV/YSm7TJdh/nz58urABb2kfCdCPMw3UbhfLXW7ElYV9Plmxt0wlw9033dUrm1dYdsUBVzn5d/Ty0dT6ba6/yCyXakpKTg2WefRUpKCjIzM5GRkYGkpCTJ264DBw6goKAAvXr1wsiRI8Xpplo611rarzBp2rZ48WIcP37c4nFGHSM4OBi9e/dGbW0tvvzyS7PX6q1btyI3NxdOTk4ICQkBmt7A9+3bV9Ik+80338SkSZOwdu3aZi1a0PTgJDs7GyqVyuoNslarxbx586BUKhEREQGdLDbIY478fDKNYUIcNRcXLBHOV2vHsuky4+LiLB63Wq22WbxoiXxZ5s4bWIg7tmyn6fYtXLgQaWYGwxHmbTo/4bp4s/FQTqPRwMfHx2Iz7JauQ/L4qjNzvZQfM/J1hpk4b22dhbqWrrO2rJPAlmu9nHxd5duj1+uRm5sLf3//ZttJd4Zbloha07dvX0RERKCiogIGgwHdu3fH9OnT8c4772DIkCG4cuUK6urqxH54wsG7cuVK/O53v4ObmxtycnJw+fJluLu748knn8SiRYvkiwGaEjAXFxeUlJQgMzNTXtzMypUr8cwzz6B3794oKSlBTk4Obty4gaFDh+K1117DY489Jqnf1m0RPPHEEwgJCcGVK1dw/fp19OjRAzNnzrTaN6Gl/fDRRx/hypUr6N69OyIiIgAAM2bMwN13343i4mJs3ry5WVPkX3/9FRcvXsT169eBpj6k2dnZuHDhAnJzc6FQKDBixAhJwh8SEgInJydcunTJYuC2Jy8vLwBAbm6uxeZ/P/zwAyorK+Hk5ARPT08AQGBgIIxGIwoLC+XVLfrxxx9RWVkJT09P3HPPPfJiwKSpaU5ODoqKirBgwQJxoAutVguNyaAqarUaZ86cwbx585oFfx8fHwwZMgRqtdpqk9q4uDjMmzcPqamp4jxzc3Ot3miZeuKJJ7Bnzx6o1WrExsaKF3GVSoUFCxZArVZj9+7diIiIaHYzFhERgd27d4vLPXHiBE6dOoWxY8dCp9OJ2z927FgkJiZKltsS4RgW5p2fn4+oqCjJDZ9Wq8Xw4cOxYsUKqNVqLFiwAP369YO3t7fJnJrvowULFgAAVq1ahdDQUMTGxiInJwdjxowRz9W5c+dCpVLhgw8+sDhIyZQpU3Dw4EFxHZOSkuDr69ssiYyLi0NhYaGknnAutlTe0rqHygZVMfd5+TGXnZ0trl9LOuL88vDwwLPPPguj0YiCggI4OjrivvvuaxbP8/Ly4OLigoCAAMl0gbVzLS4uDqtWrcL58+cl+yUkJKTZzbJKpcL48ePx4osvtulYpbbr378/nJ2dUVVVhUuXLsmLRRcvXgSajh0AuPfee9GtWzdUVFRYPD/NycvLw40bNyweU2jq45aUlASj0SjGt/j4eDE2msYctVqNwsJCxMXFNUtQwsLCkJWVBbVajcjISEmZJXFxcWLyKxzLQowwPZYLCwuxbNkyaDQanD59GkajsVnMj4mJga+vLzIyMmzeR7aeNzExMVi3bp0k7qxYsQI+Pj7NkhJT8u27fPmyvIpVPj4+mDRpEl588UVxmSqVyuZ4aI6vry9qa2tx+vRpeVGL16HQ0FAEBQVJjgedTgeNRiMeDwkJCc2uU1evXpUsJzAwEFOnThW3Szju5PcFAiH2mbvO2rJOgqioKPEYFerJr/VyLV2TBAUFBVCpVM2ux3Rn6JSJqLOzMz777DNMnz4dq1atQllZGdzc3NCzZ0+sW7cOs2bNQlJSEmpra9GzZ0+MHDkS06ZNw4QJE1BaWoq//e1vmDNnDiIjI7Fv3z4oFAqMGTNGbApmTl1dHfLy8uSTJZ588kmEh4cDAFJTUzF58mRERkbir3/9K4qKitCzZ89m/ZTasi0CpVKJuro6xMbGYtasWXjuueeQnZ0NFxcXhIWFmX3La8t+qK+vx7Zt21BdXY0RI0YgOjoaDz/8MBobG5GSkoL09HT5bLFjxw48/fTT+OWXXwAA2dnZiIqKwssvv4zjx4+jtrYWffv2xW9+8xug6Sm0n58fqqurzc7vVqqurpZPEjU0NODGjRviv0NCQtC9e3fU19fjypUrkrrW5OXlwWAwwMnJCf369ZMXWxUTEwMfHx8kJydLbnTNJUGCTz/9VPJvudDQUIwZMwY6nU7Sx1KYZ0uUSiWys7Ml6zNp0iR4enpiz5494s1LfHy8ZB1jYmIQEhKC3bt3S5a7ePHidruJz8nJkTyYOXLkCJRKJUaNGgWY7M8tW7aISbper8cHH3wgSZiEfZSTkyOuq16vx549e+Dp6YlJkyYBTU0AVSoV5s6dC41Gg+HDh+PgwYMWHwCgaT+bbn9iYiLy8/PF5C20aQCM/Px8yY1oYmIiFi9ebFN5S+vu7e0NlUoleSgkfB5NN/rygXyEm4jWaM/zy8XFBWlpaZg2bRqmTZuG9PR0KBQKDBw4UNLS4Nq1a7hx4wb69u0r+XxLTM8L02MoMTERqamp8PX1ldyQKZVK7N+/3+abdWp/wkCCljQ0NEj+3adPHyiVSpSVlUmmt6SsrAwNDQ3o1auXvKhFQj/C1atXS86ft99+G2VlZeJ9hKC0tLRVfd9NkzTT4zY8PBxlZWXYtGmTOE3oVjRlyhSkpqbi/PnzGD58uORBXXBwMIxGo9kEy5zWnDfh4eHN4lZqaiq2bNkiiaumLG1fa3344YfiuSpfZkvx0Jw+ffrAxcVFPhmw4Tqk1+sRGRkpOR727dsHo9GIPn36AE0P80yb/er1esybN08Sb6qqqiQPPffv34+ioqI2tTqzZZ3QFPfOnz9v9t7B3P0IWnE9BSAOiHmnDQpK/6dTJqLFxcX46quvAABff/21eAHJycnBjh07AAAXLlxAZWUlFAoFHBwcMGzYMKhUKvTp0wf//Oc/xWYAM2fOhIODA5ydna0+bXFwcDCb2JkaPHgwXF1d8csvv2Dbtm3i9PT0dPFtqrwpZlu2RXDjxg1kZGSIgTInJwcnT55EfX09VCqV2Saftu6HrVu3Qq/Xw9XVFb///e/Rr18/nDlzBh999JF8li06cuQICgsL4ebmhuHDhwNNP4XTo0cP5OXltfpGtqM5OjrKJ4kcHR0l34HQH7SqqgolJSUmNVtmqdluS4KDg2EwGMyO7JmVlQVPT0+MHj1anGYwGFBUVCSpJzd69GioVCqcPXtWXmTzdhUUFEj+HRQUhPz8/GYJZUlJifh0s7U3OG0hf9uen58Po9GI/v37A1b2Z1FREQwGg/hvYR8dOXJEUk8+v9TUVBw8eBDDhw/HwoULUVhYaNNNZKisGVhgYCBUKhVCQ0NbHHnTlvKW1l3YXnNPu9H0/Xp7e2Pp0qXyolZpz/Pr2rVr+PLLL8V///jjjzAajXBycpLE62vXrjVLQGxh7bww9/bIaDQiPz9fUo/sy8HBocVjzJSDgwMUCoX4ENVWv/76a5uOKVjpR6hvaobo4+MjSQTNHfuWDBkyBBqNplmSJjQblb/VFM574aHX2bNnJQlSaGgo/P39cf78+Wbra4mt5421pqynTp1CWVlZswTK0va1lrn935p4aIml6618G+XXDYFpU9VVq1bB3d1drFNSUoLAwECrTW3l26XX62EwGMRrSVtYWyc0xT1z37XptV7OlmuS6bTa2lpJPbpzdMpEtKamBt999518Murq6sT/lz9ZFy42xcXFSE1NbfZ3+PBhs8GjsrIS9fX16NWrF8aPHy8vlhCWYW79CgsLzd4gmauLFrbFdPq1a9ck02pqasz2aRG0Zj/s2bMH5eXl6NmzJ6qqqvDFF19YbFJnjTA4DwCxea5wcTHt93WrCYnhoEGDLD508Pf3R7du3VBXV9cs8bIX4YbBVgaDocU3NMJbgbYyGo2Sn/EJDQ2FSqVCYGCgmFgJf2q1Wqzn5eVl8cJtL7buzz59+sDd3R3z5s2TbI9wYTYVHx+PwsJCqFQqmwYy02q1WL9+PXJzc8WmTaZvooWnz5Z+ysqW8pbWXa/XY/LkycjPzxfrmd7wxMfHi02GdWb6s7WkI84vo+ztl7k4eTNae17c6mP5TlZWVob6+np4eHhg6NCh8mKR8FalNcldexJiY2vYci6g6c3U+PHjm731RNN2m/ZVFf7Wr18vSRTkCaC1pNISW88bYZ1sZW372ltL8bC9aZr600ZHRyM5ORnqpubCpvdHsbGxYlNbnZn+lO3NlnVqK1uuSUTorInozaivr8f27duxYsUKyd+aNWvMNr3V6/WoqKiAh4cHpk6datMJ4urq2uxtpPCTJnV1de16oyIfWt7b21t8iyAfrdWULfvhscceQ8+ePVFbW4tu3bph0qRJNm2/OceOHUN5eTn69euH2bNno1+/figvL8exY8fkVW+ZM2fOoL6+HnfffTdmzZolL4a7uzsee+wxuLm54ddff8XZs2fFfezu7m5zQiOQDwJkq464gSouLobRaJRPbjPhKWxOTo6YWJn+CX1VO2JbWsvWdSguLkZVVZWkj6Tpn+nT+bi4OPGGt6XfQBPqJiUlWXzC39L3Y0u5reseGRkJtUnfItP+XEJ/ogULFsBgMJjtz2aJvc8vU66urlAoFPLJLWppv1LnceLECRQVFcHFxQXh4eFmr1Vz5szB4MGDUV9fLz4AvnHjBhobG1vdbFulUrXpmBJiY0cwNvVFVZn0dRQIb5pM++Kb/glNY/V6PTIyMsS3spZajFhj63kjrJOtrG2fvAXLzTBN/K3FQ3MsvQFsSXR0NAwGA1588cVmrYhMxcfHQ23Sp/Xdd99t1QPB1rB1nayx9HCuNdckX19fi02e6fZ32ySieXl54miMpj9C7e7ujiVLljQbXVcgNKttbGyEWq3GP//5T0mzx9GjR2Pt2rWIjo7G999/j+rqavTt2xezZ88W64wbNw73338/GhsbcfnyZbMJb1sITweFESLHjRuHBx98EAqFAleuXMGZM2fkH7F5P0RHR2PChAmoqKhAUlISKioqEBwcjGeeecZkbpbJL9Dp6enIzc2FSqXCww8/DA8PD3z33Xedqn9oamoqLl++DBcXFzz99NN4/vnnxZuZoKAgvPPOOxgxYgRqa2tx4MAB5OXl4cyZM6ioqICjoyN69+4tn6VFfn5+8PLyQn19fbPBBlpSUFDQrPmtICgoqFk/PlsIzQnlg1QIzbLaoqSkpFkTMzlr22IvltZBaO4qsLSP5DQaDSZOnIgzZ85gy5Yt8PX1tTpggzlCkzVBS8u+2XJz4uPjodPpzDbp0jf1oTXK+gpZY8/zS054QNfa5pfW9tuoUaOgVCpb9aaIOk5eXh6OHDmC2tpa3Hvvvc2u1dHR0Zg7d644SN+ePXsAk6RJGLzIVv369YNSqURpaam8qEWWYqMQb+XNK1ujuLgYq1evbpasCYmavKmrOUJXiUcffRTDhw9v1py3JbaeN9bWyVJ3A0vbJ5A/sJLHcYG5/S+sm7mWJdbioaC4uLhdm5COGjXK7AMVmPRphZ37TppbJ6VS2ey7Fo5lSy2yrB0j5tTW1oqfoTvLbZOIbt++HWfPnoWDgwM0Gg1SUlKwZcsW7Nq1CzNmzLB6EXrvvffEE2nkyJFYv349jh07hqNHj2L9+vV44IEH4Orqiu3bt+N///ufZBlarRZvvfUWvL29UVhYKPb7bA/19fW46667sGHDBmzduhXx8fHw9vZGRUWFxR9TtmU/BAUFYfr06XB2dkZmZib+85//IDMzE87OztBoNBaDMEzeLoWEhGDnzp1ISkoSy44fPw6j0Yjhw4fDaKFPwa2Uk5ODDz74AFevXkX37t3xxz/+EQcPHsTRo0exceNGqNVqNDY24uDBg/jwww/FzxUUFMDZ2blVCdvgwYPh4eGByspKm5tdCeLj45Gfn4/o6GjJ26iEhAT4+vpKBgeyVWrTIBVq2eh6c+fObdPTXTQNagAACxculBwzcXFx4jIsbcuaNWvEf1tKFNvL/v37UVZW1mwEw6lTp0qajVnaR6GhoUhKShK3UXiKvGnTJiQmJuLMmTOYOHFis5segXDTY3pBjo6OllzsU5v6narV6mYj6a5Zs8am8pbWXdM0Iq5pmemNhOl3AtlNW2hT/1ZrTdfseX7J+fn5wWhh5F1rrO1XjUaDM2fOtPlNAbW/hIQEHDx4EA0NDeK1+ujRo0hPT8eiRYvg6emJq1evIiEhQXwgfPnyZVRXV6NXr15Wr21yfn5+cHR0bHX8BoBNmzbBYDCIo9UKli5danNzfmuEJMXT01NM1oQ3neb6GCYlJUnWIzU1FYWFhRg9erTFUWCtsfW80TcNTuPr6yt506jRaBAVFYX8/Hyz/estbV9ubi4CAwPFGGcujgvc3d0lrVWEdctvGtegpXhoTn5+PlxcXMT+ta1RUlIiuc5pmh5ompJ/T8I1oz0SNHPXWVvWSRASEiK5PixduhSenp7N+oAKbLkmCYKbxpIw92aVbn+3TSJaVVWFVatW4eDBg6iqqkKfPn1wzz33wNnZGbqm33SypKioCEuXLkViYiKuXLmChoYGuLq6wtXVFdevX8f//vc/MTD9v//3//Dpp5+itLQUffr0QWBgoPhD2a+88kq7vgEURrGtqKhAYGAg3NzckJeXh3Xr1olPe+Vs2Q9//OMf0b9/fxQXF+Pzzz8HAHz++ecoLi6Gt7e31aaGmzdvxk8//QRHR0cMGDBA0vxUGLQITX1mLQWoW0n4ng4dOoRr165BqVTCzc0NRqMRFy9exFtvvYVVq1ZJPpOVlYW6ujoMGTKk2ZNCS0JDQ+Hh4YErV65YvKhZExkZKf5ci9C3Yvjw4YiPj2/zjXFsbCx0TUOuC/MEIP63tVJTU7FkyRIAwPr168V5jhkzBvv37xfrmduWIUOGiG91hURx3rx5Zn977Wbp9XqsWLECBoMBq1atgk6nw7p168z2Gxf66Jjuo/Xr1+Onn36CvulndeQPAywl5AJhJEl1U78fnU6HrKysZqMVC300Q0JCxHrR0dH44YcfbCpvad3R1H/TtMxgMIhN9lxdXSXfkUajEUdutrUfmb3OL1OPP/44+vfvj8rKSpw7d05e3CJz+1UYLdhSU2q6dVatWoX3338fOTk5MBqNcHNzg1KpxLVr1/DFF19g3rx5kuvw8ePHUVhYiB49emDEiBGSeVkSFBSEQYMGoaamBhcuXJAXt0jf1P+wsLBQjDm6prdtS5YsafPbUFOJiYlITk6Gp6cn1q1bh5iYGLPHsk6nQ11dXbNlCqO6lpWVNSuzhbllmTtvEhMTER8fDx8fH7HeqqaffbH2UzXmtk8YqVWIcZbiOJoejJWUlEjW7cyZM5JlWouH5ggJvLk3vC2JjY1Fvkl/1GXLlmHz5s2S/pgeHh6S42X48OHNRl5uK3PXWVvWCU1NplNTUxEVFSWum4+PT4v3I7Zck4QHALm5uW26V6KuTxEQECAZ+SYgIKDVv9dE7Su06fetPD09m/2ER2cWGBiId955BwMGDMDOnTvx1ltvyau02a08Lv38/LBmzRp4e3sjISEBW7dulVeREOr7+Pjgww8/vOmn30S3WlxcHMaMGYMVK1a0+81Ca88vufj4eEycOBHp6elWf3qBbq1bGcMXLVqEp556CufPn8eLL77Y7EZbTqifnZ2N+fPnt1i/K4qJiUFUVBS2bNnSZe4xbCW8fbWWVLZVXFwcJk6c2G4J4p3udj4O6f9nLf7fNm9E6dabOnUq+vXrh4qKCpw4cUJe3GXl5eXh4MGDcHJygkajafGtzYwZMzBgwAB8//33+Oyzz+TFRF1OUFBQq/uR2aq155ephx9+GPfffz+uXbtmsZUI0Z49e/DTTz/h3nvvNTuQlqnAwECEh4eLb4FuxyQUTb/v2dpBiuj/3iwaDAZMmTJFXkRtEB4ejsLCQiahdzAmonTTkpKSsHv3bsyZMwcKhQJHjx7F119/La/WpX3yySf43//+h0GDBmHRokXyYtFjjz2GKVOmoLS0FB999NFtexNDd5bIyEizfbnai63nlyl3d3fMnTsX7u7u2LVr120Xc6j95OXlYfv27airq8P06dOtNq1ctGgR+vXrhyNHjrT67XxXERMTA19f3w57uHQ7E/q9hoSENOuLS62j1Wrh4+PDVmN3ODbN7YS6WtNcrVaLgIAAVFRUICUlBWvXrpVXuWk8LomIui7G8FsvJiYG0dHRUCqV2L17d4c+XLqVOrJpLhG1nrX4z0SUugQel0REXRdjOBHRncla/GfTXCIiIiIiIrIrJqJERERERERkV0xEiYiIiIiIyK6YiBIREREREZFdMRElIiIiIiIiu2IiSkRERERERHbFRJSIiIiIiIjsiokoERERERER2RUTUSIiIiIiIrIrJqJERERERERkV0xEiYiIiIiIyK6YiBJ1EgkJCUhJSUFoaKi8iIiIiIjotsJElKiLSUhIQFpaGjQajbyIiIiIiKhLYCJKREREREREdsVElKiLiY2NRVhYGFJTU+VFRERERERdAhNRIiIiIiIisismonRHiYuLg06nE//kfS01Gg3S0tIsloeGhiIlJUUyD/kAQ8KgQ4sXL8bx48dx/PhxxMTEWPy8VqsVPwsAgwcPlqyDvFzeRzQmJgZpaWmIiYmBVqu1uO4C0zo6nQ5r1qxBWloaEhIS5FWJiIiIiDoEE1G6Y8TFxUGj0SApKQlqtRpqtRrZ2dlieUxMDOLi4nD+/HmxvLCwEMuWLRMTukmTJiE3N1csX7FiBVQqFZYuXWqyJEClUmH8+PF48cUXMXbsWCQmJkKj0eDdd98FACxYsED8fGVlpfg5b29vxMTEYPXq1VCr1UhKSoKvr2+LSaJSqcS8efOQlZUFtVqNBQsWwGAwYOHChWKSLCTBKpVKsvzRo0fD3d1dPksiIiIiog7DRJTuGP3790dZWRlOnTolTps3b57Y1zI8PBxlZWXYtGmTWJ6cnAwAmDJlCgAgPj4esbGxYnlqairOnz8PlUoleSuqVCqxf/9+6PV6cVp0dDQMBgNWrFghTk9NTcW8efPEOkajEVu2bBHXKTExEfn5+fD392/xZ110Oh3i4+MBAHq9HhkZGfD09MTo0aOBpiRapVLhgw8+kCx/y5YtMBqNknkREREREXUkJqJ0xygoKIC3t3ezt5doapLr4+ODjIwMSfJYVFQEg8EALy8vSX3T5q1qtRoqlQre3t5iudFoRH5+vvhvYf65ubmS+cvJE2UAKCkpaTZ/OaPRiLNnz0qmFRcXAwD69OkDAAgKCoLBYEBRUZGkXn5+PhNRIiIiIrIrJqJ0x4iPjxebusr7UPr6+kKpVCIiIkLSf3L9+vWSBDAhIQE6nQ4AxOa5wr9NyRM+Yf4FBQWSevYSGhoKlUoFg8FgNREmIiIiIrIHJqJ0R0lMTMTYsWPFPpRxcXGIiYkR3wru3r1bTDBN/yIjIxETE4OQkBDs3r0bkZGR8llbxbeORERERET/PyaidEfS6/X44IMPYDQa0adPH7EJblBQkLyqVaGhofD395dPbqat828ver0eubm58PHxaTaS7qhRozhYERERERHZFRNRumOsWbNG/BkVNCVgSqUSxcXF4uA+gYGBzUaoTUpKgkajEd9qmiaTc+fOtdp3U6DX67Fnzx74+vpKfo5FGMXXHvbt2wcAkpF0NRoNJk6cKKtJRERERNSxmIjSHcPV1RXz5s0T+39qNBokJycjMTERMOlDGhISIuknWldXh9TUVHGEWaGPqdA31FwfUXMSExMRHx8PHx8f8fOrVq3CTz/9JK/aIVJTU7F69WqoVCqsX78eOp0Oy5Ytw+bNm1FVVSWvTkRERETUYRQBAQGNphMCAgJw+fJl00lEtxyPy46j0WiwbNkyHDx4UPz5FyKi9sQYTkR0Z7IW//lGlOgOZ9pEmYiIiIjIHpiIEt0hYmJi8MknnzSbptFocObMGbGJMhERERFRR2MiSnSHyM/Ph5+fn6T/67x585CamorY2Fh5dSIiIiKiDsM+otQl8LgkIuq6GMOJiO5M1uI/34gSERERERGRXTERJSIiIiIiIrtiIkpERERERER2xUSUiIiIiIiI7IqJKBEREREREdkVE1EiIiIiIiKyKyaiREREREREZFdMRImIiIiIiMiuFAEBAY2mEwICAkz/SURERERERNQmly9flk8CLCWilioT3So8LomIui7GcCKiO5O1+M+muURERERERGRXTESJiIiIiIjIrpiIEhERERERkV0xESUiIiIiIiK7YiJKREREREREdsVElIiIiIiIiOyKiSgRERERERHZFRNRIiIiIiIisismokRERERERGRXTESJiIiIiIjIrpiIEhERERERkV0xESUiIiIiIiK76rKJqEajQVpaGtLS0qDRaOTFbaLRaPDss8/C3d1dXkREHSghIaFdz+WbFRcXB51OB51Oh7i4OHmxzbRaLVJSUhAaGiovIqJOJiYmBmlpaYiJiZEXEVEXFxcXh+PHj/P87mQ6NBGNiIjAf//7Xxw7dgw6nQ6ZmZk4fPgw1q5di6CgIHn1W+rRRx/F4sWLsWDBAvz5z3+WF9NtIDQ0FCkpKTYlF2190HErEqpbsczbWVxcHDQaDZKSkqBWqxEfHy+vQkS3gOkDItO/hIQEedUuLyYmBsePH7d5O02vb+b+utINuHD9tba97c2ey+wqDyjtuU/oztVhiegrr7yCZcuWYciQIXBxcUFNTQ2MRiO6d++Ohx56CKtXr8YTTzwh/9gtU15ejuvXr6Ourg7FxcXyYrrNjBkzxupFYMqUKXZ/M67VaqHVauWTyc6CgoJQVlaGU6dOyYvuODwmqbMxGo3iQyK1Wo2kpCSEhIS0+jjt7Mf2kCFDkJycLG7n7t27oVarLSYFer0ekydPFuub/uXk5CA/Px+JiYnyj912EhISukSS19lwv9Gt0iGJ6PPPP48nnngCTk5O+OGHH/CnP/0J48ePx7hx4/D++++jrKwMffr0wTPPPIPAwED5x28JvV6PiIgIPPTQQ/jwww/lxXQbqaqqgkqlwujRo+VFQNOTZX9/f5SXl8uLWhQbG4uwsDCkpqbKizrMrVgmEVFnkJiYiDNnzsDHx+e2ahWyePFiSeIYHx+PnJwc+Pv7typZiIuLg6+vL44cOSIv6rRSU1MRFhaG2NhYeVGHsecyIyMjMXnyZOj1enlRp2LPfUJ3rnZPRP38/PD444/DxcUFFy9exKuvvoqMjAyxPDk5GZs2bUJ1dTX8/PxuqwsHdQ2lpaUwGAwIDw+XFwEAJk2aBJVKhcLCQnkRERF1MmfPngUA+Pr6yotuKyUlJfJJLQoKCmrxbahWq7X4ppWIqCO1eyIaHByM3r17o7a2Fl9++SVycnLkVbB161bk5ubCyckJISEhgEnfD61Wi7/85S84evSo2ExgzJgx+Pjjj5GRkYHMzEwcOnQII0eOlM8WABAVFYXdu3fjxIkTyMzMxNdff4033ngD3t7egEm/i5SUFMTGxuLgwYNIS0vDwoULkZKSIulHYVr32WefRUpKCjIzM5GRkYGkpCTJ21xvb2+88cYbOHr0KHQ6HY4dO4Z//OMf2LZtG3Q29Ekk+6mrq0Nubq7ZJ+jC8VZYWIjKykpJGZqar1jrdyPvr2k6+IVWqxU/Z1pHOPYDAwMRGBjYrLwjlmn6WdN529I0R95PS74+MGn2JtSVr59p36eUlBQ4OztLPg+T/imW1l/YzsWLF4t9o6zdTJnrQ2XaNE9Yr8DAQHh7e2P9+vUt7g/5/rO2fEFbtst0XU2XaW7fo2n/m66Xafyx5fho7THZ0n4isof+/fsjJSXFbJNb4fzevn271WNbYOncELQUT2DjudYaXl5eMBgMNr9Ji4mJga+vL7KysuRFN0WIYXFxcZLtEuKA/Bohv/+Rl8vrCPM3jafCNUV+/RDqCNPVarUYv03jY0csUyCfd0vfr1bWR1RoFhsVFSW5NsiPJ3PHnHxdrMV+c9/bwYMHLe43c/vEdD7W1sPWbbKkNctYvHgxjh8/Lvm+5Z9PS0tDr169JJ8XtHaf2boNZJt2T0T79+8PZ2dnVFVV4dKlS/Ji0cWLFwEAHh4ekuk9evSARqOBm5sb0NRP4pVXXsHQoUPR2NiI/Px81NbW4oknnoCLi4vks7GxsYiNjYWXlxdyc3ORk5MDhUKBiRMn4q9//aukrlKpxLRp09CzZ0/JdHM8PDzw7LPPwmg0oqCgAI6OjrjvvvuwaNEiAIC7uztWrFiBiRMnwtXVFUVFRSgqKsLYsWNx1113yWdHncC+ffuApr6gpkaPHg2VSmW2GZNGo4GXlxcWLFgg9r3Jz89HVFSU1YuOUqnEvHnzkJWVBbVajQULFsBgMGDhwoUIDQ1FfHy82I8nJycHarVabGrbUctEUxAfPnw4VqxYIda5evWqfFYSWq0WGpOBfNRqNc6cOYN58+Y1u9nw8fHBkCFDJNsTFxeHefPmITU1Vfx8bm4ugoODJZ+NiYlBXFwczp8/L9YrLCzEsmXLmm33E088gT179kCtVltsQhQTE4N169bBYDCI81uxYgV8fHzEG4LExESMHTsWOTk5KCoqwoIFC6w2n9JqtZL9J/RVk18sTdm6XUqlEk8++aS4Xbt370ZgYCAOHjwILy8v8bPyY0G4UVGpVOIxs3v3bkREREi+n5aOD2vHZFuOG6KOJMSPkydPWnzIGB4ejrKyMrz11lsWj23YcG7AxngisGV+tkhISICPjw+Sk5PlRRYJ27x//355UbuIiIgQtyspKQmenp74+9//jjFjxojxR6fTQaPRiAlCaGgogoKCxPhhro4lgYGBmDp1Kl588UUxtqnVasTFxYnxW6fTifF77NixSExM7LBlwszgdmq1GtnZ2fLZtMjb2xsxMTFYvXq1uD99fX3F60loaChWrVolOeaSkpJQU1MjltsS+wEgLCxM/N4mTpxocb+ZExcXh1WrVkmuYZb6abe0TZa0ZhkqlQrjx4/Hiy++KK63uevswYMHMX78eMln27rPIiMjJWV0c9o9ERUYjUZUV1fLJ4saGhrkkwAAnp6euHjxIubOnYvJkydj6NCh8Pb2Fi8gM2fOxKxZs5CWlgaFQiF+LjQ0FJMnT4bRaMTatWsRGRmJOXPm4KOPPkJdXR1GjBghOQh79OiB8vJyvPjiiwgLC8PJkyfFMjkXFxekpaVh2rRpmDZtGtLT06FQKDBw4EAMGzYMGo0GQUFBaGhowLZt2zB58mTMnDkTiYmJqK+vl8+OOoHU1FScP38ew4cPl9ywhIeHw2AwmB2oJjU1FZGRkZLEREhYW2oSptPpxNFX9Xo9MjIy4OnpabGfqqAjl+nl5YXCwkLxBkyv12PevHkWE6+YmBjxRsj0IhUbG4ucnByzA0B9+umn4v+HNr1tNl0vmHzelHADtWnTJnGacANm+vBAqVQiOzvb4kVTEB4ejvz8fMkFJDU1FVu2bIGnpycmTZokqd+SmKY3DQcPHhT3n9BXTX5MmbJ1uwDgzJkz4nbt378fRUVFcHZ2ltyIHjlyBEqlEqNGjQKampV7enpiz5494vco9C2Tfz8tHR+WtPa4IepIcXFx4o1mamqq2YeMGo0GPj4+yM3Ntek4bencaG08aWl+lpi+qfHy8mrVWADCNmdkZNi0zW2Rk5MjbldiYiLy8/PRrVs3SfzZt28fjEaj+LBAr9cjMjJSsh1CnT59+ojTzKmqqsIHH3wgzluIiy39CkNHLrN///7NBrcTHra2htFoxJYtWyTXk/z8fLFPsLe3N1QqleTtdmJiIhYvXgy0MvaXlpa2aTR402u46UPfxMREpKamwtfXV5LYt7RN5rR2GUqlEvv375cc48L5afr5+Ph46HQ68d+w0z6jlnVYIurg4ABHR0f5ZJGlMoPBgB07dogn28CBA6FQKJCVlYU9e/YATYEhPT1dfBIEACNHjkTPnj2hUqnw17/+VQzeCxcuhIuLC1xcXCRvX41GI1JTUyX9Vy25du0avvzyS/HfP/74I4xGI5ycnODu7o7BgweLb0JNg8+OHTvwyy+/iP+mzuXs2bOSm3hbL9xxJs1w5s2bB3d3d6sXM6PRKPZhEggjM1v7nKmOWGZJSQkCAwNbfDopCA4OtpikZ2VlNbuxMhgMKCoqEv8tvG2WrxdkfZ8sfQ9FRUUwGAzw8vISpwFAQUGB5N9ywvzMNU87deoUysrKWryRkQsODjb7pqGgoABKpdLsQ4LWbJf8+9Pr9TAYDM32qZyl/mAlJSVQqVRiFwX5/GHm+LCktccNUXsS3jAK8VB4GyXcJKampqKwsFBysyvEeCFJtaalc6O18aSl+VkTGRkpvtHJysqCrhXNAoVtPn36tLwIMbKmpoGBgVA3vSXUWWnyLyffByUlJTAajcjPz5dMN8d0HVatWgV3d3f0799fXk3C9AEYTOKiSqWymNiY6ohlFhQUwNvbG0uXLpV8rrXkySxkcVu4Tlh6i2tr7BemtYW1a/jp06clDxxgwzaZ09plyI83a+en/F7BHvuMWtbuiWhZWRnq6+vh4eGBoUOHyotFwo2a/MstLS3FsWPHxH87OPzfKpaVlZnUas7BwQEKhQIVFRXik1HTvwMHDkgO1srKSly4cEEyD0uMsre7N27ckJQLy66pqcF3330nTq+qqmpWlzoP4emc8ORrypQpMBgMzZILgXARmzhxoqQ5ptFolFdtNx25zNjYWLGZkc6Gfn7yBLAlBllfpj59+kCpVErqmOPr6wulUomIiAjxxkin02H9+vXNLl5Go7HFn1sS5teevLy8xP40pusYEREhrypqzXa1RWhoKFQqldjvzfRPrVbLq7dZa48bovZklP18i7lmhPIHY0FBQc0SirbqiHhii/j4eOzevbvZGyFzhLdKlrY5sakZq7APc3JyxDhhaZ+2F01Tn7vo6Gjx52lWrFiBqqoqedV205HLjI+PF5uc6mzoH9pW+qaf58nPzxcfxJg2221N7JcnZLay9Rp+M1q7DPnDWVvPT3vtM2pZuyeiJ06cQFFREVxcXBAeHm72txjnzJmDwYMHo76+XpK4oSnJMxcchD6jApVKJWmaayotLQ0rVqyQ/L355puSJyQ3btyw2Dy4rZydneHn5yf+28/Pz+wgLNR5CDcskyZNwvDhwy023QoNDcXUqVORn5/fquZRN8Mey4xv6gu4YsUKqFQqvPvuuxYvovKHRq1VXFxsUwKdn58Po9EoJjvyv9b2zxDm155KSkrE/jTy9bN0E9fe2yUnPKkX+r3J/9rzGGrNcUNkb/v370dZWRmCg4OtviFpi46IJ7ay9U2quWacnUV0dDQMBgNefPFFs3GyI3T0MoXEXuj/GxcX1+LDgrYS3pIL1xGtVmu32G/rNfxm3OwybD0/7bXPqGXtnojm5eXhyJEjqK2txb333ot//vOfkuZ60dHRmDt3Ltzc3JCTkyM2t7VEuPkdOXIkxo0bBzQNDhQWFgZXV1ex3qVLl1BVVQUPDw9MnTpVkgAvWLCgw4ICTE6cvn374re//a04/be//S369u0rqUudi3DDEhYWBtjYdMtUcHCwTU/f2lNHLDO1qX8TrPQ9LSgoaNb8VhAUFGS2GY4poUWCfGCi0KbfbRUITZBa21zWEmvzGz16NDw9PVt9w2ZtX1hibT3aS0lJidmBWjqKLccNkb3p9Xrk5ubC398fM2bMsNrSpbWsncdtjSe2EhLQllqBWGuW2xmNGjXK7EuLjtQRy9Tr9fjggw9gtKHv6c0S+jwKTYTtEfstXcPRtD+VSqXZJrWtcbPLsHZ+yqfZY59Ry9o9EUXT6G4HDx5EQ0MDRo4cifXr1+Po0aNIT0/HokWL4OnpiatXryIhIQF5eXnyj0vs378fFRUV6NOnD9566y1otVrs2rULQ4cOlQwEdOjQIXzzzTe4ceMG1Go1du3ahS1btiCl6adXOjIoHDx4ED/99BOUSiX+8Ic/YOfOndi5cyciIyNRV1cnr06diL5p4IiePXtabMYEk6dnpkErJiZG/Pmh9iAPih29zKSkJEkAFgK/aRN2U/Hx8cjPz0d0dLTkwU5CQgJ8fX0lHf7NSW0aIEptMuIgAMydO1fSNFX4Tsz1Q5Svsy30ej327NkDX19fSf8qjUaDqKgo5Ofnt3oQAuEBhnz04piYGKxZs0ZSV9De22WO8CBFPiJnXFxcs1EAbSE/JmFmXVs6bohuhbNnz0KlUmHQoEFmW7qYO7Zt0RHxRE6j0UCr1UrO4Zimn9MwHcRMGDtAfm4HBQU1a7LYWZSUlEge4mk0GkycOFFerc3MPSTsyGWuWbNGcj0UkqWWHha0lqapL7RAeIBraOoCc7Ox39x+k0tNTcXBgwehVqsl1zBzx2Zb3ewyLF1n4+LiEGjyk4vogOsltU2HJKIAsGrVKrz//vvIycmB0WiEm5sblEolrl27hi+++ALz5s1Denq6/GPN7NmzBxs3bkRxcTFcXFzg7++PyspKbN26tdnr93/84x/Yvn07ysvL0bNnTwwaNAjdu3fHuXPncPjwYUnd9pSTk4N3330XFy5cQGNjIwYMGAAPDw/s3LmTgxV1AadPn0ZZWZnZn2wx9fbbb8NgMGDVqlXQ6XSYOnUqtm/f3uw4bCshKK5atUrsZ9KRy/Tw8BDnq9PpMHz4cKxevdpiMo6mZkHCz7WYfi4+Pt7qxUEQGxsLXVNfSuHzaBpV0pTQ7yYkJETSd6Ours7q+lmSmJiI+Ph4+Pj4iPMShodvS5NYfVN/ncLCQsk+jIqKwqFDh+TVRe29XXKpqalYsmQJAEj6r44ZM6ZNb4TMHZNtOW6I7C0xMRGFhYUW36CYO7Zt1d7xRE44l0zPYWEkVks/USUQ+r4JCYotIiMjW5xve4mNjZX0c1y2bBk2b95stktWWwgPCefNmycOutSRy3R1dW02eFaybGT59jJo0CBxOevXr4fBYBCPt5uN/eb2mznmrmG2Hpu2utllCP2p1SYDcAUFBWH37t2Seje7z6h9KAICAhpNJwQEBODy5cumk6iNQpt+96l3797YsWMH/vGPf8irkI14XBIRdV23IoYLbyzbIzkkIqK2sRb/O+yN6J3O3d0dERER8PLygsFgMPtEloiIiNpfTNNv/XZUf00iIrp5TETbyebNm/Hll19i69at2Lp1K/bu3YvHH38cAHDs2DEcOHBA/hEiIiLqAOHh4WZ/65eIiDoPJqLtpKSkBK6urggMDMTAgQPh7u6OwsJCaLVaNsklIiKyA61WC13TaKIrVqywuZ8kERHZH/uIUpfA45KIqOtiDCciujNZi/98I0pERERERER2xUSUiIiIiIiI7IqJKBEREREREdkVE1EiIiIiIiKyKyaiREREREREZFdMRImIiIiIiMiumIgSERERERGRXTERJSIiIiIiIrtSBAQENJpOCAgIMP0nERERERERUZtcvnxZPgmwlIhaqkx0q/C4JCLquhjDiYjuTNbiP5vmEhERERERkV0xESUiIiIiIiK7YiJKREREREREdsVElIiIiIiIiOyKiSgRERERERHZFRNRIiIiIiIisismokRERERERGRXTESJiIiIiIjIrpiIEhERERERkV0pAgICGk0nBAQE4PLly6aTiG45HpfUFXTr1g3du3eHi4sLFAqFvPiWamxsRG1tLSoqKnD9+nV5MVGHYgwne2EcJupcrMV/vhElImoHvXr1gre3N1xdXTvdzQ8AKBQKuLq6wtvbG7169ZIXExF1eYzDRF0LE1EiopvUrVs39OjRQz650+rRowe6desmn0xE1GUxDhN1PbdNIhoTE4Pjx48jJSUFoaGh8mIim2m12lt+HIWGhiIlJQU6ne6Wr8utkpCQ0GW2vXv37vJJnV5XXGeizuJWxqeEhASkpaVBo9HIi9qNVquFVquVT+7UumJM64rrTNSeOiQRTUhIgE6n63JBjO4MwvFp+teZjtXQ0FCsWrUKBoMBarUakydPhl6vl1ejJrfywUFCQgKOHz8ONzc3eVGn5+LiAq1W2+E3tETtJS4urlns1ul0PIbvcIzDRF1XhySiRJ2R8JbR398fCxYsgFqthlqtRlJSEurq6uTVb5nRo0fD09MTWVlZ8iLqRGJiYjB8+HAkJyejsVEy5luXoFAoEBkZicLCQkRHR8uLiTolo9GIpKQkMX6r1WqEhYUhNTVVXrVNuuKbwDsZ4zBR18ZElO4YkyZNgqenJ/bs2SN5w5iYmIg//OEPkrrUdURGRt6St8bh4eEoLCxEYmKivOimTJgwARs2bMCECRPkRVa19XNHjhyBj48PYmJi5EVERJ1aZ4vD8+fPx5o1a+STW8Q4THcqJqJ0x+jfvz+MRiPy8/PlRUStotFo4OPjY/Nb68jISGzZsgXbtm3Dtm3bLN6oTJgwAc899xyuXLmCo0ePyoutOnr0KK5cuYKoqCiMGDFCXmzRqVOnYDAYEBwcLC8iIuq0WhuH58+fL8bgbdu2Yfny5fIqQAtxeMSIEdiwYQO2bNmCyMhISRkAfPPNN3B3d7c4b0sYh+lOdcsS0cDAQKxevRpff/01MjMzkZmZia+//hpvvPEGvL29JXUjIyPx+eefIyMjAzqdDhkZGdi+fTsiIiIk9eRiY2PxzTffICMjAytWrIBGo0FaWhqOHz8ueeokTBfa6AtNOI8fP45Fixbhvffew/Hjx5GZmYlDhw7hpZdekiyHuoazZ89CqVRiypQp8qIWmQ4eZK5faVxcXLPjSviMvP9iXFycxf4gWq0W8+bNg1KpREREBHQ6HeLi4sRyef9W+XyEYzkuLg5arbbZesrJ5ydfV2EQMEvlwvIs7ReYNHUT+neZrrO5zyckJEg+P3jwYEkdc/M3XS9hEJGoqCirn4OZ5aelpWHNmjXNvku5UaNGAQBOnz4tL2omMjISEREROHr0KGbPno33338fXl5eZpPRadOmoaSkBK+//rq8yCY7d+4EAMydO1deZJFer0dubi78/f1vST9bovZiLk7bErPi4uLE+BQYGIjAwEAxHpiL05YIMdc0hlmKocK6motLwmdMY78t5PHc0vrL+9q2FO8g27fC/jL3Ofm6m16T5Osnj/WWvhtLWhOH58+fjwkTJmDHjh2YPXs2duzYgaFDh5pNGC3F4cjISCxduhTFxcWS6abOnTuHr776CkOHDsX8+fPlxRYxDtOd6pYkooGBgYiPj0d4eDicnZ2Rn5+PK1euwNXVFRMnTsTbb78Nd3d3oCmZfOGFF3DXXXehsrISly5dQk1NDfz9/bFkyRI8/fTT8tkDAGbOnIknn3wSTk5OOHDgAFatWiWvYpMnnngCISEhuHLlCq5fv44ePXpg5syZiI2NlVelTi4xMRFnzpyBWq22eIE2JyYmBuvWrRMHD1Kr1VixYgV8fHzEm4rTp0/DaDRKnmZ6e3tDpVLB09MTo0ePFqcHBQWhsLDQbJ+myMhIJCUlwWg0Yvfu3VCr1YiPjxdvAoYPH44VK1aI61FYWIi4uLhmNwNhYWHIysqCWq02+9QWTTctpvNbsGABrl69KpbHxcVh3rx5SE1NFcsBYNWqVeKFcsqUKTh48KCkv62vr2+zGwwfHx8MGTJE0p8rJiYGcXFxKCwslHy+pqZG/Jy3tzdiYmKwevVqq/OXs+VzwvLPnz8vLv/gwYMYP368ZF7m9O/f3+J3KPfAAw+gsLAQGzZsAJreXGZkZMDLy0vS7CsyMhJeXl44efKkyadbR7gJ8vLysvi9m1NQUACVStXsISBRVzJp0iTk5uaK5/OKFSugUqmwdOlSoCnRWbZsmeSc3717NwAgPj4earUaOTk5yMnJkcQqW2i1Wvj6+iIpKUm8P7AWQwEgNzcXPj4+za5F4eHhKCsrw/79+yXTLWnN9UGr1UKj0Uj62Z45cwbz5s2zmPSFNg2gp1KpsGLFCsTHx8urtCgsLAwAJPtdrVaLMdnad2OJrXF4xIgRCAkJwYULF8TEX6vV4sKFCxgwYICkBYmlODxixAg88MAD2LhxI65cuSIpkxPmHRIS0qrWKYzDdCe6JYno3Llzcc8996CyshLvvvsuZs6cienTp+Pjjz9GXV0dBg4ciNmzZ2PcuHGIiIiAs7MzdDodpk2bhjlz5uC5555DdnY23Nzc8Nhjj4lJq6B///6YO3cuVCoVTp06hX/84x+SclsplUrU1dUhNjYWs2bNEpfr4uKCsLCwZsulzi82NhZJSUlQKpVYtWqVTQlpeHg48vPzJTf2qamp2LJlCzw9PTFp0iSkpqaisLBQ8jRz1KhRqK2thcFgQJ8+fYA2NCUSTJo0CSqVCqtXr5ZcdN9++22UlZUhPDxcUr+0tLTFmwUvLy/JRVyv12PevHnQ6/UIDQ3FmDFjkJOTI85Hr9djz5494jajaX+aLicxMRH5+fnw8vISpwk+/fRT8f9DQ0MxderUZvs1MTERixcvFv9tNBqxZcsWcR2F+bf01NiWzwnfq+lDpfj4eOh0OvHflpjbPnMmTJgALy8v/Pjjj5Lp3333HQBg2LBh4rTBgwejpKTE7BuS5cuXY82aNVi+fHmLzXvPnz+P6upqDB48WF5kkfCE39fXV15E1KkolUrMmzdP8tZMOGfi4+Ml53NqairOnz8PlUqF0NBQ8fg+e/asWCc+Pr7FWNkSIQlNTk4W+yraEkP37dsHND3QEwjXiNzcXJv7vdt6fYiJiYGPj49kPdEUx3NycjBmzJhmcdU0CZXPvzVKS0vNxtrhw4dDo9G06buxNQ4PHz4cbm5uzeLwjz/+CDc3NwwfPlycZikOnzt3DosXL27WVNcSc/NuCeMw3YluSSI6cOBAKBQK/O9//8OOHTvE6f/5z39w9epVuLi4ICgoCMOGDYNKpUJFRQV27tyJqqoqAEBOTg6OHTsGo9EIHx8fjB07VpyHo6Mj/vCHP8Db2xsXL17Eu+++K36utW7cuIGMjAwxacjJycHJkydRX18PlUoluYmkriMxMRFjx44VE1L5E2NT1hLHU6dOoaysDEFBQQCArKwsydPMoKAgXLx4UVJHuMBYa9pjjqW3qEJzHvlT9ZKSEkk9c0pKShAYGGj27eLo0aOhUqlw5MgRyfT8/HwYjUb0799fnGbaZEvX1LRNuPETGAwGFBUVif+2dWTgsrIynDp1SjKtpKSkxafGLX1O+F7N7aeCggL5JLPMfdac+vp6lJWVySdLjBgxAgMGDLBa76677oKnp6fYrMzHx8ds069z587hypUr8PT0lBdZlJ+fj9raWvlkok7H3Ki58rf/QhNZnU4HtVotnvfC+ABRUVEtPoC01fz585slobAxhlp6gAlATFJtYev1ITg4GAaDoVlsRNP1S956BwCWLl1600komuYvV1BQAKVSCV9f3zZ/N62Jw6YtfsyxJQ7bSnggyDhMZN0tSUQdHP5vsfKTvaqqSrxBd3Nzg4ODAxQKBWpra1FeXi6pm5ubC6PRCKVSCWdnZ3G6h4cH7rrrLhiNRmRkZCAnJ0fyudZoaGjAtWvXJNNqamq65BDh1FxiYiJefPFFlJWVYerUqc2eBKMpcVQqlfLJZgn9VEaNGgWNRgNPT0+cPXsWWVlZNt0IWBIaGgqVSiWfbJUtyVRsbKzYPEon60vVp08fuLu7N3vzsGrVKklLAK1Wi/Xr10uaw5k75wwGg+TpvvCGuLUJeXsRvldb9pM99OrVC25ublb3R2lpKTZt2gQ03eRUVFSI+9Ecd3f3VjULI+rqhD6IMGkCatrCITU1FUuWLIHBYMCqVauga6EPYku8vb0RHByMM2fONBu11dYYKk8ALSWVlrTm+mDrG0SB0F/24MGDNq9PW7X3d9MWtsTh1rIWo4noFiWiAvmTInd3d/GkNU1SXVxc0LNnT5OagL+/P5RKJWpra1FZWSlOLy8vR1ZWFpycnDB9+nTMnDlT8jlzVCoVFAqFfDJgkjQLvL294eTkBDQ9YaOuTa/XIyMjw+yTYJg8vbZFUVERDAYDgoKCMGrUKBiNRpw6dQqnT59GbW0t7r33Xvj7+7eqyRWa1tFgMMgntwuhX5TQl+rdd9+FRqNBcXExqqqqmr15EP5iY2MRFxfXrE+UrYqLi23er52VrTd1Tk5OzWIdbHxTai++vr5wcXGRTybqMmJiYhASEoLdu3c3e0NqSq/XY/LkyWKSGhERYbZViC2Kiorw5ZdfQm3S11FgSwwFgP3796OsrAzBwcFWW+BY0prrg61vDwU5OTniPpInhe0Vw01Hsm/Ld9OaONyvXz/5ZJvelNoL4zDdiW5JIpqdnY3GxkaMHDlSkig+88wz6NevH2pra/Hjjz/i3LlzqKysRPfu3TF9+nTxKWJgYCDGjx8PpVKJwsLCZm+XtmzZgosXL8LDwwNz587FuHHjgKYgXFVVBScnJ/j7+wNNyW9YWBhcXV0l80BTX5Tx48cjMDAQADBu3Dg8+OCDUCgUuHLlCs6cOSP/CHVRln7WxTS5lJM3LxWaQalUKowePVpMOIuKimA0GjFy5EgolUpJHxhblZSUNGt+i6an4f7+/q16gm5OalOfVzRdDIV90dqh5IUbqZa0df7tRd6s2pS5aXK23tAdPXoUJSUlzfprDhs2DE5OTuINUGlpKaqrq9v16XlVVRXOnTsnn2xRbW2t2XOAqKsS4qMlQt9IW5MZc3bu3Nls4B20IsYJ1w1/f3/MmDEDBoPB5kGKBLZeHwoKCiw+dA0KCjLbpSE2NtZiMqpUKpvFrODgYLOtiMzF1aCgoGbdNgS2fDe2xmFL/eYHDx4Mo9GI0tJSoIPicGvfrjIO052mQxNRPz8/pDX9LIrwt2bNGuzatQtXr16Fh4cHlixZgh07dmDnzp14+umn4ezsjP/973/47LPPkJ6ejmPHjqGhoQFqtRq7du3C1q1bsXHjRgwaNAjXrl3D7t27m/UBNRgM+OCDD1BUVARvb28sXLgQgYGBOHnyJPLz86FQKBAeHo6dO3fis88+w7333mv27WZ9fT3uuusubNiwAVu3bkV8fDy8vb1RUVHRqv4b1DkkJCQ0e7oaExMDjUaD8+fPm03khMElfH19JYMXaDQaREVFIT8/XzKYwtmzZ6FSqaBSqcSEU7jR8PPzw/Xr15td6G2xadMmGAwGLFu2THKzIfTfSU5OltS3RVJSkmRewg1Tfn6+OMiHWq2W3HyEhoYiKSkJoaGh4gXW9EYrOjrapkG8UlNTxdF25SPZWhqEpz0Jb8LlfWTj4uLEB0/WFBQUmL3xM+fHH3/EXXfdJfbnnDBhAsaMGYOLFy+KA18I/TrlIzi2RVv6OQUHB8NoNJq9ISTqCoTWK6YJz9y5cyV9yeXxxVxfcUtJnTXCwDum8cyWGCoQrhuDBg1qdYsZtOL6EB8fj/z8fERHR0vGRUhISICvry/27NljdtlCUmiajAoP8yZOnCguU3grbU5gYKBkPyQkJCAwMBAZGRnQ6/U2fTdytsZhIb4OHTpUfFseGRmJoUOH4syZM+IDu/aMw8IASYzDRNZ1aCLq5OQEd3d3yZ+rqyv0ej3i4uKQnp6O+vp6+Pn5YcCAASgvL8enn36KZcuWicllfHw8NmzYgKtXr6J79+4YOHAglEolsrL+v/buOLyJ874D+BcbG6zJSRxiYSC2Z5E0KY5qJ5a2Ogy8ucCIyHCJ00ep19RbHmdqnKTrSjO2RZ3jVl1K8wR4eBYbdyZ5aBs34jEh0FhhQFidFUyRkkFdhyQQA1ZCFDnGoVYEtux4f1TvPXenkywbLDD+fp5HD/juvTvp7r337vfe+77Xie9///uKwY7kDh48iOeffx4DAwO45ZZbsHbtWuh0OjQ1NeH48eMAgAULFgAAWltbNZuYjI6Ooq2tDX/4wx9gNBqRkZGBnp4ebN68Gbt371YnpylANPkRHzG0frympU1NTXA6ncjJyVH08+nq6opqAiZeSj00NKQIOMU7TIeGhjQv9GMRTZb8fr/Uf8bj8UCv12Pt2rWaQfRYMjMzFesqLCxUDEgh+pCK95l6PB40Njbi9OnT8Hq9aGpqgjvyWgIxv7OzU7OPqBan04nm5mYUFxdLy1dXV+Pdd99VJ50UTqdT0UfW4/HAZDKN+coAqPoDj2XLli04cOAAysvLsX37djz22GPo6OiIekfdREZZ1BJrhMhYxFOTidwAE10tRKuO3Nxc6XwGIP0rfPnLX5bmi3JcXv6LSuZER1UXxJNDi8Ui9bcfqwwVmpqa4Pf7J9xiZjzXB5vNJr2uRaQrLCyE0+mM6ucqZ7PZpGDU5XLB6/XiueeeAyL7yuPxYPXq1THvp/bu3YvS0lJpm8XFxWhublZU5I51bNTGUw7/8Ic/xPHjx1FZWYnt27ejoqICu3btkl6rJcQrhzds2IDt27ejvLwcM2fOlNalNWjcF77wBVy4cAFdXV3qWZpYDtN0NaOgoEAx8k5BQQFOnTolnzTtmCPDlWdlZUWNhEdXBvMlJYvD4cDy5cvHHCVSPCG32WwoKChQz56QDRs2QKfT4T//8z/H1axWuOOOO/DYY4/hww8/jAp0tZw6dQp2ux1VVVVoaWlhWUeThmV4fPLy5FpijbwfdN++fXFfxTJRV2M5bLPZYLVa4Xa7o14Do4XlMF3r4pX/k/pElIhoqonXb0nuwIEDyMnJifnqn4l45ZVXkJGRgTVr1qhnJUQst3PnTvWsmMrLy+H3+3nzQ3SF2O125ObmjmuQIvqjq60cvuOOO/BXf/VXOHnyZEJBqMBymKYrBqJENC01NDREDb4xVl8puaamJnR1daG6ujrmqNvj9cYbb2Dr1q1YsGABli5dqp4d19KlS7FgwQK0tLQkVIs/OjoKl8uFnMgL7onoyigvL0d/f/+4Bymiq68c/ou/+AuEQqGEWqSA5TARm+ZqYdPcqw/zJV1uDocDFRUVimmhUGjMJrla5s2bpzny9tXs4sWLV81rC+jaxzI8msvlgtFoRCAQQF1d3ZiVX1PRZDfNlWM5THR1ilf+MxClKYH5kq5mf/Inf6IYnXMqCAQC+Oyzz9STiSYFy3CabCyHia5O8cp/Ns0lIrpEn332Gc6fP6+efNU6f/48b36I6JrCcpho6mEgSkR0GZw7dw6BQAAXL17E6KiioclVYXR0FBcvXkQgEJBe4E5EdC1hOUw0tbBpLk0JzJdERFMXy3AioukpXvnPJ6JERERERESUVAxEiYiIiIiIKKkYiBIREREREVFSMRAlIiIiIiKipGIgSkREREREREnFQJSIiIiIiIiSioEoERERERERJRUDUSIiIiIiIkqqKxqImkwm/PSnP8WhQ4dw5MgRbNq0Keb00tJS1NbWwmAwqFcT00SWISIiIiIiosk1KYFoQ0MDPB6P5sfhcAAAdDodnnjiCdx5550YGRmBz+fD8PCw5vSMjAz8y7/8C/7+7/8e3//+99Wb07Ro0aJxL0NERERERESTb1ICUWF4eBihUEjxGRoaAgAsWbIEubm5CIfD+MUvfoHKykp873vf05z+ox/9CAMDAxgeHsbHH3+s3oymYDA47mWIiIiIiIho8k1qINrT04OysjLF5yc/+QkAIDU1FSkpKQiHw/D5fNIyWtN7enrwjW98A6WlpXA6nVLaeCayDBEREREREU2+SQ1EiYiIiIiIiNRmFBQUjMonFBQU4NSpU/JJ49bQ0ACLxYLu7m7YbDb1bGm+XDgcRm9vL+bPnx81fdu2bSgvL4fRaMSuXbsUTzirq6uxZs0azJ07FzNnzsTw8DC6urpQU1MDl8sVtYzRaMTjjz+OkpISZGRkYHh4GB9++CF+/vOfY9euXTCbzaivr0dWVhZcLhe+9KUvYdGiRUhNTUVvby+ampqwe/duafsVFRV44IEHkJeXh/T0dIyMjODMmTMIBAL48z//c/T29qKurg5erxcAkJeXhw0bNiA3Nxc7d+7Ej3/8Y2ldFNvlyJdERHRlsAwnIpqe4pX/k/pE1Gg0KgYqam9vh9VqxQcffIDTp09jeHgYw8PDOH36NE6ePIlAIKA5/ZNPPlGvGgBQV1eHb33rW1iwYAEuXryI999/H+fOnUNGRoY6KRD5Pk6nE4sXL8Znn32GEydO4OOPP0ZeXh4ef/xxrFixQko7Y8YMrF69Gvn5+ejp6cHQ0BAMBgMeeughmEwmAMC3vvUtPPHEE7jlllvw+eefo7u7Gx999BHS09Nx+vRpXLx4EVlZWSgpKZHW++UvfxkGgwHBYBD/93//J00nIiIiIiKaLiY1ENUarGh4eBj/8R//gRdeeAFDQ0MYGhrCCy+8gG9+85t4+OGHNafv2LFDvWqsWLECS5YsQUpKCg4ePIhVq1bhgQcewKpVq/C3f/u36uQAgAcffBALFy6E1+tFZWUlqqqqUFVVhffeew/XX389ysrKpLQzZ87EJ598gn/4h3+AzWZDc3MzBgcHcdNNN+HOO++EyWTCypUrMWvWLBw/fhzV1dWw2WxYs2YN1qxZg8bGRvT09CAtLQ1FRUXSeouKipCRkYH3338f//3f/y1NJyIiIiIimi4mNRBVD1Z0zz33YO/evepkE1JcXIzMzEx8/PHH2Lp1K0KhkDpJlNtvvx0pKSmwWCxob2+XntLedtttAICsrCwp7fDwMA4dOoTu7m4AwPHjxzEwMICUlBRkZGTgzjvvxE033YQ//OEPePHFF6V0QigUwuHDhzE8PIybb74ZJpMJixYtwh133IHBwUEcOnRIkZ6IiIiIiGi6mNRAdDKlp6cjJSUFFy5cQGdnp3q2ppSUP/7czs5OuN3uqM/hw4eltKOjo7h48aL098jICD7//HPp74yMDKSkpODixYvo6+uTpsu1t7ejt7cXN954I0pKSmA2mzFnzhycO3cOb775pjo5ERERERHRtDBlA1Fh9uzZWLRokXpyXOfPn0ddXV3U52c/+5k66ZhmzZqFG264QT0ZiAS8v/vd75Ceno6ioiIUFRUhPT0dv/vd7xIOnomIiIiIiK41UzYQfeedd3DhwgXMnTsXX//616HT6dRJonzwwQdApJ9mZWWlNN1kMuEHP/gBiouLZanj+/3vf4+BgQFcd911uO+++2AwGNRJAABHjx7FxYsX8YUvfAG33347BgYG8L//+7/qZERERERERNPGpAaieXl5aG9vV3y2bdumTjYhbrcbx44dQ0pKCv76r/8av/rVr/DSSy+hra0NL774ojo5AODll19GIBBAZmYm1q5dix07dsDlcqGhoQElJSWYOXOmepGYDh48iEOHDmFkZAQWiwWtra1wuVzYuXMndu7cCbPZDES+Z09PDwwGAwwGAz766CMGokRERERENK1NaiA6c+ZM6HQ6xWf27NnqZBMSCoWwbt06bN++HZ9++ikyMzOxcOFCXHfddTH7bB48eBBOpxPHjx/H6Ogo8vLykJ+fj2AwiP379+Ptt99WLxJXfX09tmzZgt7eXqSnp8NoNMJgMODTTz+VBk+SD1o0PDyMw4cPJzSwEhERERER0bVqRkFBwah8QryXjtLEfOc734HNZkNvby+efPJJ9g+dAOZLIqKpi2U4EdH0FK/8n9QnogQYjUYsXboUqampeOeddxiEEhERERHRtMdAdJI8/PDDaG1txdatW5Gbm4tAIIDt27erkxEREREREU07DEQnSUpKCubPn4/Zs2fj+PHjqKurg9frVScjIiIiIiKadthHlKYE5ksioqmLZTgR0fQUr/znE1EiIiIiIiJKKgaiRERERERElFQMRImIiIiIiCipGIgSERERERFRUjEQJSIiIiIioqRiIEpERERERERJxUCUiIiIiIiIkoqBKBERERERESXVjIKCglH5hIKCAvmfRERERERERBNy6tQp9SQgViAaKzHRlcJ8SUQ0dbEMJyKanuKV/2yaS0REREREREnFQJSIiIiIiIiSioEoERERERERJRUDUSIiIiIiIkoqBqJERERERESUVAxEiYiIiIiIKKkYiBIREREREVFSMRAlIiIiIiKipGIgSkREREREREnFQJSIiIiIiIiSioEoERERERERJRUDUSIiIiIiIkoqBqJE4+ByueByudSTrxkOhwOHDh2C3W5Xz6IprKGhAe3t7bBarepZRNOG3W5He3v7VVO+uVwueDyeK3JuulwutLW1wWw2q2ddFlarFe3t7XA4HOpZ16SrLW9dCl4vKJkmJRBtaGiAx+NBQ0ODehbMZjPa2trg8XiSVkCZTCY8/fTT2L9/P44cOQKPx4OOjg689tpr+OY3v6lOTtcgu92OQ4cOxc2TsQpel8sVcx5NjLwcuFI3YlPVZN9AEl2N4pXDDocj5j1HvLL/SnK5XNDr9XjkkUdQVlYGt9utTkJJJCoFPB4PK2OnMHG+Jyu+oEs3KYHo1aSyshLPPvssli1bhuuvvx4jIyO4cOECZsyYgZtuugl5eXnqRega9Oabb6K/vx/5+flRN/AGgwF6vR5paWnIzc1VzDObzdDr9fD7/bxRuEzMZjPq6+sRDAZhsVhgsVjg9/uxbt06zZvM6epaqmG/lsU6TrGm08R0dnZCp9PhrrvuUs/C/PnzAQBz5sxRz0J2djYA4NixY+pZV4zVakVOTg7OnDkDr9ernj1h0+0p5OUirxSwWCw4evQoqquree4SJcE1HYiuXr0atbW1yMrKQn9/P7Zs2YKvfOUrWLp0KVavXo29e/ciGAyqF6NrkNfrxZkzZ6DX62EwGBTz7rrrLuh0OqSlpaGoqEgxr6SkBFlZWejr61NMp4krKSmBXq/HgQMHpGni/+qKAIpms9mwatWqy3oDS3S1e+uttxAKhaSgUzCbzcjPzwcA5OTkRFVmmUwmhMNh+Hw+xXQiyCoFOjo6pDL11VdfRTgclioxaOpoamrC3XffDafTqZ5FV6lrOhC99957cd111yEQCKC+vh5bt25FKBQCAAQCATz55JPYtGmTejG6Rp09e1azRt1kMqG/vx/9/f1RNepXY236VCduCONd5B0OR8xmeEQ0/QQCAQSDwahWLaKysLu7O6pVC1u00FhEvlJXcMixdQPR5LkqAlGTyYRNmzbhjTfegMfjwZEjR7B7924sXrxYSvOP//iP2LNnD44cOYIjR45g7969+N73vgedTqdYl7Bs2TIYjUYMDw/jtddew8GDB9VJFKqrq9Ha2oqDBw/C4/Hg8OHD2LFjB+655x4pTUVFBX75y1+io6ND6mcq73diNBqxceNG6Xd0dHSgtbUVFRUVUhq6ckSNuslkkqaJG5WTJ0/i5MmTUTXqIkh98803pWmQ9UMQfUq0+h+p06j79YmBj9TptNalRfSLitevRWxDpJUHd6IZl1i+vb0dN954o2J5Qd5/xqPq3y0u0t/97nelfp/xfoPb7Ybf70dpaSnMZjPsdjuqq6vh9/vR1NQEAOjt7QXGeEKq7meqtV3RXz3WfK00zc3NaGtrkwalEtvRGqRKq7+m+niq5zc0NKCtrQ1VVVWK/a/eXk1NDXQ6HWpqahTfXb1Nrf2g3mYiEl2POt/Iv1us9cj3nXp5rQoH9TGRfw91vtdaXk59Dnhk54r6u6iPsdZvEd8l1nH6+c9/rjldvo/GyiPq7zzWb5wORKuWrKwslJSUSNOzs7MRDofx+uuvIxwOK1q1iCC1s7NTmibIy7RY+zdeuSdvBivPr1rlsFxDQwPq6+uh0+lgsVgUeUOdt9Xb1EojvrvL5ZLWW1FRAY9Gfh6L+nyQfzc5rfMikW2JfN/e3o5HH30UbQmWq7HKTK3jFq/s0CLyVWFhIaxWK6xWK9atW4dgMIg9e/YACVaeahHHSv4d1PtY/hsccQYLVO8TNbFv1fkFqmW1jl289SLO4EVa3zfe74vlUo6vevvq/SA/T8X5LPJcrHMpFvVvk69LPl9rW0ig3J+urnggqtPp8MQTT2Dx4sUYHR3F+++/D5/Ph4yMDFx//fUAgKeeegpf//rXkZGRge7ubpw6dQo6nQ73338/HnvsMfUqAQALFy6ETqfDwMBAQk+zrFYr5s6diw8++AAnTpxAMBhEXl4e7HY7TCYTVqxYgccffxwLFy7Ep59+ihMnTuDcuXPSEzSj0Qin04nFixfjs88+w4kTJ/Dxxx8jLy8Pjz/+OFasWKHeJCWZCID0er108otmoseOHcOxY8eQlpYmPTE1R4LUYDCoaAZpNBqxevVqfPvb34bFYsGuXbtgsVgUFwCHw4Gamhq43W5YLBY88sgjAID6+npFwZPIurS4XC5YrVY0NzdL/SyPHj2KmpqaqGVzcnJw2223wWKxSINi2O12OBwOdHV1Scvv27cPS5YsUSwrLlry/jO7du1CRUVF1Hbuuece7N69GxaLBbW1tYp5ajabDcFgEI2NjdJ+stls0nxxwY/VnM6s0c+0ubkZFy9elNK4XC4UFhairq5Oml9cXKy4sVKneeSRRzBv3ryo5tuJSvS4GwwG2O12rF+/Xvpuubm5aGhogNfrxapVq9Dc3IxQKCQd41j7dOXKlThz5oy0H+rq6qDX6/HEE0+ok8aVyHpEvvH7/Zr73Wq14tlnnwUAKb/U1dVhYGBAsbw836n7Bzc0NEQdk48++giI7F91vj9x4oT0/WIxGo0wmUzS+vr7+1FVVYV169ahpaUl6hgI8fZJrOP04IMPak4Xxy/RPKJ13k534louDwhMJhP8fj9++tOfwu/3K56YinSiYgsA0tLSUFNTg87OTmn/B4NBPProo9Jy4yn3REWzyCM+nw9VVVUxb2hra2tRV1eHUCgEj8cj5Q2z2QyTySTle0skSLVardKNdrz8b7PZpPWK64i8TB2Lw+FAfX294twUZab6Znrz5s2Ksreurg45OTlxb6ztkQpHn8+HsrIy/Pa3v1UniUuv1+Pv/u7vpDJTHLdEy454amtr0dXVhfr6emkfyLs/iApReT4ai8PhkCoExLrGKv/eeuutqMoURPZdbm6uovmwmhgHQ17RDo3+yPHKtEs11u+LJ5Hja7VaMWfOHOmctCRwvgllZWXSOW+z2eKeS7Hce++92Ldvn5Re65oBjW1hHOX+dHTFA9FFixZhzpw5CIfDeOmll/DAAw+gsrISTz31FN555x189atfxdKlS3Hu3Dn827/9Gx544AHYbDa8+uqrmDFjBkpLS+MOOBQOh3HhwgX15CgHDhxAbW0tbDYbqqqqsHnzZly4cAE33XQT7rzzThQUFECn06Gvrw9PPfUUqqqq8LWvfQ3/9V//BQB48MEHsXDhQni9XlRWVqKqqgpVVVV47733cP3116OsrEy9SboCOjs7FTXqosD3+Xzw+XwIh8NSE51YtemhUAjPPfecdEHYs2cPAoGAdAEwm80oLS1Fd3e31E/B6/Vi9+7dyMrKwsqVKxNelxa73Y6cnBxs27ZNeoKIyMW0u7tbetIo98tf/lLxd3l5OXw+nyK4cTqd8Hg8inQrV65EVlYWdu/eLX1Hp9MZtZ20tDScOHFC8X1icURqIfV6PTZu3IhQKKS42UJk8JFgMIhAIKBYVhADTMmPTVNTE7773e8Csgv3vn37pBv4pqYmHD16VKr5FvuxpaVFSuP1evHcc89JTfjHYzzHPRwOK7bb1NQEn88X1ewwEU6nU3Ec3W43urq6FBUuiRhrPWazGatXr4bP51Pc4Mr3e3V1NYLBIOrq6qT84na7UVNTA0TyXX9/P55//nlp+W3btgGRizwiA87Im1J6vV7U1NTA6/Vi/vz5US0UxMU9nlAoJG3H6/Wio6MDOp0OXV1dUp7VOgZj7ZPxGk8egcZ5O92pb7bFTbbow9/X1we9bByAWC1aPB6PYv93dHQorguJlnsA0N3drcgjBw4cUFRoJsrr9cJmsynysrqv4kTz/1hEvvR4PIrf0tTUBLfbjdzcXKl8FtcOeRngdrvR0tKimYehCkLHExzLpaWlYceOHVFlNRIsO2KxR55SFRYWYuPGjQgEArCoKoPHqhhVkweh8v05VvknyhdxjRKKiooQDofx1ltvSdPUvJEnu+pWXSIfvvrqq8AklGlyY/2+eBI5vu5IhbX8eCY6vsS5c+cU/UYnci7V1tYq1iGuGeouXeptjbfcn26uWCD6+eefY2hoCIFAABcuXEBaWhrWrFkDh8MBo9GIgwcPoru7G4sWLYJer0d2djY2bdokPdKurKxESkoK0tPT4z69SElJQWpqqnpylEOHDuH+++/HSy+9hNdffx3/+q//ioyMDKSkpCAjIwN9fX0YHh7GnDlzsHbtWlRXVwMA9u/fDwC4/fbbkZKSAovFIj26b29vx2233QYAyMrKUmyPrgxRoykuLPILlzvyxFTciIomX+rCX93fyOv1IhgMSgW51mA8iFzE5IEuEliXlqKiIgSDwaibK2gE2gCiAjpx86YOsBHpRytnMpng8/miAkz1DR80ltVijzSHFLXELS0t0tMeMUqhOTL4SLwRJUW/HnUAKxQVFaG/v19qWiWcPXtW6kcWaz+KdY/XeI67+gKIGPt0PERTIPGUZaLrirWeWBUzgrrmXU3MV9fqi/0tLuZ9fX0wGo1RtcyIHD+DwTDu2nv1edbb24twOJxQnkWcfTJe48kj6vOWostHcfMpnpTKW7WYIy1a1PkxHA5HtZJSXxfGU+6pzwetYzkeIjDyeDxSU1uxronm/7HIWwapyZ/Sxbt2qCsJhBtvvBFVVVWXFIQiRpk5nrJDi9Vqlb5bWVkZWlpapNYMVqtVCkbFU/d4QYpw2223Sdc4ecCXaPmn1TIrPz8fXV1dcLvdUkWu/CN+rwg25UFfrO9+uco0IdHfF0six1eQ7wPRBWKsZtPqAScnei6ZVU2bjUZj1P2aelvjKfeno0kNRNPT09WTkJqaipSUFIyMjOD8+fPo6enB1q1b4fP5cMMNN6CiogK/+MUvsHHjRhgMBqSkpGDGjBno7e2VggX55/XXX9e8WPf392N4eBiZmZn44he/qJ6tsHjxYvz4xz/GPffcg+zsbHz00Uf47W9/i8HBQSlNa2srdu7ciYGBARQUFOCxxx7Dr371K+nxekrKH3dlZ2dn1Hd0u904fPiwtC66cuQXS62Lamdnp1Qgm0ymCd0MZmdnK/qGiY+4qbhU6kJ5LEFV0+Lc3FykpaUp0mgRN3JGozHqwmexWBRpw+FwQs2WRM2uuGAKTqcTR48elVoS6PX6qDRy3kizSJ/Pp9kHb86cOTAYDGhsbFR8b3l/7fHux7FM9nGPRfSZgax5oPh7PMZaj1YzRzmRr2IFd2K+eFIgPo2NjYoboNraWqlpoUfVj8bpdErNoTwJ9Om5VGPtk/EaTx5Rn7f0R/LKNnVlkijf58+fL1WcxMqPsYyn3LucrJH+ZdXV1di2bRsskWaT8tYZk5X/s7OzE7omJHrtkBPdPcSTsckUr+zQctdddyEtLS0qQBBPgq1WKzZs2ICcnJyoNFrS0tKwZMmSqKeCGEf5pw7o1ZUETqdTKovERwS8blVlumgZJL/HudxlmpDo77sUopJm+fLlii434XBYnTSKuhyYyLnkcrnQ2NioaNrc3d2tTha1rfGU+9PRpASi/f39AIB58+ZFFQJf/OIXkZmZieHhYSnda6+9hvvuuw///M//jN/85jcAgLvvvlsK8gBgeHgYra2tqKurU3w2bNiAnp4eKZ1w+PBhBAIBzJo1CytWrIDRaFQnkVitVhgMBnz44Yd4+OGH8Y1vfAN79+7FyMiIIt3GjRvxN3/zN9i4cSO6u7uRmZmJr33ta/jqV78qpTl//nzUd6yrq8PPfvYzxbroypA3X1m2bBnS0tIUN9a9vb1IS0vDsmXL4j7diae3t1fRN0z9kdeSToS6tm28RC3cWMTTh+7u7qjfYJlgv7U5c+bEDO6ff/55BINBLFmyRKr9HYvNZoNF1rdW9GXq6+tDIBBQ9CURn7vvvhtNTU0J70exH8Yy2cddi91uR3FxMXbt2nVJTxsSWY94ihjLWPlKzBfHSv2Rb1fcbIn+S88++6x0kyCG5xd9iBwOh+ZT8UuVyD4ZryuRR6414gmdxWJBfn6+ImAX52p+fj4sFgvCGi1axjIZ5V4iRLP2b3/721FPYuUmI/+PdW4LY53jWsRr8tT9BBMtVxMhL8vjlR1q8+fPRzjGq32cTid8Ph+WLFkCv2wgvXhE+abX66P6/iVa/nkjTcVFE1t1ZctY1BU18pZBEy3T1IGVlkR/30T09fXBLOsacrnOwfGcSw6HA7m5uWhubh53Oc1yP75JCURPnDiBwcFBZGdn46GHHpJqQ0pLS7Fq1SrMmjULgUAAhw8fhtlsxv333w8A+PWvf41/+qd/wu9//3ukpKRg7ty56OnpweDgIAwGAyorK6Vt6HQ6rF27FlVVVdI0uZ6eHvzP//wPwuEwbrnlFjz99NP4y7/8S2m+0WjEj370I3znO9+Rms0ODw/D7/cDAP7sz/4Ms2bNktKvXr0aZWVlCIVCaGlpwebNm3Hu3DnMnj1bGuQIkSc+8u9pMpnwgx/8AMXFxdI0urJE88yCgoKo5iCiNrKgoACY4GtbxEVNPeDA5XL27Nmo5rdCrD5RcqK5i7oJFSLLy/X19UX1ObkUWk3bBEOk3ycSvPDJOSP9W0UTmXj7SIiVRjxJUVM3vxFP1IXJPu6JEk25LpV6PWP9vnj5CgnM1+KO9D2DRh8gb6QPUTiJ7/tT75PxGmsf0thEPpo3bx70qn7ikLVqmTdvnmaTxERc7nJvosQ7rrVczvwfL1+Kp4bHjh2Lew7Harp/4cIF1NXVaQajSKBcFeKV1VrXi3hlhyDvqqEmnoxjnJW/vb29WL9+fVQwGm/fqYnKk2XLlqGwsDCquWs8e/bsQX9/PyyRipqxKtMTLdO09pP8t4zn92kZ7/EVioqKxv2UXm2i51KsvKoW7/yiSQpEt2/fLt3AWyJPK9544w1s3LgRf/qnf4rBwUHs378fPT09MBgM0jDeLS0tePnll2EymTA8PIz33nsPra2tOHbsGFJSUmC1WqV0r7zyCu677z5kZmaqNy954YUXsH//foyMjMBoNOKZZ57Bb37zG7zxxhtoaWnBihUroI+8umNkZAT5+fnSdygvL1es60tf+hKefvpp7NixAy0tLXA4HLjxxhsRDAbx7rvv4uWXX0YgEEBmZibWrl2LHTt2wOVyoaGhASUlJZg5c6ZifXTliBr1m2++OaqQFk9Mb775ZkBWgIyHO9L536Ia8MBsNqO5uTmqlcB4iZpa0adSaGhoQG5urmKADS2ixlXdl0b0z5YTzWPlI0oiklb+2xIVa3122WisHo8Hy5cvj7phkbNGRrsTxMU0GHk6Ii7G6tH07HY7NmzYAMgu2PI0otZVfWHr7OyEwWDAQw89JE2rrq5W3CRe7uOeyMVL1ELLL/7yyr9EJbIet9stjRgozzdin3ojgy/k5uZGDWnf3NwcM98BkPpkqf8P1YBiGzZsUOR5cZMcq7nwpUhkn4h00DhOWtMvdx6ZjkQZLY6D+omn+NtgMIwrgJCLVU5NtNxLRF9fn+Jm3Gq1Yvny5Yo0Y+X/iQYD8c5tq9WKo0ePoqmpKe45LvpaygdpEcSNPgBFMJpIuSqkpaVh9erV0vEQ25Q/8YtXdmjRugYgsm4x+vfevXtRXFwc80mZFhEEZ2VlScFoouWfWN7v96OkpASDg4NReTwecX4UFRVFdXFJtExTE/dM8v2vvl8Yz+/TMtbx9UaeoMsriMQT3okY61xSE9Pl5XmsvKrGcj++SQlEQ6EQ6uvrsWfPHpw/fx6pqanIyMjAyMgITp48iWeeeQZbtmwBIgXnhx9+iBtuuAG33nor5s+fj08//RQvvfQSNm3aJK1r3759CIVCyM7Oxi233IL09HR4Iu8QiiUUCuHf//3f8eyzz+LkyZMYGhrCrFmzMHv2bAwNDeHtt9/G4cOHsWXLFhw6dAhDQ0OYP38+dDodXnnlFUUf0Z6eHpw/fx4LFizArbfeiuuuuw7vv/8+Nm7ciF//+tc4ePAgnE4njh8/jtHRUeTl5Uk3xvv378fbb7+t+G505YhCHjGevIlpE61Nh6yviry/RGNjI06fPh03SEyUzWaTXtci1l9YWAin05lQEyKn06noS+PxeGAymbBr1y5FOrfbjbVr1wKAor9laWlp1EBAiXC73SgrK0Mw8uoWsT7RL8pms6FWNpS+R+M9esKtt96q2LfBYFDRvGnVqlXw+/3SejweD6qqqqQBxrxer1RTL9Js3rxZs9+5eOIq31+dnZ1R/UMu53GXX7w8Md7nJ254RD8XT6Svj/g3UYmuR/SrKS4ultJVV1fj3XffBSJNnZxOJ3JycqT59fX1OH36dMzlPR4PhoaGpHMtMzNTccwKCwuxfv16uN1uzJ49W5HnrVZr1OjRl0ui+yTWcYo1/XLmkenq2LFjCIfDCGo08xfBWFhjUKJEXe5yLxG1tbXwyfq8r1u3Di+++KKij+hY+V8eDHgSfLenoHVuilFE5U0HY53jXV1dcZtfut1urF+/Hoi8ssLhcCRcriJyXI8ePSodj/r6evj9fsVrVuKVHVrEdUJ+vRHr3rdvH1atWoUnn3wS7sjI354Y5bCWpqYmbNu2DVlZWdi8eTPsdrvmPvaoyj9BjL7c398fNW8s4vxQ38MkWqapieWysrKk/a91vzCe36eWyPF95plnFNfr1atXo7W1FeFxNhdHAueSmug3nEhe1cJyP7YZBQUFo/IJBQUFOHXqlHwS0RXHfEnJYpa9ozTejRURJY5lOE1UQ0MD8vPzFa+FutbZ7XZUVVWhpaUlZnB0rZiOx3e6iVf+T8oTUSIiIiIiGr/y8nIExzFIEdFUxUCUiIiIiOgqYI+8dmU8gxQRTVUMRImIiIiIriB75D2Zom+u1sBPRNca9hGlKYH5koho6mIZTkQ0PcUr//lElIiIiIiIiJKKgSgRERERERElFQNRIiIiIiIiSioGokRERERERJRUDESJiIiIiIgoqRiIEhERERERUVIxECUiIiIiIqKkYiBKREREREREScVAlIiIiIiIiJKKgSgRERERERElFQNRIiIiIiIiSioGokREREQJslqtaG9vR0NDg3rWhDQ0NKC9vR1Wq1U9i4jomsZAlIiIiIiIiJKKgSgRERERERElFQNRIiIiIiIiSioGokRERERERJRUDESJiIjoqtfQ0IC2tjZUVVWhvb0dHo8HHo8HLpdLnVQaUEik0RoMKJE0AOByuaQ0Ho8Hy5YtUycBIt9Pnk5rMCO73Y5Dhw5Jadra2pCenq5ORkQ0LTAQJSIioinBYDDAbrdj/fr1sFgsaG5uRm5uriLos9vtcDgc6OrqgsVigcVigd/vx7p166RAM5E0ZrMZbW1t0Ov1eOSRR2CxWFBXV4eSkhLodDppe4gEq4WFhairq5O+V3FxseJ7ORwO1NTUwO12S9s8c+YMioqKFOsiIpouGIgSERHRlBAOh9HS0gK32w0AaGpqgs/nQ35+PsxmMwCgvLwc/f39eP7556Xltm3bBgC49957E06zcuVK6PV6PPfcc/B6vQAAt9uNlpYWhMNhaTm73Y7c3Fzs27dP8b2OHj2KwsJCWK1WmM1mlJaWwuPxwOl0SsvW1taiu7tb+puIaDphIEpERERTQn9/P958803FtL6+Puj1ehgMBlitVuTk5KCjo0MKHgEgEAggGAxizpw5CaUBAJPJBL/fLwWXgs/nUwSiRUVF6O/vx549exTpzp49i7S0NOTm5qKkpAR6vR7Hjh1TpEHk+xMRTUcMRImIiOiakJubi7S0NFRUVCj6azY2NsJgMCScxmw2Q6/Xq9aubc6cOTAYDGhsbFSsr6KiQkqTnZ2NtLQ0xXJERNMdA1EiIiK6Joinlbt27ZL6Yco/NpstoTRerxfBYFC9ek19fX0IBAJSP1L55+6770ZTUxN6e3sVT1GJiIiBKBEREV0jRPNak8mkniVJJA0iAWZOTk7USLp33XWXYrCis2fPIisrCyUlJYp0cj6fD4g045Uzm83Iz89XTCMimi4YiBIREdE1wev1oqOjA0ajMer1Kc3NzbBarQmlAYBXX30VAPDoo49KAyFZrVYsX75cscyePXvQ39+PqqoqRdBqt9uxYcMGIDLIkRih1+FwSGkeeughqTkwEdF0w0CUiIiIrhlOp1N6fYq8z+bQ0JA08FAiadxuN9avXw+9Xi/1/1y3bh1efPFFhEIhaXterxerVq2C3+9HfX29tK6qqirs379fSldbWyv1HRVpAEj/EhFNNzMKCgpG5RMKCgpw6tQp+SSiK475koho6mIZTkQ0PcUr//lElIiIiIiIiJKKgSgRERERERElFQNRIiIiIiIiSioGokRERERERJRUDESJiIiIiIgoqRiIEhERERERUVJFBaIjIyNITU1VTyYiIiIiIiJKSGpqKkZGRtSTJVGB6ODgIGbNmqWeTERERERERJSQWbNmYXBwUD1ZEhWIhkIhZGZmqicTERERERERJSQzMxOhUEg9WRIViA4MDCA1NZXBKBEREREREY1bZmYmUlNTMTAwoJ4liQpEAeCTTz5BVlYWg1EiIiIiIiJKWGZmJrKysvDJJ5+oZyloBqJDQ0Pw+/3IzMzE3LlzodPpOIARERERERERRUlNTYVOp8PcuXORmZkJv9+PoaEhdTKFGQUFBaPqiXKZmZnQ6XSYNWsWg1EiIiIiIiJSGBkZweDgIEKhUNzmuHJjBqJEREREREREl5Nm01wiIiIiIiKiycJAlIiIiIiIiJKKgSgRERERERElFQNRIiIiIiIiSioGokRERERERJRUDESJiIiIiIgoqRiIEhERERERUVIxECUiIiIiIqKkYiBKRERERERESfX/wvYJgaXZwXsAAAAASUVORK5CYII=)"
      ],
      "metadata": {
        "id": "PCh4jF6isuaZ"
      }
    },
    {
      "cell_type": "markdown",
      "source": [
        "# Practical Questions"
      ],
      "metadata": {
        "id": "WzShCHaltN8p"
      }
    },
    {
      "cell_type": "markdown",
      "source": [
        "Q1. Write a code to create a string with your name and print it?\n",
        "\n",
        "Ans."
      ],
      "metadata": {
        "id": "hgdhjwRutWqR"
      }
    },
    {
      "cell_type": "code",
      "source": [
        "# Create a string with your name\n",
        "name = \"Md Asif Ali\"\n",
        "\n",
        "# Print the name\n",
        "print(name)\n"
      ],
      "metadata": {
        "colab": {
          "base_uri": "https://localhost:8080/"
        },
        "id": "nIH0VPHothjL",
        "outputId": "fe0e78c2-85ed-46e9-ecb1-6d17a128e6f4"
      },
      "execution_count": null,
      "outputs": [
        {
          "output_type": "stream",
          "name": "stdout",
          "text": [
            "Md Asif Ali\n"
          ]
        }
      ]
    },
    {
      "cell_type": "markdown",
      "source": [
        "Q2.  Write a code to find the length of the string \"Hello World\"?\n"
      ],
      "metadata": {
        "id": "QcS2OS-Qtne_"
      }
    },
    {
      "cell_type": "code",
      "source": [
        "# Define the string\n",
        "text = \"Hello World\"\n",
        "\n",
        "# Find the length of the string\n",
        "length = len(text)\n",
        "\n",
        "# Print the length\n",
        "print(\"Length of the string:\", length)\n"
      ],
      "metadata": {
        "colab": {
          "base_uri": "https://localhost:8080/"
        },
        "id": "nqbf4xh5tu0g",
        "outputId": "d202a8ce-50dc-4653-e993-75ffb7b274f3"
      },
      "execution_count": null,
      "outputs": [
        {
          "output_type": "stream",
          "name": "stdout",
          "text": [
            "Length of the string: 11\n"
          ]
        }
      ]
    },
    {
      "cell_type": "markdown",
      "source": [
        "Q3. Write a code to slice the first 3 characters from the string \"Python Programming\".\n"
      ],
      "metadata": {
        "id": "2pavMTYctzt3"
      }
    },
    {
      "cell_type": "code",
      "source": [
        "# Define the string\n",
        "text = \"Python Programming\"\n",
        "\n",
        "# Slice the first 3 characters\n",
        "first_three = text[:3]\n",
        "\n",
        "# Print the result\n",
        "print(\"First 3 characters:\", first_three)\n"
      ],
      "metadata": {
        "colab": {
          "base_uri": "https://localhost:8080/"
        },
        "id": "W9fOcSAUt9fM",
        "outputId": "4c97fc99-aab9-453f-b694-05ca53a5cd41"
      },
      "execution_count": null,
      "outputs": [
        {
          "output_type": "stream",
          "name": "stdout",
          "text": [
            "First 3 characters: Pyt\n"
          ]
        }
      ]
    },
    {
      "cell_type": "markdown",
      "source": [
        "Q4. Write a code to convert the string \"hello\" to uppercase."
      ],
      "metadata": {
        "id": "YPgcKRuBuFUY"
      }
    },
    {
      "cell_type": "code",
      "source": [
        "# Define the string\n",
        "text = \"hello\"\n",
        "\n",
        "# Convert to uppercase\n",
        "uppercase_text = text.upper()\n",
        "\n",
        "# Print the result\n",
        "print(\"Uppercase:\", uppercase_text)"
      ],
      "metadata": {
        "colab": {
          "base_uri": "https://localhost:8080/"
        },
        "id": "DlbFW854uQtG",
        "outputId": "1b66f1f4-2ef4-4822-a0eb-173b007e2948"
      },
      "execution_count": null,
      "outputs": [
        {
          "output_type": "stream",
          "name": "stdout",
          "text": [
            "Uppercase: HELLO\n"
          ]
        }
      ]
    },
    {
      "cell_type": "markdown",
      "source": [
        "Q5. Write a code to replace the word \"apple\" with \"orange\" in the string \"I like apple\"."
      ],
      "metadata": {
        "id": "jWdXPdkfuT_H"
      }
    },
    {
      "cell_type": "code",
      "source": [
        "# Define the string\n",
        "text = \"I like apple\"\n",
        "\n",
        "# Replace \"apple\" with \"orange\"\n",
        "new_text = text.replace(\"apple\", \"orange\")\n",
        "\n",
        "# Print the result\n",
        "print(new_text)"
      ],
      "metadata": {
        "colab": {
          "base_uri": "https://localhost:8080/"
        },
        "id": "Y3UnKNIXuhE7",
        "outputId": "64bfe89a-842b-4d36-f6ef-f1e0eb616fda"
      },
      "execution_count": null,
      "outputs": [
        {
          "output_type": "stream",
          "name": "stdout",
          "text": [
            "I like orange\n"
          ]
        }
      ]
    },
    {
      "cell_type": "markdown",
      "source": [
        "Q6. Write a code to create a list with numbers 1 to 5 and print it."
      ],
      "metadata": {
        "id": "Ts2tWj9Wul_T"
      }
    },
    {
      "cell_type": "code",
      "source": [
        "# Create a list with numbers 1 to 5\n",
        "numbers = [1, 2, 3, 4, 5]\n",
        "\n",
        "# Print the list\n",
        "print(numbers)"
      ],
      "metadata": {
        "colab": {
          "base_uri": "https://localhost:8080/"
        },
        "id": "R5D-BY5CuqYk",
        "outputId": "12b95cc2-71f8-4e47-d278-70f8edaca17c"
      },
      "execution_count": null,
      "outputs": [
        {
          "output_type": "stream",
          "name": "stdout",
          "text": [
            "[1, 2, 3, 4, 5]\n"
          ]
        }
      ]
    },
    {
      "cell_type": "markdown",
      "source": [
        "Q7. Write a code to append the number 10 to the list [1, 2, 3, 4].\n"
      ],
      "metadata": {
        "id": "lKakxz76uwi6"
      }
    },
    {
      "cell_type": "code",
      "source": [
        "# Define the list\n",
        "numbers = [1, 2, 3, 4]\n",
        "\n",
        "# Append 10 to the list\n",
        "numbers.append(10)\n",
        "\n",
        "# Print the updated list\n",
        "print(numbers)"
      ],
      "metadata": {
        "colab": {
          "base_uri": "https://localhost:8080/"
        },
        "id": "vdGvW9CQu3TZ",
        "outputId": "5f59c2b3-c38f-45a7-c73f-8b9b088c8dc1"
      },
      "execution_count": null,
      "outputs": [
        {
          "output_type": "stream",
          "name": "stdout",
          "text": [
            "[1, 2, 3, 4, 10]\n"
          ]
        }
      ]
    },
    {
      "cell_type": "markdown",
      "source": [
        "Q8. Write a code to remove the number 3 from the list [1, 2, 3, 4, 5].\n"
      ],
      "metadata": {
        "id": "TqU-3G09u44k"
      }
    },
    {
      "cell_type": "code",
      "source": [
        "# Define the list\n",
        "numbers = [1, 2, 3, 4, 5]\n",
        "\n",
        "# Remove the number 3\n",
        "numbers.remove(3)\n",
        "\n",
        "# Print the updated list\n",
        "print(numbers)"
      ],
      "metadata": {
        "colab": {
          "base_uri": "https://localhost:8080/"
        },
        "id": "SGi5PW4Fu9PS",
        "outputId": "60581c4d-f43e-41be-9b3b-b48b05c5b564"
      },
      "execution_count": null,
      "outputs": [
        {
          "output_type": "stream",
          "name": "stdout",
          "text": [
            "[1, 2, 4, 5]\n"
          ]
        }
      ]
    },
    {
      "cell_type": "markdown",
      "source": [
        "Q9. Write a code to access the second element in the list ['a', 'b', 'c', 'd'].\n"
      ],
      "metadata": {
        "id": "j0BA0uxAvGMe"
      }
    },
    {
      "cell_type": "code",
      "source": [
        "# Define the list\n",
        "letters = ['a', 'b', 'c', 'd']\n",
        "\n",
        "# Access the second element (index 1)\n",
        "second_element = letters[1]\n",
        "\n",
        "# Print the result\n",
        "print(\"Second element:\", second_element)"
      ],
      "metadata": {
        "colab": {
          "base_uri": "https://localhost:8080/"
        },
        "id": "FB_2W_UJvN44",
        "outputId": "f42faec4-516b-4361-9a7c-5ec31eed3faa"
      },
      "execution_count": null,
      "outputs": [
        {
          "output_type": "stream",
          "name": "stdout",
          "text": [
            "Second element: b\n"
          ]
        }
      ]
    },
    {
      "cell_type": "markdown",
      "source": [
        "Q10. Write a code to reverse the list [10, 20, 30, 40, 50]."
      ],
      "metadata": {
        "id": "YCSWY4SJvQDY"
      }
    },
    {
      "cell_type": "code",
      "source": [
        "# Define the list\n",
        "numbers = [10, 20, 30, 40, 50]\n",
        "\n",
        "# Reverse the list in place\n",
        "numbers.reverse()\n",
        "\n",
        "# Print the reversed list\n",
        "print(numbers)"
      ],
      "metadata": {
        "colab": {
          "base_uri": "https://localhost:8080/"
        },
        "id": "0-zWowhlvTzD",
        "outputId": "795ea460-da0c-49f0-c259-0e5d63c513dd"
      },
      "execution_count": null,
      "outputs": [
        {
          "output_type": "stream",
          "name": "stdout",
          "text": [
            "[50, 40, 30, 20, 10]\n"
          ]
        }
      ]
    },
    {
      "cell_type": "markdown",
      "source": [
        "Q11. Write a code to create a tuple with the elements 100, 200, 300 and print it."
      ],
      "metadata": {
        "id": "yi5uZf6uvZ4Z"
      }
    },
    {
      "cell_type": "code",
      "source": [
        "# Define the tuple\n",
        "numbers = (100, 200, 300)\n",
        "\n",
        "# Print the tuple\n",
        "print(numbers)"
      ],
      "metadata": {
        "colab": {
          "base_uri": "https://localhost:8080/"
        },
        "id": "EhYObUzZvhOP",
        "outputId": "8be5f377-a5ab-4045-bed8-a78d4d32f517"
      },
      "execution_count": null,
      "outputs": [
        {
          "output_type": "stream",
          "name": "stdout",
          "text": [
            "(100, 200, 300)\n"
          ]
        }
      ]
    },
    {
      "cell_type": "markdown",
      "source": [
        "Q12. Write a code to access the second-to-last element of the tuple ('red', 'green', 'blue', 'yellow')."
      ],
      "metadata": {
        "id": "ykTSsftFvkCb"
      }
    },
    {
      "cell_type": "code",
      "source": [
        "# Define the tuple\n",
        "colors = ('red', 'green', 'blue', 'yellow')\n",
        "\n",
        "# Access the second-to-last element\n",
        "second_to_last = colors[-2]\n",
        "\n",
        "# Print the result\n",
        "print(\"Second-to-last element:\", second_to_last)"
      ],
      "metadata": {
        "colab": {
          "base_uri": "https://localhost:8080/"
        },
        "id": "Les6an1VvrZu",
        "outputId": "00cc83af-db21-4ad8-baa0-347150a8623e"
      },
      "execution_count": null,
      "outputs": [
        {
          "output_type": "stream",
          "name": "stdout",
          "text": [
            "Second-to-last element: blue\n"
          ]
        }
      ]
    },
    {
      "cell_type": "markdown",
      "source": [
        "Q13. Write a code to find the minimum number in the tuple (10, 20, 5, 15)."
      ],
      "metadata": {
        "id": "apW--x80vvff"
      }
    },
    {
      "cell_type": "code",
      "source": [
        "# Define the tuple\n",
        "numbers = (10, 20, 5, 15)\n",
        "\n",
        "# Find the minimum number\n",
        "min_number = min(numbers)\n",
        "\n",
        "# Print the result\n",
        "print(\"Minimum number:\", min_number)"
      ],
      "metadata": {
        "colab": {
          "base_uri": "https://localhost:8080/"
        },
        "id": "N536sNW0v5F4",
        "outputId": "887ee6ce-31c3-4967-f7d7-012213e0ad0c"
      },
      "execution_count": null,
      "outputs": [
        {
          "output_type": "stream",
          "name": "stdout",
          "text": [
            "Minimum number: 5\n"
          ]
        }
      ]
    },
    {
      "cell_type": "markdown",
      "source": [
        "Q14. Write a code to find the index of the element \"cat\" in the tuple ('dog', 'cat', 'rabbit')."
      ],
      "metadata": {
        "id": "84okw5Dlv7DQ"
      }
    },
    {
      "cell_type": "code",
      "source": [
        "# Define the tuple\n",
        "animals = ('dog', 'cat', 'rabbit')\n",
        "\n",
        "# Find the index of \"cat\"\n",
        "cat_index = animals.index('cat')\n",
        "\n",
        "# Print the result\n",
        "print(\"Index of 'cat':\", cat_index)"
      ],
      "metadata": {
        "colab": {
          "base_uri": "https://localhost:8080/"
        },
        "id": "_rxqlE91wAVx",
        "outputId": "37d8f398-feed-4b5a-a1fb-3a23f405a96b"
      },
      "execution_count": null,
      "outputs": [
        {
          "output_type": "stream",
          "name": "stdout",
          "text": [
            "Index of 'cat': 1\n"
          ]
        }
      ]
    },
    {
      "cell_type": "markdown",
      "source": [
        "Q15. Write a code to create a tuple containing three different fruits and check if \"kiwi\" is in it.\n"
      ],
      "metadata": {
        "id": "1kZyWxndwGt6"
      }
    },
    {
      "cell_type": "code",
      "source": [
        "# Define the tuple with fruits\n",
        "fruits = ('apple', 'banana', 'orange')\n",
        "\n",
        "# Check if \"kiwi\" is in the tuple\n",
        "is_kiwi_present = \"kiwi\" in fruits\n",
        "\n",
        "# Print the result\n",
        "print(\"Is 'kiwi' in the tuple?\", is_kiwi_present)"
      ],
      "metadata": {
        "colab": {
          "base_uri": "https://localhost:8080/"
        },
        "id": "6Wi64rSSwLyE",
        "outputId": "79b7472d-aeba-4d5d-9115-ee3685ff6f2d"
      },
      "execution_count": null,
      "outputs": [
        {
          "output_type": "stream",
          "name": "stdout",
          "text": [
            "Is 'kiwi' in the tuple? False\n"
          ]
        }
      ]
    },
    {
      "cell_type": "markdown",
      "source": [
        "Q16.  Write a code to create a set with the elements 'a', 'b', 'c' and print it.\n"
      ],
      "metadata": {
        "id": "nUhXbS6RwXaL"
      }
    },
    {
      "cell_type": "code",
      "source": [
        "# Define the set\n",
        "my_set = {'a', 'b', 'c'}\n",
        "\n",
        "# Print the set\n",
        "print(my_set)"
      ],
      "metadata": {
        "colab": {
          "base_uri": "https://localhost:8080/"
        },
        "id": "ofzpI6howc49",
        "outputId": "41f1091c-dca9-4f89-9177-487f6e3d0569"
      },
      "execution_count": null,
      "outputs": [
        {
          "output_type": "stream",
          "name": "stdout",
          "text": [
            "{'b', 'c', 'a'}\n"
          ]
        }
      ]
    },
    {
      "cell_type": "markdown",
      "source": [
        "Q17. Write a code to clear all elements from the set {1, 2, 3, 4, 5}."
      ],
      "metadata": {
        "id": "iUA9z5dj2iLw"
      }
    },
    {
      "cell_type": "code",
      "source": [
        "my_set = {1, 2, 3, 4, 5}\n",
        "my_set.clear()\n",
        "print(my_set)  # Output: set()"
      ],
      "metadata": {
        "colab": {
          "base_uri": "https://localhost:8080/"
        },
        "id": "XqwbBhRT2onC",
        "outputId": "88aecca5-0cc0-4ae7-a522-af71d571ea79"
      },
      "execution_count": 55,
      "outputs": [
        {
          "output_type": "stream",
          "name": "stdout",
          "text": [
            "set()\n"
          ]
        }
      ]
    },
    {
      "cell_type": "markdown",
      "source": [
        "Q18. Write a code to remove the element 4 from the set {1, 2, 3, 4}."
      ],
      "metadata": {
        "id": "G-ZUMNof20b3"
      }
    },
    {
      "cell_type": "code",
      "source": [
        "my_set = {1, 2, 3, 4}\n",
        "my_set.remove(4)  # Raises an error if 4 is not in the set\n",
        "print(my_set)  # Output: {1, 2, 3}"
      ],
      "metadata": {
        "colab": {
          "base_uri": "https://localhost:8080/"
        },
        "id": "HWrctne93LHt",
        "outputId": "97590222-fa42-4d63-c36e-bcebf9a4a681"
      },
      "execution_count": 56,
      "outputs": [
        {
          "output_type": "stream",
          "name": "stdout",
          "text": [
            "{1, 2, 3}\n"
          ]
        }
      ]
    },
    {
      "cell_type": "markdown",
      "source": [
        "Q19. Write a code to find the union of two sets {1, 2, 3} and {3, 4, 5}."
      ],
      "metadata": {
        "id": "tp8gWexY3NST"
      }
    },
    {
      "cell_type": "code",
      "source": [
        "set1 = {1, 2, 3}\n",
        "set2 = {3, 4, 5}\n",
        "\n",
        "# Using union() method\n",
        "union_set = set1.union(set2)\n",
        "print(union_set)  # Output: {1, 2, 3, 4, 5}\n",
        "\n",
        "# Using | operator\n",
        "union_set = set1 | set2\n",
        "print(union_set)  # Output: {1, 2, 3, 4, 5}"
      ],
      "metadata": {
        "colab": {
          "base_uri": "https://localhost:8080/"
        },
        "id": "OR0X6_EL3Sgu",
        "outputId": "de10b73f-9f4f-4f46-f987-ee723b56af68"
      },
      "execution_count": 57,
      "outputs": [
        {
          "output_type": "stream",
          "name": "stdout",
          "text": [
            "{1, 2, 3, 4, 5}\n",
            "{1, 2, 3, 4, 5}\n"
          ]
        }
      ]
    },
    {
      "cell_type": "markdown",
      "source": [
        "Q20. Write a code to find the intersection of two sets {1, 2, 3} and {2, 3, 4}."
      ],
      "metadata": {
        "id": "Nb9jEdmc3YgF"
      }
    },
    {
      "cell_type": "code",
      "source": [
        "set1 = {1, 2, 3}\n",
        "set2 = {2, 3, 4}\n",
        "\n",
        "# Using intersection() method\n",
        "intersection_set = set1.intersection(set2)\n",
        "print(intersection_set)  # Output: {2, 3}\n",
        "\n",
        "# Using & operator\n",
        "intersection_set = set1 & set2\n",
        "print(intersection_set)  # Output: {2, 3}"
      ],
      "metadata": {
        "colab": {
          "base_uri": "https://localhost:8080/"
        },
        "id": "J0fnOZpY3eV4",
        "outputId": "83a0acce-cb26-4f55-ea8d-b20d997c3d92"
      },
      "execution_count": 58,
      "outputs": [
        {
          "output_type": "stream",
          "name": "stdout",
          "text": [
            "{2, 3}\n",
            "{2, 3}\n"
          ]
        }
      ]
    },
    {
      "cell_type": "markdown",
      "source": [
        "Q21. Write a code to create a dictionary with the keys \"name\", \"age\", and \"city\", and print it."
      ],
      "metadata": {
        "id": "KOkveU6-3lLV"
      }
    },
    {
      "cell_type": "code",
      "source": [
        "person = {\n",
        "    \"name\": \"John\",\n",
        "    \"age\": 30,\n",
        "    \"city\": \"New York\"\n",
        "}\n",
        "\n",
        "print(person)"
      ],
      "metadata": {
        "colab": {
          "base_uri": "https://localhost:8080/"
        },
        "id": "76GmSiZR3pfN",
        "outputId": "759d48b4-adb0-403a-84ef-c0620654301d"
      },
      "execution_count": 59,
      "outputs": [
        {
          "output_type": "stream",
          "name": "stdout",
          "text": [
            "{'name': 'John', 'age': 30, 'city': 'New York'}\n"
          ]
        }
      ]
    },
    {
      "cell_type": "markdown",
      "source": [
        "Q22. Write a code to add a new key-value pair \"country\": \"USA\" to the dictionary {'name': 'John', 'age': 25}."
      ],
      "metadata": {
        "id": "Cqf5wO3D3uUj"
      }
    },
    {
      "cell_type": "code",
      "source": [
        "person = {'name': 'John', 'age': 25}\n",
        "\n",
        "# Adding a new key-value pair\n",
        "person['country'] = 'USA'\n",
        "\n",
        "print(person)"
      ],
      "metadata": {
        "colab": {
          "base_uri": "https://localhost:8080/"
        },
        "id": "4ULR8ENa317e",
        "outputId": "b04f7d05-1989-4e00-bbe5-f9d35b67e9de"
      },
      "execution_count": 60,
      "outputs": [
        {
          "output_type": "stream",
          "name": "stdout",
          "text": [
            "{'name': 'John', 'age': 25, 'country': 'USA'}\n"
          ]
        }
      ]
    },
    {
      "cell_type": "markdown",
      "source": [
        "Q23. Write a code to access the value associated with the key \"name\" in the dictionary {'name': 'Alice', 'age': 30}."
      ],
      "metadata": {
        "id": "8iaXSE4137Xs"
      }
    },
    {
      "cell_type": "code",
      "source": [
        "person = {'name': 'Alice', 'age': 30}\n",
        "\n",
        "# Using bracket notation\n",
        "name_value = person['name']\n",
        "print(name_value)  # Output: Alice\n",
        "\n",
        "# Using get() method (safer, avoids KeyError if the key is missing)\n",
        "name_value = person.get('name')\n",
        "print(name_value)  # Output: Alice"
      ],
      "metadata": {
        "colab": {
          "base_uri": "https://localhost:8080/"
        },
        "id": "_v2ODu6E4DWQ",
        "outputId": "34d53e2e-d8e9-4cbe-9aa3-eb990905eb4f"
      },
      "execution_count": 61,
      "outputs": [
        {
          "output_type": "stream",
          "name": "stdout",
          "text": [
            "Alice\n",
            "Alice\n"
          ]
        }
      ]
    },
    {
      "cell_type": "markdown",
      "source": [
        "Q24. Write a code to remove the key \"age\" from the dictionary {'name': 'Bob', 'age': 22, 'city': 'New York'}."
      ],
      "metadata": {
        "id": "bGwCflVz4I1w"
      }
    },
    {
      "cell_type": "code",
      "source": [
        "person = {'name': 'Bob', 'age': 22, 'city': 'New York'}\n",
        "\n",
        "# Using del\n",
        "del person['age']\n",
        "\n",
        "# Using pop() (alternative method)\n",
        "# person.pop('age')\n",
        "\n",
        "print(person)"
      ],
      "metadata": {
        "colab": {
          "base_uri": "https://localhost:8080/"
        },
        "id": "h7PD0urP5FyC",
        "outputId": "2e0376bb-3629-4cfd-ef75-fc189cf06716"
      },
      "execution_count": 62,
      "outputs": [
        {
          "output_type": "stream",
          "name": "stdout",
          "text": [
            "{'name': 'Bob', 'city': 'New York'}\n"
          ]
        }
      ]
    },
    {
      "cell_type": "markdown",
      "source": [
        "Q25. Write a code to check if the key \"city\" exists in the dictionary {'name': 'Alice', 'city': 'Paris'}."
      ],
      "metadata": {
        "id": "g8WXNjE85Ikh"
      }
    },
    {
      "cell_type": "code",
      "source": [
        "person = {'name': 'Alice', 'city': 'Paris'}\n",
        "\n",
        "# Checking if \"city\" exists\n",
        "if 'city' in person:\n",
        "    print(\"Key 'city' exists in the dictionary.\")\n",
        "else:\n",
        "    print(\"Key 'city' does not exist in the dictionary.\")"
      ],
      "metadata": {
        "colab": {
          "base_uri": "https://localhost:8080/"
        },
        "id": "ewrcPIvy5M76",
        "outputId": "c64b7842-9b40-4252-f26d-c5b5283463b3"
      },
      "execution_count": 63,
      "outputs": [
        {
          "output_type": "stream",
          "name": "stdout",
          "text": [
            "Key 'city' exists in the dictionary.\n"
          ]
        }
      ]
    },
    {
      "cell_type": "markdown",
      "source": [
        "Q26.  Write a code to create a list, a tuple, and a dictionary, and print them all."
      ],
      "metadata": {
        "id": "dJO4i5Q05R4k"
      }
    },
    {
      "cell_type": "code",
      "source": [
        "# Creating a list\n",
        "my_list = [1, 2, 3, 4, 5]\n",
        "\n",
        "# Creating a tuple\n",
        "my_tuple = (10, 20, 30, 40, 50)\n",
        "\n",
        "# Creating a dictionary\n",
        "my_dict = {'name': 'Alice', 'age': 25, 'city': 'New York'}\n",
        "\n",
        "# Printing all of them\n",
        "print(\"List:\", my_list)\n",
        "print(\"Tuple:\", my_tuple)\n",
        "print(\"Dictionary:\", my_dict)"
      ],
      "metadata": {
        "colab": {
          "base_uri": "https://localhost:8080/"
        },
        "id": "-11B6FRn6DXL",
        "outputId": "4ffa5e6a-2a3b-40e8-dce6-228fcb038223"
      },
      "execution_count": 64,
      "outputs": [
        {
          "output_type": "stream",
          "name": "stdout",
          "text": [
            "List: [1, 2, 3, 4, 5]\n",
            "Tuple: (10, 20, 30, 40, 50)\n",
            "Dictionary: {'name': 'Alice', 'age': 25, 'city': 'New York'}\n"
          ]
        }
      ]
    },
    {
      "cell_type": "markdown",
      "source": [
        "Q27. Write a code to create a list of 5 random numbers between 1 and 100, sort it in ascending order, and print the\n",
        "result.(replaced)."
      ],
      "metadata": {
        "id": "0M7Aytfp6GMA"
      }
    },
    {
      "cell_type": "code",
      "source": [
        "import random\n",
        "\n",
        "# Generate a list of 5 random numbers between 1 and 100\n",
        "random_numbers = [random.randint(1, 100) for _ in range(5)]\n",
        "\n",
        "# Sort the list in ascending order\n",
        "random_numbers.sort()\n",
        "\n",
        "# Print the sorted list\n",
        "print(\"Sorted List:\", random_numbers)"
      ],
      "metadata": {
        "colab": {
          "base_uri": "https://localhost:8080/"
        },
        "id": "b7qMQKhk6P-m",
        "outputId": "737e7d9b-e815-4cf1-f8ef-d30146c0bab4"
      },
      "execution_count": 67,
      "outputs": [
        {
          "output_type": "stream",
          "name": "stdout",
          "text": [
            "Sorted List: [5, 6, 11, 78, 80]\n"
          ]
        }
      ]
    },
    {
      "cell_type": "markdown",
      "source": [
        "Q28. Write a code to create a list with strings and print the element at the third index."
      ],
      "metadata": {
        "id": "GyPktsmg6WLE"
      }
    },
    {
      "cell_type": "code",
      "source": [
        "# Creating a list with strings\n",
        "my_list = [\"apple\", \"banana\", \"cherry\", \"date\", \"elderberry\"]\n",
        "\n",
        "# Printing the element at the third index\n",
        "print(\"Element at index 3:\", my_list[3])"
      ],
      "metadata": {
        "colab": {
          "base_uri": "https://localhost:8080/"
        },
        "id": "ISpLyMHl6dZI",
        "outputId": "150df35d-aa0d-4364-91ee-cefe6bd7f8a6"
      },
      "execution_count": 68,
      "outputs": [
        {
          "output_type": "stream",
          "name": "stdout",
          "text": [
            "Element at index 3: date\n"
          ]
        }
      ]
    },
    {
      "cell_type": "markdown",
      "source": [
        "Q29. Write a code to combine two dictionaries into one and print the result."
      ],
      "metadata": {
        "id": "1pBhYWQm6fD4"
      }
    },
    {
      "cell_type": "code",
      "source": [
        "# Creating two dictionaries\n",
        "dict1 = {'name': 'Alice', 'age': 25}\n",
        "dict2 = {'city': 'New York', 'country': 'USA'}\n",
        "\n",
        "# Method 1: Using update()\n",
        "combined_dict = dict1.copy()  # Make a copy to avoid modifying dict1\n",
        "combined_dict.update(dict2)\n",
        "\n",
        "print(\"Combined Dictionary (using update()):\", combined_dict)\n",
        "\n",
        "# Method 2: Using dictionary unpacking (Python 3.5+)\n",
        "combined_dict2 = {**dict1, **dict2}\n",
        "print(\"Combined Dictionary (using unpacking):\", combined_dict2)"
      ],
      "metadata": {
        "colab": {
          "base_uri": "https://localhost:8080/"
        },
        "id": "njnOI_Rl6nzH",
        "outputId": "1f9a96f3-663d-4bde-e29b-9276e9373723"
      },
      "execution_count": 69,
      "outputs": [
        {
          "output_type": "stream",
          "name": "stdout",
          "text": [
            "Combined Dictionary (using update()): {'name': 'Alice', 'age': 25, 'city': 'New York', 'country': 'USA'}\n",
            "Combined Dictionary (using unpacking): {'name': 'Alice', 'age': 25, 'city': 'New York', 'country': 'USA'}\n"
          ]
        }
      ]
    },
    {
      "cell_type": "markdown",
      "source": [
        "Q30. Write a code to convert a list of strings into a set."
      ],
      "metadata": {
        "id": "sKFApbwr6rSn"
      }
    },
    {
      "cell_type": "code",
      "source": [
        "# Creating a list of strings\n",
        "my_list = [\"apple\", \"banana\", \"cherry\", \"apple\", \"banana\"]\n",
        "\n",
        "# Converting the list to a set\n",
        "my_set = set(my_list)\n",
        "\n",
        "# Printing the set\n",
        "print(\"Set:\", my_set)"
      ],
      "metadata": {
        "id": "G3-_oqpp6y5s",
        "outputId": "128f612d-3af9-44b9-b77d-fb66713cfb02",
        "colab": {
          "base_uri": "https://localhost:8080/"
        }
      },
      "execution_count": 70,
      "outputs": [
        {
          "output_type": "stream",
          "name": "stdout",
          "text": [
            "Set: {'apple', 'banana', 'cherry'}\n"
          ]
        }
      ]
    }
  ]
}