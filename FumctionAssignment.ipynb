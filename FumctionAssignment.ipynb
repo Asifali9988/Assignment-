{
  "nbformat": 4,
  "nbformat_minor": 0,
  "metadata": {
    "colab": {
      "provenance": []
    },
    "kernelspec": {
      "name": "python3",
      "display_name": "Python 3"
    },
    "language_info": {
      "name": "python"
    }
  },
  "cells": [
    {
      "cell_type": "markdown",
      "source": [
        "Q1. What is the difference between a function and a method in Python?\n",
        "\n",
        "      Ans.  In Python, both functions and methods are callable objects that perform a specific task, but there are key differences between them:\n",
        "\n",
        "  1. Function:\n",
        "    A function is a block of code that is defined using the def keyword. It can be called directly and is not bound to any object.\n",
        "    A function can exist independently of classes or objects.\n",
        "\n",
        "  2. Method:\n",
        "    . A method is similar to a function, but it is bound to an object and is  \n",
        "    associated with an instance of a class.\n",
        "    . Methods are functions that belong to an object (instance method) or a class (class method).\n",
        "#    . When a method is called, the object itself is automatically passed as the first argument (usually called self for instance methods)."
      ],
      "metadata": {
        "id": "Rc0U0muAbe1D"
      }
    },
    {
      "cell_type": "markdown",
      "source": [
        "Q2.  Explain the concept of function arguments and parameters in Python?\n",
        "\n",
        "Ans. In Python, function arguments and parameters are key concepts when defining and calling functions. Here's a breakdown of each:\n",
        "\n",
        "1. Function Parameters:\n",
        "Parameters are the variables listed in the function definition. They define what kind of input the function expects when it is called.\n",
        "\n",
        "Example:"
      ],
      "metadata": {
        "id": "WTWOSROackoD"
      }
    },
    {
      "cell_type": "code",
      "source": [
        "def greet(name):  # 'name' is a parameter\n",
        "    return f\"Hello, {name}!\"\n"
      ],
      "metadata": {
        "id": "DOhqlOIPdUZE"
      },
      "execution_count": 2,
      "outputs": []
    },
    {
      "cell_type": "markdown",
      "source": [
        "2. Function Arguments:\n",
        "Arguments are the actual values passed to the function when calling it. These values are assigned to the corresponding parameters in the function definition.\n",
        "\n",
        "Example:"
      ],
      "metadata": {
        "id": "uox6zPwBdbEU"
      }
    },
    {
      "cell_type": "code",
      "source": [
        "greet(\"Alice\")  # \"Alice\" is an argument\n"
      ],
      "metadata": {
        "colab": {
          "base_uri": "https://localhost:8080/",
          "height": 36
        },
        "id": "KClxUj7mdfzY",
        "outputId": "b2faf9b5-d3f6-4cce-ebb3-16d762b131d6"
      },
      "execution_count": 3,
      "outputs": [
        {
          "output_type": "execute_result",
          "data": {
            "text/plain": [
              "'Hello, Alice!'"
            ],
            "application/vnd.google.colaboratory.intrinsic+json": {
              "type": "string"
            }
          },
          "metadata": {},
          "execution_count": 3
        }
      ]
    },
    {
      "cell_type": "markdown",
      "source": [
        "Types of Arguments:\n",
        "Python allows several ways to pass arguments to functions:\n",
        "\n",
        "1. Positional Arguments:\n",
        "These arguments are passed in the same order as the parameters in the function definition.\n",
        "\n",
        "Example:"
      ],
      "metadata": {
        "id": "1HvNSe-hdkpb"
      }
    },
    {
      "cell_type": "code",
      "source": [
        "def add(a, b):\n",
        "    return a + b\n",
        "\n",
        "print(add(2, 3))  # Output: 5\n"
      ],
      "metadata": {
        "colab": {
          "base_uri": "https://localhost:8080/"
        },
        "id": "4sV3Nu14dtqG",
        "outputId": "6470691f-af19-4d05-b026-a98ae31ff816"
      },
      "execution_count": 4,
      "outputs": [
        {
          "output_type": "stream",
          "name": "stdout",
          "text": [
            "5\n"
          ]
        }
      ]
    },
    {
      "cell_type": "markdown",
      "source": [
        "2. Keyword Arguments:\n",
        "You can pass arguments by explicitly naming the parameter when calling the function. This allows you to pass arguments in any order.\n",
        "\n",
        "Example:"
      ],
      "metadata": {
        "id": "w6_1Whifdxt0"
      }
    },
    {
      "cell_type": "code",
      "source": [
        "def add(a, b):\n",
        "    return a + b\n",
        "\n",
        "print(add(b=3, a=2))  # Output: 5\n"
      ],
      "metadata": {
        "colab": {
          "base_uri": "https://localhost:8080/"
        },
        "id": "RraGTbl1d2dQ",
        "outputId": "d083f9c4-e3aa-45b1-a32a-64cb9a5387c0"
      },
      "execution_count": 5,
      "outputs": [
        {
          "output_type": "stream",
          "name": "stdout",
          "text": [
            "5\n"
          ]
        }
      ]
    },
    {
      "cell_type": "markdown",
      "source": [
        "3. Default Arguments:\n",
        "You can specify default values for parameters, which will be used if no argument is provided for that parameter.\n",
        "\n",
        "Example:"
      ],
      "metadata": {
        "id": "tv7HVGWEd6QP"
      }
    },
    {
      "cell_type": "code",
      "source": [
        "def greet(name=\"Guest\"):\n",
        "    return f\"Hello, {name}!\"\n",
        "\n",
        "print(greet())  # Output: Hello, Guest!\n",
        "print(greet(\"Alice\"))  # Output: Hello, Alice!\n"
      ],
      "metadata": {
        "colab": {
          "base_uri": "https://localhost:8080/"
        },
        "id": "4YHHpGLrd_Yv",
        "outputId": "dbc421ed-2cea-4359-8684-1e30939071f0"
      },
      "execution_count": 6,
      "outputs": [
        {
          "output_type": "stream",
          "name": "stdout",
          "text": [
            "Hello, Guest!\n",
            "Hello, Alice!\n"
          ]
        }
      ]
    },
    {
      "cell_type": "markdown",
      "source": [
        "4. Variable-Length Arguments:\n",
        "Sometimes you don’t know how many arguments will be passed. In that case, you can use *args for non-keyword arguments or **kwargs for keyword arguments.\n",
        "\n",
        "*args allows a function to accept a variable number of positional arguments as a tuple.\n",
        "**kwargs allows a function to accept a variable number of keyword arguments as a dictionary.\n",
        "Example with *args:"
      ],
      "metadata": {
        "id": "i4W6t1IJeC7l"
      }
    },
    {
      "cell_type": "code",
      "source": [
        "def sum_numbers(*args):\n",
        "    return sum(args)\n",
        "\n",
        "print(sum_numbers(1, 2, 3, 4))  # Output: 10\n"
      ],
      "metadata": {
        "colab": {
          "base_uri": "https://localhost:8080/"
        },
        "id": "byDmo29geI8i",
        "outputId": "0c0567d8-7268-43c1-edb7-1de2753d5d5e"
      },
      "execution_count": 7,
      "outputs": [
        {
          "output_type": "stream",
          "name": "stdout",
          "text": [
            "10\n"
          ]
        }
      ]
    },
    {
      "cell_type": "markdown",
      "source": [
        "Example with **kwargs:"
      ],
      "metadata": {
        "id": "4VGjSHcbeNwS"
      }
    },
    {
      "cell_type": "code",
      "source": [
        "def greet(**kwargs):\n",
        "    return f\"Hello, {kwargs['name']}!\"\n",
        "\n",
        "print(greet(name=\"Alice\", age=30))  # Output: Hello, Alice!\n"
      ],
      "metadata": {
        "colab": {
          "base_uri": "https://localhost:8080/"
        },
        "id": "IqsQ-ZWBeTGx",
        "outputId": "4571b3fa-46e4-468d-b824-b8522762ac38"
      },
      "execution_count": 8,
      "outputs": [
        {
          "output_type": "stream",
          "name": "stdout",
          "text": [
            "Hello, Alice!\n"
          ]
        }
      ]
    },
    {
      "cell_type": "markdown",
      "source": [
        "Q3.  What are the different ways to define and call a function in Python?\n",
        "\n",
        "Ans. In Python, you can define and call a function in several ways. Below are the different ways to define and call functions:\n",
        "\n",
        "1. Basic Function Definition and Call\n",
        "This is the most common way to define and call a function in Python.\n",
        "\n",
        "Define:"
      ],
      "metadata": {
        "id": "o0HqUvGYe9gn"
      }
    },
    {
      "cell_type": "code",
      "source": [
        "def my_function():\n",
        "    print(\"Hello, World!\")\n"
      ],
      "metadata": {
        "id": "YCU6EwYyffLa"
      },
      "execution_count": 9,
      "outputs": []
    },
    {
      "cell_type": "markdown",
      "source": [
        "Call:"
      ],
      "metadata": {
        "id": "GuZTRuOcfh0_"
      }
    },
    {
      "cell_type": "code",
      "source": [
        "my_function()\n"
      ],
      "metadata": {
        "colab": {
          "base_uri": "https://localhost:8080/"
        },
        "id": "X2UQ9JIvfmMb",
        "outputId": "be88c4a5-b445-4a94-e729-3507d55650c4"
      },
      "execution_count": 10,
      "outputs": [
        {
          "output_type": "stream",
          "name": "stdout",
          "text": [
            "Hello, World!\n"
          ]
        }
      ]
    },
    {
      "cell_type": "markdown",
      "source": [
        "2. Function with Parameters\n",
        "You can pass arguments (parameters) to a function to make it more flexible.\n",
        "\n",
        "Define:"
      ],
      "metadata": {
        "id": "uZ_ANTTmfsG_"
      }
    },
    {
      "cell_type": "code",
      "source": [
        "def greet(name):\n",
        "    print(f\"Hello, {name}!\")\n"
      ],
      "metadata": {
        "id": "Ws8HwNiMftLx"
      },
      "execution_count": 11,
      "outputs": []
    },
    {
      "cell_type": "markdown",
      "source": [
        "Call:"
      ],
      "metadata": {
        "id": "MNwF8OmEfv70"
      }
    },
    {
      "cell_type": "code",
      "source": [
        "greet(\"Alice\")\n"
      ],
      "metadata": {
        "colab": {
          "base_uri": "https://localhost:8080/"
        },
        "id": "dHRXaxtlfz_o",
        "outputId": "f6ff64a7-ec72-43fb-b580-7e31142e4957"
      },
      "execution_count": 12,
      "outputs": [
        {
          "output_type": "stream",
          "name": "stdout",
          "text": [
            "Hello, Alice!\n"
          ]
        }
      ]
    },
    {
      "cell_type": "markdown",
      "source": [
        "3. Function with Return Value\n",
        "A function can return a value, which can be used later in the program.\n",
        "\n",
        "Define:"
      ],
      "metadata": {
        "id": "hwZ5shePf4du"
      }
    },
    {
      "cell_type": "code",
      "source": [
        "def add(a, b):\n",
        "    return a + b\n"
      ],
      "metadata": {
        "id": "3mU_RCQdf8B_"
      },
      "execution_count": 13,
      "outputs": []
    },
    {
      "cell_type": "markdown",
      "source": [
        "Call:"
      ],
      "metadata": {
        "id": "zHnfir1Hf-te"
      }
    },
    {
      "cell_type": "code",
      "source": [
        "result = add(5, 3)\n",
        "print(result)  # Output: 8\n"
      ],
      "metadata": {
        "colab": {
          "base_uri": "https://localhost:8080/"
        },
        "id": "AsMJt-BvgAxH",
        "outputId": "26077095-0b35-4f80-e5f2-91bc32e227de"
      },
      "execution_count": 14,
      "outputs": [
        {
          "output_type": "stream",
          "name": "stdout",
          "text": [
            "8\n"
          ]
        }
      ]
    },
    {
      "cell_type": "markdown",
      "source": [
        "4. Function with Default Parameter Values\n",
        "You can define default values for function parameters, so the function works even if you don't pass a value.\n",
        "\n",
        "Define:"
      ],
      "metadata": {
        "id": "aiK45evfgHvG"
      }
    },
    {
      "cell_type": "code",
      "source": [
        "def greet(name=\"Guest\"):\n",
        "    print(f\"Hello, {name}!\")\n"
      ],
      "metadata": {
        "id": "H5yZ5wvqgIxv"
      },
      "execution_count": 15,
      "outputs": []
    },
    {
      "cell_type": "markdown",
      "source": [
        "Call:"
      ],
      "metadata": {
        "id": "Y8eG8nuIgMJr"
      }
    },
    {
      "cell_type": "code",
      "source": [
        "greet()           # Uses the default value \"Guest\"\n",
        "greet(\"Bob\")      # Uses the provided value \"Bob\"\n"
      ],
      "metadata": {
        "colab": {
          "base_uri": "https://localhost:8080/"
        },
        "id": "4-wLY9iNgNfT",
        "outputId": "1b8e22d2-916b-44c5-d6c4-4d6fec248b0b"
      },
      "execution_count": 16,
      "outputs": [
        {
          "output_type": "stream",
          "name": "stdout",
          "text": [
            "Hello, Guest!\n",
            "Hello, Bob!\n"
          ]
        }
      ]
    },
    {
      "cell_type": "markdown",
      "source": [
        "5. Function with Variable-Length Arguments\n",
        "You can pass a variable number of arguments to a function using *args (for non-keyword arguments) or **kwargs (for keyword arguments).\n",
        "\n",
        "Define:"
      ],
      "metadata": {
        "id": "seGuxffggQiR"
      }
    },
    {
      "cell_type": "code",
      "source": [
        "def print_names(*args):\n",
        "    for name in args:\n",
        "        print(name)\n"
      ],
      "metadata": {
        "id": "3qcYDMfGgUNF"
      },
      "execution_count": 17,
      "outputs": []
    },
    {
      "cell_type": "markdown",
      "source": [
        "Call:"
      ],
      "metadata": {
        "id": "4lmxUcLCgWzQ"
      }
    },
    {
      "cell_type": "code",
      "source": [
        "print_names(\"Alice\", \"Bob\", \"Charlie\")\n"
      ],
      "metadata": {
        "colab": {
          "base_uri": "https://localhost:8080/"
        },
        "id": "mVQbqrHYgYba",
        "outputId": "890c5b6f-9a08-40b4-bd40-56336de2ec50"
      },
      "execution_count": 18,
      "outputs": [
        {
          "output_type": "stream",
          "name": "stdout",
          "text": [
            "Alice\n",
            "Bob\n",
            "Charlie\n"
          ]
        }
      ]
    },
    {
      "cell_type": "markdown",
      "source": [
        "6. Lambda Functions (Anonymous Functions)\n",
        "Lambda functions are small, unnamed functions defined using the lambda keyword. They are often used for short, one-time operations.\n",
        "\n",
        "Define and Call:\n",
        "python\n",
        "Copy\n"
      ],
      "metadata": {
        "id": "tbg4tUB-ge7r"
      }
    },
    {
      "cell_type": "code",
      "source": [
        "def say_hello():\n",
        "    print(\"Hello!\")\n",
        "\n",
        "greeting = say_hello  # Assign function to variable\n",
        "greeting()            # Call using the variable\n"
      ],
      "metadata": {
        "colab": {
          "base_uri": "https://localhost:8080/"
        },
        "id": "KJv1Qa0qgg9b",
        "outputId": "4db7281a-5a49-42fc-a908-7bf285d66a75"
      },
      "execution_count": 19,
      "outputs": [
        {
          "output_type": "stream",
          "name": "stdout",
          "text": [
            "Hello!\n"
          ]
        }
      ]
    },
    {
      "cell_type": "markdown",
      "source": [
        "8. Recursive Function\n",
        "A recursive function calls itself to solve smaller instances of the problem.\n",
        "\n",
        "Define and Call:\n",
        "\n"
      ],
      "metadata": {
        "id": "jeAIgmSFgmKX"
      }
    },
    {
      "cell_type": "code",
      "source": [
        "def factorial(n):\n",
        "    if n == 0 or n == 1:\n",
        "        return 1\n",
        "    return n * factorial(n - 1)\n",
        "\n",
        "print(factorial(5))  # Output: 120\n"
      ],
      "metadata": {
        "colab": {
          "base_uri": "https://localhost:8080/"
        },
        "id": "iO3oIfS8gvJR",
        "outputId": "2816249b-99b3-437b-eff5-bb942ac96c5e"
      },
      "execution_count": 20,
      "outputs": [
        {
          "output_type": "stream",
          "name": "stdout",
          "text": [
            "120\n"
          ]
        }
      ]
    },
    {
      "cell_type": "markdown",
      "source": [
        "9. Function in a Class (Method)\n",
        "If you're using Object-Oriented Programming (OOP), functions are typically defined as methods inside a class.\n",
        "\n",
        "Define:"
      ],
      "metadata": {
        "id": "-4iJSBDPgyTv"
      }
    },
    {
      "cell_type": "code",
      "source": [
        "class Person:\n",
        "    def greet(self, name):\n",
        "        print(f\"Hello, {name}!\")\n",
        "\n",
        "p = Person()\n",
        "p.greet(\"Alice\")  # Calling method of class\n"
      ],
      "metadata": {
        "colab": {
          "base_uri": "https://localhost:8080/"
        },
        "id": "AvLeD9M-g1mc",
        "outputId": "9df237e7-a3c9-4aef-f6b5-3210924b3714"
      },
      "execution_count": 21,
      "outputs": [
        {
          "output_type": "stream",
          "name": "stdout",
          "text": [
            "Hello, Alice!\n"
          ]
        }
      ]
    },
    {
      "cell_type": "markdown",
      "source": [
        "10. **Function with *args and kwargs\n",
        "You can mix *args and **kwargs to pass both positional and keyword arguments.\n",
        "\n",
        "Define:"
      ],
      "metadata": {
        "id": "Ma30WrCXg5Re"
      }
    },
    {
      "cell_type": "code",
      "source": [
        "def func(arg1, *args, kwarg1=None, **kwargs):\n",
        "    print(arg1)\n",
        "    print(args)\n",
        "    print(kwarg1)\n",
        "    print(kwargs)\n"
      ],
      "metadata": {
        "id": "eIgS3FS1g-rR"
      },
      "execution_count": 22,
      "outputs": []
    },
    {
      "cell_type": "markdown",
      "source": [
        "Call:"
      ],
      "metadata": {
        "id": "tebRKYHrhAYy"
      }
    },
    {
      "cell_type": "code",
      "source": [
        "func(1, 2, 3, 4, kwarg1=\"default\", extra=\"value\")\n"
      ],
      "metadata": {
        "colab": {
          "base_uri": "https://localhost:8080/"
        },
        "id": "VkjBFHu5hB99",
        "outputId": "10567135-ad6a-40d4-ced6-c8d6c2b4174e"
      },
      "execution_count": 23,
      "outputs": [
        {
          "output_type": "stream",
          "name": "stdout",
          "text": [
            "1\n",
            "(2, 3, 4)\n",
            "default\n",
            "{'extra': 'value'}\n"
          ]
        }
      ]
    },
    {
      "cell_type": "markdown",
      "source": [
        "Q4.  What is the purpose of the `return` statement in a Python function?\n",
        "\n",
        "Ans. The return statement in a Python function is used to send back a result or value from the function to the place where the function was called. It essentially ends the function's execution and allows you to pass the computed result to the caller.\n",
        "\n",
        "Key Purposes of return:\n",
        "Returning a Value from a Function: The primary purpose of return is to return a value from the function. When a function executes a return statement, it gives back the specified value and exits the function.\n",
        "\n",
        "Example:"
      ],
      "metadata": {
        "id": "yCN9LzKfhFuY"
      }
    },
    {
      "cell_type": "code",
      "source": [
        "def add(a, b):\n",
        "    return a + b\n",
        "\n",
        "result = add(3, 5)  # Function returns the value 8\n",
        "print(result)        # Output: 8\n"
      ],
      "metadata": {
        "colab": {
          "base_uri": "https://localhost:8080/"
        },
        "id": "3qnEAxTlhbM4",
        "outputId": "2d0c7837-91b8-443e-bc51-be2cd634bf7e"
      },
      "execution_count": 24,
      "outputs": [
        {
          "output_type": "stream",
          "name": "stdout",
          "text": [
            "8\n"
          ]
        }
      ]
    },
    {
      "cell_type": "markdown",
      "source": [
        "2. Ending Function Execution: When a return statement is encountered, the function immediately stops execution, and no code after the return statement will be executed.\n",
        "\n",
        "Example:"
      ],
      "metadata": {
        "id": "7QwnvSonhkn7"
      }
    },
    {
      "cell_type": "code",
      "source": [
        "def my_function():\n",
        "    print(\"This is before return.\")\n",
        "    return 42\n",
        "    print(\"This will not be printed.\")  # This line will not execute\n",
        "\n",
        "print(my_function())  # Output: This is before return. \\n 42\n"
      ],
      "metadata": {
        "colab": {
          "base_uri": "https://localhost:8080/"
        },
        "id": "Lb6fj4fShmWp",
        "outputId": "6bac9839-b6ae-42fc-f443-398f6fe27527"
      },
      "execution_count": 25,
      "outputs": [
        {
          "output_type": "stream",
          "name": "stdout",
          "text": [
            "This is before return.\n",
            "42\n"
          ]
        }
      ]
    },
    {
      "cell_type": "markdown",
      "source": [
        "3. Returning Multiple Values (Tuples): A function can return multiple values, and these values are automatically packaged into a tuple. You can return more than one value separated by commas.\n",
        "\n",
        "Example:"
      ],
      "metadata": {
        "id": "h7p4cVduhqLG"
      }
    },
    {
      "cell_type": "code",
      "source": [
        "def calculate(a, b):\n",
        "    return a + b, a - b, a * b\n",
        "\n",
        "result = calculate(5, 3)\n",
        "print(result)  # Output: (8, 2, 15)\n"
      ],
      "metadata": {
        "colab": {
          "base_uri": "https://localhost:8080/"
        },
        "id": "PH_v9loNhvD4",
        "outputId": "13299a94-e2c2-441c-8717-c88892331443"
      },
      "execution_count": 26,
      "outputs": [
        {
          "output_type": "stream",
          "name": "stdout",
          "text": [
            "(8, 2, 15)\n"
          ]
        }
      ]
    },
    {
      "cell_type": "markdown",
      "source": [
        "4. Returning None: If a function doesn't have an explicit return statement, or if it has a return without a value, Python implicitly returns None. This is useful when you don’t need a return value from a function.\n",
        "\n",
        "Example:"
      ],
      "metadata": {
        "id": "j_prGvrPhyk-"
      }
    },
    {
      "cell_type": "code",
      "source": [
        "def print_message(message):\n",
        "    print(message)\n",
        "\n",
        "result = print_message(\"Hello!\")\n",
        "print(result)  # Output: Hello! \\n None\n"
      ],
      "metadata": {
        "colab": {
          "base_uri": "https://localhost:8080/"
        },
        "id": "_JgTO8Ejh3H7",
        "outputId": "cc6f0612-014f-4a24-c9bd-be737e3a64b1"
      },
      "execution_count": 27,
      "outputs": [
        {
          "output_type": "stream",
          "name": "stdout",
          "text": [
            "Hello!\n",
            "None\n"
          ]
        }
      ]
    },
    {
      "cell_type": "markdown",
      "source": [
        "5. Early Exit from a Function: You can use return to exit a function early based on some condition, without needing to reach the end of the function.\n",
        "\n",
        "Example:"
      ],
      "metadata": {
        "id": "aABG1zPFh7Js"
      }
    },
    {
      "cell_type": "code",
      "source": [
        "def find_even(numbers):\n",
        "    for num in numbers:\n",
        "        if num % 2 == 0:\n",
        "            return num  # Returns the first even number found\n",
        "    return None  # If no even number is found\n",
        "\n",
        "print(find_even([1, 3, 5, 8, 10]))  # Output: 8\n"
      ],
      "metadata": {
        "colab": {
          "base_uri": "https://localhost:8080/"
        },
        "id": "SLm5S7MMiABy",
        "outputId": "2eb53bad-b61a-4183-8225-62b95d6ab1bf"
      },
      "execution_count": 28,
      "outputs": [
        {
          "output_type": "stream",
          "name": "stdout",
          "text": [
            "8\n"
          ]
        }
      ]
    },
    {
      "cell_type": "markdown",
      "source": [
        "Q5. What are iterators in Python and how do they differ from iterables?\n",
        "\n",
        "Ans. In Python, iterators and iterables are closely related concepts, but they are distinct in how they work. Let’s break them down:\n",
        "\n",
        "1. Iterable:\n",
        "An iterable is any Python object that can return an iterator. Simply put, an iterable is any object that can be looped over (e.g., using a for loop). It must implement the __iter__() method, which returns an iterator, or implement the __getitem__() method to allow sequential access to its elements.\n",
        "\n",
        "Common examples of iterables include lists, tuples, sets, dictionaries, and strings.\n",
        "\n",
        "Example of an iterable:"
      ],
      "metadata": {
        "id": "-6pgTlRWiGzw"
      }
    },
    {
      "cell_type": "code",
      "source": [
        "my_list = [1, 2, 3]\n",
        "\n",
        "# Iterating over the iterable\n",
        "for item in my_list:\n",
        "    print(item)\n"
      ],
      "metadata": {
        "colab": {
          "base_uri": "https://localhost:8080/"
        },
        "id": "0DZbWcZnicEK",
        "outputId": "3f80683e-b6ea-4647-8308-f87325dc3f35"
      },
      "execution_count": 29,
      "outputs": [
        {
          "output_type": "stream",
          "name": "stdout",
          "text": [
            "1\n",
            "2\n",
            "3\n"
          ]
        }
      ]
    },
    {
      "cell_type": "markdown",
      "source": [
        "2. Iterator:\n",
        "An iterator is an object that represents a stream of data. It keeps track of the current position during iteration, meaning you can call next() on an iterator to get the next item. An iterator must implement two methods:\n",
        "\n",
        "__iter__(): This returns the iterator object itself.\n",
        "__next__(): This returns the next item in the sequence, and when there are no more items, it raises a StopIteration exception.\n",
        "Example of an iterator:"
      ],
      "metadata": {
        "id": "SyJ39TKTifco"
      }
    },
    {
      "cell_type": "code",
      "source": [
        "my_iter = iter([1, 2, 3])\n",
        "\n",
        "# Iterating using the iterator\n",
        "print(next(my_iter))  # 1\n",
        "print(next(my_iter))  # 2\n",
        "print(next(my_iter))  # 3\n",
        "# next(my_iter)  # This will raise StopIteration\n"
      ],
      "metadata": {
        "colab": {
          "base_uri": "https://localhost:8080/"
        },
        "id": "g_e_qBmKijSz",
        "outputId": "c0104b7e-de91-4af8-9f7c-9a01bccc676b"
      },
      "execution_count": 30,
      "outputs": [
        {
          "output_type": "stream",
          "name": "stdout",
          "text": [
            "1\n",
            "2\n",
            "3\n"
          ]
        }
      ]
    },
    {
      "cell_type": "markdown",
      "source": [
        "Key Differences:\n",
        "\n",
        "Iterable: Can be looped over multiple times. Examples: lists, strings, tuples,\n",
        "etc.\n",
        "\n",
        "    You get an iterator from an iterable using iter().\n",
        "\n",
        "Iterator: Keeps track of its state during iteration, and it can only be traversed once (once it reaches the end, it can't be reset unless recreated).\n",
        "\n",
        "    You use next() to move through the elements."
      ],
      "metadata": {
        "id": "Ca_RsWClitaU"
      }
    },
    {
      "cell_type": "markdown",
      "source": [
        "Q6.  Explain the concept of generators in Python and how they are defined.\n",
        "\n",
        "Ans.  In Python, generators are a type of iterable, like lists or tuples, but they differ in that they generate items one at a time, only when needed, rather than storing them in memory all at once. This makes generators highly memory efficient, especially when working with large datasets or infinite sequences.\n",
        "\n",
        "How are Generators Defined?\n",
        "A generator can be defined using:\n",
        "\n",
        "A generator function: This is a function that uses the yield keyword to return values one by one.\n",
        "A generator expression: Similar to list comprehensions, but with parentheses instead of square brackets.\n",
        "1. Generator Function\n",
        "A generator function is defined like a regular function, but it contains one or more yield statements. When the generator function is called, it returns a generator object, but doesn't execute the function immediately. Instead, when you iterate over the generator or call next(), the function executes until it hits a yield statement. At that point, it \"yields\" a value, pauses, and remembers its state. The next time you call next(), execution resumes where it left off.\n",
        "\n",
        "Example of a Generator Function:"
      ],
      "metadata": {
        "id": "eoowesDQjIGr"
      }
    },
    {
      "cell_type": "code",
      "source": [
        "def count_up_to(max):\n",
        "    count = 1\n",
        "    while count <= max:\n",
        "        yield count  # This yields the current count\n",
        "        count += 1\n",
        "\n",
        "# Using the generator\n",
        "counter = count_up_to(5)\n",
        "for num in counter:\n",
        "    print(num)\n"
      ],
      "metadata": {
        "colab": {
          "base_uri": "https://localhost:8080/"
        },
        "id": "p9bBISUFm6Ys",
        "outputId": "e9cac6b2-ec4a-4d43-c9fc-77afb4a1409a"
      },
      "execution_count": 31,
      "outputs": [
        {
          "output_type": "stream",
          "name": "stdout",
          "text": [
            "1\n",
            "2\n",
            "3\n",
            "4\n",
            "5\n"
          ]
        }
      ]
    },
    {
      "cell_type": "markdown",
      "source": [
        "2. Generator Expression\n",
        "A generator expression is similar to a list comprehension, but it uses parentheses instead of square brackets. It returns a generator object without evaluating the entire expression upfront.\n",
        "\n",
        "Example of a Generator Expression:"
      ],
      "metadata": {
        "id": "9ZbkhpcZnDZP"
      }
    },
    {
      "cell_type": "code",
      "source": [
        "squares = (x * x for x in range(1, 6))\n",
        "for square in squares:\n",
        "    print(square)\n"
      ],
      "metadata": {
        "colab": {
          "base_uri": "https://localhost:8080/"
        },
        "id": "8H_WQ2DenEJG",
        "outputId": "fe8d570c-a8ef-450c-da53-9aba398263ae"
      },
      "execution_count": 32,
      "outputs": [
        {
          "output_type": "stream",
          "name": "stdout",
          "text": [
            "1\n",
            "4\n",
            "9\n",
            "16\n",
            "25\n"
          ]
        }
      ]
    },
    {
      "cell_type": "markdown",
      "source": [
        "Q7. What are the advantages of using generators over regular functions?\n",
        "\n",
        "Ans. Generators offer several advantages over regular functions that return values all at once (such as those using return), particularly in terms of memory efficiency and performance. Below are the key benefits of using generators:\n",
        "\n",
        "1. Memory Efficiency\n",
        "Generators don't store all values in memory: When using regular functions that return collections (e.g., lists, tuples), all values are stored in memory. For large datasets, this can quickly consume a lot of memory. In contrast, generators only produce one value at a time, and they don’t require storing the entire sequence in memory.\n",
        "\n",
        "This is especially beneficial when working with large data streams or iterating over data sources like files, databases, or network streams.\n",
        "\n",
        "Example:\n",
        "\n",
        "python\n",
        "Copy\n"
      ],
      "metadata": {
        "id": "uZ_C4pFOnUD1"
      }
    },
    {
      "cell_type": "code",
      "source": [
        "def get_range(limit):\n",
        "    return [x for x in range(limit)]  # List, stores all values\n",
        "# For large limits, memory can be exhausted\n",
        "\n",
        "def get_range_gen(limit):\n",
        "    for x in range(limit):  # Generator, yields one value at a time\n",
        "        yield x\n"
      ],
      "metadata": {
        "id": "wj0xgsFUneHf"
      },
      "execution_count": 33,
      "outputs": []
    },
    {
      "cell_type": "markdown",
      "source": [
        "2. Lazy Evaluation\n",
        "Generators are lazily evaluated: A generator doesn't calculate or produce values until needed. When a generator is iterated over, it computes each value on-the-fly and yields it one by one, instead of producing all values at once.\n",
        "\n",
        "This can significantly improve performance for large datasets because only the values that are actually needed get computed. With regular functions, the entire result set is produced and returned all at once, even if not all values are consumed.\n",
        "\n",
        "Example:"
      ],
      "metadata": {
        "id": "aojruNYvnikY"
      }
    },
    {
      "cell_type": "code",
      "source": [
        "def countdown(n):\n",
        "    while n > 0:\n",
        "        yield n\n",
        "        n -= 1\n"
      ],
      "metadata": {
        "id": "2kJPG1GHnouM"
      },
      "execution_count": 34,
      "outputs": []
    },
    {
      "cell_type": "markdown",
      "source": [
        "3. Improved Performance for Large or Infinite Sequences\n",
        "Generators handle infinite sequences: A generator can produce infinite sequences, such as Fibonacci numbers or prime numbers, without running out of memory, because it never attempts to generate the entire sequence at once. This would be impossible with a regular function that returns a list or other collection, as it would try to store the entire infinite sequence in memory.\n",
        "\n",
        "Example of Infinite Sequence:"
      ],
      "metadata": {
        "id": "KoyRGUflntS2"
      }
    },
    {
      "cell_type": "code",
      "source": [
        "def infinite_sequence():\n",
        "    n = 0\n",
        "    while True:\n",
        "        yield n\n",
        "        n += 1\n"
      ],
      "metadata": {
        "id": "sr7iLQ6ln1gM"
      },
      "execution_count": 35,
      "outputs": []
    },
    {
      "cell_type": "markdown",
      "source": [
        "4. Simpler Code and More Readable\n",
        "Generators can simplify complex loops or iterators: Using a generator often leads to simpler and more readable code, especially when implementing iterators or coroutines. The yield statement allows you to write iteration logic that is easy to understand, avoiding the need for complicated return statements or state management (such as using flags or counters).\n",
        "\n",
        "In contrast, in regular functions, you would need to use loops and accumulate results in a collection (like a list), which can be more cumbersome.\n",
        "\n",
        "Example of Simpler Code:"
      ],
      "metadata": {
        "id": "uz2_JGkQn6b5"
      }
    },
    {
      "cell_type": "code",
      "source": [
        "# Regular function: requires managing state\n",
        "def even_numbers(n):\n",
        "    result = []\n",
        "    for i in range(n):\n",
        "        if i % 2 == 0:\n",
        "            result.append(i)\n",
        "    return result\n",
        "\n",
        "# Generator: straightforward iteration\n",
        "def even_numbers_gen(n):\n",
        "    for i in range(n):\n",
        "        if i % 2 == 0:\n",
        "            yield i\n"
      ],
      "metadata": {
        "id": "L6dgk9oWn7f8"
      },
      "execution_count": 36,
      "outputs": []
    },
    {
      "cell_type": "markdown",
      "source": [
        "5. Reduced Computational Overhead\n",
        "Generators save time by processing items on demand: With generators, only the next required item is computed. This means you don't waste time generating values that are never used. In comparison, regular functions typically compute all values at once, which might involve unnecessary overhead if only a small subset of the values is needed.\n",
        "6. State Preservation\n",
        "Generators automatically remember their state: When a generator function executes and yields a value, it pauses, saving its state at that point. The next time it is called (e.g., via next()), it resumes from where it left off, without the need to manually track or store the state.\n",
        "\n",
        "This behavior makes generators a natural fit for managing sequences that depend on prior computation, such as stateful iterations.\n",
        "\n",
        "Example:"
      ],
      "metadata": {
        "id": "Z6FbLhwtoBQP"
      }
    },
    {
      "cell_type": "code",
      "source": [
        "def sequence(start, step):\n",
        "    while True:\n",
        "        yield start\n",
        "        start += step\n"
      ],
      "metadata": {
        "id": "R_9j5YdEoGXK"
      },
      "execution_count": 37,
      "outputs": []
    },
    {
      "cell_type": "markdown",
      "source": [
        "7. Chainable Pipelines\n",
        "Generators can be chained together: Since generators yield items one by one, they can be easily chained into a pipeline of operations. Each step can process the yielded values, and the intermediate steps don't require storing all results in memory.\n",
        "\n",
        "This is commonly used in situations like processing large streams of data, where each generator can apply a specific transformation or filter to the data.\n",
        "\n",
        "Example:"
      ],
      "metadata": {
        "id": "sKT1WuNloQ7E"
      }
    },
    {
      "cell_type": "code",
      "source": [
        "def filter_even(numbers):\n",
        "    for number in numbers:\n",
        "        if number % 2 == 0:\n",
        "            yield number\n",
        "\n",
        "def square(numbers):\n",
        "    for number in numbers:\n",
        "        yield number ** 2\n",
        "\n",
        "numbers = range(1, 10)\n",
        "result = square(filter_even(numbers))\n",
        "\n",
        "for number in result:\n",
        "    print(number)  # Outputs squared even numbers\n"
      ],
      "metadata": {
        "colab": {
          "base_uri": "https://localhost:8080/"
        },
        "id": "W2PKHpqboUU_",
        "outputId": "ae73e18b-a438-4753-bf80-0c0b00eb260a"
      },
      "execution_count": 38,
      "outputs": [
        {
          "output_type": "stream",
          "name": "stdout",
          "text": [
            "4\n",
            "16\n",
            "36\n",
            "64\n"
          ]
        }
      ]
    },
    {
      "cell_type": "markdown",
      "source": [
        "Q8.  What is a lambda function in Python and when is it typically used?\n",
        "\n",
        "\n",
        "Ans. A lambda function in Python is a small, anonymous function that can have any number of arguments but only one expression. Lambda functions are often used for short, throwaway functions that don’t need to be formally defined using the def keyword.\n",
        "\n",
        "Syntax of a Lambda Function:"
      ],
      "metadata": {
        "id": "-aerIaOioc7Z"
      }
    },
    {
      "cell_type": "code",
      "source": [
        "lambda arguments: expression\n"
      ],
      "metadata": {
        "colab": {
          "base_uri": "https://localhost:8080/"
        },
        "id": "QLdO8dGhot9F",
        "outputId": "0af7a91f-c6a6-4495-83d1-268cb6dda051"
      },
      "execution_count": 39,
      "outputs": [
        {
          "output_type": "execute_result",
          "data": {
            "text/plain": [
              "<function __main__.<lambda>(arguments)>"
            ]
          },
          "metadata": {},
          "execution_count": 39
        }
      ]
    },
    {
      "cell_type": "markdown",
      "source": [
        "arguments: The input parameters (like variables in a regular function).\n",
        "expression: A single expression that is evaluated and returned when the function is called.\n",
        "Example of a Lambda Function:"
      ],
      "metadata": {
        "id": "30ZVOhaBowXp"
      }
    },
    {
      "cell_type": "code",
      "source": [
        "add = lambda x, y: x + y\n",
        "print(add(2, 3))  # Output: 5\n"
      ],
      "metadata": {
        "colab": {
          "base_uri": "https://localhost:8080/"
        },
        "id": "rHMOZCN-o0zn",
        "outputId": "974f3fa8-fd19-4198-90d1-eee4449f2661"
      },
      "execution_count": 40,
      "outputs": [
        {
          "output_type": "stream",
          "name": "stdout",
          "text": [
            "5\n"
          ]
        }
      ]
    },
    {
      "cell_type": "markdown",
      "source": [
        "In this example, the lambda function takes two arguments x and y, and returns their sum (x + y).\n",
        "\n",
        "Key Points:\n",
        "Anonymous: Lambda functions are usually unnamed (though you can assign them to a variable like add).\n",
        "Single Expression: A lambda can only contain a single expression (no statements or multiple expressions).\n",
        "Return: The result of the expression is automatically returned, so there's no need for a return keyword.\n",
        "When to Use Lambda Functions:\n",
        "Lambda functions are typically used in situations where you need a simple function for a short period and don’t want to formally define it using def. Here are some common use cases:\n",
        "\n",
        "1. As an Argument to Higher-Order Functions\n",
        "Lambda functions are often used with functions that take other functions as arguments, such as map(), filter(), and sorted().\n",
        "\n",
        "Example with map():"
      ],
      "metadata": {
        "id": "Uj1saJ87o4pw"
      }
    },
    {
      "cell_type": "code",
      "source": [
        "numbers = [1, 2, 3, 4]\n",
        "squared = list(map(lambda x: x ** 2, numbers))\n",
        "print(squared)  # Output: [1, 4, 9, 16]\n"
      ],
      "metadata": {
        "colab": {
          "base_uri": "https://localhost:8080/"
        },
        "id": "et5PztQGpGVD",
        "outputId": "43e1bdca-f569-4b75-d17d-41c56a8da9d6"
      },
      "execution_count": 41,
      "outputs": [
        {
          "output_type": "stream",
          "name": "stdout",
          "text": [
            "[1, 4, 9, 16]\n"
          ]
        }
      ]
    },
    {
      "cell_type": "markdown",
      "source": [
        "In this example, map() applies the lambda function to each item in the list, squaring each number.\n",
        "\n",
        "2. Sorting with Custom Keys\n",
        "Lambda functions are frequently used in sorting operations where you want to sort based on a custom key.\n",
        "\n",
        "Example with sorted():"
      ],
      "metadata": {
        "id": "ADiw7dugpJK6"
      }
    },
    {
      "cell_type": "code",
      "source": [
        "data = [(1, 'apple'), (3, 'banana'), (2, 'cherry')]\n",
        "sorted_data = sorted(data, key=lambda x: x[1])\n",
        "print(sorted_data)  # Output: [(1, 'apple'), (3, 'banana'), (2, 'cherry')]\n"
      ],
      "metadata": {
        "colab": {
          "base_uri": "https://localhost:8080/"
        },
        "id": "UZQx37LnpNLa",
        "outputId": "080ccf44-24e9-4426-94e2-6be12abc54ed"
      },
      "execution_count": 42,
      "outputs": [
        {
          "output_type": "stream",
          "name": "stdout",
          "text": [
            "[(1, 'apple'), (3, 'banana'), (2, 'cherry')]\n"
          ]
        }
      ]
    },
    {
      "cell_type": "markdown",
      "source": [
        "3. Filtering Data\n",
        "Lambda functions can be used in combination with filter() to filter data based on a condition.\n",
        "\n",
        "Example with filter():"
      ],
      "metadata": {
        "id": "Ho4ld4gbpQWS"
      }
    },
    {
      "cell_type": "code",
      "source": [
        "numbers = [1, 2, 3, 4, 5, 6]\n",
        "even_numbers = list(filter(lambda x: x % 2 == 0, numbers))\n",
        "print(even_numbers)  # Output: [2, 4, 6]\n"
      ],
      "metadata": {
        "colab": {
          "base_uri": "https://localhost:8080/"
        },
        "id": "XYfNZBsqpVqe",
        "outputId": "edbe01ac-4457-4e2c-bcc5-60716325999e"
      },
      "execution_count": 43,
      "outputs": [
        {
          "output_type": "stream",
          "name": "stdout",
          "text": [
            "[2, 4, 6]\n"
          ]
        }
      ]
    },
    {
      "cell_type": "markdown",
      "source": [
        "4. As a Callback Function\n",
        "Lambda functions are sometimes used as callback functions in GUI libraries or event handling systems where the function is only used temporarily.\n",
        "\n",
        "5. In List Comprehensions\n",
        "Lambda functions can be embedded inside list comprehensions, though their usage is relatively rare in this context.\n",
        "\n",
        "Example:"
      ],
      "metadata": {
        "id": "fJPeXsGspaHU"
      }
    },
    {
      "cell_type": "code",
      "source": [
        "numbers = [1, 2, 3, 4]\n",
        "squared = [lambda x: x ** 2 for x in numbers]\n",
        "print([f(2) for f in squared])  # Output: [4, 4, 4, 4]\n"
      ],
      "metadata": {
        "colab": {
          "base_uri": "https://localhost:8080/"
        },
        "id": "RjMH7jvcpdlX",
        "outputId": "48aac717-75df-4a84-a4d8-1840b5b9b6e3"
      },
      "execution_count": 44,
      "outputs": [
        {
          "output_type": "stream",
          "name": "stdout",
          "text": [
            "[4, 4, 4, 4]\n"
          ]
        }
      ]
    },
    {
      "cell_type": "markdown",
      "source": [
        "When NOT to Use Lambda Functions:\n",
        "    Complex Functions: If the function involves multiple expressions or requires more than one line of code, it’s better to use a regular function defined with def.\n",
        "\n",
        "    Readability: For more complex logic, lambda functions can decrease readability. If the function is going to be used frequently or is non-trivial, it’s better to define it using def."
      ],
      "metadata": {
        "id": "1Af00WUMpglD"
      }
    },
    {
      "cell_type": "markdown",
      "source": [
        "Q9. Explain the purpose and usage of the `map()` function in Python.\n",
        "\n",
        "Ans. The map() function in Python is used to apply a specified function to every item in an iterable (like a list, tuple, or string) and return a map object (an iterator) containing the results. It's commonly used for applying the same operation to each item of an iterable, without the need for explicit loops.\n",
        "\n",
        "Syntax of map():\n"
      ],
      "metadata": {
        "id": "LvNkMGjqpn-2"
      }
    },
    {
      "cell_type": "code",
      "source": [
        "map(function, iterable, ...)\n"
      ],
      "metadata": {
        "id": "2SAL9LQZqBwC"
      },
      "execution_count": null,
      "outputs": []
    },
    {
      "cell_type": "markdown",
      "source": [
        "    function: The function to apply to each item in the iterable. This can be a regular function, a lambda function, or any callable.\n",
        "\n",
        "    iterable: One or more iterables whose elements are passed to the function. You can provide more than one iterable, and the function will be applied to the items in parallel (they must all have the same length).\n",
        "\n",
        "The result is a map object, which is an iterator. To convert the result to a list, tuple, or another data structure, you need to explicitly cast it.\n",
        "\n",
        "Example 1: Using map() with a Regular Function\n",
        "In this example, the map() function is used to square each number in a list."
      ],
      "metadata": {
        "id": "yfKSLv5yqCoZ"
      }
    },
    {
      "cell_type": "code",
      "source": [
        "def square(x):\n",
        "    return x * x\n",
        "\n",
        "numbers = [1, 2, 3, 4]\n",
        "squared_numbers = map(square, numbers)\n",
        "print(list(squared_numbers))  # Output: [1, 4, 9, 16]\n"
      ],
      "metadata": {
        "colab": {
          "base_uri": "https://localhost:8080/"
        },
        "id": "EUaM8SszqNN3",
        "outputId": "cd9b3a49-5d81-4c5e-f599-697e028c5d34"
      },
      "execution_count": 46,
      "outputs": [
        {
          "output_type": "stream",
          "name": "stdout",
          "text": [
            "[1, 4, 9, 16]\n"
          ]
        }
      ]
    },
    {
      "cell_type": "markdown",
      "source": [
        "Example 2: Using map() with a Lambda Function\n",
        "Lambda functions are often used with map() for short, throwaway operations."
      ],
      "metadata": {
        "id": "r0-qF7eKqRCd"
      }
    },
    {
      "cell_type": "code",
      "source": [
        "numbers = [1, 2, 3, 4]\n",
        "squared_numbers = map(lambda x: x ** 2, numbers)\n",
        "print(list(squared_numbers))  # Output: [1, 4, 9, 16]\n"
      ],
      "metadata": {
        "colab": {
          "base_uri": "https://localhost:8080/"
        },
        "id": "baixVl5sqUP-",
        "outputId": "1ba220ac-4498-4e40-c96a-ad1c6215c7cb"
      },
      "execution_count": 47,
      "outputs": [
        {
          "output_type": "stream",
          "name": "stdout",
          "text": [
            "[1, 4, 9, 16]\n"
          ]
        }
      ]
    },
    {
      "cell_type": "markdown",
      "source": [
        "Example 3: Using map() with Multiple Iterables\n",
        "If multiple iterables are provided to map(), the function will be applied to the corresponding items from each iterable in parallel. If the iterables are of different lengths, it will stop when the shortest iterable is exhausted."
      ],
      "metadata": {
        "id": "ubW57SkKqW12"
      }
    },
    {
      "cell_type": "code",
      "source": [
        "def add(x, y):\n",
        "    return x + y\n",
        "\n",
        "numbers1 = [1, 2, 3, 4]\n",
        "numbers2 = [5, 6, 7, 8]\n",
        "result = map(add, numbers1, numbers2)\n",
        "print(list(result))  # Output: [6, 8, 10, 12]\n"
      ],
      "metadata": {
        "colab": {
          "base_uri": "https://localhost:8080/"
        },
        "id": "pyk_7dmeqcLW",
        "outputId": "4c4961d9-fd16-47bc-8212-dc896396a377"
      },
      "execution_count": 48,
      "outputs": [
        {
          "output_type": "stream",
          "name": "stdout",
          "text": [
            "[6, 8, 10, 12]\n"
          ]
        }
      ]
    },
    {
      "cell_type": "markdown",
      "source": [
        "Purpose and Use Cases of map():\n",
        "\n",
        "1. Apply the Same Operation to Multiple Items: The most common use case for map() is when you want to apply the same operation to each element in a list or other iterable, without manually iterating over it using a loop.\n",
        "\n",
        "2. Cleaner Code: It simplifies code by replacing explicit loops with a more functional approach, especially when you have a straightforward operation to apply.\n",
        "\n",
        "3. Improves Performance: map() can be more efficient than using a for-loop in certain cases because it avoids the overhead of explicit loop syntax. This is especially true when combined with built-in functions or optimized code.\n",
        "\n",
        "4. Use with Lambda Functions: map() is often used with lambda functions for quick operations. This helps to avoid the need for defining a separate function if you only need it for the map() operation.\n",
        "\n",
        "5. Multiple Iterables: When you need to process multiple iterables in parallel, map() is ideal because it ensures that each iterable’s elements are combined pairwise, and the operation is applied across them."
      ],
      "metadata": {
        "id": "a6dIEY9sqiH9"
      }
    },
    {
      "cell_type": "markdown",
      "source": [
        "Q10. What is the difference between `map()`, `reduce()`, and `filter()` functions in Python?\n",
        "\n",
        "Ans. The functions map(), reduce(), and filter() in Python are all part of functional programming and are used to process iterables in a concise and efficient way. While they have similar purposes, each one serves a different role when working with iterables.\n",
        "\n",
        "1. map() Function\n",
        "Purpose: Applies a given function to each item in an iterable (or multiple iterables) and returns an iterator with the results.\n",
        "\n",
        "Behavior: Transforms each item in the iterable using the provided function. The function should take an item as an argument and return a transformed value.\n",
        "Returns: A map object (an iterator), which can be converted to a list, tuple, or another data structure.\n",
        "Common Use Case: When you want to apply the same operation to every element of an iterable (e.g., squaring each number in a list).\n",
        "Example:"
      ],
      "metadata": {
        "id": "Gsw9B6dMqrfM"
      }
    },
    {
      "cell_type": "code",
      "source": [
        "numbers = [1, 2, 3, 4]\n",
        "squared = map(lambda x: x ** 2, numbers)\n",
        "print(list(squared))  # Output: [1, 4, 9, 16]\n"
      ],
      "metadata": {
        "colab": {
          "base_uri": "https://localhost:8080/"
        },
        "id": "6OvqDy8kq6p6",
        "outputId": "decc389e-8c24-4a4f-dd52-c62a5e664e97"
      },
      "execution_count": 49,
      "outputs": [
        {
          "output_type": "stream",
          "name": "stdout",
          "text": [
            "[1, 4, 9, 16]\n"
          ]
        }
      ]
    },
    {
      "cell_type": "markdown",
      "source": [
        "2. reduce() Function\n",
        "Purpose: Reduces an iterable to a single cumulative value by applying a binary function (a function that takes two arguments) cumulatively to the items.\n",
        "\n",
        "Behavior: The function takes two arguments at a time, combines them, and passes the result back into the function to combine it with the next element. It \"reduces\" the iterable to a single result.\n",
        "Returns: A single value (not an iterable).\n",
        "Common Use Case: When you want to aggregate or combine values from a list, such as summing or multiplying all elements in a list."
      ],
      "metadata": {
        "id": "oJ-k_4M7rAzh"
      }
    },
    {
      "cell_type": "code",
      "source": [
        "from functools import reduce\n",
        "\n",
        "numbers = [1, 2, 3, 4]\n",
        "sum_result = reduce(lambda x, y: x + y, numbers)\n",
        "print(sum_result)  # Output: 10 (1 + 2 + 3 + 4)\n"
      ],
      "metadata": {
        "colab": {
          "base_uri": "https://localhost:8080/"
        },
        "id": "TxqMS8r-rEIK",
        "outputId": "95bf89fc-3561-4194-e6a6-bafc0d1b4621"
      },
      "execution_count": 50,
      "outputs": [
        {
          "output_type": "stream",
          "name": "stdout",
          "text": [
            "10\n"
          ]
        }
      ]
    },
    {
      "cell_type": "markdown",
      "source": [
        "3. filter() Function\n",
        "Purpose: Filters elements from an iterable based on a condition defined by a function and returns an iterator with only the elements that satisfy the condition.\n",
        "\n",
        "Behavior: The function should return True or False for each item in the iterable. If the function returns True, the item is included in the result; if it returns False, it is excluded.\n",
        "Returns: A filter object (an iterator), which can be converted to a list, tuple, or another data structure.\n",
        "Common Use Case: When you want to filter out elements from an iterable based on a condition (e.g., getting only the even numbers from a list)."
      ],
      "metadata": {
        "id": "kYoZWiYzrHYS"
      }
    },
    {
      "cell_type": "code",
      "source": [
        "numbers = [1, 2, 3, 4, 5, 6]\n",
        "even_numbers = filter(lambda x: x % 2 == 0, numbers)\n",
        "print(list(even_numbers))  # Output: [2, 4, 6]\n"
      ],
      "metadata": {
        "colab": {
          "base_uri": "https://localhost:8080/"
        },
        "id": "a8d6KAr2rMAj",
        "outputId": "3ecc195b-56f8-44b0-a7d1-d96306373e93"
      },
      "execution_count": 51,
      "outputs": [
        {
          "output_type": "stream",
          "name": "stdout",
          "text": [
            "[2, 4, 6]\n"
          ]
        }
      ]
    },
    {
      "cell_type": "markdown",
      "source": [
        "Q11. Using pen & Paper write the internal mechanism for sum operation using  reduce function on this given\n",
        "list:[47,11,42,13];\n",
        "\n",
        "Ans.  Let's break down the reduce() function's internal mechanism for performing a sum operation on the given list: [47, 11, 42, 13].\n",
        "\n",
        "reduce() function:"
      ],
      "metadata": {
        "id": "dMGrMLHIrVuE"
      }
    },
    {
      "cell_type": "code",
      "source": [
        "from functools import reduce\n",
        "result = reduce(lambda x, y: x + y, [47, 11, 42, 13])\n"
      ],
      "metadata": {
        "id": "7AXlcDCHrvap"
      },
      "execution_count": 52,
      "outputs": []
    },
    {
      "cell_type": "markdown",
      "source": [
        "Step-by-Step Process:\n",
        "Initial List:"
      ],
      "metadata": {
        "id": "tZ0AcYXJryRq"
      }
    },
    {
      "cell_type": "code",
      "source": [
        "[47, 11, 42, 13]\n"
      ],
      "metadata": {
        "colab": {
          "base_uri": "https://localhost:8080/"
        },
        "id": "UI-9EORNr0_D",
        "outputId": "be115825-a972-4b02-dba3-610cbfb4b16b"
      },
      "execution_count": 53,
      "outputs": [
        {
          "output_type": "execute_result",
          "data": {
            "text/plain": [
              "[47, 11, 42, 13]"
            ]
          },
          "metadata": {},
          "execution_count": 53
        }
      ]
    },
    {
      "cell_type": "markdown",
      "source": [
        "The reduce() function will iteratively apply the lambda function lambda x, y: x + y to the elements of the list, starting with the first two elements, then using the result of that to combine with the next element, and so on.\n",
        "\n",
        "Step 1: Take the first two elements, 47 and 11.\n",
        "\n",
        "Apply the lambda function: 47 + 11 = 58\n",
        "The intermediate result is 58.\n",
        "Step 2: Now use the intermediate result (58) and combine it with the next element, 42.\n",
        "\n",
        "Apply the lambda function: 58 + 42 = 100\n",
        "The intermediate result is 100.\n",
        "Step 3: Now use the intermediate result (100) and combine it with the next element, 13.\n",
        "\n",
        "Apply the lambda function: 100 + 13 = 113\n",
        "The final result is 113.\n",
        "Final Result:\n",
        "The reduce() function would return 113 as the cumulative result.\n",
        "\n",
        "Here's a summary of the operations:"
      ],
      "metadata": {
        "id": "41073Vrjr3jO"
      }
    },
    {
      "cell_type": "code",
      "source": [
        "Initial List: [47, 11, 42, 13]\n",
        "\n",
        "Step 1: 47 + 11 = 58\n",
        "Step 2: 58 + 42 = 100\n",
        "Step 3: 100 + 13 = 113\n",
        "\n",
        "Final Result: 113\n"
      ],
      "metadata": {
        "id": "dQKKJdzmr_QA"
      },
      "execution_count": null,
      "outputs": []
    },
    {
      "cell_type": "markdown",
      "source": [
        "Visualizing the Internal Mechanism:\n",
        "First Call: x = 47, y = 11\n",
        "\n",
        "47 + 11 = 58\n",
        "Second Call: x = 58, y = 42\n",
        "\n",
        "58 + 42 = 100\n",
        "Third Call: x = 100, y = 13\n",
        "\n",
        "100 + 13 = 113\n",
        "Thus, the final result of the sum operation using reduce() on the list [47, 11, 42, 13] is 113."
      ],
      "metadata": {
        "id": "MbMtBVLWsATv"
      }
    },
    {
      "cell_type": "markdown",
      "source": [
        "# Practical Questions"
      ],
      "metadata": {
        "id": "7TpZlYAGsFjA"
      }
    },
    {
      "cell_type": "markdown",
      "source": [
        "Q1. Write a Python function that takes a list of numbers as input and returns the sum of all even numbers in\n",
        "the list.\n",
        "\n",
        "Ans.  "
      ],
      "metadata": {
        "id": "LpZPopH-sQYc"
      }
    },
    {
      "cell_type": "code",
      "source": [
        "def sum_even_numbers(numbers):\n",
        "    # Using list comprehension to filter even numbers and sum them\n",
        "    return sum([num for num in numbers if num % 2 == 0])\n",
        "\n",
        "# Example usage:\n",
        "numbers = [47, 11, 42, 13, 6, 8, 9, 11, 12, 33, 88, 24]\n",
        "result = sum_even_numbers(numbers)\n",
        "print(\"Sum of even numbers:\", result)\n"
      ],
      "metadata": {
        "colab": {
          "base_uri": "https://localhost:8080/"
        },
        "id": "rYvEMOm1slVI",
        "outputId": "792351e8-d28f-4922-fde5-152adb1d8ea7"
      },
      "execution_count": 56,
      "outputs": [
        {
          "output_type": "stream",
          "name": "stdout",
          "text": [
            "Sum of even numbers: 180\n"
          ]
        }
      ]
    },
    {
      "cell_type": "markdown",
      "source": [
        "Q2. Create a Python function that accepts a string and returns the reverse of that string.\n",
        "\n",
        "Ans.  "
      ],
      "metadata": {
        "id": "L6-3JUUIsxyR"
      }
    },
    {
      "cell_type": "code",
      "source": [
        "def reverse_string(input_string):\n",
        "    return input_string[::-1]\n",
        "\n",
        "# Example usage:\n",
        "input_string = \"hello\"\n",
        "result = reverse_string(input_string)\n",
        "print(\"Reversed string:\", result)\n"
      ],
      "metadata": {
        "colab": {
          "base_uri": "https://localhost:8080/"
        },
        "id": "33kWBmEGs7y6",
        "outputId": "24ce3a5d-fb7d-4ea9-d46b-e0c85dd3a1a4"
      },
      "execution_count": 57,
      "outputs": [
        {
          "output_type": "stream",
          "name": "stdout",
          "text": [
            "Reversed string: olleh\n"
          ]
        }
      ]
    },
    {
      "cell_type": "markdown",
      "source": [
        "Q3.  Implement a Python function that takes a list of integers and returns a new list containing the squares of\n",
        "each number.\n",
        "\n",
        "Ans.  "
      ],
      "metadata": {
        "id": "L7Azo5Hbs-rS"
      }
    },
    {
      "cell_type": "code",
      "source": [
        "def square_numbers(numbers):\n",
        "    # Using list comprehension to square each number\n",
        "    return [num ** 2 for num in numbers]\n",
        "\n",
        "# Example usage:\n",
        "numbers = [1, 2, 3, 4, 5]\n",
        "result = square_numbers(numbers)\n",
        "print(\"Squares of the numbers:\", result)\n"
      ],
      "metadata": {
        "colab": {
          "base_uri": "https://localhost:8080/"
        },
        "id": "N4JWSAW1tFrJ",
        "outputId": "28d744cc-9599-435f-b341-3e174961917a"
      },
      "execution_count": 58,
      "outputs": [
        {
          "output_type": "stream",
          "name": "stdout",
          "text": [
            "Squares of the numbers: [1, 4, 9, 16, 25]\n"
          ]
        }
      ]
    },
    {
      "cell_type": "markdown",
      "source": [
        "Q4. Write a Python function that checks if a given number is prime or not from 1 to 200.\n",
        "\n",
        "Ans.  "
      ],
      "metadata": {
        "id": "canEh3bEtM08"
      }
    },
    {
      "cell_type": "code",
      "source": [
        "def is_prime(number):\n",
        "    # Handle cases for numbers less than 2\n",
        "    if number <= 1:\n",
        "        return False\n",
        "    # Check divisibility from 2 to the square root of the number\n",
        "    for i in range(2, int(number ** 0.5) + 1):\n",
        "        if number % i == 0:\n",
        "            return False\n",
        "    return True\n",
        "\n",
        "# Testing the function for numbers from 1 to 200\n",
        "for num in range(1, 201):\n",
        "    if is_prime(num):\n",
        "        print(num, \"is prime\")\n"
      ],
      "metadata": {
        "colab": {
          "base_uri": "https://localhost:8080/"
        },
        "id": "Q1efDu_wtW5F",
        "outputId": "d7d19979-6004-4ca1-aaab-b5aff28a080d"
      },
      "execution_count": 59,
      "outputs": [
        {
          "output_type": "stream",
          "name": "stdout",
          "text": [
            "2 is prime\n",
            "3 is prime\n",
            "5 is prime\n",
            "7 is prime\n",
            "11 is prime\n",
            "13 is prime\n",
            "17 is prime\n",
            "19 is prime\n",
            "23 is prime\n",
            "29 is prime\n",
            "31 is prime\n",
            "37 is prime\n",
            "41 is prime\n",
            "43 is prime\n",
            "47 is prime\n",
            "53 is prime\n",
            "59 is prime\n",
            "61 is prime\n",
            "67 is prime\n",
            "71 is prime\n",
            "73 is prime\n",
            "79 is prime\n",
            "83 is prime\n",
            "89 is prime\n",
            "97 is prime\n",
            "101 is prime\n",
            "103 is prime\n",
            "107 is prime\n",
            "109 is prime\n",
            "113 is prime\n",
            "127 is prime\n",
            "131 is prime\n",
            "137 is prime\n",
            "139 is prime\n",
            "149 is prime\n",
            "151 is prime\n",
            "157 is prime\n",
            "163 is prime\n",
            "167 is prime\n",
            "173 is prime\n",
            "179 is prime\n",
            "181 is prime\n",
            "191 is prime\n",
            "193 is prime\n",
            "197 is prime\n",
            "199 is prime\n"
          ]
        }
      ]
    },
    {
      "cell_type": "markdown",
      "source": [
        "Q5.  Create an iterator class in Python that generates the Fibonacci sequence up to a specified number of\n",
        "terms.\n",
        "\n",
        "Ans.  "
      ],
      "metadata": {
        "id": "vQEl-R86tZC4"
      }
    },
    {
      "cell_type": "code",
      "source": [
        "class FibonacciIterator:\n",
        "    def __init__(self, n):\n",
        "        # Initialize with the number of terms to generate\n",
        "        self.n = n\n",
        "        self.count = 0\n",
        "        self.a, self.b = 0, 1  # Starting values for the Fibonacci sequence\n",
        "\n",
        "    def __iter__(self):\n",
        "        return self  # Return the iterator object itself\n",
        "\n",
        "    def __next__(self):\n",
        "        if self.count < self.n:\n",
        "            # Return the current Fibonacci number\n",
        "            fib_number = self.a\n",
        "            # Update for the next Fibonacci number\n",
        "            self.a, self.b = self.b, self.a + self.b\n",
        "            self.count += 1\n",
        "            return fib_number\n",
        "        else:\n",
        "            # Stop iteration once we reach the desired number of terms\n",
        "            raise StopIteration\n",
        "\n",
        "# Example usage:\n",
        "fibonacci_sequence = FibonacciIterator(10)  # Generate first 10 Fibonacci numbers\n",
        "for number in fibonacci_sequence:\n",
        "    print(number)\n"
      ],
      "metadata": {
        "colab": {
          "base_uri": "https://localhost:8080/"
        },
        "id": "2hfGsWehtj8d",
        "outputId": "0c967816-59a2-477d-d303-a82638690006"
      },
      "execution_count": 60,
      "outputs": [
        {
          "output_type": "stream",
          "name": "stdout",
          "text": [
            "0\n",
            "1\n",
            "1\n",
            "2\n",
            "3\n",
            "5\n",
            "8\n",
            "13\n",
            "21\n",
            "34\n"
          ]
        }
      ]
    },
    {
      "cell_type": "markdown",
      "source": [
        "Q6. Write a generator function in Python that yields the powers of 2 up to a given exponent.\n",
        "\n",
        "Ans.  "
      ],
      "metadata": {
        "id": "IMr4xWQ6tl9g"
      }
    },
    {
      "cell_type": "code",
      "source": [
        "def powers_of_2(exponent):\n",
        "    for i in range(exponent + 1):  # +1 to include the given exponent itself\n",
        "        yield 2 ** i\n",
        "\n",
        "# Example usage:\n",
        "for power in powers_of_2(5):\n",
        "    print(power)\n"
      ],
      "metadata": {
        "colab": {
          "base_uri": "https://localhost:8080/"
        },
        "id": "eQT33lhCtvuf",
        "outputId": "6602e647-ba31-4777-928f-5e577cb28b57"
      },
      "execution_count": 61,
      "outputs": [
        {
          "output_type": "stream",
          "name": "stdout",
          "text": [
            "1\n",
            "2\n",
            "4\n",
            "8\n",
            "16\n",
            "32\n"
          ]
        }
      ]
    },
    {
      "cell_type": "markdown",
      "source": [
        "Q7.  Implement a generator function that reads a file line by line and yields each line as a string.\n",
        "\n",
        "Ans.  "
      ],
      "metadata": {
        "id": "h7uvQw2Pt5CO"
      }
    },
    {
      "cell_type": "code",
      "source": [
        "def read_file_line_by_line(file_path):\n",
        "    with open(file_path, 'r') as file:\n",
        "        for line in file:\n",
        "            yield line.strip()  # Use .strip() to remove any trailing newline characters\n",
        "\n",
        "# Example usage:\n",
        "file_path = 'example.txt'\n",
        "for line in read_file_line_by_line(file_path):\n",
        "    print(line)\n"
      ],
      "metadata": {
        "id": "US1rFHttuFfY"
      },
      "execution_count": null,
      "outputs": []
    },
    {
      "cell_type": "markdown",
      "source": [
        "Q8.  Use a lambda function in Python to sort a list of tuples based on the second element of each tuple.\n",
        "\n",
        "Ans.  "
      ],
      "metadata": {
        "id": "eZ4KXRB6uOy2"
      }
    },
    {
      "cell_type": "code",
      "source": [
        "# List of tuples\n",
        "tuples = [(1, 3), (2, 1), (4, 2), (3, 4)]\n",
        "\n",
        "# Sort the list of tuples by the second element of each tuple using lambda\n",
        "sorted_tuples = sorted(tuples, key=lambda x: x[1])\n",
        "\n",
        "# Print the sorted list\n",
        "print(sorted_tuples)\n"
      ],
      "metadata": {
        "colab": {
          "base_uri": "https://localhost:8080/"
        },
        "id": "h78bzNTPuUWd",
        "outputId": "86aab5a7-386f-4c85-d3ca-cb1377e4e36a"
      },
      "execution_count": 63,
      "outputs": [
        {
          "output_type": "stream",
          "name": "stdout",
          "text": [
            "[(2, 1), (4, 2), (1, 3), (3, 4)]\n"
          ]
        }
      ]
    },
    {
      "cell_type": "markdown",
      "source": [
        "Q9.  Write a Python program that uses `map()` to convert a list of temperatures from Celsius to Fahrenheit.\n",
        "\n",
        "Ans.  We can use the map() function in Python to convert a list of temperatures from Celsius to Fahrenheit.\n",
        "Here's how you can implement the program:\n",
        "\n",
        "Python Program:"
      ],
      "metadata": {
        "id": "47FCrNj1ua_D"
      }
    },
    {
      "cell_type": "code",
      "source": [
        "# List of temperatures in Celsius\n",
        "celsius_temperatures = [0, 10, 20, 30, 40]\n",
        "\n",
        "# Function to convert Celsius to Fahrenheit\n",
        "def celsius_to_fahrenheit(celsius):\n",
        "    return (celsius * 9/5) + 32\n",
        "\n",
        "# Use map() to apply the conversion function to each element in the list\n",
        "fahrenheit_temperatures = list(map(celsius_to_fahrenheit, celsius_temperatures))\n",
        "\n",
        "# Print the result\n",
        "print(\"Temperatures in Fahrenheit:\", fahrenheit_temperatures)\n"
      ],
      "metadata": {
        "colab": {
          "base_uri": "https://localhost:8080/"
        },
        "id": "-08QTF7guzg7",
        "outputId": "8980c5da-f859-4012-8be4-120f3d746154"
      },
      "execution_count": 64,
      "outputs": [
        {
          "output_type": "stream",
          "name": "stdout",
          "text": [
            "Temperatures in Fahrenheit: [32.0, 50.0, 68.0, 86.0, 104.0]\n"
          ]
        }
      ]
    },
    {
      "cell_type": "markdown",
      "source": [
        "Q10. Create a Python program that uses `filter()` to remove all the vowels from a given string.\n",
        "\n",
        "Ans.  Here's a Python program that uses the filter() function to remove all the vowels (both uppercase and lowercase) from a given string:"
      ],
      "metadata": {
        "id": "vddeCENBu4A5"
      }
    },
    {
      "cell_type": "code",
      "source": [
        "def remove_vowels(input_string):\n",
        "    vowels = \"aeiouAEIOU\"\n",
        "    # Use filter to remove characters that are vowels\n",
        "    result = ''.join(filter(lambda x: x not in vowels, input_string))\n",
        "    return result\n",
        "\n",
        "# Example usage\n",
        "input_string = \"Hello World\"\n",
        "output_string = remove_vowels(input_string)\n",
        "print(f\"Original String: {input_string}\")\n",
        "print(f\"String without vowels: {output_string}\")\n"
      ],
      "metadata": {
        "colab": {
          "base_uri": "https://localhost:8080/"
        },
        "id": "7w8VbHhXvQR5",
        "outputId": "0993f732-74fc-4b1e-8b58-9d8e24b52b3b"
      },
      "execution_count": 65,
      "outputs": [
        {
          "output_type": "stream",
          "name": "stdout",
          "text": [
            "Original String: Hello World\n",
            "String without vowels: Hll Wrld\n"
          ]
        }
      ]
    },
    {
      "cell_type": "markdown",
      "source": [
        "Q11.  Imagine an accounting routine used in a book shop. It works on a list with sublists, which look like this:\n",
        "\n",
        "Write a Python program, which returns a list with 2-tuples. Each tuple consists of the order number and the\n",
        "product of the price per item and the quantity. The product should be increased by 10,- € if the value of the\n",
        "order is smaller than 100,00 €.\n",
        "\n",
        "Write a Python program using lambda and map\n",
        "\n",
        "Ans.  "
      ],
      "metadata": {
        "id": "OICgIScfvT5a"
      }
    },
    {
      "cell_type": "code",
      "source": [
        "# Given book order data\n",
        "book_orders = [\n",
        "    (34587, \"Learning Python, Mark Lutz\", 4, 40.95),\n",
        "    (98762, \"Programming Python, Mark Lutz\", 5, 56.80),\n",
        "    (77226, \"Head First Python, Paul Barry\", 3, 32.95),\n",
        "    (88112, \"Einführung in Python3, Bernd Klein\", 3, 24.99)\n",
        "]\n",
        "\n",
        "# Using map and lambda to process the data\n",
        "result = list(map(lambda order: (order[0], order[2] * order[3] if order[2] * order[3] >= 100 else order[2] * order[3] + 10), book_orders))\n",
        "\n",
        "# Print the result\n",
        "print(result)\n"
      ],
      "metadata": {
        "colab": {
          "base_uri": "https://localhost:8080/"
        },
        "id": "vxiPHZgyv_a-",
        "outputId": "4f35ddf6-d762-4aca-b874-b05b9a20565e"
      },
      "execution_count": 66,
      "outputs": [
        {
          "output_type": "stream",
          "name": "stdout",
          "text": [
            "[(34587, 163.8), (98762, 284.0), (77226, 108.85000000000001), (88112, 84.97)]\n"
          ]
        }
      ]
    }
  ]
}