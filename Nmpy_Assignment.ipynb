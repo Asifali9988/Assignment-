{
  "nbformat": 4,
  "nbformat_minor": 0,
  "metadata": {
    "colab": {
      "provenance": []
    },
    "kernelspec": {
      "name": "python3",
      "display_name": "Python 3"
    },
    "language_info": {
      "name": "python"
    }
  },
  "cells": [
    {
      "cell_type": "markdown",
      "source": [
        "Q1. Explain the purpose and advantages of NumPy in scientific computing and data analysis. How does it enhance Python's capabilities for numerical operations?\n",
        "\n",
        "Ans. NumPy (Numerical Python) is a powerful library for numerical computing in Python. It provides efficient data structures, functions, and tools that enhance Python’s capabilities for handling large datasets, performing numerical operations, and conducting scientific computations.\n",
        "\n",
        "Advantages of NumPy\n",
        "\n",
        "1. Efficient Multi-Dimensional Arrays (ndarray)\n",
        "\n",
        "    NumPy introduces the ndarray object, which is a fast and memory-efficient alternative to Python lists.\n",
        "\n",
        "    Supports multi-dimensional arrays with advanced indexing and slicing capabilities.\n",
        "\n",
        "2. Performance Optimization\n",
        "\n",
        "    NumPy operations are implemented in C and Fortran, making them significantly faster than equivalent Python loops.\n",
        "\n",
        "    Supports vectorized operations that eliminate the need for explicit loops.\n",
        "\n",
        "3. Comprehensive Mathematical Functions\n",
        "\n",
        "    Includes functions for linear algebra, statistical operations, Fourier transforms, and more.\n",
        "\n",
        "    Offers universal functions (ufuncs) for element-wise operations.\n",
        "\n",
        "4. Broadcasting Mechanism\n",
        "\n",
        "    Enables operations between arrays of different shapes without creating unnecessary copies.\n",
        "\n",
        "    Reduces memory overhead and enhances performance.\n",
        "\n",
        "5. Memory Efficiency\n",
        "\n",
        "    Uses a fixed type for array elements, consuming less memory compared to Python lists.\n",
        "\n",
        "    Avoids the overhead of storing type information for each element.\n",
        "\n",
        "6. Integration with Other Libraries\n",
        "\n",
        "    Works seamlessly with libraries like SciPy, Pandas, Matplotlib, TensorFlow, and Scikit-learn.\n",
        "\n",
        "    Provides a foundation for data analysis and machine learning applications.\n",
        "\n",
        "7. Support for Large Datasets\n",
        "\n",
        "    Designed to handle large numerical datasets efficiently.\n",
        "\n",
        "    Optimized for high-performance computing tasks.\n",
        "\n",
        "Enhancing Python’s Capabilities for Numerical Operations\n",
        "\n",
        "    Vectorization: NumPy allows performing operations on entire arrays without writing explicit loops, making computations faster and more readable.\n",
        "\n",
        "    Better Indexing & Slicing: Supports advanced slicing, boolean masking, and fancy indexing for flexible data manipulation.\n",
        "\n",
        "    Parallelism & Multithreading: Uses optimized BLAS and LAPACK implementations for parallel computations.\n",
        "\n",
        "    Interfacing with Other Languages: Can interact with C, C++, and Fortran for performance-critical tasks."
      ],
      "metadata": {
        "id": "YAc3_sRV1GI5"
      }
    },
    {
      "cell_type": "markdown",
      "source": [
        "Q2. Compare and contrast np.mean() and np.average() functions in NumPy. When would you use one over the other?\n",
        "\n",
        "Ans. Comparison of np.mean() and np.average() in NumPy\n",
        "Both np.mean() and np.average() compute the average value of an array, but they have key differences in how they handle weights and their functionality.\n",
        "\n",
        "Key Differences\n",
        "\n",
        "1. Weighted Average Capability\n",
        "\n",
        "    np.mean() only calculates the simple arithmetic mean.\n",
        "    \n",
        "    np.average() allows specifying weights, making it useful when some values contribute more than others.\n",
        "\n",
        "2. Output Differences with Weights\n",
        "\n",
        "    If weights are not provided, np.average() behaves like np.mean().\n",
        "\n",
        "    If weights are provided, np.average() calculates the weighted mean:\n"
      ],
      "metadata": {
        "id": "my8gjobm2MOc"
      }
    },
    {
      "cell_type": "markdown",
      "source": [
        "Q3. Describe the methods for reversing a NumPy array along different axes. Provide examples for 1D and 2D arrays.\n",
        "\n",
        "Ans. Methods for Reversing a NumPy Array Along Different Axes\n",
        "NumPy provides multiple ways to reverse an array, either fully or along specific dimensions (axes).\n",
        "\n",
        "1. Reversing a 1D Array\n",
        "\n",
        "    For a one-dimensional (1D) array, we can reverse the elements using slicing or built-in functions.\n",
        "\n",
        "Method 1: Using Slicing ([::-1])"
      ],
      "metadata": {
        "id": "MfB6emva3Fjs"
      }
    },
    {
      "cell_type": "code",
      "source": [
        "import numpy as np\n",
        "\n",
        "arr_1d = np.array([1, 2, 3, 4, 5])\n",
        "reversed_1d = arr_1d[::-1]\n",
        "\n",
        "print(reversed_1d)  # Output: [5 4 3 2 1]"
      ],
      "metadata": {
        "colab": {
          "base_uri": "https://localhost:8080/"
        },
        "id": "1zKCyrsl3WQt",
        "outputId": "881ff1cc-eaab-467e-d97d-d12aaf72a26d"
      },
      "execution_count": 1,
      "outputs": [
        {
          "output_type": "stream",
          "name": "stdout",
          "text": [
            "[5 4 3 2 1]\n"
          ]
        }
      ]
    },
    {
      "cell_type": "markdown",
      "source": [
        "Method 2: Using np.flip()"
      ],
      "metadata": {
        "id": "Fcw3TxVR3cFu"
      }
    },
    {
      "cell_type": "code",
      "source": [
        "reversed_1d_flip = np.flip(arr_1d)\n",
        "print(reversed_1d_flip)  # Output: [5 4 3 2 1]"
      ],
      "metadata": {
        "colab": {
          "base_uri": "https://localhost:8080/"
        },
        "id": "tNeIpFyR3fea",
        "outputId": "2d8fc92e-7a75-4baa-81de-acdef80cf62e"
      },
      "execution_count": 2,
      "outputs": [
        {
          "output_type": "stream",
          "name": "stdout",
          "text": [
            "[5 4 3 2 1]\n"
          ]
        }
      ]
    },
    {
      "cell_type": "markdown",
      "source": [
        "2. Reversing a 2D Array (Along Different Axes)\n",
        "\n",
        "    Original 2D Array"
      ],
      "metadata": {
        "id": "AUz5Vzy43jGh"
      }
    },
    {
      "cell_type": "code",
      "source": [
        "arr_2d = np.array([[1, 2, 3],\n",
        "                   [4, 5, 6],\n",
        "                   [7, 8, 9]])\n",
        "print(arr_2d)"
      ],
      "metadata": {
        "colab": {
          "base_uri": "https://localhost:8080/"
        },
        "id": "xBMR3ALI3qDC",
        "outputId": "a31b5aec-8f96-4ead-8508-66c22376ef4a"
      },
      "execution_count": 4,
      "outputs": [
        {
          "output_type": "stream",
          "name": "stdout",
          "text": [
            "[[1 2 3]\n",
            " [4 5 6]\n",
            " [7 8 9]]\n"
          ]
        }
      ]
    },
    {
      "cell_type": "markdown",
      "source": [
        "Method 1: Reverse Entire 2D Array ([::-1, ::-1])\n",
        "\n",
        "    Reverses both rows and columns."
      ],
      "metadata": {
        "id": "cAj1jFL63wfb"
      }
    },
    {
      "cell_type": "code",
      "source": [
        "reversed_2d = arr_2d[::-1, ::-1]\n",
        "print(reversed_2d)"
      ],
      "metadata": {
        "colab": {
          "base_uri": "https://localhost:8080/"
        },
        "id": "cBb_5rI932Ei",
        "outputId": "c1fa580c-7a93-432b-b19c-771f5f08b850"
      },
      "execution_count": 5,
      "outputs": [
        {
          "output_type": "stream",
          "name": "stdout",
          "text": [
            "[[9 8 7]\n",
            " [6 5 4]\n",
            " [3 2 1]]\n"
          ]
        }
      ]
    },
    {
      "cell_type": "markdown",
      "source": [
        "Method 2: Using np.flip()\n",
        "\n",
        "(a) Reverse Along Rows (axis=0)"
      ],
      "metadata": {
        "id": "ggQipGbt35h0"
      }
    },
    {
      "cell_type": "code",
      "source": [
        "reversed_rows = np.flip(arr_2d, axis=0)\n",
        "print(reversed_rows)"
      ],
      "metadata": {
        "colab": {
          "base_uri": "https://localhost:8080/"
        },
        "id": "h0uOHDlz4AwS",
        "outputId": "93d5548a-7d93-4657-e31f-246601f9d1f3"
      },
      "execution_count": 6,
      "outputs": [
        {
          "output_type": "stream",
          "name": "stdout",
          "text": [
            "[[7 8 9]\n",
            " [4 5 6]\n",
            " [1 2 3]]\n"
          ]
        }
      ]
    },
    {
      "cell_type": "markdown",
      "source": [
        "(b) Reverse Along Columns (axis=1)"
      ],
      "metadata": {
        "id": "XatZ1Vmk4Eqk"
      }
    },
    {
      "cell_type": "code",
      "source": [
        "reversed_columns = np.flip(arr_2d, axis=1)\n",
        "print(reversed_columns)"
      ],
      "metadata": {
        "colab": {
          "base_uri": "https://localhost:8080/"
        },
        "id": "9YNIHsh34Hx-",
        "outputId": "274a63df-0f5e-4a44-bb12-103020b7cc39"
      },
      "execution_count": 7,
      "outputs": [
        {
          "output_type": "stream",
          "name": "stdout",
          "text": [
            "[[3 2 1]\n",
            " [6 5 4]\n",
            " [9 8 7]]\n"
          ]
        }
      ]
    },
    {
      "cell_type": "markdown",
      "source": [
        "Q4. How can you determine the data type of elements in a NumPy array? Discuss the importance of data types in memory management and performance.\n",
        "\n",
        "Ans. Determining the Data Type of Elements in a NumPy Array\n",
        "NumPy provides attributes and functions to determine the data type (dtype) of elements in an array.\n",
        "\n",
        "Method 1: Using .dtype Attribute\n",
        "\n",
        "The .dtype attribute returns the data type of elements in the array."
      ],
      "metadata": {
        "id": "JzQK_IIZ4P6G"
      }
    },
    {
      "cell_type": "code",
      "source": [
        "import numpy as np\n",
        "\n",
        "arr = np.array([1, 2, 3, 4, 5])\n",
        "print(arr.dtype)  # Output: int32 or int64 (depends on system)"
      ],
      "metadata": {
        "colab": {
          "base_uri": "https://localhost:8080/"
        },
        "id": "bJ4SQxVu4plX",
        "outputId": "84cecdbd-5f53-4a18-f561-d783fb6c1b94"
      },
      "execution_count": 8,
      "outputs": [
        {
          "output_type": "stream",
          "name": "stdout",
          "text": [
            "int64\n"
          ]
        }
      ]
    },
    {
      "cell_type": "markdown",
      "source": [
        "Method 2: Using np.result_type()\n",
        "\n",
        "This function determines the common data type of given inputs."
      ],
      "metadata": {
        "id": "LUzCwggK4vHn"
      }
    },
    {
      "cell_type": "code",
      "source": [
        "dtype = np.result_type(3, 4.5, np.array([1, 2, 3]))\n",
        "print(dtype)  # Output: float64"
      ],
      "metadata": {
        "colab": {
          "base_uri": "https://localhost:8080/"
        },
        "id": "fuVXPrsJ40mE",
        "outputId": "384d75df-682a-4ed5-a4e4-d41e912b83e3"
      },
      "execution_count": 9,
      "outputs": [
        {
          "output_type": "stream",
          "name": "stdout",
          "text": [
            "float64\n"
          ]
        }
      ]
    },
    {
      "cell_type": "markdown",
      "source": [
        "Method 3: Using np.can_cast()\n",
        "\n",
        "Checks if a NumPy array can be safely cast to another data type."
      ],
      "metadata": {
        "id": "4vpkzhUV44-f"
      }
    },
    {
      "cell_type": "code",
      "source": [
        "print(np.can_cast(arr.dtype, np.float64))  # Output: True"
      ],
      "metadata": {
        "colab": {
          "base_uri": "https://localhost:8080/"
        },
        "id": "8GCIfkzk49Zr",
        "outputId": "29297ecf-8eab-4f0c-c957-4c069355597d"
      },
      "execution_count": 10,
      "outputs": [
        {
          "output_type": "stream",
          "name": "stdout",
          "text": [
            "True\n"
          ]
        }
      ]
    },
    {
      "cell_type": "markdown",
      "source": [
        "Importance of Data Types in Memory Management and Performance\n",
        "\n",
        "1. Memory Efficiency\n",
        "\n",
        "    Different data types consume different amounts of memory.\n",
        "\n",
        "    Example: int32 takes 4 bytes per element, while int64 takes 8 bytes.\n",
        "\n",
        "    Choosing an optimal data type can significantly reduce memory usage for large datasets.\n",
        "\n",
        "2. Computational Performance\n",
        "\n",
        "    Smaller data types allow faster computations because they require fewer CPU cycles.\n",
        "\n",
        "    Example: float32 operations are faster than float64 on most systems.\n",
        "\n",
        "3. Avoiding Type Conversion Overhead\n",
        "\n",
        "    Operations on arrays with different data types may cause implicit type conversions, which slow down computations.\n",
        "\n",
        "    Example:"
      ],
      "metadata": {
        "id": "eT9WsYDK5BIt"
      }
    },
    {
      "cell_type": "code",
      "source": [
        "arr1 = np.array([1, 2, 3], dtype=np.int32)\n",
        "arr2 = np.array([1.0, 2.0, 3.0], dtype=np.float64)\n",
        "result = arr1 + arr2  # Implicit conversion to float64\n",
        "print(result.dtype)  # Output: float64"
      ],
      "metadata": {
        "colab": {
          "base_uri": "https://localhost:8080/"
        },
        "id": "nuEB1x025b27",
        "outputId": "b7f53d37-2c93-4448-a880-bed58ac765a6"
      },
      "execution_count": 11,
      "outputs": [
        {
          "output_type": "stream",
          "name": "stdout",
          "text": [
            "float64\n"
          ]
        }
      ]
    },
    {
      "cell_type": "markdown",
      "source": [
        "4. Precision Control\n",
        "\n",
        "    Floating-point calculations are prone to precision errors.\n",
        "\n",
        "    Example: float32 may lose precision in large numerical computations, whereas float64 is more accurate.\n",
        "\n",
        "5. Compatibility with External Systems\n",
        "\n",
        "    Data type selection is crucial when interfacing with databases, machine learning frameworks (e.g., TensorFlow), or hardware-specific optimizations.\n"
      ],
      "metadata": {
        "id": "9tX3m-Ot5iIn"
      }
    },
    {
      "cell_type": "markdown",
      "source": [
        "Q5. Define ndarrays in NumPy and explain their key features. How do they differ from standard Python lists?\n",
        "\n",
        "Ans. Definition of ndarrays in NumPy\n",
        "\n",
        "    An ndarray (n-dimensional array) is the fundamental data structure in NumPy, used for storing large, multi-dimensional homogeneous data. It is an efficient, flexible, and optimized array-like structure that supports mathematical operations and complex computations.\n",
        "\n",
        "Key Features of ndarrays\n",
        "\n",
        "1. Homogeneous Data: All elements in an ndarray must be of the same data type (e.g., integers, floats, or complex numbers).\n",
        "\n",
        "2. Fixed Size: Once created, the size of an ndarray cannot be changed (unlike Python lists).\n",
        "\n",
        "3. Efficient Memory Storage: Stores elements in contiguous memory blocks, which improves speed and reduces overhead.\n",
        "\n",
        "4. Vectorized Operations: Supports element-wise arithmetic operations and broadcasting, reducing the need for explicit loops.\n",
        "\n",
        "5. Multidimensional Support: Can have any number of dimensions (ndim), making it suitable for complex mathematical operations.\n",
        "\n",
        "6. Indexing & Slicing: Provides advanced slicing techniques, including boolean and fancy indexing.\n",
        "\n",
        "7. Integrated with Mathematical Functions: Works seamlessly with NumPy's built-in mathematical functions (e.g., np.sum(), np.mean()).\n",
        "\n",
        "Differences Between ndarrays and Python Lists\n",
        "\n",
        "1. Data Type\n",
        "    Numpy Ndarrays: Homogeneous\n",
        "    \n",
        "    Python lists: Heterogeneous\n",
        "2. Memory Efficiency\n",
        "    Numpy Ndarrays:More efficient (contiguous memory)\n",
        "\n",
        "    Python lists:Less efficient (pointers to objects)\n",
        "3. Performance\n",
        "    Numpy Ndarrays: Faster (vectorized operations, optimized C implementation)\n",
        "\n",
        "    Python lists: Slower (requires Python loops for operations)\n",
        "4. Dimensionality\n",
        "    Numpy Ndarrays:  Supports multi-dimensional arrays\n",
        "\n",
        "    Python lists: Only 1D natively (nested lists for higher dimensions)\n",
        "5. Operations\n",
        "    Numpy Ndarrays: Supports element-wise operations & broadcasting\n",
        "\n",
        "    Python lists: Requires loops or list comprehensions\n",
        "6. Indexing\n",
        "    Numpy Ndarrays: Advanced (boolean, fancy indexing)\n",
        "\n",
        "    Python lists: Basic (single/multi-level indexing)\n"
      ],
      "metadata": {
        "id": "CXrvHJip5qTE"
      }
    },
    {
      "cell_type": "markdown",
      "source": [
        "Q6. Analyze the performance benefits of NumPy arrays over Python lists for large-scale numerical operations.\n",
        "\n",
        "Ans. Performance Benefits of NumPy Arrays Over Python Lists\n",
        "\n",
        "When working with large-scale numerical operations, NumPy arrays (ndarray) significantly outperform Python lists due to several key optimizations. Below are the main advantages and their impact on performance:\n",
        "\n",
        "1. Memory Efficiency\n",
        "    NumPy arrays store elements in a contiguous block of memory, making them more compact and reducing memory overhead.\n",
        "\n",
        "    Python lists store references to objects, increasing memory usage, especially for large datasets.\n",
        "\n",
        " Example: Checking memory usage"
      ],
      "metadata": {
        "id": "sDpk97fI8hHj"
      }
    },
    {
      "cell_type": "code",
      "source": [
        "import numpy as np\n",
        "import sys\n",
        "\n",
        "size = 1_000_000\n",
        "\n",
        "# NumPy array\n",
        "arr = np.arange(size)\n",
        "print(\"NumPy array size (bytes):\", arr.nbytes)\n",
        "\n",
        "# Python list\n",
        "lst = list(range(size))\n",
        "print(\"Python list size (bytes):\", sys.getsizeof(lst) + sum(sys.getsizeof(i) for i in lst))\n"
      ],
      "metadata": {
        "colab": {
          "base_uri": "https://localhost:8080/"
        },
        "id": "wiInNLzZ88Di",
        "outputId": "fc3527bc-6749-423b-ba72-0fe4b2e24424"
      },
      "execution_count": 12,
      "outputs": [
        {
          "output_type": "stream",
          "name": "stdout",
          "text": [
            "NumPy array size (bytes): 8000000\n",
            "Python list size (bytes): 36000056\n"
          ]
        }
      ]
    },
    {
      "cell_type": "markdown",
      "source": [
        "2. Computational Speed (Vectorization & Broadcasting)\n",
        "\n",
        "    NumPy leverages optimized C and Fortran libraries to execute operations in compiled code.\n",
        "\n",
        "    Python lists require explicit loops, making them much slower for mathematical computations.\n",
        "\n",
        "Example: Element-wise addition"
      ],
      "metadata": {
        "id": "xwgUUEkz8_CJ"
      }
    },
    {
      "cell_type": "code",
      "source": [
        "import time\n",
        "\n",
        "size = 1_000_000\n",
        "\n",
        "# NumPy array addition\n",
        "arr1 = np.arange(size)\n",
        "arr2 = np.arange(size)\n",
        "\n",
        "start = time.time()\n",
        "result = arr1 + arr2  # Vectorized operation\n",
        "print(\"NumPy execution time:\", time.time() - start)\n",
        "\n",
        "# Python list addition\n",
        "lst1 = list(range(size))\n",
        "lst2 = list(range(size))\n",
        "\n",
        "start = time.time()\n",
        "result = [x + y for x, y in zip(lst1, lst2)]  # Using list comprehension\n",
        "print(\"Python list execution time:\", time.time() - start)\n"
      ],
      "metadata": {
        "colab": {
          "base_uri": "https://localhost:8080/"
        },
        "id": "xg4apLOF9FQ-",
        "outputId": "e9598bf5-b927-4bb5-9abb-b9202cf8770e"
      },
      "execution_count": 13,
      "outputs": [
        {
          "output_type": "stream",
          "name": "stdout",
          "text": [
            "NumPy execution time: 0.01756453514099121\n",
            "Python list execution time: 0.10935735702514648\n"
          ]
        }
      ]
    },
    {
      "cell_type": "markdown",
      "source": [
        "3. Avoidance of Loop Overhead\n",
        "\n",
        "    NumPy operations are performed in compiled C code, while Python loops introduce interpretation overhead.\n",
        "\n",
        "    This is especially beneficial for large-scale computations.\n",
        "\n",
        "Example: Squaring elements"
      ],
      "metadata": {
        "id": "GfhnPRYD9IaM"
      }
    },
    {
      "cell_type": "code",
      "source": [
        "size = 1_000_000\n",
        "arr = np.arange(size)\n",
        "\n",
        "# NumPy vectorized squaring\n",
        "start = time.time()\n",
        "arr **= 2  # Element-wise operation\n",
        "print(\"NumPy execution time:\", time.time() - start)\n",
        "\n",
        "# Python loop squaring\n",
        "lst = list(range(size))\n",
        "start = time.time()\n",
        "lst = [x**2 for x in lst]\n",
        "print(\"Python list execution time:\", time.time() - start)\n"
      ],
      "metadata": {
        "colab": {
          "base_uri": "https://localhost:8080/"
        },
        "id": "eTThdkeu9Ofb",
        "outputId": "97e1ce25-5035-4786-e703-28e7784b5cb8"
      },
      "execution_count": 14,
      "outputs": [
        {
          "output_type": "stream",
          "name": "stdout",
          "text": [
            "NumPy execution time: 0.0017709732055664062\n",
            "Python list execution time: 0.1100163459777832\n"
          ]
        }
      ]
    },
    {
      "cell_type": "markdown",
      "source": [
        "4. Built-in Mathematical & Statistical Functions\n",
        "\n",
        "    NumPy provides optimized mathematical functions like np.sum(), np.mean(), and np.dot(), which are significantly faster than their Python equivalents.\n",
        "\n",
        "Example: Summing elements"
      ],
      "metadata": {
        "id": "5-idyaY69SEH"
      }
    },
    {
      "cell_type": "code",
      "source": [
        "size = 1_000_000\n",
        "arr = np.arange(size)\n",
        "lst = list(range(size))\n",
        "\n",
        "# NumPy sum\n",
        "start = time.time()\n",
        "np.sum(arr)\n",
        "print(\"NumPy sum execution time:\", time.time() - start)\n",
        "\n",
        "# Python sum\n",
        "start = time.time()\n",
        "sum(lst)\n",
        "print(\"Python list sum execution time:\", time.time() - start)\n"
      ],
      "metadata": {
        "colab": {
          "base_uri": "https://localhost:8080/"
        },
        "id": "47qcncGz9Z5v",
        "outputId": "8544cc95-4c50-4cc2-b4bf-29509446e2eb"
      },
      "execution_count": 15,
      "outputs": [
        {
          "output_type": "stream",
          "name": "stdout",
          "text": [
            "NumPy sum execution time: 0.0014998912811279297\n",
            "Python list sum execution time: 0.00836324691772461\n"
          ]
        }
      ]
    },
    {
      "cell_type": "markdown",
      "source": [
        "5. Support for Parallel Processing\n",
        "\n",
        "    NumPy operations use SIMD (Single Instruction, Multiple Data) and parallel processing under the hood.\n",
        "\n",
        "    Python lists execute operations sequentially, making them slower."
      ],
      "metadata": {
        "id": "ggdXY6eK9cWp"
      }
    },
    {
      "cell_type": "markdown",
      "source": [
        "Q7. Compare vstack() and hstack() functions in NumPy. Provide examples demonstrating their usage and output.\n",
        "\n",
        "Ans. Comparison of vstack() and hstack() in NumPy\n",
        "\n",
        "  Both vstack() and hstack() are used for stacking (combining) arrays, but they work in different ways:\n",
        "1. numpy.vstack() - Vertical Stacking\n",
        "\n",
        "    Stacks arrays vertically (row-wise), increasing the number of rows.\n",
        "\n",
        "    Input arrays must have the same number of columns.\n",
        "\n",
        "Example: Using vstack()"
      ],
      "metadata": {
        "id": "iXHEK0Ws9hYd"
      }
    },
    {
      "cell_type": "code",
      "source": [
        "import numpy as np\n",
        "\n",
        "a = np.array([[1, 2], [3, 4]])  # 2x2 array\n",
        "b = np.array([[5, 6]])          # 1x2 array\n",
        "\n",
        "result = np.vstack((a, b))  # Stack along rows\n",
        "print(result)"
      ],
      "metadata": {
        "colab": {
          "base_uri": "https://localhost:8080/"
        },
        "id": "Jn1iP7SP96Bx",
        "outputId": "e99ebe5c-ec01-40e0-b416-e83c66ef9e2b"
      },
      "execution_count": 16,
      "outputs": [
        {
          "output_type": "stream",
          "name": "stdout",
          "text": [
            "[[1 2]\n",
            " [3 4]\n",
            " [5 6]]\n"
          ]
        }
      ]
    },
    {
      "cell_type": "markdown",
      "source": [
        "2. numpy.hstack() - Horizontal Stacking\n",
        "\n",
        "    Stacks arrays horizontally (column-wise), increasing the number of columns.\n",
        "\n",
        "    Input arrays must have the same number of rows.\n",
        "\n",
        "Example: Using hstack()"
      ],
      "metadata": {
        "id": "QYDq-K1F983_"
      }
    },
    {
      "cell_type": "code",
      "source": [
        "c = np.array([[1, 2], [3, 4]])  # 2x2 array\n",
        "d = np.array([[5], [6]])        # 2x1 array\n",
        "\n",
        "result = np.hstack((c, d))  # Stack along columns\n",
        "print(result)"
      ],
      "metadata": {
        "colab": {
          "base_uri": "https://localhost:8080/"
        },
        "id": "fUk_YxUe-Cm7",
        "outputId": "7c3500d1-00c7-4b17-cbf7-b1417138daaf"
      },
      "execution_count": 17,
      "outputs": [
        {
          "output_type": "stream",
          "name": "stdout",
          "text": [
            "[[1 2 5]\n",
            " [3 4 6]]\n"
          ]
        }
      ]
    },
    {
      "cell_type": "markdown",
      "source": [
        "Q8. Explain the differences between fliplr() and flipud() methods in NumPy, including their effects on various array dimensions.\n",
        "\n",
        "Ans. Differences Between fliplr() and flipud() in NumPy\n",
        "\n",
        "Both fliplr() and flipud() are used to flip arrays along different axes, but they serve different purposes:\n",
        "\n",
        "1. numpy.fliplr() – Flip Left to Right (Horizontally)\n",
        "\n",
        "    Works on 2D or higher arrays.\n",
        "\n",
        "    Reverses the order of columns, but rows remain unchanged.\n",
        "\n",
        "Example: Using fliplr()"
      ],
      "metadata": {
        "id": "iGrBTNDt-Mol"
      }
    },
    {
      "cell_type": "code",
      "source": [
        "import numpy as np\n",
        "\n",
        "arr = np.array([[1, 2, 3],\n",
        "                [4, 5, 6],\n",
        "                [7, 8, 9]])\n",
        "\n",
        "flipped_lr = np.fliplr(arr)\n",
        "print(flipped_lr)"
      ],
      "metadata": {
        "colab": {
          "base_uri": "https://localhost:8080/"
        },
        "id": "961rAV78-lXR",
        "outputId": "697ab18c-5b97-4abe-80b1-ff19962d6926"
      },
      "execution_count": 18,
      "outputs": [
        {
          "output_type": "stream",
          "name": "stdout",
          "text": [
            "[[3 2 1]\n",
            " [6 5 4]\n",
            " [9 8 7]]\n"
          ]
        }
      ]
    },
    {
      "cell_type": "markdown",
      "source": [
        "2. numpy.flipud() – Flip Upside Down (Vertically)\n",
        "\n",
        "    Works on 2D or higher arrays.\n",
        "\n",
        "    Reverses the order of rows, but columns remain unchanged.\n",
        "\n",
        "Example: Using flipud()"
      ],
      "metadata": {
        "id": "Oj5h9T25-oFz"
      }
    },
    {
      "cell_type": "code",
      "source": [
        "flipped_ud = np.flipud(arr)\n",
        "print(flipped_ud)"
      ],
      "metadata": {
        "colab": {
          "base_uri": "https://localhost:8080/"
        },
        "id": "_pC0mbXR-uHT",
        "outputId": "fec1e0c9-e523-4cfa-d603-cf19aa1ab3ec"
      },
      "execution_count": 19,
      "outputs": [
        {
          "output_type": "stream",
          "name": "stdout",
          "text": [
            "[[7 8 9]\n",
            " [4 5 6]\n",
            " [1 2 3]]\n"
          ]
        }
      ]
    },
    {
      "cell_type": "markdown",
      "source": [
        "Effects on Higher-Dimensional Arrays\n",
        "\n",
        "    Both functions only affect the first two dimensions of an array.\n",
        "\n",
        "    For 3D arrays, they flip each 2D slice independently.\n",
        "\n",
        "Example: 3D Array Flip"
      ],
      "metadata": {
        "id": "VEdDW0gE-0mS"
      }
    },
    {
      "cell_type": "code",
      "source": [
        "arr_3d = np.arange(1, 13).reshape(2, 3, 2)\n",
        "print(\"Original Array:\\n\", arr_3d)\n",
        "\n",
        "print(\"\\nFliplr:\\n\", np.fliplr(arr_3d))\n",
        "print(\"\\nFlipud:\\n\", np.flipud(arr_3d))\n"
      ],
      "metadata": {
        "colab": {
          "base_uri": "https://localhost:8080/"
        },
        "id": "AMVAqPLD-62C",
        "outputId": "47a97f4f-36c4-4117-ee7d-1140bc64c372"
      },
      "execution_count": 20,
      "outputs": [
        {
          "output_type": "stream",
          "name": "stdout",
          "text": [
            "Original Array:\n",
            " [[[ 1  2]\n",
            "  [ 3  4]\n",
            "  [ 5  6]]\n",
            "\n",
            " [[ 7  8]\n",
            "  [ 9 10]\n",
            "  [11 12]]]\n",
            "\n",
            "Fliplr:\n",
            " [[[ 5  6]\n",
            "  [ 3  4]\n",
            "  [ 1  2]]\n",
            "\n",
            " [[11 12]\n",
            "  [ 9 10]\n",
            "  [ 7  8]]]\n",
            "\n",
            "Flipud:\n",
            " [[[ 7  8]\n",
            "  [ 9 10]\n",
            "  [11 12]]\n",
            "\n",
            " [[ 1  2]\n",
            "  [ 3  4]\n",
            "  [ 5  6]]]\n"
          ]
        }
      ]
    },
    {
      "cell_type": "markdown",
      "source": [
        "Q9. Discuss the functionality of the array_split() method in NumPy. How does it handle uneven splits?\n",
        "\n",
        "Ans. Understanding numpy.array_split() Method\n",
        "\n",
        "The numpy.array_split() method is used to split an array into multiple sub-arrays along a specified axis. Unlike np.split(), which requires an even division, np.array_split() handles uneven splits gracefully by creating smaller sub-arrays as needed.\n",
        "\n",
        "Syntax:\n",
        "\n",
        "    arr: The input NumPy array.\n",
        "\n",
        "    sections: The number of parts to split the array into.\n",
        "\n",
        "    axis: The axis along which to split (default is axis=0, i.e., row-wise for 2D arrays).\n",
        "\n",
        "Handling Uneven Splits\n",
        "\n",
        "    If the array cannot be divided equally, array_split() distributes extra elements into the first few sub-arrays.\n",
        "\n",
        "    This means that the first few sub-arrays will have an extra element compared to the rest.\n",
        "\n",
        "Example 1: Even Split\n",
        "\n",
        "Splitting a 1D array evenly"
      ],
      "metadata": {
        "id": "TcYYazoD-_l6"
      }
    },
    {
      "cell_type": "code",
      "source": [
        "import numpy as np\n",
        "\n",
        "arr = np.array([1, 2, 3, 4, 5, 6])\n",
        "split_arrays = np.array_split(arr, 3)  # Splitting into 3 equal parts\n",
        "\n",
        "for i, sub in enumerate(split_arrays):\n",
        "    print(f\"Sub-array {i+1}: {sub}\")"
      ],
      "metadata": {
        "colab": {
          "base_uri": "https://localhost:8080/"
        },
        "id": "YL-VTzyD_ma7",
        "outputId": "7bc8d421-452b-4b60-f394-f8d41b59fb0e"
      },
      "execution_count": 22,
      "outputs": [
        {
          "output_type": "stream",
          "name": "stdout",
          "text": [
            "Sub-array 1: [1 2]\n",
            "Sub-array 2: [3 4]\n",
            "Sub-array 3: [5 6]\n"
          ]
        }
      ]
    },
    {
      "cell_type": "markdown",
      "source": [
        "Example 2: Uneven Split\n",
        "\n",
        "Splitting a 1D array unevenly"
      ],
      "metadata": {
        "id": "Sl8UEEbk_pur"
      }
    },
    {
      "cell_type": "code",
      "source": [
        "arr = np.array([1, 2, 3, 4, 5, 6, 7])\n",
        "split_arrays = np.array_split(arr, 3)  # Splitting into 3 parts (unevenly)\n",
        "\n",
        "for i, sub in enumerate(split_arrays):\n",
        "    print(f\"Sub-array {i+1}: {sub}\")"
      ],
      "metadata": {
        "colab": {
          "base_uri": "https://localhost:8080/"
        },
        "id": "WRj5E79m_t3b",
        "outputId": "ea4e3b86-3272-43df-ffae-4e93bf9945d7"
      },
      "execution_count": 23,
      "outputs": [
        {
          "output_type": "stream",
          "name": "stdout",
          "text": [
            "Sub-array 1: [1 2 3]\n",
            "Sub-array 2: [4 5]\n",
            "Sub-array 3: [6 7]\n"
          ]
        }
      ]
    },
    {
      "cell_type": "markdown",
      "source": [
        "Example 3: Splitting a 2D Array\n",
        "\n",
        "Splitting a 2D array along rows (axis=0)"
      ],
      "metadata": {
        "id": "UM9wQ1QY_wmv"
      }
    },
    {
      "cell_type": "code",
      "source": [
        "arr2D = np.array([[1, 2], [3, 4], [5, 6], [7, 8]])\n",
        "split_2D = np.array_split(arr2D, 3, axis=0)  # Splitting into 3 parts row-wise\n",
        "\n",
        "for i, sub in enumerate(split_2D):\n",
        "    print(f\"Sub-array {i+1}:\\n{sub}\\n\")"
      ],
      "metadata": {
        "colab": {
          "base_uri": "https://localhost:8080/"
        },
        "id": "GlEk5u-9_0SY",
        "outputId": "21db2fd6-b0f5-4808-c787-78192056691e"
      },
      "execution_count": 24,
      "outputs": [
        {
          "output_type": "stream",
          "name": "stdout",
          "text": [
            "Sub-array 1:\n",
            "[[1 2]\n",
            " [3 4]]\n",
            "\n",
            "Sub-array 2:\n",
            "[[5 6]]\n",
            "\n",
            "Sub-array 3:\n",
            "[[7 8]]\n",
            "\n"
          ]
        }
      ]
    },
    {
      "cell_type": "markdown",
      "source": [
        "Example 4: Splitting Along Columns (axis=1)\n",
        "\n",
        "Column-wise splitting"
      ],
      "metadata": {
        "id": "lAW6zs2u_3Ob"
      }
    },
    {
      "cell_type": "code",
      "source": [
        "arr2D = np.array([[1, 2, 3, 4], [5, 6, 7, 8]])\n",
        "split_col = np.array_split(arr2D, 3, axis=1)  # Split into 3 parts column-wise\n",
        "\n",
        "for i, sub in enumerate(split_col):\n",
        "    print(f\"Sub-array {i+1}:\\n{sub}\\n\")"
      ],
      "metadata": {
        "colab": {
          "base_uri": "https://localhost:8080/"
        },
        "id": "LIPKSRGB_7q1",
        "outputId": "38b0e618-a114-4456-8ed4-58e4142fd81b"
      },
      "execution_count": 25,
      "outputs": [
        {
          "output_type": "stream",
          "name": "stdout",
          "text": [
            "Sub-array 1:\n",
            "[[1 2]\n",
            " [5 6]]\n",
            "\n",
            "Sub-array 2:\n",
            "[[3]\n",
            " [7]]\n",
            "\n",
            "Sub-array 3:\n",
            "[[4]\n",
            " [8]]\n",
            "\n"
          ]
        }
      ]
    },
    {
      "cell_type": "markdown",
      "source": [
        "Q10.  Explain the concepts of vectorization and broadcasting in NumPy. How do they contribute to efficient array operations?\n",
        "\n",
        "Ans. Vectorization and Broadcasting in NumPy\n",
        "\n",
        "NumPy is optimized for high-performance numerical computing, and two of its most powerful features—vectorization and broadcasting—enable fast and efficient array operations by avoiding slow Python loops.\n",
        "\n",
        "1. Vectorization\n",
        "\n",
        "    Vectorization refers to the process of performing operations on entire arrays instead of using explicit Python loops. NumPy achieves this using highly optimized C and Fortran libraries, allowing computations to be performed in a single operation.\n",
        "\n",
        "Benefits of Vectorization\n",
        "\n",
        "    Faster Execution: Operations are executed at compiled speeds rather than interpreted Python loop speeds.\n",
        "    \n",
        "    Cleaner Code: Eliminates the need for manual looping, making the code more readable.\n",
        "\n",
        "    Memory Efficiency: Reduces overhead by leveraging contiguous memory storage.\n",
        "\n",
        "Example: Squaring Elements Using Vectorization vs. Loop\n",
        "\n",
        "Using a Python Loop (Slow)"
      ],
      "metadata": {
        "id": "QwvRhKp___gs"
      }
    },
    {
      "cell_type": "code",
      "source": [
        "import numpy as np\n",
        "import time\n",
        "\n",
        "size = 1_000_000\n",
        "arr = np.arange(size)\n",
        "\n",
        "# Using a loop\n",
        "start = time.time()\n",
        "result = [x**2 for x in arr]\n",
        "print(\"Loop Execution Time:\", time.time() - start)"
      ],
      "metadata": {
        "colab": {
          "base_uri": "https://localhost:8080/"
        },
        "id": "kQWnYkXvAdxe",
        "outputId": "e53fe792-d77d-408c-d042-287376a78e91"
      },
      "execution_count": 26,
      "outputs": [
        {
          "output_type": "stream",
          "name": "stdout",
          "text": [
            "Loop Execution Time: 0.1286475658416748\n"
          ]
        }
      ]
    },
    {
      "cell_type": "markdown",
      "source": [
        "Using NumPy Vectorization (Fast)"
      ],
      "metadata": {
        "id": "LLk-Yv7jAhs1"
      }
    },
    {
      "cell_type": "code",
      "source": [
        "# Using NumPy vectorized operation\n",
        "start = time.time()\n",
        "result = arr ** 2  # Element-wise squaring\n",
        "print(\"NumPy Vectorized Execution Time:\", time.time() - start)"
      ],
      "metadata": {
        "colab": {
          "base_uri": "https://localhost:8080/"
        },
        "id": "-iA0gSYsAkvP",
        "outputId": "028494e7-8430-4ff6-8972-1b3c8362f7de"
      },
      "execution_count": 27,
      "outputs": [
        {
          "output_type": "stream",
          "name": "stdout",
          "text": [
            "NumPy Vectorized Execution Time: 0.0035047531127929688\n"
          ]
        }
      ]
    },
    {
      "cell_type": "markdown",
      "source": [
        "    Vectorization is significantly faster than using loops since NumPy leverages compiled low-level operations.\n",
        "\n",
        "2. Broadcasting\n",
        "\n",
        "Broadcasting allows NumPy to perform operations on arrays of different shapes without explicit looping or reshaping. It expands smaller arrays to match the shape of larger ones without actually copying data, making operations memory-efficient and fast.\n",
        "\n",
        "Rules of Broadcasting\n",
        "\n",
        "When performing operations between arrays of different shapes, NumPy follows these rules:\n",
        "\n",
        "1. Compare dimensions from right to left.\n",
        "\n",
        "2. If dimensions are equal, they remain unchanged.\n",
        "\n",
        "3. If one of the dimensions is 1, it is broadcasted (expanded) to match the other dimension.\n",
        "\n",
        "4. If dimensions mismatch and neither is 1, NumPy raises an error.\n",
        "\n",
        "Example 1: Broadcasting in a Simple Operation"
      ],
      "metadata": {
        "id": "Q8-x33CiApOf"
      }
    },
    {
      "cell_type": "code",
      "source": [
        "arr1 = np.array([1, 2, 3])   # Shape: (3,)\n",
        "arr2 = np.array([[10],       # Shape: (3,1)\n",
        "                 [20],\n",
        "                 [30]])\n",
        "\n",
        "result = arr1 + arr2  # Broadcasting occurs\n",
        "print(result)"
      ],
      "metadata": {
        "colab": {
          "base_uri": "https://localhost:8080/"
        },
        "id": "q7OAMDPDA-Vt",
        "outputId": "b9a6a5e0-2fcc-42f4-d59a-e1f0e6876e42"
      },
      "execution_count": 28,
      "outputs": [
        {
          "output_type": "stream",
          "name": "stdout",
          "text": [
            "[[11 12 13]\n",
            " [21 22 23]\n",
            " [31 32 33]]\n"
          ]
        }
      ]
    },
    {
      "cell_type": "markdown",
      "source": [
        "Example 2: Broadcasting in 2D Arrays\n",
        "\n",
        "Adding a 1D array to a 2D array"
      ],
      "metadata": {
        "id": "Xna3qAg6BA9c"
      }
    },
    {
      "cell_type": "code",
      "source": [
        "arr1 = np.array([[1, 2, 3], [4, 5, 6]])  # Shape: (2,3)\n",
        "arr2 = np.array([10, 20, 30])            # Shape: (3,)\n",
        "\n",
        "result = arr1 + arr2  # Broadcasting occurs\n",
        "print(result)"
      ],
      "metadata": {
        "colab": {
          "base_uri": "https://localhost:8080/"
        },
        "id": "c5Icuk3dBFZP",
        "outputId": "cfd0a37f-37f4-4ce6-dee6-b9fabd22ec02"
      },
      "execution_count": 29,
      "outputs": [
        {
          "output_type": "stream",
          "name": "stdout",
          "text": [
            "[[11 22 33]\n",
            " [14 25 36]]\n"
          ]
        }
      ]
    },
    {
      "cell_type": "markdown",
      "source": [
        "# Practical Questions"
      ],
      "metadata": {
        "id": "JhAGyQeoBH_E"
      }
    },
    {
      "cell_type": "markdown",
      "source": [
        "Q1. Create a 3x3 NumPy array with random integers between 1 and 100. Then, interchange its rows and columns.\n",
        "\n",
        "Ans."
      ],
      "metadata": {
        "id": "pAokohQcBQsY"
      }
    },
    {
      "cell_type": "code",
      "source": [
        "import numpy as np\n",
        "\n",
        "# Step 1: Create a 3x3 array with random integers between 1 and 100\n",
        "arr = np.random.randint(1, 101, size=(3, 3))\n",
        "print(\"Original Array:\\n\", arr)\n",
        "\n",
        "# Step 2: Interchange rows and columns (Transpose)\n",
        "transposed_arr = arr.T\n",
        "print(\"\\nTransposed Array:\\n\", transposed_arr)"
      ],
      "metadata": {
        "colab": {
          "base_uri": "https://localhost:8080/"
        },
        "id": "-r-GKhJKBZlG",
        "outputId": "06a8dca9-8aac-4ff4-ff2f-e76d4805d71b"
      },
      "execution_count": 30,
      "outputs": [
        {
          "output_type": "stream",
          "name": "stdout",
          "text": [
            "Original Array:\n",
            " [[80  7 82]\n",
            " [50 60 25]\n",
            " [72 13 66]]\n",
            "\n",
            "Transposed Array:\n",
            " [[80 50 72]\n",
            " [ 7 60 13]\n",
            " [82 25 66]]\n"
          ]
        }
      ]
    },
    {
      "cell_type": "markdown",
      "source": [
        "Q2. Generate a 1D NumPy array with 10 elements. Reshape it into a 2x5 array, then into a 5x2 array.\n",
        "\n",
        "Ans."
      ],
      "metadata": {
        "id": "vGTwM7GVBbfG"
      }
    },
    {
      "cell_type": "code",
      "source": [
        "import numpy as np\n",
        "\n",
        "# Step 1: Generate a 1D NumPy array with 10 elements\n",
        "arr = np.arange(1, 11)  # Creates an array [1, 2, ..., 10]\n",
        "print(\"1D Array:\\n\", arr)\n",
        "\n",
        "# Step 2: Reshape it into a 2x5 array\n",
        "arr_2x5 = arr.reshape(2, 5)\n",
        "print(\"\\nReshaped to 2x5:\\n\", arr_2x5)\n",
        "\n",
        "# Step 3: Reshape it into a 5x2 array\n",
        "arr_5x2 = arr.reshape(5, 2)\n",
        "print(\"\\nReshaped to 5x2:\\n\", arr_5x2)"
      ],
      "metadata": {
        "colab": {
          "base_uri": "https://localhost:8080/"
        },
        "id": "9wOsfqYMBkHt",
        "outputId": "7a0fb706-f108-4b6e-ab2d-aadac141d1ea"
      },
      "execution_count": 31,
      "outputs": [
        {
          "output_type": "stream",
          "name": "stdout",
          "text": [
            "1D Array:\n",
            " [ 1  2  3  4  5  6  7  8  9 10]\n",
            "\n",
            "Reshaped to 2x5:\n",
            " [[ 1  2  3  4  5]\n",
            " [ 6  7  8  9 10]]\n",
            "\n",
            "Reshaped to 5x2:\n",
            " [[ 1  2]\n",
            " [ 3  4]\n",
            " [ 5  6]\n",
            " [ 7  8]\n",
            " [ 9 10]]\n"
          ]
        }
      ]
    },
    {
      "cell_type": "markdown",
      "source": [
        "Q3.  Create a 4x4 NumPy array with random float values. Add a border of zeros around it, resulting in a 6x6 array.\n",
        "\n",
        "Ans."
      ],
      "metadata": {
        "id": "p663KNw5Bm81"
      }
    },
    {
      "cell_type": "code",
      "source": [
        "import numpy as np\n",
        "\n",
        "# Step 1: Create a 4x4 array with random float values\n",
        "arr = np.random.rand(4, 4)  # Generates random floats between 0 and 1\n",
        "print(\"Original 4x4 Array:\\n\", arr)\n",
        "\n",
        "# Step 2: Add a border of zeros to make it a 6x6 array\n",
        "arr_with_border = np.pad(arr, pad_width=1, mode='constant', constant_values=0)\n",
        "print(\"\\n6x6 Array with Zero Border:\\n\", arr_with_border)"
      ],
      "metadata": {
        "colab": {
          "base_uri": "https://localhost:8080/"
        },
        "id": "WhPl3_AYBxRb",
        "outputId": "ebdcd32b-c240-4a23-d779-17cbb36739df"
      },
      "execution_count": 32,
      "outputs": [
        {
          "output_type": "stream",
          "name": "stdout",
          "text": [
            "Original 4x4 Array:\n",
            " [[0.70877688 0.27379375 0.9874326  0.64159639]\n",
            " [0.95134821 0.60918708 0.97127197 0.387164  ]\n",
            " [0.85871892 0.17715705 0.95084389 0.60229879]\n",
            " [0.20572619 0.7140045  0.42476353 0.78046921]]\n",
            "\n",
            "6x6 Array with Zero Border:\n",
            " [[0.         0.         0.         0.         0.         0.        ]\n",
            " [0.         0.70877688 0.27379375 0.9874326  0.64159639 0.        ]\n",
            " [0.         0.95134821 0.60918708 0.97127197 0.387164   0.        ]\n",
            " [0.         0.85871892 0.17715705 0.95084389 0.60229879 0.        ]\n",
            " [0.         0.20572619 0.7140045  0.42476353 0.78046921 0.        ]\n",
            " [0.         0.         0.         0.         0.         0.        ]]\n"
          ]
        }
      ]
    },
    {
      "cell_type": "markdown",
      "source": [
        "Q4. Using NumPy, create an array of integers from 10 to 60 with a step of 5.\n",
        "\n",
        "Ans."
      ],
      "metadata": {
        "id": "gd2Y-rj4B0pb"
      }
    },
    {
      "cell_type": "code",
      "source": [
        "import numpy as np\n",
        "\n",
        "# Create an array from 10 to 60 with a step of 5\n",
        "arr = np.arange(10, 61, 5)\n",
        "print(\"NumPy Array:\", arr)"
      ],
      "metadata": {
        "colab": {
          "base_uri": "https://localhost:8080/"
        },
        "id": "oWSMo6qpB9hm",
        "outputId": "a7f5bddd-39f8-4552-b908-56d324e5be16"
      },
      "execution_count": 33,
      "outputs": [
        {
          "output_type": "stream",
          "name": "stdout",
          "text": [
            "NumPy Array: [10 15 20 25 30 35 40 45 50 55 60]\n"
          ]
        }
      ]
    },
    {
      "cell_type": "markdown",
      "source": [
        "Q5. Create a NumPy array of strings ['python', 'numpy', 'pandas']. Apply different case transformations (uppercase, lowercase, title case, etc.) to each element.\n",
        "\n",
        "Ans."
      ],
      "metadata": {
        "id": "pz4ZJ5JYB_Ij"
      }
    },
    {
      "cell_type": "code",
      "source": [
        "import numpy as np\n",
        "\n",
        "# Step 1: Create a NumPy array of strings\n",
        "arr = np.array(['python', 'numpy', 'pandas'])\n",
        "\n",
        "# Step 2: Apply different case transformations\n",
        "upper_case = np.char.upper(arr)   # Convert to uppercase\n",
        "lower_case = np.char.lower(arr)   # Convert to lowercase\n",
        "title_case = np.char.title(arr)   # Convert to title case\n",
        "capitalize_case = np.char.capitalize(arr)  # Capitalize first letter\n",
        "\n",
        "# Step 3: Print results\n",
        "print(\"Original Array:\", arr)\n",
        "print(\"Uppercase:\", upper_case)\n",
        "print(\"Lowercase:\", lower_case)\n",
        "print(\"Title Case:\", title_case)\n",
        "print(\"Capitalize:\", capitalize_case)"
      ],
      "metadata": {
        "colab": {
          "base_uri": "https://localhost:8080/"
        },
        "id": "pwzg98whCMTz",
        "outputId": "3dc5f053-7e00-4cf8-ee04-01f6b800d4d5"
      },
      "execution_count": 34,
      "outputs": [
        {
          "output_type": "stream",
          "name": "stdout",
          "text": [
            "Original Array: ['python' 'numpy' 'pandas']\n",
            "Uppercase: ['PYTHON' 'NUMPY' 'PANDAS']\n",
            "Lowercase: ['python' 'numpy' 'pandas']\n",
            "Title Case: ['Python' 'Numpy' 'Pandas']\n",
            "Capitalize: ['Python' 'Numpy' 'Pandas']\n"
          ]
        }
      ]
    },
    {
      "cell_type": "markdown",
      "source": [
        "Q6. Generate a NumPy array of words. Insert a space between each character of every word in the array.\n",
        "\n",
        "\n",
        "Ans."
      ],
      "metadata": {
        "id": "hoGiTpVACOJ_"
      }
    },
    {
      "cell_type": "code",
      "source": [
        "import numpy as np\n",
        "\n",
        "# Step 1: Create a NumPy array of words\n",
        "words = np.array(['hello', 'numpy', 'python'])\n",
        "\n",
        "# Step 2: Insert a space between each character of every word\n",
        "spaced_words = np.char.join(' ', words)\n",
        "\n",
        "# Step 3: Print results\n",
        "print(\"Original Array:\", words)\n",
        "print(\"Spaced Words:\", spaced_words)"
      ],
      "metadata": {
        "colab": {
          "base_uri": "https://localhost:8080/"
        },
        "id": "8JFU_8HpCSu5",
        "outputId": "d6687e2e-37e2-4a10-eb8b-5063a2d6b772"
      },
      "execution_count": 35,
      "outputs": [
        {
          "output_type": "stream",
          "name": "stdout",
          "text": [
            "Original Array: ['hello' 'numpy' 'python']\n",
            "Spaced Words: ['h e l l o' 'n u m p y' 'p y t h o n']\n"
          ]
        }
      ]
    },
    {
      "cell_type": "markdown",
      "source": [
        "Q7. Create two 2D NumPy arrays and perform element-wise addition, subtraction, multiplication, and division.\n",
        "\n",
        "Ans."
      ],
      "metadata": {
        "id": "X3Pb7sSlCZOe"
      }
    },
    {
      "cell_type": "code",
      "source": [
        "import numpy as np\n",
        "\n",
        "# Step 1: Create two 2D NumPy arrays\n",
        "A = np.array([[2, 4, 6], [8, 10, 12]])\n",
        "B = np.array([[1, 2, 3], [4, 5, 6]])\n",
        "\n",
        "# Step 2: Perform element-wise operations\n",
        "addition = A + B        # Element-wise addition\n",
        "subtraction = A - B     # Element-wise subtraction\n",
        "multiplication = A * B  # Element-wise multiplication\n",
        "division = A / B        # Element-wise division\n",
        "\n",
        "# Step 3: Print results\n",
        "print(\"Array A:\\n\", A)\n",
        "print(\"\\nArray B:\\n\", B)\n",
        "print(\"\\nElement-wise Addition:\\n\", addition)\n",
        "print(\"\\nElement-wise Subtraction:\\n\", subtraction)\n",
        "print(\"\\nElement-wise Multiplication:\\n\", multiplication)\n",
        "print(\"\\nElement-wise Division:\\n\", division)"
      ],
      "metadata": {
        "colab": {
          "base_uri": "https://localhost:8080/"
        },
        "id": "dmQb6QvkCjS1",
        "outputId": "ee75a3ca-2c44-45bb-cfe8-cfb2cc0b720c"
      },
      "execution_count": 36,
      "outputs": [
        {
          "output_type": "stream",
          "name": "stdout",
          "text": [
            "Array A:\n",
            " [[ 2  4  6]\n",
            " [ 8 10 12]]\n",
            "\n",
            "Array B:\n",
            " [[1 2 3]\n",
            " [4 5 6]]\n",
            "\n",
            "Element-wise Addition:\n",
            " [[ 3  6  9]\n",
            " [12 15 18]]\n",
            "\n",
            "Element-wise Subtraction:\n",
            " [[1 2 3]\n",
            " [4 5 6]]\n",
            "\n",
            "Element-wise Multiplication:\n",
            " [[ 2  8 18]\n",
            " [32 50 72]]\n",
            "\n",
            "Element-wise Division:\n",
            " [[2. 2. 2.]\n",
            " [2. 2. 2.]]\n"
          ]
        }
      ]
    },
    {
      "cell_type": "markdown",
      "source": [
        "Q8. Use NumPy to create a 5x5 identity matrix, then extract its diagonal elements.\n",
        "\n",
        "Ans."
      ],
      "metadata": {
        "id": "5Ha5ADZsClu1"
      }
    },
    {
      "cell_type": "code",
      "source": [
        "import numpy as np\n",
        "\n",
        "# Step 1: Create a 5x5 identity matrix\n",
        "identity_matrix = np.eye(5)\n",
        "print(\"5x5 Identity Matrix:\\n\", identity_matrix)\n",
        "\n",
        "# Step 2: Extract the diagonal elements\n",
        "diagonal_elements = np.diag(identity_matrix)\n",
        "print(\"\\nDiagonal Elements:\", diagonal_elements)"
      ],
      "metadata": {
        "colab": {
          "base_uri": "https://localhost:8080/"
        },
        "id": "DmhBNYijCqf3",
        "outputId": "a5aa2a70-f754-4746-e7b6-97b7b644ca8a"
      },
      "execution_count": 37,
      "outputs": [
        {
          "output_type": "stream",
          "name": "stdout",
          "text": [
            "5x5 Identity Matrix:\n",
            " [[1. 0. 0. 0. 0.]\n",
            " [0. 1. 0. 0. 0.]\n",
            " [0. 0. 1. 0. 0.]\n",
            " [0. 0. 0. 1. 0.]\n",
            " [0. 0. 0. 0. 1.]]\n",
            "\n",
            "Diagonal Elements: [1. 1. 1. 1. 1.]\n"
          ]
        }
      ]
    },
    {
      "cell_type": "markdown",
      "source": [
        "Q9. Generate a NumPy array of 100 random integers between 0 and 1000. Find and display all prime numbers in this array.\n",
        "\n",
        "\n",
        "Ans."
      ],
      "metadata": {
        "id": "gy5HElWOCvrp"
      }
    },
    {
      "cell_type": "code",
      "source": [
        "import numpy as np\n",
        "\n",
        "# Function to check if a number is prime\n",
        "def is_prime(n):\n",
        "    if n < 2:\n",
        "        return False\n",
        "    for i in range(2, int(np.sqrt(n)) + 1):\n",
        "        if n % i == 0:\n",
        "            return False\n",
        "    return True\n",
        "\n",
        "# Step 1: Generate an array of 100 random integers between 0 and 1000\n",
        "random_array = np.random.randint(0, 1001, 100)\n",
        "\n",
        "# Step 2: Find all prime numbers in the array\n",
        "prime_numbers = random_array[np.vectorize(is_prime)(random_array)]\n",
        "\n",
        "# Step 3: Display results\n",
        "print(\"Original Array:\\n\", random_array)\n",
        "print(\"\\nPrime Numbers:\\n\", prime_numbers)"
      ],
      "metadata": {
        "colab": {
          "base_uri": "https://localhost:8080/"
        },
        "id": "rG_1V2w1C3aL",
        "outputId": "9a536542-2e33-45c1-e3f6-3e45c5bd7cf4"
      },
      "execution_count": 38,
      "outputs": [
        {
          "output_type": "stream",
          "name": "stdout",
          "text": [
            "Original Array:\n",
            " [ 323  660  938  988  312  343  334   50  147  379  995  266  332  102\n",
            "  534   86  625  510  964  665  367  610  227  827  322  748  336  286\n",
            "  461  546  107  488  756  637  985  611  826  424   44  219  863  405\n",
            "  855  625  281  183   11  468  126  539  145  805  254  670  930  358\n",
            " 1000  242  550  716  840  819  683  141  283  682  506  804  731   96\n",
            "  773  335   82  814  669  767  631   74  756  817  678  672  499  705\n",
            "  354  324  916  248  658  899   65  762   34   91  549  619  106  255\n",
            "  712  170]\n",
            "\n",
            "Prime Numbers:\n",
            " [379 367 227 827 461 107 863 281  11 683 283 773 631 499 619]\n"
          ]
        }
      ]
    },
    {
      "cell_type": "markdown",
      "source": [
        "Q10. Create a NumPy array representing daily temperatures for a month. Calculate and display the weekly averages.\n",
        "\n",
        "Ans."
      ],
      "metadata": {
        "id": "xUXHncZcC8zh"
      }
    },
    {
      "cell_type": "code",
      "source": [
        "import numpy as np\n",
        "\n",
        "# Step 1: Generate random daily temperatures for a month (30 days)\n",
        "np.random.seed(42)  # For reproducibility\n",
        "daily_temperatures = np.random.uniform(15, 35, 30)  # Random temperatures between 15°C and 35°C\n",
        "print(\"Daily Temperatures:\\n\", daily_temperatures)\n",
        "\n",
        "# Step 2: Reshape into 4 weeks of 7 days each, plus 2 extra days\n",
        "weeks = daily_temperatures[:28].reshape(4, 7)  # First 4 weeks (28 days)\n",
        "extra_days = daily_temperatures[28:]  # Remaining 2 days\n",
        "\n",
        "# Step 3: Calculate weekly averages\n",
        "weekly_averages = np.mean(weeks, axis=1)\n",
        "\n",
        "# Step 4: Print weekly averages\n",
        "print(\"\\nWeekly Averages:\")\n",
        "for i, avg in enumerate(weekly_averages, 1):\n",
        "    print(f\"Week {i}: {avg:.2f}°C\")\n",
        "\n",
        "# Step 5: Handle extra days separately if needed\n",
        "if len(extra_days) > 0:\n",
        "    print(f\"\\nAverage for last {len(extra_days)} extra days: {np.mean(extra_days):.2f}°C\")"
      ],
      "metadata": {
        "colab": {
          "base_uri": "https://localhost:8080/"
        },
        "id": "a7Kuy5pVDKEO",
        "outputId": "3b32a880-3623-465d-8547-4507e45be1ac"
      },
      "execution_count": 39,
      "outputs": [
        {
          "output_type": "stream",
          "name": "stdout",
          "text": [
            "Daily Temperatures:\n",
            " [22.49080238 34.01428613 29.63987884 26.97316968 18.12037281 18.11989041\n",
            " 16.16167224 32.32352292 27.02230023 29.16145156 15.41168989 34.39819704\n",
            " 31.64885282 19.24678221 18.63649934 18.6680902  21.08484486 25.49512863\n",
            " 23.63890037 20.8245828  27.23705789 17.78987721 20.84289297 22.32723687\n",
            " 24.12139968 30.70351923 18.99347564 25.28468877 26.84829138 15.92900825]\n",
            "\n",
            "Weekly Averages:\n",
            "Week 1: 23.65°C\n",
            "Week 2: 27.03°C\n",
            "Week 3: 22.23°C\n",
            "Week 4: 22.87°C\n",
            "\n",
            "Average for last 2 extra days: 21.39°C\n"
          ]
        }
      ]
    }
  ]
}