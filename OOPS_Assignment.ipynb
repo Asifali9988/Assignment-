{
  "nbformat": 4,
  "nbformat_minor": 0,
  "metadata": {
    "colab": {
      "provenance": []
    },
    "kernelspec": {
      "name": "python3",
      "display_name": "Python 3"
    },
    "language_info": {
      "name": "python"
    }
  },
  "cells": [
    {
      "cell_type": "markdown",
      "source": [
        "Q1.  What are the five key concepts of Object-Oriented Programming (OOP)?\n",
        "\n",
        "Ans.  The five key concepts of Object-Oriented Programming (OOP) are:\n",
        "\n",
        "1. Encapsulation – Bundling data (attributes) and methods (functions) that operate on the data into a single unit, called a class. It also restricts direct access to some of an object’s components, promoting data hiding and security.\n",
        "\n",
        "2. Abstraction – Hiding complex implementation details and exposing only the necessary functionality through a clear interface. This simplifies code maintenance and enhances usability.\n",
        "\n",
        "3. Inheritance – Enabling a new class (child/subclass) to acquire properties and behaviors from an existing class (parent/superclass). This promotes code reuse and establishes hierarchical relationships.\n",
        "\n",
        "4. Polymorphism – Allowing objects of different classes to be treated as objects of a common superclass. It enables a single interface to be used for different types, promoting flexibility and scalability (e.g., method overloading and overriding).\n",
        "\n",
        "5. Association, Aggregation, and Composition – These define relationships between objects:\n",
        "\n",
        "    Association – A general relationship between objects (e.g., a teacher teaches a student).\n",
        "\n",
        "    Aggregation – A weak relationship where one object contains another but can exist independently (e.g., a classroom has students, but students exist without a classroom).\n",
        "\n",
        "    Composition – A strong relationship where one object depends entirely on another (e.g., a house and its rooms—if the house is destroyed, the rooms do not exist).\n",
        "These principles work together to create modular, reusable, and scalable software systems. 🚀"
      ],
      "metadata": {
        "id": "7MQ4F5nRyjwu"
      }
    },
    {
      "cell_type": "markdown",
      "source": [
        "Q2.  Write a Python class for a `Car` with attributes for `make`, `model`, and `year`. Include a method to display\n",
        "the car's information.\n",
        "\n",
        "Ans."
      ],
      "metadata": {
        "id": "QJUgQMN6yx3E"
      }
    },
    {
      "cell_type": "code",
      "source": [
        "class Car:\n",
        "    def __init__(self, make, model, year):\n",
        "        self.make = make\n",
        "        self.model = model\n",
        "        self.year = year\n",
        "\n",
        "    def display_info(self):\n",
        "        \"\"\"Displays the car's information.\"\"\"\n",
        "        print(f\"{self.year} {self.make} {self.model}\")\n",
        "\n",
        "# Example usage\n",
        "car1 = Car(\"Toyota\", \"Camry\", 2022)\n",
        "car1.display_info()"
      ],
      "metadata": {
        "colab": {
          "base_uri": "https://localhost:8080/"
        },
        "id": "Q7GGbKrEzPvM",
        "outputId": "4977aabb-e962-490d-b635-d155c3209096"
      },
      "execution_count": 1,
      "outputs": [
        {
          "output_type": "stream",
          "name": "stdout",
          "text": [
            "2022 Toyota Camry\n"
          ]
        }
      ]
    },
    {
      "cell_type": "markdown",
      "source": [
        "Q3.  Explain the difference between instance methods and class methods. Provide an example of each.\n",
        "\n",
        "Ans.  Difference Between Instance Methods and Class Methods\n",
        "Instance Methods\n",
        "\n",
        "Belong to an instance of the class and operate on instance attributes.\n",
        "Require self as the first parameter.\n",
        "Can access and modify instance-specific data.\n",
        "Class Methods\n",
        "\n",
        "Belong to the class rather than instances.\n",
        "Require @classmethod decorator.\n",
        "Take cls as the first parameter instead of self, referring to the class itself.\n",
        "Can modify class-level attributes but not instance attributes.\n",
        "\n",
        "Example of Instance Method and Class Method"
      ],
      "metadata": {
        "id": "bH6WqzPpzZ-y"
      }
    },
    {
      "cell_type": "code",
      "source": [
        "class Car:\n",
        "    total_cars = 0  # Class variable\n",
        "\n",
        "    def __init__(self, make, model, year):\n",
        "        self.make = make\n",
        "        self.model = model\n",
        "        self.year = year\n",
        "        Car.total_cars += 1  # Modifies class attribute\n",
        "\n",
        "    def display_info(self):\n",
        "        \"\"\"Instance method - operates on instance attributes\"\"\"\n",
        "        print(f\"{self.year} {self.make} {self.model}\")\n",
        "\n",
        "    @classmethod\n",
        "    def get_total_cars(cls):\n",
        "        \"\"\"Class method - operates on class attributes\"\"\"\n",
        "        return f\"Total cars created: {cls.total_cars}\"\n",
        "\n",
        "# Example Usage\n",
        "car1 = Car(\"Toyota\", \"Camry\", 2022)\n",
        "car2 = Car(\"Honda\", \"Civic\", 2023)\n",
        "\n",
        "car1.display_info()  # Instance method call\n",
        "print(Car.get_total_cars())  # Class method call\n"
      ],
      "metadata": {
        "colab": {
          "base_uri": "https://localhost:8080/"
        },
        "id": "ARvlfIUwzqKr",
        "outputId": "006de814-9117-481b-85ca-c1952bc230d7"
      },
      "execution_count": 2,
      "outputs": [
        {
          "output_type": "stream",
          "name": "stdout",
          "text": [
            "2022 Toyota Camry\n",
            "Total cars created: 2\n"
          ]
        }
      ]
    },
    {
      "cell_type": "markdown",
      "source": [
        "Q4.  How does Python implement method overloading? Give an example.\n",
        "\n",
        "Ans.  Method Overloading in Python\n",
        "Python does not support traditional method overloading like Java or C++, where multiple methods can have the same name but different parameter lists. Instead, Python achieves method overloading using:\n",
        "\n",
        "Default Arguments – Allowing a method to handle different numbers of parameters.\n",
        "*args and **kwargs – Allowing flexible argument passing.\n",
        "Single Dispatch (via @singledispatch from functools) – Enabling function overloading based on argument type.\n",
        "\n",
        "Example Using Default Arguments"
      ],
      "metadata": {
        "id": "c2O7Hompzwkx"
      }
    },
    {
      "cell_type": "code",
      "source": [
        "class MathOperations:\n",
        "    def add(self, a, b=0, c=0):\n",
        "        \"\"\"Method that supports different numbers of parameters\"\"\"\n",
        "        return a + b + c\n",
        "\n",
        "# Example Usage\n",
        "math_op = MathOperations()\n",
        "print(math_op.add(5))       # Output: 5\n",
        "print(math_op.add(5, 10))   # Output: 15\n",
        "print(math_op.add(5, 10, 15))  # Output: 30\n"
      ],
      "metadata": {
        "colab": {
          "base_uri": "https://localhost:8080/"
        },
        "id": "9iuvWTHa0Cm1",
        "outputId": "7e45e377-edcd-4cf7-985a-bdd7d30dd313"
      },
      "execution_count": 3,
      "outputs": [
        {
          "output_type": "stream",
          "name": "stdout",
          "text": [
            "5\n",
            "15\n",
            "30\n"
          ]
        }
      ]
    },
    {
      "cell_type": "markdown",
      "source": [
        "Example Using *args for Overloading"
      ],
      "metadata": {
        "id": "vSZLyCCw0FQ5"
      }
    },
    {
      "cell_type": "code",
      "source": [
        "class MathOperations:\n",
        "    def add(self, *args):\n",
        "        \"\"\"Method that can handle a variable number of arguments\"\"\"\n",
        "        return sum(args)\n",
        "\n",
        "# Example Usage\n",
        "math_op = MathOperations()\n",
        "print(math_op.add(5))        # Output: 5\n",
        "print(math_op.add(5, 10))    # Output: 15\n",
        "print(math_op.add(5, 10, 15)) # Output: 30\n"
      ],
      "metadata": {
        "colab": {
          "base_uri": "https://localhost:8080/"
        },
        "id": "YnDdfV0h0IeU",
        "outputId": "118b080f-e3dd-42ff-db00-57ed43a0f550"
      },
      "execution_count": 4,
      "outputs": [
        {
          "output_type": "stream",
          "name": "stdout",
          "text": [
            "5\n",
            "15\n",
            "30\n"
          ]
        }
      ]
    },
    {
      "cell_type": "markdown",
      "source": [
        "Example Using @singledispatch for Type-Based Overloading"
      ],
      "metadata": {
        "id": "dFF8dnpT0NTo"
      }
    },
    {
      "cell_type": "code",
      "source": [
        "from functools import singledispatch\n",
        "\n",
        "@singledispatch\n",
        "def process(value):\n",
        "    raise NotImplementedError(\"Unsupported type\")\n",
        "\n",
        "@process.register\n",
        "def _(value: int):\n",
        "    return f\"Processing integer: {value}\"\n",
        "\n",
        "@process.register\n",
        "def _(value: str):\n",
        "    return f\"Processing string: {value}\"\n",
        "\n",
        "# Example Usage\n",
        "print(process(10))    # Output: Processing integer: 10\n",
        "print(process(\"Hi\"))  # Output: Processing string: Hi\n"
      ],
      "metadata": {
        "colab": {
          "base_uri": "https://localhost:8080/"
        },
        "id": "jvrwJ-uj0OBo",
        "outputId": "19f1f367-664e-4a4d-c511-bb8362adb95c"
      },
      "execution_count": 5,
      "outputs": [
        {
          "output_type": "stream",
          "name": "stdout",
          "text": [
            "Processing integer: 10\n",
            "Processing string: Hi\n"
          ]
        }
      ]
    },
    {
      "cell_type": "markdown",
      "source": [
        "Q5. What are the three types of access modifiers in Python? How are they denoted?\n",
        "\n",
        "Ans.  Three Types of Access Modifiers in Python\n",
        "Python has three types of access modifiers to control the visibility of class attributes and methods:\n",
        "\n",
        "1. Public (public)\n",
        "\n",
        "    Accessible from anywhere, inside or outside the class.\n",
        "Denoted without any prefix (normal variable/method name).\n",
        "\n",
        "Example:"
      ],
      "metadata": {
        "id": "pCFV2WdY0T4x"
      }
    },
    {
      "cell_type": "code",
      "source": [
        "class Car:\n",
        "    def __init__(self, make):\n",
        "        self.make = make  # Public attribute\n",
        "\n",
        "    def display(self):\n",
        "        print(f\"Car make: {self.make}\")  # Public method\n",
        "\n",
        "car = Car(\"Toyota\")\n",
        "print(car.make)  # ✅ Accessible\n",
        "car.display()    # ✅ Accessible\n"
      ],
      "metadata": {
        "colab": {
          "base_uri": "https://localhost:8080/"
        },
        "id": "UT4lMmDn0hhN",
        "outputId": "29df6666-6bca-4a6b-9c74-0279d05349d3"
      },
      "execution_count": 6,
      "outputs": [
        {
          "output_type": "stream",
          "name": "stdout",
          "text": [
            "Toyota\n",
            "Car make: Toyota\n"
          ]
        }
      ]
    },
    {
      "cell_type": "markdown",
      "source": [
        "2. Protected (_protected)\n",
        "\n",
        "Can be accessed within the class and its subclasses but should not be accessed\n",
        "directly outside.\n",
        "\n",
        "Denoted with a single underscore (_).\n",
        "\n",
        "Not strictly enforced but indicates it’s meant for internal use.\n",
        "\n",
        "Example:\n"
      ],
      "metadata": {
        "id": "vjO7-DRD0rM8"
      }
    },
    {
      "cell_type": "code",
      "source": [
        "class Car:\n",
        "    def __init__(self, make, model):\n",
        "        self._model = model  # Protected attribute\n",
        "\n",
        "    def _display_model(self):\n",
        "        print(f\"Model: {self._model}\")  # Protected method\n",
        "\n",
        "class SportsCar(Car):\n",
        "    def show(self):\n",
        "        print(f\"Sports Car Model: {self._model}\")  # ✅ Accessible in subclass\n",
        "\n",
        "car = SportsCar(\"Ferrari\", \"488 GTB\")\n",
        "car.show()  # ✅ Works\n",
        "print(car._model)  # ⚠️ Can access but should be avoided\n"
      ],
      "metadata": {
        "colab": {
          "base_uri": "https://localhost:8080/"
        },
        "id": "OgGQYYpY1AB4",
        "outputId": "8ee36a3f-d8e7-48d3-8485-53de8d79a27d"
      },
      "execution_count": 7,
      "outputs": [
        {
          "output_type": "stream",
          "name": "stdout",
          "text": [
            "Sports Car Model: 488 GTB\n",
            "488 GTB\n"
          ]
        }
      ]
    },
    {
      "cell_type": "markdown",
      "source": [
        "3. Private (__private)\n",
        "\n",
        "Accessible only within the class.\n",
        "\n",
        "Denoted with double underscores (__).\n",
        "\n",
        "Uses name-mangling (_ClassName__attribute) to prevent accidental access.\n",
        "\n",
        "Example:\n"
      ],
      "metadata": {
        "id": "PNmg-MAx1ESC"
      }
    },
    {
      "cell_type": "code",
      "source": [
        "class Car:\n",
        "    def __init__(self, make, model):\n",
        "        self.__secret_code = \"XYZ123\"  # Private attribute\n",
        "\n",
        "    def __private_method(self):\n",
        "        print(\"This is a private method\")  # Private method\n",
        "\n",
        "    def get_secret_code(self):  # Public method to access private data\n",
        "        return self.__secret_code\n",
        "\n",
        "car = Car(\"Tesla\", \"Model S\")\n",
        "print(car.get_secret_code())  # ✅ Access through public method\n",
        "print(car.__secret_code)  # ❌ AttributeError: can't access private variable\n",
        "print(car._Car__secret_code)  # ✅ Works but should be avoided (name-mangling)\n"
      ],
      "metadata": {
        "colab": {
          "base_uri": "https://localhost:8080/",
          "height": 211
        },
        "id": "_HHsycpq1Oer",
        "outputId": "9e87ff8b-b63f-4a48-fd9c-2937f41ece4e"
      },
      "execution_count": 9,
      "outputs": [
        {
          "output_type": "stream",
          "name": "stdout",
          "text": [
            "XYZ123\n"
          ]
        },
        {
          "output_type": "error",
          "ename": "AttributeError",
          "evalue": "'Car' object has no attribute '__secret_code'",
          "traceback": [
            "\u001b[0;31m---------------------------------------------------------------------------\u001b[0m",
            "\u001b[0;31mAttributeError\u001b[0m                            Traceback (most recent call last)",
            "\u001b[0;32m<ipython-input-9-41cd93814ba7>\u001b[0m in \u001b[0;36m<cell line: 0>\u001b[0;34m()\u001b[0m\n\u001b[1;32m     11\u001b[0m \u001b[0mcar\u001b[0m \u001b[0;34m=\u001b[0m \u001b[0mCar\u001b[0m\u001b[0;34m(\u001b[0m\u001b[0;34m\"Tesla\"\u001b[0m\u001b[0;34m,\u001b[0m \u001b[0;34m\"Model S\"\u001b[0m\u001b[0;34m)\u001b[0m\u001b[0;34m\u001b[0m\u001b[0;34m\u001b[0m\u001b[0m\n\u001b[1;32m     12\u001b[0m \u001b[0mprint\u001b[0m\u001b[0;34m(\u001b[0m\u001b[0mcar\u001b[0m\u001b[0;34m.\u001b[0m\u001b[0mget_secret_code\u001b[0m\u001b[0;34m(\u001b[0m\u001b[0;34m)\u001b[0m\u001b[0;34m)\u001b[0m  \u001b[0;31m# ✅ Access through public method\u001b[0m\u001b[0;34m\u001b[0m\u001b[0;34m\u001b[0m\u001b[0m\n\u001b[0;32m---> 13\u001b[0;31m \u001b[0mprint\u001b[0m\u001b[0;34m(\u001b[0m\u001b[0mcar\u001b[0m\u001b[0;34m.\u001b[0m\u001b[0m__secret_code\u001b[0m\u001b[0;34m)\u001b[0m  \u001b[0;31m# ❌ AttributeError: can't access private variable\u001b[0m\u001b[0;34m\u001b[0m\u001b[0;34m\u001b[0m\u001b[0m\n\u001b[0m\u001b[1;32m     14\u001b[0m \u001b[0mprint\u001b[0m\u001b[0;34m(\u001b[0m\u001b[0mcar\u001b[0m\u001b[0;34m.\u001b[0m\u001b[0m_Car__secret_code\u001b[0m\u001b[0;34m)\u001b[0m  \u001b[0;31m# ✅ Works but should be avoided (name-mangling)\u001b[0m\u001b[0;34m\u001b[0m\u001b[0;34m\u001b[0m\u001b[0m\n",
            "\u001b[0;31mAttributeError\u001b[0m: 'Car' object has no attribute '__secret_code'"
          ]
        }
      ]
    },
    {
      "cell_type": "markdown",
      "source": [
        "Q6.  Describe the five types of inheritance in Python. Provide a simple example of multiple inheritance.\n",
        "\n",
        "Ans. Five Types of Inheritance in Python\n",
        "Inheritance allows a class (child/subclass) to acquire properties and behaviors from another class (parent/superclass). Python supports five types of inheritance:\n",
        "\n",
        "1. Single Inheritance – A child class inherits from a single parent class."
      ],
      "metadata": {
        "id": "cj4Ek_YP1cDa"
      }
    },
    {
      "cell_type": "code",
      "source": [
        "class Animal:\n",
        "    def speak(self):\n",
        "        print(\"Animal speaks\")\n",
        "\n",
        "class Dog(Animal):\n",
        "    def bark(self):\n",
        "        print(\"Dog barks\")\n",
        "\n",
        "d = Dog()\n",
        "d.speak()  # Inherited method\n",
        "d.bark()   # Own method\n"
      ],
      "metadata": {
        "colab": {
          "base_uri": "https://localhost:8080/"
        },
        "id": "AIxa6-Iq4Zbx",
        "outputId": "c2728c59-ef46-4684-b964-66ea7be6a24a"
      },
      "execution_count": 8,
      "outputs": [
        {
          "output_type": "stream",
          "name": "stdout",
          "text": [
            "Animal speaks\n",
            "Dog barks\n"
          ]
        }
      ]
    },
    {
      "cell_type": "markdown",
      "source": [
        "2. Multiple Inheritance – A child class inherits from more than one parent class.\n"
      ],
      "metadata": {
        "id": "axWnuDgz4iN7"
      }
    },
    {
      "cell_type": "code",
      "source": [
        "class Engine:\n",
        "    def start(self):\n",
        "        print(\"Engine started\")\n",
        "\n",
        "class Wheels:\n",
        "    def rotate(self):\n",
        "        print(\"Wheels rotating\")\n",
        "\n",
        "class Car(Engine, Wheels):\n",
        "    pass\n",
        "\n",
        "my_car = Car()\n",
        "my_car.start()   # From Engine\n",
        "my_car.rotate()  # From Wheels\n"
      ],
      "metadata": {
        "colab": {
          "base_uri": "https://localhost:8080/"
        },
        "id": "x6S1Nuck4mgz",
        "outputId": "ef5a19a2-da68-451c-e69a-e93c6e2b0332"
      },
      "execution_count": 10,
      "outputs": [
        {
          "output_type": "stream",
          "name": "stdout",
          "text": [
            "Engine started\n",
            "Wheels rotating\n"
          ]
        }
      ]
    },
    {
      "cell_type": "markdown",
      "source": [
        "3. Multilevel Inheritance – A child class inherits from a parent, which itself inherits from another class (a chain of inheritance)."
      ],
      "metadata": {
        "id": "-z3pW8fZ4p5V"
      }
    },
    {
      "cell_type": "code",
      "source": [
        "class Grandparent:\n",
        "    def family_name(self):\n",
        "        print(\"Family name is Smith\")\n",
        "\n",
        "class Parent(Grandparent):\n",
        "    def parent_method(self):\n",
        "        print(\"Parent's method\")\n",
        "\n",
        "class Child(Parent):\n",
        "    def child_method(self):\n",
        "        print(\"Child's method\")\n",
        "\n",
        "c = Child()\n",
        "c.family_name()   # Inherited from Grandparent\n",
        "c.parent_method() # Inherited from Parent\n",
        "c.child_method()  # Own method\n"
      ],
      "metadata": {
        "colab": {
          "base_uri": "https://localhost:8080/"
        },
        "id": "ntk_UrFl4tTH",
        "outputId": "a887b72d-ac16-469b-d777-078384fd77a8"
      },
      "execution_count": 11,
      "outputs": [
        {
          "output_type": "stream",
          "name": "stdout",
          "text": [
            "Family name is Smith\n",
            "Parent's method\n",
            "Child's method\n"
          ]
        }
      ]
    },
    {
      "cell_type": "markdown",
      "source": [
        "4. Hierarchical Inheritance – Multiple child classes inherit from a single parent class."
      ],
      "metadata": {
        "id": "NXt9yn8W4yBo"
      }
    },
    {
      "cell_type": "code",
      "source": [
        "class Vehicle:\n",
        "    def type(self):\n",
        "        print(\"This is a vehicle\")\n",
        "\n",
        "class Car(Vehicle):\n",
        "    def car_feature(self):\n",
        "        print(\"This is a car\")\n",
        "\n",
        "class Bike(Vehicle):\n",
        "    def bike_feature(self):\n",
        "        print(\"This is a bike\")\n",
        "\n",
        "c = Car()\n",
        "b = Bike()\n",
        "c.type()  # Inherited\n",
        "b.type()  # Inherited\n"
      ],
      "metadata": {
        "colab": {
          "base_uri": "https://localhost:8080/"
        },
        "id": "Ohifjqdf41f3",
        "outputId": "3d87f2da-0edb-4433-9295-e827c893a4c0"
      },
      "execution_count": 12,
      "outputs": [
        {
          "output_type": "stream",
          "name": "stdout",
          "text": [
            "This is a vehicle\n",
            "This is a vehicle\n"
          ]
        }
      ]
    },
    {
      "cell_type": "markdown",
      "source": [
        "5. Hybrid Inheritance – A combination of two or more types of inheritance."
      ],
      "metadata": {
        "id": "0wNv2MRM46bu"
      }
    },
    {
      "cell_type": "code",
      "source": [
        "class A:\n",
        "    def method_A(self):\n",
        "        print(\"Method from A\")\n",
        "\n",
        "class B(A):\n",
        "    def method_B(self):\n",
        "        print(\"Method from B\")\n",
        "\n",
        "class C(A):\n",
        "    def method_C(self):\n",
        "        print(\"Method from C\")\n",
        "\n",
        "class D(B, C):  # Hybrid Inheritance (Multiple + Hierarchical)\n",
        "    def method_D(self):\n",
        "        print(\"Method from D\")\n",
        "\n",
        "obj = D()\n",
        "obj.method_A()  # From A\n",
        "obj.method_B()  # From B\n",
        "obj.method_C()  # From C\n",
        "obj.method_D()  # Own method\n"
      ],
      "metadata": {
        "colab": {
          "base_uri": "https://localhost:8080/"
        },
        "id": "Z0I3qVac48Bf",
        "outputId": "dc375ff6-0511-443b-8750-20409b0558b3"
      },
      "execution_count": 13,
      "outputs": [
        {
          "output_type": "stream",
          "name": "stdout",
          "text": [
            "Method from A\n",
            "Method from B\n",
            "Method from C\n",
            "Method from D\n"
          ]
        }
      ]
    },
    {
      "cell_type": "markdown",
      "source": [
        "Example of Multiple Inheritance"
      ],
      "metadata": {
        "id": "RH-qnKhQ4_LX"
      }
    },
    {
      "cell_type": "code",
      "source": [
        "class Parent1:\n",
        "    def feature1(self):\n",
        "        print(\"Feature from Parent1\")\n",
        "\n",
        "class Parent2:\n",
        "    def feature2(self):\n",
        "        print(\"Feature from Parent2\")\n",
        "\n",
        "class Child(Parent1, Parent2):\n",
        "    def feature_child(self):\n",
        "        print(\"Feature from Child\")\n",
        "\n",
        "# Example usage\n",
        "c = Child()\n",
        "c.feature1()  # Inherited from Parent1\n",
        "c.feature2()  # Inherited from Parent2\n",
        "c.feature_child()  # Own method\n"
      ],
      "metadata": {
        "colab": {
          "base_uri": "https://localhost:8080/"
        },
        "id": "qpHsMUTQ5CM7",
        "outputId": "82fa1cbe-c4e4-4c47-834d-98c208035246"
      },
      "execution_count": 14,
      "outputs": [
        {
          "output_type": "stream",
          "name": "stdout",
          "text": [
            "Feature from Parent1\n",
            "Feature from Parent2\n",
            "Feature from Child\n"
          ]
        }
      ]
    },
    {
      "cell_type": "markdown",
      "source": [
        "Q7. What is the Method Resolution Order (MRO) in Python? How can you retrieve it programmatically?\n",
        "\n",
        "Ans. Method Resolution Order (MRO) in Python\n",
        "The Method Resolution Order (MRO) determines the sequence in which Python looks for methods and attributes in a class hierarchy. It follows the C3 Linearization (or C3 superclass linearization) algorithm, ensuring a consistent and predictable order in multiple inheritance scenarios.\n",
        "\n",
        "How MRO Works\n",
        "\n",
        "1. Starts with the class itself.\n",
        "2. Looks in the first parent class (left to right in case of multiple inheritance).\n",
        "3. Moves up to the next parent until it reaches the object class (the base class for all classes in Python).\n",
        "4. Avoids duplicate searches and maintains a consistent order.\n",
        "\n",
        "Retrieving MRO Programmatically\n",
        "\n",
        "You can check the MRO of a class in Python using:\n",
        "\n",
        "1. The __mro__ attribute.\n",
        "2. The mro() method.\n",
        "3. The inspect.getmro() function from the inspect module.\n",
        "\n",
        "Example"
      ],
      "metadata": {
        "id": "QabgrlUG5Gd5"
      }
    },
    {
      "cell_type": "code",
      "source": [
        "class A:\n",
        "    pass\n",
        "\n",
        "class B(A):\n",
        "    pass\n",
        "\n",
        "class C(A):\n",
        "    pass\n",
        "\n",
        "class D(B, C):  # Multiple Inheritance\n",
        "    pass\n",
        "\n",
        "# Retrieve MRO\n",
        "print(D.__mro__)   # Using __mro__ attribute\n",
        "print(D.mro())     # Using mro() method\n",
        "\n",
        "import inspect\n",
        "print(inspect.getmro(D))  # Using inspect module\n"
      ],
      "metadata": {
        "colab": {
          "base_uri": "https://localhost:8080/"
        },
        "id": "JJ1I4vw05n5a",
        "outputId": "6e576fce-5ca4-45e1-ebba-f94ccf1f1209"
      },
      "execution_count": 15,
      "outputs": [
        {
          "output_type": "stream",
          "name": "stdout",
          "text": [
            "(<class '__main__.D'>, <class '__main__.B'>, <class '__main__.C'>, <class '__main__.A'>, <class 'object'>)\n",
            "[<class '__main__.D'>, <class '__main__.B'>, <class '__main__.C'>, <class '__main__.A'>, <class 'object'>]\n",
            "(<class '__main__.D'>, <class '__main__.B'>, <class '__main__.C'>, <class '__main__.A'>, <class 'object'>)\n"
          ]
        }
      ]
    },
    {
      "cell_type": "markdown",
      "source": [
        "Q8.  Create an abstract base class `Shape` with an abstract method `area()`. Then create two subclasses\n",
        "`Circle` and `Rectangle` that implement the `area()` method.\n",
        "\n",
        "Ans."
      ],
      "metadata": {
        "id": "KfVZ5X2b5vIZ"
      }
    },
    {
      "cell_type": "code",
      "source": [
        "from abc import ABC, abstractmethod\n",
        "import math\n",
        "\n",
        "class Shape(ABC):\n",
        "    \"\"\"Abstract base class for shapes\"\"\"\n",
        "\n",
        "    @abstractmethod\n",
        "    def area(self):\n",
        "        pass  # Abstract method, must be implemented by subclasses\n",
        "\n",
        "class Circle(Shape):\n",
        "    def __init__(self, radius):\n",
        "        self.radius = radius\n",
        "\n",
        "    def area(self):\n",
        "        return math.pi * self.radius ** 2\n",
        "\n",
        "class Rectangle(Shape):\n",
        "    def __init__(self, width, height):\n",
        "        self.width = width\n",
        "        self.height = height\n",
        "\n",
        "    def area(self):\n",
        "        return self.width * self.height\n",
        "\n",
        "# Example usage\n",
        "circle = Circle(5)\n",
        "rectangle = Rectangle(4, 6)\n",
        "\n",
        "print(\"Circle Area:\", circle.area())       # Output: 78.54\n",
        "print(\"Rectangle Area:\", rectangle.area()) # Output: 24\n"
      ],
      "metadata": {
        "colab": {
          "base_uri": "https://localhost:8080/"
        },
        "id": "k8k63gbm6FIU",
        "outputId": "c77fc3ae-988b-4c6c-dba9-7cfc15a642d6"
      },
      "execution_count": 16,
      "outputs": [
        {
          "output_type": "stream",
          "name": "stdout",
          "text": [
            "Circle Area: 78.53981633974483\n",
            "Rectangle Area: 24\n"
          ]
        }
      ]
    },
    {
      "cell_type": "markdown",
      "source": [
        "Q9. Demonstrate polymorphism by creating a function that can work with different shape objects to calculate\n",
        "and print their areas.\n",
        "\n",
        "Ans. Polymorphism allows a function to work with objects of different classes as long as they share a common interface. Here's how you can demonstrate it:"
      ],
      "metadata": {
        "id": "l9r_hITf6IwD"
      }
    },
    {
      "cell_type": "code",
      "source": [
        "def print_area(shape):\n",
        "    \"\"\"Function demonstrating polymorphism by calculating and printing the area of a shape\"\"\"\n",
        "    print(f\"The area is: {shape.area()}\")\n",
        "\n",
        "# Example usage\n",
        "circle = Circle(5)\n",
        "rectangle = Rectangle(4, 6)\n",
        "\n",
        "print_area(circle)      # Output: 78.54\n",
        "print_area(rectangle)   # Output: 24\n"
      ],
      "metadata": {
        "colab": {
          "base_uri": "https://localhost:8080/"
        },
        "id": "9a2n94cV6viR",
        "outputId": "69e8f050-aa5d-4fd9-ce16-5d06f317f05a"
      },
      "execution_count": 18,
      "outputs": [
        {
          "output_type": "stream",
          "name": "stdout",
          "text": [
            "The area is: 78.53981633974483\n",
            "The area is: 24\n"
          ]
        }
      ]
    },
    {
      "cell_type": "markdown",
      "source": [
        "Q10. Implement encapsulation in a `BankAccount` class with private attributes for `balance` and\n",
        "`account_number`. Include methods for deposit, withdrawal, and balance inquiry\n",
        "\n",
        "Ans. Here's a Python implementation of encapsulation in a BankAccount class with private attributes and necessary methods:"
      ],
      "metadata": {
        "id": "HcaHKqyB65by"
      }
    },
    {
      "cell_type": "code",
      "source": [
        "class BankAccount:\n",
        "    \"\"\"Encapsulation in a BankAccount class with private attributes\"\"\"\n",
        "\n",
        "    def __init__(self, account_number, balance=0):\n",
        "        self.__account_number = account_number  # Private attribute\n",
        "        self.__balance = balance  # Private attribute\n",
        "\n",
        "    def deposit(self, amount):\n",
        "        if amount > 0:\n",
        "            self.__balance += amount\n",
        "            print(f\"Deposited: {amount}. New Balance: {self.__balance}\")\n",
        "        else:\n",
        "            print(\"Deposit amount must be positive.\")\n",
        "\n",
        "    def withdraw(self, amount):\n",
        "        if 0 < amount <= self.__balance:\n",
        "            self.__balance -= amount\n",
        "            print(f\"Withdrawn: {amount}. Remaining Balance: {self.__balance}\")\n",
        "        else:\n",
        "            print(\"Insufficient funds or invalid amount.\")\n",
        "\n",
        "    def get_balance(self):\n",
        "        return self.__balance\n",
        "\n",
        "    def get_account_number(self):\n",
        "        return self.__account_number\n",
        "\n",
        "# Example usage\n",
        "account = BankAccount(\"12345678\", 1000)\n",
        "account.deposit(500)\n",
        "account.withdraw(300)\n",
        "print(\"Balance:\", account.get_balance())\n"
      ],
      "metadata": {
        "colab": {
          "base_uri": "https://localhost:8080/"
        },
        "id": "S3nHL9HI7JhK",
        "outputId": "0583b9a5-2b40-4933-9619-b79438543f4f"
      },
      "execution_count": 20,
      "outputs": [
        {
          "output_type": "stream",
          "name": "stdout",
          "text": [
            "Deposited: 500. New Balance: 1500\n",
            "Withdrawn: 300. Remaining Balance: 1200\n",
            "Balance: 1200\n"
          ]
        }
      ]
    },
    {
      "cell_type": "markdown",
      "source": [
        "Q11. Write a class that overrides the `__str__` and `__add__` magic methods. What will these methods allow\n",
        "you to do?\n",
        "\n",
        "Ans.  Overriding the __str__ and __add__ magic methods allows us to customize how objects are represented as strings and how they behave when using the + operator.\n",
        "\n",
        "Here's an example implementation:"
      ],
      "metadata": {
        "id": "fyrcL5aq7ONO"
      }
    },
    {
      "cell_type": "code",
      "source": [
        "class BankAccount:\n",
        "    \"\"\"Class that overrides __str__ and __add__ magic methods\"\"\"\n",
        "\n",
        "    def __init__(self, account_number, balance=0):\n",
        "        self.__account_number = account_number  # Private attribute\n",
        "        self.__balance = balance  # Private attribute\n",
        "\n",
        "    def deposit(self, amount):\n",
        "        if amount > 0:\n",
        "            self.__balance += amount\n",
        "            print(f\"Deposited: {amount}. New Balance: {self.__balance}\")\n",
        "        else:\n",
        "            print(\"Deposit amount must be positive.\")\n",
        "\n",
        "    def withdraw(self, amount):\n",
        "        if 0 < amount <= self.__balance:\n",
        "            self.__balance -= amount\n",
        "            print(f\"Withdrawn: {amount}. Remaining Balance: {self.__balance}\")\n",
        "        else:\n",
        "            print(\"Insufficient funds or invalid amount.\")\n",
        "\n",
        "    def get_balance(self):\n",
        "        return self.__balance\n",
        "\n",
        "    def get_account_number(self):\n",
        "        return self.__account_number\n",
        "\n",
        "    def __str__(self):\n",
        "        \"\"\"Override __str__ to provide a readable representation of the object\"\"\"\n",
        "        return f\"BankAccount({self.__account_number}, Balance: {self.__balance})\"\n",
        "\n",
        "    def __add__(self, other):\n",
        "        \"\"\"Override __add__ to allow merging two bank accounts by summing their balances\"\"\"\n",
        "        if isinstance(other, BankAccount):\n",
        "            return BankAccount(\"Merged\", self.__balance + other.__balance)\n",
        "        raise TypeError(\"Can only add another BankAccount\")\n",
        "\n",
        "# Example usage\n",
        "account1 = BankAccount(\"12345678\", 1000)\n",
        "account2 = BankAccount(\"87654321\", 500)\n",
        "\n",
        "print(account1)  # Calls __str__\n",
        "merged_account = account1 + account2  # Calls __add__\n",
        "print(merged_account)\n"
      ],
      "metadata": {
        "colab": {
          "base_uri": "https://localhost:8080/"
        },
        "id": "4OKdmsmQ7g-6",
        "outputId": "adb6091e-450d-46b3-b337-d417e8d78b63"
      },
      "execution_count": 21,
      "outputs": [
        {
          "output_type": "stream",
          "name": "stdout",
          "text": [
            "BankAccount(12345678, Balance: 1000)\n",
            "BankAccount(Merged, Balance: 1500)\n"
          ]
        }
      ]
    },
    {
      "cell_type": "markdown",
      "source": [
        "What these methods allow you to do:\n",
        "1. __str__\n",
        "\n",
        "Defines how the object is represented as a string.\n",
        "\n",
        "When calling print(account1), it returns \"BankAccount(12345678, Balance: 1000)\" instead of an unreadable memory address.\n",
        "\n",
        "2. __add__\n",
        "\n",
        "Defines how objects of the class behave when used with +.\n",
        "\n",
        "Here, merging two BankAccount objects adds their balances and creates a new account with a \"Merged\" label."
      ],
      "metadata": {
        "id": "aPEHVhrq7kaW"
      }
    },
    {
      "cell_type": "markdown",
      "source": [
        "Q12. Create a decorator that measures and prints the execution time of a function.\n",
        "\n",
        "Ans."
      ],
      "metadata": {
        "id": "ieFmjVhG7xRZ"
      }
    },
    {
      "cell_type": "code",
      "source": [
        "import time\n",
        "\n",
        "def timing_decorator(func):\n",
        "    \"\"\"Decorator to measure and print the execution time of a function\"\"\"\n",
        "    def wrapper(*args, **kwargs):\n",
        "        start_time = time.time()\n",
        "        result = func(*args, **kwargs)\n",
        "        end_time = time.time()\n",
        "        execution_time = end_time - start_time\n",
        "        print(f\"Execution time of {func.__name__}: {execution_time:.6f} seconds\")\n",
        "        return result\n",
        "    return wrapper\n",
        "\n",
        "@timing_decorator\n",
        "def example_function(n):\n",
        "    \"\"\"Example function that runs a loop to demonstrate timing\"\"\"\n",
        "    total = 0\n",
        "    for i in range(n):\n",
        "        total += i\n",
        "    return total\n",
        "\n",
        "# Example usage\n",
        "example_function(1000000)\n"
      ],
      "metadata": {
        "colab": {
          "base_uri": "https://localhost:8080/"
        },
        "id": "hFE2c4pG79Sb",
        "outputId": "a203b725-97d7-4c79-ea41-285ec1e49085"
      },
      "execution_count": 22,
      "outputs": [
        {
          "output_type": "stream",
          "name": "stdout",
          "text": [
            "Execution time of example_function: 0.035606 seconds\n"
          ]
        },
        {
          "output_type": "execute_result",
          "data": {
            "text/plain": [
              "499999500000"
            ]
          },
          "metadata": {},
          "execution_count": 22
        }
      ]
    },
    {
      "cell_type": "markdown",
      "source": [
        "Q13. Explain the concept of the Diamond Problem in multiple inheritance. How does Python resolve it?\n",
        "\n",
        "Ans.  The Diamond Problem in Multiple Inheritance\n",
        "The Diamond Problem occurs in multiple inheritance when a class inherits from two classes that both inherit from a common base class. This creates an ambiguity in method resolution.\n",
        "\n",
        "Example of the Diamond Problem:"
      ],
      "metadata": {
        "id": "a9kdzobN7_hl"
      }
    },
    {
      "cell_type": "code",
      "source": [
        "class A:\n",
        "    def show(self):\n",
        "        print(\"A\")\n",
        "\n",
        "class B(A):\n",
        "    def show(self):\n",
        "        print(\"B\")\n",
        "\n",
        "class C(A):\n",
        "    def show(self):\n",
        "        print(\"C\")\n",
        "\n",
        "class D(B, C):  # D inherits from both B and C\n",
        "    pass\n",
        "\n",
        "d = D()\n",
        "d.show()\n"
      ],
      "metadata": {
        "colab": {
          "base_uri": "https://localhost:8080/"
        },
        "id": "S72bj8-A8KuT",
        "outputId": "efe9bd86-97fc-4d12-da74-385810cdc0f0"
      },
      "execution_count": 23,
      "outputs": [
        {
          "output_type": "stream",
          "name": "stdout",
          "text": [
            "B\n"
          ]
        }
      ]
    },
    {
      "cell_type": "markdown",
      "source": [
        "Issue:\n",
        "1. D inherits from both B and C, and both override show() from A.\n",
        "\n",
        "2. When calling d.show(), should it call B's or C's version?\n",
        "\n",
        "3. This is the Diamond Problem because there are multiple paths to A.\n",
        "\n",
        "How Python Resolves the Diamond Problem:\n",
        "\n",
        "Python resolves this ambiguity using the Method Resolution Order (MRO), which follows the C3 Linearization (C3 algorithm).\n",
        "\n",
        "1. You can check the MRO of a class using:"
      ],
      "metadata": {
        "id": "8DJEAwA78QYk"
      }
    },
    {
      "cell_type": "code",
      "source": [
        "print(D.mro())\n"
      ],
      "metadata": {
        "colab": {
          "base_uri": "https://localhost:8080/"
        },
        "id": "lUtTos_L8hVX",
        "outputId": "af6cf7fc-dc34-4d8f-ee8e-2d8156c3227d"
      },
      "execution_count": 24,
      "outputs": [
        {
          "output_type": "stream",
          "name": "stdout",
          "text": [
            "[<class '__main__.D'>, <class '__main__.B'>, <class '__main__.C'>, <class '__main__.A'>, <class 'object'>]\n"
          ]
        }
      ]
    },
    {
      "cell_type": "markdown",
      "source": [
        "1. The MRO ensures:\n",
        "\n",
        "  a. A method is searched in the child class first.\n",
        "\n",
        "  b. Then, it looks into the first parent in the inheritance list (B before C in this case).\n",
        "\n",
        "  c. If not found, it moves to C, then finally A.\n",
        "\n",
        "  d. This ensures a consistent and predictable method resolution order."
      ],
      "metadata": {
        "id": "ERaq1zCv8jWf"
      }
    },
    {
      "cell_type": "markdown",
      "source": [
        "Q14. Write a class method that keeps track of the number of instances created from a class.\n",
        "\n",
        "Ans.  "
      ],
      "metadata": {
        "id": "hfRszrvr9BtS"
      }
    },
    {
      "cell_type": "code",
      "source": [
        "class InstanceCounter:\n",
        "    \"\"\"Class that keeps track of the number of instances created\"\"\"\n",
        "    count = 0  # Class variable to track instance count\n",
        "\n",
        "    def __init__(self):\n",
        "        InstanceCounter.count += 1  # Increment count whenever a new instance is created\n",
        "\n",
        "    @classmethod\n",
        "    def get_instance_count(cls):\n",
        "        \"\"\"Class method to return the number of instances created\"\"\"\n",
        "        return cls.count\n",
        "\n",
        "# Example usage\n",
        "obj1 = InstanceCounter()\n",
        "obj2 = InstanceCounter()\n",
        "obj3 = InstanceCounter()\n",
        "\n",
        "print(\"Total instances created:\", InstanceCounter.get_instance_count())  # Output: 3\n"
      ],
      "metadata": {
        "colab": {
          "base_uri": "https://localhost:8080/"
        },
        "id": "U9DxnJDn9Rp-",
        "outputId": "e3a9637d-9b9b-40a7-acad-b4f3a8f667e2"
      },
      "execution_count": 26,
      "outputs": [
        {
          "output_type": "stream",
          "name": "stdout",
          "text": [
            "Total instances created: 3\n"
          ]
        }
      ]
    },
    {
      "cell_type": "markdown",
      "source": [
        "Q15.  Implement a static method in a class that checks if a given year is a leap year.\n",
        "\n",
        "Ans."
      ],
      "metadata": {
        "id": "-TxiudP99TrD"
      }
    },
    {
      "cell_type": "code",
      "source": [
        "class DateUtils:\n",
        "    \"\"\"Class with a static method to check for leap years\"\"\"\n",
        "\n",
        "    @staticmethod\n",
        "    def is_leap_year(year):\n",
        "        \"\"\"Check if a given year is a leap year\"\"\"\n",
        "        return (year % 4 == 0 and year % 100 != 0) or (year % 400 == 0)\n",
        "\n",
        "# Example usage\n",
        "print(\"2024 is a leap year:\", DateUtils.is_leap_year(2024))  # True\n",
        "print(\"2023 is a leap year:\", DateUtils.is_leap_year(2023))  # False\n"
      ],
      "metadata": {
        "id": "24ZC10Gx9jYC",
        "outputId": "7b202595-676d-4079-d392-ad2955d0d829",
        "colab": {
          "base_uri": "https://localhost:8080/"
        }
      },
      "execution_count": 27,
      "outputs": [
        {
          "output_type": "stream",
          "name": "stdout",
          "text": [
            "2024 is a leap year: True\n",
            "2023 is a leap year: False\n"
          ]
        }
      ]
    }
  ]
}