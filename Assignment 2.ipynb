{
  "cells": [
    {
      "cell_type": "markdown",
      "source": [
        "1. Write a code to reverse a string."
      ],
      "metadata": {
        "id": "UwIG2-mZ3KLi"
      }
    },
    {
      "cell_type": "code",
      "source": [
        "# Function to reverse a string\n",
        "def reverse_string(s):\n",
        "    return s[::-1]\n",
        "\n",
        "# Example usage\n",
        "input_string = \"Hello, World!\"\n",
        "reversed_string = reverse_string(input_string)\n",
        "\n",
        "print(\"Original String:\", input_string)\n",
        "print(\"Reversed String:\", reversed_string)"
      ],
      "metadata": {
        "colab": {
          "base_uri": "https://localhost:8080/"
        },
        "id": "0U9J6Hrd3QFo",
        "outputId": "464dcece-796e-4428-94b4-afa7cfe1366f"
      },
      "execution_count": null,
      "outputs": [
        {
          "output_type": "stream",
          "name": "stdout",
          "text": [
            "Original String: Hello, World!\n",
            "Reversed String: !dlroW ,olleH\n"
          ]
        }
      ]
    },
    {
      "cell_type": "markdown",
      "source": [
        "Explanation:\n",
        "The [::-1] is a slicing technique in Python that reverses the string. It works by taking the whole string and stepping backwards (-1)."
      ],
      "metadata": {
        "id": "H1ITev4w3e39"
      }
    },
    {
      "cell_type": "markdown",
      "source": [
        "2. Write a code to count the number of vowels in a string."
      ],
      "metadata": {
        "id": "yWMoSDLy3kO0"
      }
    },
    {
      "cell_type": "code",
      "source": [
        "# Function to count vowels in a string\n",
        "def count_vowels(s):\n",
        "    vowels = \"aeiouAEIOU\"  # List of vowels (both lowercase and uppercase)\n",
        "    count = 0  # Variable to store the number of vowels\n",
        "    for char in s:\n",
        "        if char in vowels:\n",
        "            count += 1\n",
        "    return count\n",
        "\n",
        "# Example usage\n",
        "input_string = \"Hello, World!\"\n",
        "vowel_count = count_vowels(input_string)\n",
        "\n",
        "print(\"Original String:\", input_string)\n",
        "print(\"Number of vowels:\", vowel_count)"
      ],
      "metadata": {
        "colab": {
          "base_uri": "https://localhost:8080/"
        },
        "id": "DuZRwr6P3nWz",
        "outputId": "1822bddb-52c7-403a-e6b9-6b299e99aca8"
      },
      "execution_count": null,
      "outputs": [
        {
          "output_type": "stream",
          "name": "stdout",
          "text": [
            "Original String: Hello, World!\n",
            "Number of vowels: 3\n"
          ]
        }
      ]
    },
    {
      "cell_type": "markdown",
      "source": [
        "3. Write a code to check if a given string is a palindrome or not."
      ],
      "metadata": {
        "id": "15lkK12u4EMF"
      }
    },
    {
      "cell_type": "code",
      "source": [
        "# Function to check if a string is a palindrome\n",
        "def is_palindrome(s):\n",
        "    # Remove any non-alphanumeric characters and convert to lowercase\n",
        "    cleaned_string = ''.join(char.lower() for char in s if char.isalnum())\n",
        "\n",
        "    # Check if the cleaned string is equal to its reverse\n",
        "    return cleaned_string == cleaned_string[::-1]\n",
        "\n",
        "# Example usage\n",
        "input_string = \"A man, a plan, a canal, Panama\"\n",
        "if is_palindrome(input_string):\n",
        "    print(f\"'{input_string}' is a palindrome.\")\n",
        "else:\n",
        "    print(f\"'{input_string}' is not a palindrome.\")"
      ],
      "metadata": {
        "colab": {
          "base_uri": "https://localhost:8080/"
        },
        "id": "sxG7J5ag4VwT",
        "outputId": "f755ceb2-c29f-4760-d38d-7326135c7ede"
      },
      "execution_count": null,
      "outputs": [
        {
          "output_type": "stream",
          "name": "stdout",
          "text": [
            "'A man, a plan, a canal, Panama' is a palindrome.\n"
          ]
        }
      ]
    },
    {
      "cell_type": "markdown",
      "source": [
        "4. Write a code to check if two given strings are anagrams of each other."
      ],
      "metadata": {
        "id": "TSdKkrGK4YMn"
      }
    },
    {
      "cell_type": "code",
      "source": [
        "# Function to check if two strings are anagrams\n",
        "def are_anagrams(str1, str2):\n",
        "    # Remove spaces and convert to lowercase for uniform comparison\n",
        "    str1 = str1.replace(\" \", \"\").lower()\n",
        "    str2 = str2.replace(\" \", \"\").lower()\n",
        "\n",
        "    # If the sorted characters of both strings are the same, they are anagrams\n",
        "    return sorted(str1) == sorted(str2)\n",
        "\n",
        "# Example usage\n",
        "string1 = \"Listen\"\n",
        "string2 = \"Silent\"\n",
        "\n",
        "if are_anagrams(string1, string2):\n",
        "    print(f\"'{string1}' and '{string2}' are anagrams.\")\n",
        "else:\n",
        "    print(f\"'{string1}' and '{string2}' are not anagrams.\")"
      ],
      "metadata": {
        "colab": {
          "base_uri": "https://localhost:8080/"
        },
        "id": "MtonPB1f4fRY",
        "outputId": "ac23471c-7fa2-4d08-9b8a-12a534ebda86"
      },
      "execution_count": null,
      "outputs": [
        {
          "output_type": "stream",
          "name": "stdout",
          "text": [
            "'Listen' and 'Silent' are anagrams.\n"
          ]
        }
      ]
    },
    {
      "cell_type": "markdown",
      "source": [
        "5. Write a code to find all occurrences of a given substring within another string."
      ],
      "metadata": {
        "id": "a-egMumLqGIQ"
      }
    },
    {
      "cell_type": "code",
      "source": [
        "def find_all_occurrences(main_string, substring):\n",
        "    indices = []\n",
        "    start = 0  # Start from the beginning of the main string\n",
        "    while True:\n",
        "        # Find the next occurrence of the substring\n",
        "        start = main_string.find(substring, start)\n",
        "        if start == -1:  # No more occurrences found\n",
        "            break\n",
        "        indices.append(start)  # Store the index\n",
        "        start += 1  # Move past the current match to find the next\n",
        "    return indices\n",
        "\n",
        "# Example usage\n",
        "main_string = \"This is a test string. Let's test it again with another test.\"\n",
        "substring = \"test\"\n",
        "result = find_all_occurrences(main_string, substring)\n",
        "print(f\"Occurrences of '{substring}' found at indices: {result}\")\n"
      ],
      "metadata": {
        "colab": {
          "base_uri": "https://localhost:8080/"
        },
        "id": "gMycQvotqKtx",
        "outputId": "f3871286-47fd-4f74-9149-878a99dc7fc7"
      },
      "execution_count": 1,
      "outputs": [
        {
          "output_type": "stream",
          "name": "stdout",
          "text": [
            "Occurrences of 'test' found at indices: [10, 29, 56]\n"
          ]
        }
      ]
    },
    {
      "cell_type": "markdown",
      "source": [
        "6. Write a code to perform basic string compression using the counts of repeated characters."
      ],
      "metadata": {
        "id": "USETEN9TqeXI"
      }
    },
    {
      "cell_type": "code",
      "source": [
        "def compress_string(s):\n",
        "    compressed = []\n",
        "    count = 1\n",
        "\n",
        "    for i in range(1, len(s)):\n",
        "        if s[i] == s[i - 1]:\n",
        "            count += 1\n",
        "        else:\n",
        "            compressed.append(s[i - 1] + str(count))\n",
        "            count = 1\n",
        "\n",
        "    # Add the last character and its count\n",
        "    compressed.append(s[-1] + str(count))\n",
        "\n",
        "    # Join the compressed list and return the smaller string\n",
        "    compressed_string = ''.join(compressed)\n",
        "    return compressed_string if len(compressed_string) < len(s) else s\n",
        "\n",
        "# Example usage\n",
        "input_string = \"aaabbccccdaa\"\n",
        "result = compress_string(input_string)\n",
        "print(f\"Compressed string: {result}\")\n"
      ],
      "metadata": {
        "colab": {
          "base_uri": "https://localhost:8080/"
        },
        "id": "3UNdCffzrB9b",
        "outputId": "d6e8eb3e-ca66-4da6-eded-baf0170b723c"
      },
      "execution_count": 2,
      "outputs": [
        {
          "output_type": "stream",
          "name": "stdout",
          "text": [
            "Compressed string: a3b2c4d1a2\n"
          ]
        }
      ]
    },
    {
      "cell_type": "markdown",
      "source": [
        "7. Write a code to determine if a string has all unique characters."
      ],
      "metadata": {
        "id": "LVAD91HdrFff"
      }
    },
    {
      "cell_type": "code",
      "source": [
        "def has_unique_characters(s):\n",
        "    # Convert the string to a set and compare its length with the original string\n",
        "    return len(set(s)) == len(s)\n",
        "\n",
        "# Example usage\n",
        "input_string = \"abcdef\"\n",
        "result = has_unique_characters(input_string)\n",
        "print(f\"Does the string '{input_string}' have all unique characters? {result}\")\n"
      ],
      "metadata": {
        "colab": {
          "base_uri": "https://localhost:8080/"
        },
        "id": "sBVz8GhTrMlM",
        "outputId": "1e7335ef-2168-40a1-9e0a-acb922aabc59"
      },
      "execution_count": 3,
      "outputs": [
        {
          "output_type": "stream",
          "name": "stdout",
          "text": [
            "Does the string 'abcdef' have all unique characters? True\n"
          ]
        }
      ]
    },
    {
      "cell_type": "markdown",
      "source": [
        "8. Write a code to convert a given string to uppercase or lowercase."
      ],
      "metadata": {
        "id": "1qWI_obDrTUY"
      }
    },
    {
      "cell_type": "code",
      "source": [
        "def convert_case(s, to_upper=True):\n",
        "    if to_upper:\n",
        "        return s.upper()  # Convert to uppercase\n",
        "    else:\n",
        "        return s.lower()  # Convert to lowercase\n",
        "\n",
        "# Example usage\n",
        "input_string = \"Hello, World!\"\n",
        "\n",
        "# Convert to uppercase\n",
        "upper_result = convert_case(input_string, to_upper=True)\n",
        "print(f\"Uppercase: {upper_result}\")\n",
        "\n",
        "# Convert to lowercase\n",
        "lower_result = convert_case(input_string, to_upper=False)\n",
        "print(f\"Lowercase: {lower_result}\")\n"
      ],
      "metadata": {
        "colab": {
          "base_uri": "https://localhost:8080/"
        },
        "id": "upH1WTUYrZql",
        "outputId": "8f2c5db6-63af-429f-fb64-cd9de42418bd"
      },
      "execution_count": 5,
      "outputs": [
        {
          "output_type": "stream",
          "name": "stdout",
          "text": [
            "Uppercase: HELLO, WORLD!\n",
            "Lowercase: hello, world!\n"
          ]
        }
      ]
    },
    {
      "cell_type": "markdown",
      "source": [
        "9. Write a code to count the number of words in a string."
      ],
      "metadata": {
        "id": "uFkm4STirten"
      }
    },
    {
      "cell_type": "code",
      "source": [
        "def count_words(s):\n",
        "    # Split the string by whitespace and count the resulting words\n",
        "    words = s.split()\n",
        "    return len(words)\n",
        "\n",
        "# Example usage\n",
        "input_string = \"This is a sample string with several words.\"\n",
        "word_count = count_words(input_string)\n",
        "print(f\"Number of words: {word_count}\")\n"
      ],
      "metadata": {
        "colab": {
          "base_uri": "https://localhost:8080/"
        },
        "id": "Tx6HwQetry1a",
        "outputId": "4eba3606-7df4-4e4b-ccb9-b1a9f3406d50"
      },
      "execution_count": 6,
      "outputs": [
        {
          "output_type": "stream",
          "name": "stdout",
          "text": [
            "Number of words: 8\n"
          ]
        }
      ]
    },
    {
      "cell_type": "markdown",
      "source": [
        "10. Write a code to concatenate two strings without using the + operator."
      ],
      "metadata": {
        "id": "NaiYJup6sB_G"
      }
    },
    {
      "cell_type": "code",
      "source": [
        "def concatenate_strings(s1, s2):\n",
        "    # Use the join method to concatenate strings\n",
        "    return \"\".join([s1, s2])\n",
        "\n",
        "# Example usage\n",
        "string1 = \"Hello\"\n",
        "string2 = \"World\"\n",
        "result = concatenate_strings(string1, string2)\n",
        "print(f\"Concatenated string: {result}\")\n"
      ],
      "metadata": {
        "colab": {
          "base_uri": "https://localhost:8080/"
        },
        "id": "3Jql673msIYE",
        "outputId": "4f0e8511-e452-4944-859d-e9567b13dc94"
      },
      "execution_count": 7,
      "outputs": [
        {
          "output_type": "stream",
          "name": "stdout",
          "text": [
            "Concatenated string: HelloWorld\n"
          ]
        }
      ]
    },
    {
      "cell_type": "markdown",
      "source": [
        "11. Write a code to remove all occurrences of a specific element from a list."
      ],
      "metadata": {
        "id": "W6qOt0aksSbo"
      }
    },
    {
      "cell_type": "code",
      "source": [
        "def remove_all_occurrences(lst, element):\n",
        "    # Use list comprehension to filter out the specific element\n",
        "    return [x for x in lst if x != element]\n",
        "\n",
        "# Example usage\n",
        "input_list = [1, 2, 3, 4, 3, 5, 3, 6]\n",
        "element_to_remove = 3\n",
        "result = remove_all_occurrences(input_list, element_to_remove)\n",
        "print(f\"List after removing {element_to_remove}: {result}\")\n"
      ],
      "metadata": {
        "colab": {
          "base_uri": "https://localhost:8080/"
        },
        "id": "NqduyOYQsX_7",
        "outputId": "5565a85b-b6d7-4361-e524-a85ab7a10d92"
      },
      "execution_count": 8,
      "outputs": [
        {
          "output_type": "stream",
          "name": "stdout",
          "text": [
            "List after removing 3: [1, 2, 4, 5, 6]\n"
          ]
        }
      ]
    },
    {
      "cell_type": "markdown",
      "source": [
        "12. Implement a code to find the second largest number in a given list of integers"
      ],
      "metadata": {
        "id": "W_hmitiUse7d"
      }
    },
    {
      "cell_type": "code",
      "source": [
        "def find_second_largest(nums):\n",
        "    if len(nums) < 2:\n",
        "        return \"List must contain at least two unique numbers.\"\n",
        "\n",
        "    # Use a set to remove duplicates, then convert back to a sorted list\n",
        "    unique_nums = list(set(nums))\n",
        "    if len(unique_nums) < 2:\n",
        "        return \"List must contain at least two unique numbers.\"\n",
        "\n",
        "    unique_nums.sort(reverse=True)  # Sort in descending order\n",
        "    return unique_nums[1]  # Second largest is at index 1\n",
        "\n",
        "# Example usage\n",
        "numbers = [3, 5, 1, 4, 5, 7, 7]\n",
        "second_largest = find_second_largest(numbers)\n",
        "print(f\"The second largest number is: {second_largest}\")\n"
      ],
      "metadata": {
        "colab": {
          "base_uri": "https://localhost:8080/"
        },
        "id": "y4Het1EksjYA",
        "outputId": "6adde97d-2710-4418-9bc4-79ff77fbffca"
      },
      "execution_count": 9,
      "outputs": [
        {
          "output_type": "stream",
          "name": "stdout",
          "text": [
            "The second largest number is: 5\n"
          ]
        }
      ]
    },
    {
      "cell_type": "markdown",
      "source": [
        "13. Create a code to count the occurrences of each element in a list and return a dictionary with elements as\n",
        "keys and their counts as values."
      ],
      "metadata": {
        "id": "U5n0yd3HsxuE"
      }
    },
    {
      "cell_type": "code",
      "source": [
        "def count_occurrences(lst):\n",
        "    # Use a dictionary to store element counts\n",
        "    counts = {}\n",
        "    for element in lst:\n",
        "        counts[element] = counts.get(element, 0) + 1  # Increment count for each element\n",
        "    return counts\n",
        "\n",
        "# Example usage\n",
        "input_list = [1, 2, 2, 3, 3, 3, 4, 4, 4, 4]\n",
        "result = count_occurrences(input_list)\n",
        "print(f\"Occurrences of each element: {result}\")\n"
      ],
      "metadata": {
        "colab": {
          "base_uri": "https://localhost:8080/"
        },
        "id": "m_yK15d_s4Hy",
        "outputId": "9e8a33cb-15ce-4466-eebb-46ab1df8182d"
      },
      "execution_count": 10,
      "outputs": [
        {
          "output_type": "stream",
          "name": "stdout",
          "text": [
            "Occurrences of each element: {1: 1, 2: 2, 3: 3, 4: 4}\n"
          ]
        }
      ]
    },
    {
      "cell_type": "markdown",
      "source": [
        "14. Write a code to reverse a list in-place without using any built-in reverse functions"
      ],
      "metadata": {
        "id": "seWQ3RJQtIJy"
      }
    },
    {
      "cell_type": "code",
      "source": [
        "def reverse_list_in_place(lst):\n",
        "    left, right = 0, len(lst) - 1\n",
        "    while left < right:\n",
        "        # Swap the elements at positions left and right\n",
        "        lst[left], lst[right] = lst[right], lst[left]\n",
        "        left += 1\n",
        "        right -= 1\n",
        "\n",
        "# Example usage\n",
        "input_list = [1, 2, 3, 4, 5]\n",
        "reverse_list_in_place(input_list)\n",
        "print(f\"Reversed list: {input_list}\")\n"
      ],
      "metadata": {
        "colab": {
          "base_uri": "https://localhost:8080/"
        },
        "id": "8DkfPdwYtMIw",
        "outputId": "af9ee502-4a60-4e2e-d451-68969df35c89"
      },
      "execution_count": 11,
      "outputs": [
        {
          "output_type": "stream",
          "name": "stdout",
          "text": [
            "Reversed list: [5, 4, 3, 2, 1]\n"
          ]
        }
      ]
    },
    {
      "cell_type": "markdown",
      "source": [
        "15. Implement a code to find and remove duplicates from a list while preserving the original order of\n",
        "elements."
      ],
      "metadata": {
        "id": "ZTDZ1tjHtWNK"
      }
    },
    {
      "cell_type": "code",
      "source": [
        "def remove_duplicates(lst):\n",
        "    seen = set()  # Set to keep track of seen elements\n",
        "    result = []   # List to store the final result without duplicates\n",
        "\n",
        "    for element in lst:\n",
        "        if element not in seen:\n",
        "            result.append(element)  # Add element to result if not seen before\n",
        "            seen.add(element)        # Mark element as seen\n",
        "\n",
        "    return result\n",
        "\n",
        "# Example usage\n",
        "input_list = [1, 2, 2, 3, 4, 3, 5, 5, 6]\n",
        "result = remove_duplicates(input_list)\n",
        "print(f\"List after removing duplicates: {result}\")\n"
      ],
      "metadata": {
        "colab": {
          "base_uri": "https://localhost:8080/"
        },
        "id": "8YQAsQZltbeA",
        "outputId": "6023ad86-bea6-446c-8a33-e28ecee9709e"
      },
      "execution_count": 12,
      "outputs": [
        {
          "output_type": "stream",
          "name": "stdout",
          "text": [
            "List after removing duplicates: [1, 2, 3, 4, 5, 6]\n"
          ]
        }
      ]
    },
    {
      "cell_type": "markdown",
      "source": [
        "16. Create a code to check if a given list is sorted (either in ascending or descending order) or not."
      ],
      "metadata": {
        "id": "nhniXnjVtlel"
      }
    },
    {
      "cell_type": "code",
      "source": [
        "def is_sorted(lst):\n",
        "    # Check for ascending order\n",
        "    ascending = all(lst[i] <= lst[i + 1] for i in range(len(lst) - 1))\n",
        "\n",
        "    # Check for descending order\n",
        "    descending = all(lst[i] >= lst[i + 1] for i in range(len(lst) - 1))\n",
        "\n",
        "    # Return whether the list is sorted in ascending or descending order\n",
        "    if ascending:\n",
        "        return \"The list is sorted in ascending order.\"\n",
        "    elif descending:\n",
        "        return \"The list is sorted in descending order.\"\n",
        "    else:\n",
        "        return \"The list is not sorted.\"\n",
        "\n",
        "# Example usage\n",
        "input_list = [1, 2, 3, 4, 5]\n",
        "result = is_sorted(input_list)\n",
        "print(result)\n",
        "\n",
        "input_list = [5, 4, 3, 2, 1]\n",
        "result = is_sorted(input_list)\n",
        "print(result)\n",
        "\n",
        "input_list = [1, 3, 2, 4, 5]\n",
        "result = is_sorted(input_list)\n",
        "print(result)\n"
      ],
      "metadata": {
        "colab": {
          "base_uri": "https://localhost:8080/"
        },
        "id": "fAVajzPstsjT",
        "outputId": "2c4e252d-f7fd-4729-8f54-1f16481ae02d"
      },
      "execution_count": 13,
      "outputs": [
        {
          "output_type": "stream",
          "name": "stdout",
          "text": [
            "The list is sorted in ascending order.\n",
            "The list is sorted in descending order.\n",
            "The list is not sorted.\n"
          ]
        }
      ]
    },
    {
      "cell_type": "markdown",
      "source": [
        "17. Write a code to merge two sorted lists into a single sorted list."
      ],
      "metadata": {
        "id": "PipYp-cjt5vs"
      }
    },
    {
      "cell_type": "code",
      "source": [
        "def merge_sorted_lists(list1, list2):\n",
        "    merged_list = []\n",
        "    i, j = 0, 0\n",
        "\n",
        "    # Traverse both lists and merge them into the merged_list\n",
        "    while i < len(list1) and j < len(list2):\n",
        "        if list1[i] <= list2[j]:\n",
        "            merged_list.append(list1[i])\n",
        "            i += 1\n",
        "        else:\n",
        "            merged_list.append(list2[j])\n",
        "            j += 1\n",
        "\n",
        "    # If there are remaining elements in list1, add them to merged_list\n",
        "    while i < len(list1):\n",
        "        merged_list.append(list1[i])\n",
        "        i += 1\n",
        "\n",
        "    # If there are remaining elements in list2, add them to merged_list\n",
        "    while j < len(list2):\n",
        "        merged_list.append(list2[j])\n",
        "        j += 1\n",
        "\n",
        "    return merged_list\n",
        "\n",
        "# Example usage\n",
        "list1 = [1, 3, 5, 7]\n",
        "list2 = [2, 4, 6, 8]\n",
        "result = merge_sorted_lists(list1, list2)\n",
        "print(f\"Merged sorted list: {result}\")\n"
      ],
      "metadata": {
        "colab": {
          "base_uri": "https://localhost:8080/"
        },
        "id": "1krkrDNvt-4E",
        "outputId": "87633710-599e-415c-8f9e-a6f911d6d30e"
      },
      "execution_count": 14,
      "outputs": [
        {
          "output_type": "stream",
          "name": "stdout",
          "text": [
            "Merged sorted list: [1, 2, 3, 4, 5, 6, 7, 8]\n"
          ]
        }
      ]
    },
    {
      "cell_type": "markdown",
      "source": [
        "18. Implement a code to find the intersection of two given lists."
      ],
      "metadata": {
        "id": "-4fFg_TKuFSX"
      }
    },
    {
      "cell_type": "code",
      "source": [
        "def find_intersection(list1, list2):\n",
        "    # Convert both lists to sets and find the intersection\n",
        "    intersection = set(list1) & set(list2)\n",
        "    return list(intersection)\n",
        "\n",
        "# Example usage\n",
        "list1 = [1, 2, 3, 4, 5]\n",
        "list2 = [4, 5, 6, 7]\n",
        "result = find_intersection(list1, list2)\n",
        "print(f\"Intersection of the two lists: {result}\")\n"
      ],
      "metadata": {
        "colab": {
          "base_uri": "https://localhost:8080/"
        },
        "id": "Fp8AjSZYuJpm",
        "outputId": "61bc253b-f7e0-4d40-c0ec-106cc730e175"
      },
      "execution_count": 15,
      "outputs": [
        {
          "output_type": "stream",
          "name": "stdout",
          "text": [
            "Intersection of the two lists: [4, 5]\n"
          ]
        }
      ]
    },
    {
      "cell_type": "markdown",
      "source": [
        "19. Create a code to find the union of two lists without duplicates."
      ],
      "metadata": {
        "id": "LCDAer_EuPWD"
      }
    },
    {
      "cell_type": "code",
      "source": [
        "def find_union(list1, list2):\n",
        "    # Convert both lists to sets and find the union\n",
        "    union = set(list1) | set(list2)\n",
        "    return list(union)\n",
        "\n",
        "# Example usage\n",
        "list1 = [1, 2, 3, 4, 5]\n",
        "list2 = [4, 5, 6, 7]\n",
        "result = find_union(list1, list2)\n",
        "print(f\"Union of the two lists: {result}\")\n"
      ],
      "metadata": {
        "colab": {
          "base_uri": "https://localhost:8080/"
        },
        "id": "6mNmGRwYuUYO",
        "outputId": "aa199776-f633-4e5b-cd95-97416a31245e"
      },
      "execution_count": 16,
      "outputs": [
        {
          "output_type": "stream",
          "name": "stdout",
          "text": [
            "Union of the two lists: [1, 2, 3, 4, 5, 6, 7]\n"
          ]
        }
      ]
    },
    {
      "cell_type": "markdown",
      "source": [
        "20. Write a code to shuffle a given list randomly without using any built-in shuffle functions."
      ],
      "metadata": {
        "id": "SOB3YorhufcS"
      }
    },
    {
      "cell_type": "code",
      "source": [
        "import random\n",
        "\n",
        "def shuffle_list(lst):\n",
        "    # Get the length of the list\n",
        "    n = len(lst)\n",
        "\n",
        "    # Fisher-Yates shuffle algorithm\n",
        "    for i in range(n - 1, 0, -1):\n",
        "        # Generate a random index from 0 to i\n",
        "        j = random.randint(0, i)\n",
        "\n",
        "        # Swap the elements at indices i and j\n",
        "        lst[i], lst[j] = lst[j], lst[i]\n",
        "\n",
        "# Example usage\n",
        "input_list = [1, 2, 3, 4, 5]\n",
        "shuffle_list(input_list)\n",
        "print(f\"Shuffled list: {input_list}\")\n"
      ],
      "metadata": {
        "colab": {
          "base_uri": "https://localhost:8080/"
        },
        "id": "Bkf74JkvukyJ",
        "outputId": "6000200b-c7dc-4341-81f8-b3795ad10e6e"
      },
      "execution_count": 17,
      "outputs": [
        {
          "output_type": "stream",
          "name": "stdout",
          "text": [
            "Shuffled list: [5, 3, 2, 4, 1]\n"
          ]
        }
      ]
    },
    {
      "cell_type": "markdown",
      "source": [
        "21. Write a code that takes two tuples as input and returns a new tuple containing elements that are\n",
        "common to both input tuples"
      ],
      "metadata": {
        "id": "QVs03v6tu0aL"
      }
    },
    {
      "cell_type": "code",
      "source": [
        "def find_common_elements(tuple1, tuple2):\n",
        "    # Convert both tuples to sets and find the intersection\n",
        "    common_elements = set(tuple1) & set(tuple2)\n",
        "    return tuple(common_elements)\n",
        "\n",
        "# Example usage\n",
        "tuple1 = (1, 2, 3, 4, 5)\n",
        "tuple2 = (4, 5, 6, 7, 8)\n",
        "result = find_common_elements(tuple1, tuple2)\n",
        "print(f\"Common elements: {result}\")\n"
      ],
      "metadata": {
        "colab": {
          "base_uri": "https://localhost:8080/"
        },
        "id": "veCrG8zevAQC",
        "outputId": "64720ce1-4a13-4faf-e082-486075004b6c"
      },
      "execution_count": 18,
      "outputs": [
        {
          "output_type": "stream",
          "name": "stdout",
          "text": [
            "Common elements: (4, 5)\n"
          ]
        }
      ]
    },
    {
      "cell_type": "markdown",
      "source": [
        "22. Create a code that prompts the user to enter two sets of integers separated by commas. Then, print the\n",
        "intersection of these two sets."
      ],
      "metadata": {
        "id": "tLApJVeavKU7"
      }
    },
    {
      "cell_type": "code",
      "source": [
        "def get_set_from_input(prompt):\n",
        "    # Prompt user to input a set of integers separated by commas\n",
        "    user_input = input(prompt)\n",
        "\n",
        "    # Convert the input string to a set of integers\n",
        "    user_set = set(map(int, user_input.split(',')))\n",
        "\n",
        "    return user_set\n",
        "\n",
        "def find_intersection(set1, set2):\n",
        "    # Find the intersection of the two sets\n",
        "    return set1 & set2\n",
        "\n",
        "# Get two sets of integers from user input\n",
        "set1 = get_set_from_input(\"Enter the first set of integers (separated by commas): \")\n",
        "set2 = get_set_from_input(\"Enter the second set of integers (separated by commas): \")\n",
        "\n",
        "# Find the intersection of the two sets\n",
        "intersection = find_intersection(set1, set2)\n",
        "\n",
        "# Print the intersection\n",
        "print(f\"The intersection of the two sets is: {intersection}\")\n"
      ],
      "metadata": {
        "colab": {
          "base_uri": "https://localhost:8080/"
        },
        "id": "gYdvLKnIvOpd",
        "outputId": "ed26d231-2f3b-4ece-856f-d472d65ec79c"
      },
      "execution_count": 20,
      "outputs": [
        {
          "output_type": "stream",
          "name": "stdout",
          "text": [
            "Enter the first set of integers (separated by commas): 1,2,3,4,5\n",
            "Enter the second set of integers (separated by commas): 3,4,5,6,7\n",
            "The intersection of the two sets is: {3, 4, 5}\n"
          ]
        }
      ]
    },
    {
      "cell_type": "markdown",
      "source": [
        "23. Write a code to concatenate two tuples. The function should take two tuples as input and return a new\n",
        "tuple containing elements from both input tuples"
      ],
      "metadata": {
        "id": "ts1R3HwKvrlN"
      }
    },
    {
      "cell_type": "code",
      "source": [
        "def concatenate_tuples(tuple1, tuple2):\n",
        "    # Concatenate the two tuples\n",
        "    return tuple1 + tuple2\n",
        "\n",
        "# Example usage\n",
        "tuple1 = (1, 2, 3)\n",
        "tuple2 = (4, 5, 6)\n",
        "result = concatenate_tuples(tuple1, tuple2)\n",
        "print(f\"Concatenated tuple: {result}\")\n"
      ],
      "metadata": {
        "colab": {
          "base_uri": "https://localhost:8080/"
        },
        "id": "phQkT8lgvy-J",
        "outputId": "c375f992-6858-45ea-9359-c14777b67999"
      },
      "execution_count": 21,
      "outputs": [
        {
          "output_type": "stream",
          "name": "stdout",
          "text": [
            "Concatenated tuple: (1, 2, 3, 4, 5, 6)\n"
          ]
        }
      ]
    },
    {
      "cell_type": "markdown",
      "source": [
        "24. Develop a code that prompts the user to input two sets of strings. Then, print the elements that are\n",
        "present in the first set but not in the second set."
      ],
      "metadata": {
        "id": "WUiY6lpwv5zC"
      }
    },
    {
      "cell_type": "code",
      "source": [
        "def get_set_from_input(prompt):\n",
        "    # Prompt user to input a set of strings separated by commas\n",
        "    user_input = input(prompt)\n",
        "\n",
        "    # Convert the input string to a set of strings\n",
        "    user_set = set(user_input.split(','))\n",
        "\n",
        "    return user_set\n",
        "\n",
        "def find_difference(set1, set2):\n",
        "    # Find the elements in set1 but not in set2\n",
        "    return set1 - set2\n",
        "\n",
        "# Get two sets of strings from user input\n",
        "set1 = get_set_from_input(\"Enter the first set of strings (separated by commas): \")\n",
        "set2 = get_set_from_input(\"Enter the second set of strings (separated by commas): \")\n",
        "\n",
        "# Find the difference between the two sets\n",
        "difference = find_difference(set1, set2)\n",
        "\n",
        "# Print the elements in the first set but not in the second\n",
        "print(f\"Elements in the first set but not in the second: {difference}\")\n"
      ],
      "metadata": {
        "colab": {
          "base_uri": "https://localhost:8080/"
        },
        "id": "XsHDVA6_wB8b",
        "outputId": "dcb5a8a6-410a-4e92-8239-6dfa13a4d521"
      },
      "execution_count": 22,
      "outputs": [
        {
          "output_type": "stream",
          "name": "stdout",
          "text": [
            "Enter the first set of strings (separated by commas): Goat, Sheep, Hens\n",
            "Enter the second set of strings (separated by commas): Ducks, Hens, Swans\n",
            "Elements in the first set but not in the second: {' Sheep', 'Goat'}\n"
          ]
        }
      ]
    },
    {
      "cell_type": "markdown",
      "source": [
        "25. Create a code that takes a tuple and two integers as input. The function should return a new tuple\n",
        "containing elements from the original tuple within the specified range of indices"
      ],
      "metadata": {
        "id": "Xu8DnpwjwdKZ"
      }
    },
    {
      "cell_type": "code",
      "source": [
        "def extract_elements_in_range(input_tuple, start_index, end_index):\n",
        "    # Return the elements in the specified range (start_index inclusive, end_index exclusive)\n",
        "    return input_tuple[start_index:end_index]\n",
        "\n",
        "# Example usage\n",
        "input_tuple = (10, 20, 30, 40, 50, 60, 70)\n",
        "start_index = int(input(\"Enter the start index: \"))\n",
        "end_index = int(input(\"Enter the end index: \"))\n",
        "\n",
        "# Call the function to extract elements within the range\n",
        "result = extract_elements_in_range(input_tuple, start_index, end_index)\n",
        "\n",
        "print(f\"Elements in the specified range: {result}\")\n"
      ],
      "metadata": {
        "colab": {
          "base_uri": "https://localhost:8080/"
        },
        "id": "S5MGBtXmwimG",
        "outputId": "0b6d049c-787e-44f0-c351-33d8f660adb0"
      },
      "execution_count": 23,
      "outputs": [
        {
          "output_type": "stream",
          "name": "stdout",
          "text": [
            "Enter the start index: 1\n",
            "Enter the end index: 24\n",
            "Elements in the specified range: (20, 30, 40, 50, 60, 70)\n"
          ]
        }
      ]
    },
    {
      "cell_type": "markdown",
      "source": [
        "26. Write a code that prompts the user to input two sets of characters. Then, print the union of these two sets."
      ],
      "metadata": {
        "id": "WfM1n9Niww6i"
      }
    },
    {
      "cell_type": "code",
      "source": [
        "def get_set_from_input(prompt):\n",
        "    # Prompt user to input a set of characters separated by commas\n",
        "    user_input = input(prompt)\n",
        "\n",
        "    # Convert the input string to a set of characters\n",
        "    user_set = set(user_input.split(','))\n",
        "\n",
        "    return user_set\n",
        "\n",
        "def find_union(set1, set2):\n",
        "    # Find the union of the two sets\n",
        "    return set1 | set2\n",
        "\n",
        "# Get two sets of characters from user input\n",
        "set1 = get_set_from_input(\"Enter the first set of characters (separated by commas): \")\n",
        "set2 = get_set_from_input(\"Enter the second set of characters (separated by commas): \")\n",
        "\n",
        "# Find the union of the two sets\n",
        "union = find_union(set1, set2)\n",
        "\n",
        "# Print the union of the two sets\n",
        "print(f\"The union of the two sets is: {union}\")\n"
      ],
      "metadata": {
        "colab": {
          "base_uri": "https://localhost:8080/"
        },
        "id": "94sgvDRNw7js",
        "outputId": "2088cbfa-9c97-4169-90de-3f06dbf8cee6"
      },
      "execution_count": 24,
      "outputs": [
        {
          "output_type": "stream",
          "name": "stdout",
          "text": [
            "Enter the first set of characters (separated by commas): a,b,c,d\n",
            "Enter the second set of characters (separated by commas): c.d.e.f\n",
            "The union of the two sets is: {'b', 'a', 'c.d.e.f', 'c', 'd'}\n"
          ]
        }
      ]
    },
    {
      "cell_type": "markdown",
      "source": [
        "27. Develop a code that takes a tuple of integers as input. The function should return the maximum and minimum values from the tuple using tuple unpacking."
      ],
      "metadata": {
        "id": "WXIvnwygxL8L"
      }
    },
    {
      "cell_type": "code",
      "source": [
        "def find_max_min(input_tuple):\n",
        "    # Using tuple unpacking to find the maximum and minimum values\n",
        "    max_value, min_value = max(input_tuple), min(input_tuple)\n",
        "    return max_value, min_value\n",
        "\n",
        "# Example usage\n",
        "input_tuple = tuple(map(int, input(\"Enter a tuple of integers (separated by commas): \").split(',')))\n",
        "\n",
        "# Call the function to find the maximum and minimum values\n",
        "max_value, min_value = find_max_min(input_tuple)\n",
        "\n",
        "# Print the results\n",
        "print(f\"The maximum value in the tuple is: {max_value}\")\n",
        "print(f\"The minimum value in the tuple is: {min_value}\")\n"
      ],
      "metadata": {
        "colab": {
          "base_uri": "https://localhost:8080/"
        },
        "id": "g2N0LF4jxRFw",
        "outputId": "37a078d8-13b7-4b2a-bb9b-d8dca44267da"
      },
      "execution_count": 25,
      "outputs": [
        {
          "output_type": "stream",
          "name": "stdout",
          "text": [
            "Enter a tuple of integers (separated by commas): 01, 12, 22, 24, 28\n",
            "The maximum value in the tuple is: 28\n",
            "The minimum value in the tuple is: 1\n"
          ]
        }
      ]
    },
    {
      "cell_type": "markdown",
      "source": [
        "28. Create a code that defines two sets of integers. Then, print the union, intersection, and difference of these two sets."
      ],
      "metadata": {
        "id": "cD4NZE9uxu1o"
      }
    },
    {
      "cell_type": "code",
      "source": [
        "def print_set_operations(set1, set2):\n",
        "    # Union of two sets\n",
        "    union = set1 | set2\n",
        "    print(f\"Union of the sets: {union}\")\n",
        "\n",
        "    # Intersection of two sets\n",
        "    intersection = set1 & set2\n",
        "    print(f\"Intersection of the sets: {intersection}\")\n",
        "\n",
        "    # Difference of two sets (elements in set1 but not in set2)\n",
        "    difference = set1 - set2\n",
        "    print(f\"Difference of the sets (set1 - set2): {difference}\")\n",
        "\n",
        "# Example usage\n",
        "set1 = {1, 2, 3, 4, 5}\n",
        "set2 = {4, 5, 6, 7, 8}\n",
        "\n",
        "# Call the function to print the union, intersection, and difference\n",
        "print_set_operations(set1, set2)\n"
      ],
      "metadata": {
        "colab": {
          "base_uri": "https://localhost:8080/"
        },
        "id": "bgv2ST_PxzBj",
        "outputId": "6464fbdd-8083-4024-f421-4737cf1bd033"
      },
      "execution_count": 26,
      "outputs": [
        {
          "output_type": "stream",
          "name": "stdout",
          "text": [
            "Union of the sets: {1, 2, 3, 4, 5, 6, 7, 8}\n",
            "Intersection of the sets: {4, 5}\n",
            "Difference of the sets (set1 - set2): {1, 2, 3}\n"
          ]
        }
      ]
    },
    {
      "cell_type": "markdown",
      "source": [
        "29. Write a code that takes a tuple and an element as input. The function should return the count of occurrences of the given element in the tuple."
      ],
      "metadata": {
        "id": "msOsllqXx78-"
      }
    },
    {
      "cell_type": "code",
      "source": [
        "def count_occurrences(input_tuple, element):\n",
        "    # Return the count of occurrences of the given element in the tuple\n",
        "    return input_tuple.count(element)\n",
        "\n",
        "# Example usage\n",
        "input_tuple = tuple(map(int, input(\"Enter a tuple of integers (separated by commas): \").split(',')))\n",
        "element = int(input(\"Enter the element to count its occurrences: \"))\n",
        "\n",
        "# Call the function to count the occurrences of the element\n",
        "count = count_occurrences(input_tuple, element)\n",
        "\n",
        "# Print the result\n",
        "print(f\"The element {element} appears {count} time(s) in the tuple.\")\n"
      ],
      "metadata": {
        "colab": {
          "base_uri": "https://localhost:8080/"
        },
        "id": "MaE2Jr_HyDfy",
        "outputId": "aa562376-0dba-4322-b68b-4541abd9c683"
      },
      "execution_count": 27,
      "outputs": [
        {
          "output_type": "stream",
          "name": "stdout",
          "text": [
            "Enter a tuple of integers (separated by commas): 1,2,2,3,3,3,4,4,4,4\n",
            "Enter the element to count its occurrences: 4\n",
            "The element 4 appears 4 time(s) in the tuple.\n"
          ]
        }
      ]
    },
    {
      "cell_type": "markdown",
      "source": [
        "30. Develop a code that prompts the user to input two sets of strings. Then, print the symmetric difference of these two sets."
      ],
      "metadata": {
        "id": "a6hsm1exyX-i"
      }
    },
    {
      "cell_type": "code",
      "source": [
        "def get_set_from_input(prompt):\n",
        "    # Prompt user to input a set of strings separated by commas\n",
        "    user_input = input(prompt)\n",
        "\n",
        "    # Convert the input string to a set of strings\n",
        "    user_set = set(user_input.split(','))\n",
        "\n",
        "    return user_set\n",
        "\n",
        "def find_symmetric_difference(set1, set2):\n",
        "    # Find the symmetric difference of the two sets\n",
        "    return set1 ^ set2\n",
        "\n",
        "# Get two sets of strings from user input\n",
        "set1 = get_set_from_input(\"Enter the first set of strings (separated by commas): \")\n",
        "set2 = get_set_from_input(\"Enter the second set of strings (separated by commas): \")\n",
        "\n",
        "# Find the symmetric difference of the two sets\n",
        "symmetric_difference = find_symmetric_difference(set1, set2)\n",
        "\n",
        "# Print the symmetric difference of the two sets\n",
        "print(f\"The symmetric difference of the two sets is: {symmetric_difference}\")\n"
      ],
      "metadata": {
        "colab": {
          "base_uri": "https://localhost:8080/"
        },
        "id": "EF0CKkiuyeCf",
        "outputId": "67000735-585d-4818-f940-aa4d0099b5a9"
      },
      "execution_count": 28,
      "outputs": [
        {
          "output_type": "stream",
          "name": "stdout",
          "text": [
            "Enter the first set of strings (separated by commas): apple, banana, mango\n",
            "Enter the second set of strings (separated by commas): mango, banana, peach\n",
            "The symmetric difference of the two sets is: {' peach', ' mango', 'mango', 'apple'}\n"
          ]
        }
      ]
    },
    {
      "cell_type": "markdown",
      "source": [
        "31. Write a code that takes a list of words as input and returns a dictionary where the keys are unique words and the values are the frequencies of those words in the input list."
      ],
      "metadata": {
        "id": "qBSGunAUy5WT"
      }
    },
    {
      "cell_type": "code",
      "source": [
        "def count_word_frequencies(word_list):\n",
        "    # Create an empty dictionary to store word frequencies\n",
        "    word_count = {}\n",
        "\n",
        "    # Iterate through the word list and count occurrences\n",
        "    for word in word_list:\n",
        "        # If the word is already in the dictionary, increment its count\n",
        "        if word in word_count:\n",
        "            word_count[word] += 1\n",
        "        # Otherwise, add the word to the dictionary with a count of 1\n",
        "        else:\n",
        "            word_count[word] = 1\n",
        "\n",
        "    return word_count\n",
        "\n",
        "# Example usage\n",
        "input_words = input(\"Enter a list of words (separated by spaces): \").split()\n",
        "\n",
        "# Call the function to get the word frequencies\n",
        "word_frequencies = count_word_frequencies(input_words)\n",
        "\n",
        "# Print the resulting dictionary\n",
        "print(\"Word frequencies:\", word_frequencies)\n"
      ],
      "metadata": {
        "colab": {
          "base_uri": "https://localhost:8080/"
        },
        "id": "PlCNCyQTzjj0",
        "outputId": "86aeecf5-5499-4d19-f58d-eb3337f2b84d"
      },
      "execution_count": 32,
      "outputs": [
        {
          "output_type": "stream",
          "name": "stdout",
          "text": [
            "Enter a list of words (separated by spaces): Cat Dog Cat Dog Cat Horse Hen \n",
            "Word frequencies: {'Cat': 3, 'Dog': 2, 'Horse': 1, 'Hen': 1}\n"
          ]
        }
      ]
    },
    {
      "cell_type": "markdown",
      "source": [
        "32. Write a code that takes two dictionaries as input and merges them into a single dictionary. If there are common keys, the values should be added together"
      ],
      "metadata": {
        "id": "EFjQQbrpzqc6"
      }
    },
    {
      "cell_type": "code",
      "source": [
        "def merge_dictionaries(dict1, dict2):\n",
        "    # Create a new dictionary to store the merged result\n",
        "    merged_dict = dict1.copy()  # Start with a copy of the first dictionary\n",
        "\n",
        "    # Iterate through the second dictionary and merge values\n",
        "    for key, value in dict2.items():\n",
        "        if key in merged_dict:\n",
        "            merged_dict[key] += value  # Add values for common keys\n",
        "        else:\n",
        "            merged_dict[key] = value  # Add new key-value pair\n",
        "\n",
        "    return merged_dict\n",
        "\n",
        "# Example usage\n",
        "dict1 = eval(input(\"Enter the first dictionary: \"))\n",
        "dict2 = eval(input(\"Enter the second dictionary: \"))\n",
        "\n",
        "# Call the function to merge the dictionaries\n",
        "result = merge_dictionaries(dict1, dict2)\n",
        "\n",
        "# Print the merged dictionary\n",
        "print(\"Merged dictionary:\", result)\n"
      ],
      "metadata": {
        "colab": {
          "base_uri": "https://localhost:8080/"
        },
        "id": "b2C7isQU0u8i",
        "outputId": "32051862-b966-46db-e143-f003552c4555"
      },
      "execution_count": 35,
      "outputs": [
        {
          "output_type": "stream",
          "name": "stdout",
          "text": [
            "Enter the first dictionary: {'apple': 2, 'banana': 3, 'cherry': 1}\n",
            "Enter the second dictionary: {'banana': 1, 'cherry': 2, 'dragonfruit': 5}\n",
            "Merged dictionary: {'apple': 2, 'banana': 4, 'cherry': 3, 'dragonfruit': 5}\n"
          ]
        }
      ]
    },
    {
      "cell_type": "markdown",
      "source": [
        "33. Write a code to access a value in a nested dictionary. The function should take the dictionary and a list of keys as input, and return the corresponding value. If any of the keys do not exist in the dictionary, the function should return None"
      ],
      "metadata": {
        "id": "QZGs3qKi0-jb"
      }
    },
    {
      "cell_type": "code",
      "source": [
        "def access_nested_value(d, keys):\n",
        "    # Iterate through the list of keys to access the nested dictionary\n",
        "    for key in keys:\n",
        "        # Check if the key exists in the current dictionary\n",
        "        if key in d:\n",
        "            d = d[key]  # Update the dictionary to the nested dictionary\n",
        "        else:\n",
        "            return None  # If any key is not found, return None\n",
        "    return d  # Return the final value if all keys exist\n",
        "\n",
        "# Example usage\n",
        "nested_dict = {\n",
        "    'a': {\n",
        "        'b': {\n",
        "            'c': 10,\n",
        "            'd': 20\n",
        "        }\n",
        "    },\n",
        "    'x': {\n",
        "        'y': 30\n",
        "    }\n",
        "}\n",
        "\n",
        "keys = input(\"Enter the list of keys (separated by commas): \").split(',')\n",
        "keys = [key.strip() for key in keys]  # Clean up any extra spaces around keys\n",
        "\n",
        "# Call the function to access the nested value\n",
        "result = access_nested_value(nested_dict, keys)\n",
        "\n",
        "# Print the result\n",
        "print(f\"The value for the given keys is: {result}\")\n"
      ],
      "metadata": {
        "colab": {
          "base_uri": "https://localhost:8080/"
        },
        "id": "Kt_Z8xNy1D3V",
        "outputId": "547825b7-2ca4-48d9-abad-3dbf9a1aa11d"
      },
      "execution_count": 37,
      "outputs": [
        {
          "output_type": "stream",
          "name": "stdout",
          "text": [
            "Enter the list of keys (separated by commas): a, b, c\n",
            "The value for the given keys is: 10\n"
          ]
        }
      ]
    },
    {
      "cell_type": "markdown",
      "source": [
        "34. Write a code that takes a dictionary as input and returns a sorted version of it based on the values. You  can choose whether to sort in ascending or descending order."
      ],
      "metadata": {
        "id": "YUPb_SQ01YzM"
      }
    },
    {
      "cell_type": "code",
      "source": [
        "def sort_dict_by_value(d, reverse=False):\n",
        "    # Sort the dictionary by values using sorted and return a sorted dictionary\n",
        "    sorted_dict = dict(sorted(d.items(), key=lambda item: item[1], reverse=reverse))\n",
        "    return sorted_dict\n",
        "\n",
        "# Example usage\n",
        "input_dict = eval(input(\"Enter a dictionary: \"))\n",
        "sort_order = input(\"Enter sort order (ascending/descending): \").strip().lower()\n",
        "\n",
        "# Determine if we need to sort in ascending or descending order\n",
        "reverse = True if sort_order == 'descending' else False\n",
        "\n",
        "# Call the function to sort the dictionary\n",
        "sorted_dict = sort_dict_by_value(input_dict, reverse)\n",
        "\n",
        "# Print the sorted dictionary\n",
        "print(f\"Sorted dictionary: {sorted_dict}\")\n"
      ],
      "metadata": {
        "colab": {
          "base_uri": "https://localhost:8080/"
        },
        "id": "8LV62AUS1gng",
        "outputId": "ae34d690-0a88-41a4-a0d5-8b7579586ef2"
      },
      "execution_count": 38,
      "outputs": [
        {
          "output_type": "stream",
          "name": "stdout",
          "text": [
            "Enter a dictionary: {'apple': 2, 'banana': 3, 'cherry': 1}\n",
            "Enter sort order (ascending/descending): ascending\n",
            "Sorted dictionary: {'cherry': 1, 'apple': 2, 'banana': 3}\n"
          ]
        }
      ]
    },
    {
      "cell_type": "markdown",
      "source": [
        "35. Write a code that inverts a dictionary, swapping keys and values. Ensure that the inverted dictionary correctly handles cases where multiple keys have the same value by storing the keys as a list in the inverted dictionary."
      ],
      "metadata": {
        "id": "zuaMAgLE1sLK"
      }
    },
    {
      "cell_type": "code",
      "source": [
        "def invert_dict(d):\n",
        "    # Create an empty dictionary to store the inverted result\n",
        "    inverted_dict = {}\n",
        "\n",
        "    # Iterate through the original dictionary\n",
        "    for key, value in d.items():\n",
        "        # If the value already exists in the inverted dictionary, append the key to the list\n",
        "        if value in inverted_dict:\n",
        "            inverted_dict[value].append(key)\n",
        "        else:\n",
        "            # If the value doesn't exist in the inverted dictionary, create a new list with the key\n",
        "            inverted_dict[value] = [key]\n",
        "\n",
        "    return inverted_dict\n",
        "\n",
        "# Example usage\n",
        "input_dict = eval(input(\"Enter a dictionary: \"))\n",
        "\n",
        "# Call the function to invert the dictionary\n",
        "inverted_dict = invert_dict(input_dict)\n",
        "\n",
        "# Print the inverted dictionary\n",
        "print(f\"Inverted dictionary: {inverted_dict}\")\n"
      ],
      "metadata": {
        "colab": {
          "base_uri": "https://localhost:8080/"
        },
        "id": "iEE0hgsR1zGF",
        "outputId": "ace6cdd9-662e-47d6-eb50-d3db4111d048"
      },
      "execution_count": 39,
      "outputs": [
        {
          "output_type": "stream",
          "name": "stdout",
          "text": [
            "Enter a dictionary: {'apple': 2, 'banana': 3, 'cherry': 2, 'date': 4}\n",
            "Inverted dictionary: {2: ['apple', 'cherry'], 3: ['banana'], 4: ['date']}\n"
          ]
        }
      ]
    }
  ],
  "metadata": {
    "colab": {
      "provenance": []
    },
    "kernelspec": {
      "display_name": "Python 3",
      "name": "python3"
    },
    "language_info": {
      "name": "python"
    }
  },
  "nbformat": 4,
  "nbformat_minor": 0
}